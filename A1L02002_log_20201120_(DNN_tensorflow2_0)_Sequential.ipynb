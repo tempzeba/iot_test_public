{
  "nbformat": 4,
  "nbformat_minor": 0,
  "metadata": {
    "colab": {
      "name": "A1L02002_log_20201120 (DNN-tensorflow2.0)-Sequential.ipynb",
      "provenance": [],
      "collapsed_sections": [],
      "toc_visible": true,
      "authorship_tag": "ABX9TyP7LjyzJEFTnb4z8n8OpM9A",
      "include_colab_link": true
    },
    "kernelspec": {
      "name": "python3",
      "display_name": "Python 3"
    }
  },
  "cells": [
    {
      "cell_type": "markdown",
      "metadata": {
        "id": "view-in-github",
        "colab_type": "text"
      },
      "source": [
        "<a href=\"https://colab.research.google.com/github/tempzeba/iot_test_public/blob/main/A1L02002_log_20201120_(DNN_tensorflow2_0)_Sequential.ipynb\" target=\"_parent\"><img src=\"https://colab.research.google.com/assets/colab-badge.svg\" alt=\"Open In Colab\"/></a>"
      ]
    },
    {
      "cell_type": "markdown",
      "metadata": {
        "id": "1Y0w5q6AUmMa"
      },
      "source": [
        "## 0) 程式說明\n",
        "### 目的：A1L02002 IOT異常分析\n",
        "### 運行環境："
      ]
    },
    {
      "cell_type": "code",
      "metadata": {
        "colab": {
          "base_uri": "https://localhost:8080/"
        },
        "id": "JhSdZF2NW8Xs",
        "outputId": "f9e22c29-41a9-4193-935b-4022861d5303"
      },
      "source": [
        "import sys\n",
        "print(\"python版本:%s\"% sys.version)"
      ],
      "execution_count": 152,
      "outputs": [
        {
          "output_type": "stream",
          "text": [
            "python版本:3.6.9 (default, Oct  8 2020, 12:12:24) \n",
            "[GCC 8.4.0]\n"
          ],
          "name": "stdout"
        }
      ]
    },
    {
      "cell_type": "code",
      "metadata": {
        "id": "bIVId25Van3a"
      },
      "source": [
        "import warnings\n",
        "import pandas as pd\n",
        "import numpy as np\n",
        "import matplotlib.pyplot as plt\n",
        "warnings.filterwarnings(\"ignore\")"
      ],
      "execution_count": 153,
      "outputs": []
    },
    {
      "cell_type": "code",
      "metadata": {
        "id": "fO_R1c3PN9ab"
      },
      "source": [
        "# pip install urllib3"
      ],
      "execution_count": 154,
      "outputs": []
    },
    {
      "cell_type": "code",
      "metadata": {
        "colab": {
          "base_uri": "https://localhost:8080/"
        },
        "id": "6oGSyTzFDaWj",
        "outputId": "9458d0b3-010c-468b-a5f4-77634d977f2c"
      },
      "source": [
        "\n",
        "# try:\n",
        "#     from urllib.request import urlopen\n",
        "# except ImportError:\n",
        "#     from urllib2 import urlopen\n",
        "\n",
        "from urllib.request import urlopen\n",
        "from io import BytesIO\n",
        "import zipfile\n",
        "\n",
        "import pandas as pd\n",
        "\n",
        "# Dictionary holding all the dataframes from all zip/zip/csvs\n",
        "df_train = pd.DataFrame()\n",
        "\n",
        "\n",
        "def zip_to_dfs(data):\n",
        "    global df_train\n",
        "    zip_file = zipfile.ZipFile(BytesIO(data))\n",
        "\n",
        "    for name in zip_file.namelist():\n",
        "        if name.lower().endswith('.csv'):\n",
        "            df_train = df_train.append(pd.read_csv(zip_file.open(name), sep='\\t'))\n",
        "        elif name.lower().endswith('.zip'):\n",
        "            zip_to_dfs(zip_file.open(name).read())\n",
        "        # print(dfs)\n",
        "\n",
        "\n",
        "def get_zip_data_from_url(url):\n",
        "    req = urlopen(url)\n",
        "    zip_to_dfs(req.read())\n",
        "\n",
        "\n",
        "final_links_list = [\n",
        "    'https://github.com/tempzeba/iot_test_public/releases/download/iot_data/A1L02002_202009.zip']\n",
        "\n",
        "for link in final_links_list:\n",
        "    print(link)\n",
        "    get_zip_data_from_url(link)\n",
        "\n",
        "# Display the first couple of dataframes    \n",
        "# for name, df in sorted(dfs.items())[:2]:\n",
        "#     print('\\n', name, '\\n')\n",
        "#     print(df)\n",
        "\n",
        "# print(dfs)"
      ],
      "execution_count": 155,
      "outputs": [
        {
          "output_type": "stream",
          "text": [
            "https://github.com/tempzeba/iot_test_public/releases/download/iot_data/A1L02002_202009.zip\n"
          ],
          "name": "stdout"
        }
      ]
    },
    {
      "cell_type": "markdown",
      "metadata": {
        "id": "a5wddLSban3o"
      },
      "source": [
        "## 1) 載入資料集"
      ]
    },
    {
      "cell_type": "code",
      "metadata": {
        "id": "GA-bjU2pan3p",
        "colab": {
          "base_uri": "https://localhost:8080/",
          "height": 1000
        },
        "outputId": "5c92e167-8fe9-48e4-d346-db223e169a3f"
      },
      "source": [
        "# df_train = pd.read_csv('./data/Iris.csv')\n",
        "# df_train = pd.read_csv('https://github.com/tempzeba/iot_test_public/releases/download/iot_data/A1L02001_log_01.csv', sep='\\t')\n",
        "df_train = df_train.drop(labels=[r'收集日期', \n",
        "r'抽樣秒', \n",
        "r'位址區段E32768紀錄時間', \n",
        "r'位址區段G32768紀錄時間', \n",
        "r'位址區段G12288紀錄時間',\n",
        "r'機台編號',\n",
        "r'目前生產配方'\n",
        ",\n",
        " '壓力檢測啟動',\n",
        " 'Cycle_Time',\n",
        " '第一穴預吹延遲',\n",
        " '第二穴預吹延遲',\n",
        " '第三穴預吹延遲',\n",
        " '第四穴預吹延遲',\n",
        " '第五穴預吹延遲',\n",
        " '第六穴預吹延遲',\n",
        " '第七穴預吹延遲',\n",
        " '第八穴預吹延遲',\n",
        " '第九穴預吹延遲',\n",
        " '第十穴預吹延遲',\n",
        " '第一穴高壓延遲',\n",
        " '第二穴高壓延遲',\n",
        " '第三穴高壓延遲',\n",
        " '第四穴高壓延遲',\n",
        " '第五穴高壓延遲',\n",
        " '第六穴高壓延遲',\n",
        " '第七穴高壓延遲',\n",
        " '第八穴高壓延遲',\n",
        " '第九穴高壓延遲',\n",
        " '第十穴高壓延遲',\n",
        " '第一穴吹高壓時間',\n",
        " '第二穴吹高壓時間',\n",
        " '第三穴吹高壓時間',\n",
        " '第四穴吹高壓時間',\n",
        " '第五穴吹高壓時間',\n",
        " '第六穴吹高壓時間',\n",
        " '第七穴吹高壓時間',\n",
        " '第八穴吹高壓時間',\n",
        " '第九穴吹高壓時間',\n",
        " '第十穴吹高壓時間',\n",
        " '第一穴排氣時間',\n",
        " '第二穴排氣時間',\n",
        " '第三穴排氣時間',\n",
        " '第四穴排氣時間',\n",
        " '第五穴排氣時間',\n",
        " '第六穴排氣時間',\n",
        " '第七穴排氣時間',\n",
        " '第八穴排氣時間',\n",
        " '第九穴排氣時間',\n",
        " '第十穴排氣時間',\n",
        " '第九層燈管加熱%',\n",
        " '第十層燈管加熱%',\n",
        " '產能',\n",
        " '吹氣鼓風機轉速',\n",
        " '吸氣鼓風機轉速',\n",
        " '自轉馬達轉速',\n",
        " '整列滾筒調速',\n",
        " '牙口鼓風機轉速',\n",
        " '入胚啟動位置',\n",
        " '入胚啟動延時',\n",
        " '震動馬達震動時間',\n",
        " '震動馬達震動循環時間',\n",
        " '第九穴壓力檢測',\n",
        " '第十穴壓力檢測',\n",
        "#  '破瓶數增加',\n",
        " '入胚啟動',\n",
        " '加熱啟動',\n",
        " '吹瓶啟動',\n",
        " '機台異常或無異常',\n",
        " '自動或手動',\n",
        " '總生產數量',\n",
        " '機台是否正常(0~59s)'\n",
        "\n",
        "],axis=1) \n",
        "\n",
        "# 調整資料集\n",
        "# 1. 只取有異常部分\n",
        "# 2. 計算有異常資料筆數\n",
        "# 3. 從無異常資料隨機抽出k筆資料與異常資料合併作為投入模型的資料集。k=異常資料筆數\n",
        "mask = df_train[r'異常代碼'] > 0\n",
        "target_count = mask.sum()\n",
        "df_train_noerr = df_train[df_train[r'異常代碼'] == 0].sample(n=target_count,random_state=123,axis=0)\n",
        "df_train = df_train[mask]\n",
        "df_train = df_train.append(df_train_noerr,ignore_index=True)\n",
        "df_train.describe().transpose()"
      ],
      "execution_count": 156,
      "outputs": [
        {
          "output_type": "execute_result",
          "data": {
            "text/html": [
              "<div>\n",
              "<style scoped>\n",
              "    .dataframe tbody tr th:only-of-type {\n",
              "        vertical-align: middle;\n",
              "    }\n",
              "\n",
              "    .dataframe tbody tr th {\n",
              "        vertical-align: top;\n",
              "    }\n",
              "\n",
              "    .dataframe thead th {\n",
              "        text-align: right;\n",
              "    }\n",
              "</style>\n",
              "<table border=\"1\" class=\"dataframe\">\n",
              "  <thead>\n",
              "    <tr style=\"text-align: right;\">\n",
              "      <th></th>\n",
              "      <th>count</th>\n",
              "      <th>mean</th>\n",
              "      <th>std</th>\n",
              "      <th>min</th>\n",
              "      <th>25%</th>\n",
              "      <th>50%</th>\n",
              "      <th>75%</th>\n",
              "      <th>max</th>\n",
              "    </tr>\n",
              "  </thead>\n",
              "  <tbody>\n",
              "    <tr>\n",
              "      <th>低壓壓力</th>\n",
              "      <td>90898.0</td>\n",
              "      <td>8.981450</td>\n",
              "      <td>1.197770</td>\n",
              "      <td>0.0</td>\n",
              "      <td>8.6</td>\n",
              "      <td>8.70</td>\n",
              "      <td>9.5</td>\n",
              "      <td>12.3</td>\n",
              "    </tr>\n",
              "    <tr>\n",
              "      <th>高壓壓力</th>\n",
              "      <td>90898.0</td>\n",
              "      <td>31.915873</td>\n",
              "      <td>2.555084</td>\n",
              "      <td>0.0</td>\n",
              "      <td>31.5</td>\n",
              "      <td>32.20</td>\n",
              "      <td>32.8</td>\n",
              "      <td>34.1</td>\n",
              "    </tr>\n",
              "    <tr>\n",
              "      <th>回收壓力</th>\n",
              "      <td>90898.0</td>\n",
              "      <td>17.490793</td>\n",
              "      <td>1.921917</td>\n",
              "      <td>0.0</td>\n",
              "      <td>15.7</td>\n",
              "      <td>18.50</td>\n",
              "      <td>18.7</td>\n",
              "      <td>21.1</td>\n",
              "    </tr>\n",
              "    <tr>\n",
              "      <th>預吹壓力</th>\n",
              "      <td>90898.0</td>\n",
              "      <td>9.210258</td>\n",
              "      <td>0.600520</td>\n",
              "      <td>0.0</td>\n",
              "      <td>9.0</td>\n",
              "      <td>9.20</td>\n",
              "      <td>9.5</td>\n",
              "      <td>10.8</td>\n",
              "    </tr>\n",
              "    <tr>\n",
              "      <th>最多成型時間</th>\n",
              "      <td>90898.0</td>\n",
              "      <td>11418.377027</td>\n",
              "      <td>8364.704724</td>\n",
              "      <td>20.0</td>\n",
              "      <td>6900.0</td>\n",
              "      <td>7200.00</td>\n",
              "      <td>13530.0</td>\n",
              "      <td>34454.0</td>\n",
              "    </tr>\n",
              "    <tr>\n",
              "      <th>第一層燈管加熱%</th>\n",
              "      <td>90898.0</td>\n",
              "      <td>62.430018</td>\n",
              "      <td>7.592069</td>\n",
              "      <td>40.0</td>\n",
              "      <td>55.0</td>\n",
              "      <td>61.50</td>\n",
              "      <td>70.0</td>\n",
              "      <td>95.0</td>\n",
              "    </tr>\n",
              "    <tr>\n",
              "      <th>第二層燈管加熱%</th>\n",
              "      <td>90898.0</td>\n",
              "      <td>54.996403</td>\n",
              "      <td>9.556053</td>\n",
              "      <td>4.0</td>\n",
              "      <td>47.0</td>\n",
              "      <td>54.00</td>\n",
              "      <td>66.0</td>\n",
              "      <td>76.0</td>\n",
              "    </tr>\n",
              "    <tr>\n",
              "      <th>第三層燈管加熱%</th>\n",
              "      <td>90898.0</td>\n",
              "      <td>38.759384</td>\n",
              "      <td>8.255240</td>\n",
              "      <td>2.0</td>\n",
              "      <td>31.0</td>\n",
              "      <td>44.00</td>\n",
              "      <td>45.0</td>\n",
              "      <td>60.0</td>\n",
              "    </tr>\n",
              "    <tr>\n",
              "      <th>第四層燈管加熱%</th>\n",
              "      <td>90898.0</td>\n",
              "      <td>36.969295</td>\n",
              "      <td>9.944069</td>\n",
              "      <td>18.0</td>\n",
              "      <td>24.0</td>\n",
              "      <td>41.00</td>\n",
              "      <td>45.0</td>\n",
              "      <td>63.0</td>\n",
              "    </tr>\n",
              "    <tr>\n",
              "      <th>第五層燈管加熱%</th>\n",
              "      <td>90898.0</td>\n",
              "      <td>47.662143</td>\n",
              "      <td>6.275859</td>\n",
              "      <td>25.0</td>\n",
              "      <td>45.0</td>\n",
              "      <td>45.50</td>\n",
              "      <td>47.0</td>\n",
              "      <td>85.0</td>\n",
              "    </tr>\n",
              "    <tr>\n",
              "      <th>第六層燈管加熱%</th>\n",
              "      <td>90898.0</td>\n",
              "      <td>58.747085</td>\n",
              "      <td>18.436105</td>\n",
              "      <td>37.0</td>\n",
              "      <td>46.0</td>\n",
              "      <td>47.00</td>\n",
              "      <td>85.0</td>\n",
              "      <td>95.0</td>\n",
              "    </tr>\n",
              "    <tr>\n",
              "      <th>第七層燈管加熱%</th>\n",
              "      <td>90898.0</td>\n",
              "      <td>40.713063</td>\n",
              "      <td>27.036150</td>\n",
              "      <td>0.0</td>\n",
              "      <td>0.0</td>\n",
              "      <td>56.00</td>\n",
              "      <td>60.0</td>\n",
              "      <td>85.0</td>\n",
              "    </tr>\n",
              "    <tr>\n",
              "      <th>第八層燈管加熱%</th>\n",
              "      <td>90898.0</td>\n",
              "      <td>41.945697</td>\n",
              "      <td>27.586472</td>\n",
              "      <td>0.0</td>\n",
              "      <td>0.0</td>\n",
              "      <td>60.00</td>\n",
              "      <td>60.0</td>\n",
              "      <td>61.0</td>\n",
              "    </tr>\n",
              "    <tr>\n",
              "      <th>滾筒速度</th>\n",
              "      <td>90898.0</td>\n",
              "      <td>400.360624</td>\n",
              "      <td>98.814462</td>\n",
              "      <td>200.0</td>\n",
              "      <td>350.0</td>\n",
              "      <td>370.00</td>\n",
              "      <td>430.0</td>\n",
              "      <td>3000.0</td>\n",
              "    </tr>\n",
              "    <tr>\n",
              "      <th>第一穴壓力檢測</th>\n",
              "      <td>90898.0</td>\n",
              "      <td>20.070989</td>\n",
              "      <td>14.222900</td>\n",
              "      <td>0.0</td>\n",
              "      <td>0.0</td>\n",
              "      <td>28.70</td>\n",
              "      <td>30.8</td>\n",
              "      <td>33.6</td>\n",
              "    </tr>\n",
              "    <tr>\n",
              "      <th>第二穴壓力檢測</th>\n",
              "      <td>90898.0</td>\n",
              "      <td>19.144802</td>\n",
              "      <td>14.483640</td>\n",
              "      <td>0.0</td>\n",
              "      <td>0.0</td>\n",
              "      <td>28.60</td>\n",
              "      <td>30.7</td>\n",
              "      <td>33.5</td>\n",
              "    </tr>\n",
              "    <tr>\n",
              "      <th>第三穴壓力檢測</th>\n",
              "      <td>90898.0</td>\n",
              "      <td>18.812174</td>\n",
              "      <td>14.446917</td>\n",
              "      <td>0.0</td>\n",
              "      <td>0.0</td>\n",
              "      <td>28.30</td>\n",
              "      <td>30.6</td>\n",
              "      <td>33.3</td>\n",
              "    </tr>\n",
              "    <tr>\n",
              "      <th>第四穴壓力檢測</th>\n",
              "      <td>90898.0</td>\n",
              "      <td>16.090226</td>\n",
              "      <td>14.679965</td>\n",
              "      <td>0.0</td>\n",
              "      <td>0.0</td>\n",
              "      <td>27.30</td>\n",
              "      <td>29.7</td>\n",
              "      <td>33.2</td>\n",
              "    </tr>\n",
              "    <tr>\n",
              "      <th>第五穴壓力檢測</th>\n",
              "      <td>90898.0</td>\n",
              "      <td>13.213891</td>\n",
              "      <td>14.509377</td>\n",
              "      <td>0.0</td>\n",
              "      <td>0.0</td>\n",
              "      <td>0.00</td>\n",
              "      <td>28.9</td>\n",
              "      <td>33.2</td>\n",
              "    </tr>\n",
              "    <tr>\n",
              "      <th>第六穴壓力檢測</th>\n",
              "      <td>90898.0</td>\n",
              "      <td>12.247766</td>\n",
              "      <td>14.168961</td>\n",
              "      <td>0.0</td>\n",
              "      <td>0.0</td>\n",
              "      <td>0.00</td>\n",
              "      <td>28.3</td>\n",
              "      <td>32.6</td>\n",
              "    </tr>\n",
              "    <tr>\n",
              "      <th>第七穴壓力檢測</th>\n",
              "      <td>90898.0</td>\n",
              "      <td>9.741565</td>\n",
              "      <td>13.636673</td>\n",
              "      <td>0.0</td>\n",
              "      <td>0.0</td>\n",
              "      <td>0.00</td>\n",
              "      <td>28.2</td>\n",
              "      <td>32.5</td>\n",
              "    </tr>\n",
              "    <tr>\n",
              "      <th>第八穴壓力檢測</th>\n",
              "      <td>90898.0</td>\n",
              "      <td>8.923375</td>\n",
              "      <td>13.342381</td>\n",
              "      <td>0.0</td>\n",
              "      <td>0.0</td>\n",
              "      <td>0.00</td>\n",
              "      <td>27.8</td>\n",
              "      <td>32.9</td>\n",
              "    </tr>\n",
              "    <tr>\n",
              "      <th>破瓶壓力檢測值設定</th>\n",
              "      <td>90898.0</td>\n",
              "      <td>23.887434</td>\n",
              "      <td>6.920598</td>\n",
              "      <td>0.0</td>\n",
              "      <td>25.0</td>\n",
              "      <td>26.00</td>\n",
              "      <td>26.0</td>\n",
              "      <td>40.0</td>\n",
              "    </tr>\n",
              "    <tr>\n",
              "      <th>加熱箱一水道溫度</th>\n",
              "      <td>90898.0</td>\n",
              "      <td>42.814418</td>\n",
              "      <td>16.994865</td>\n",
              "      <td>23.4</td>\n",
              "      <td>28.3</td>\n",
              "      <td>39.60</td>\n",
              "      <td>55.1</td>\n",
              "      <td>83.6</td>\n",
              "    </tr>\n",
              "    <tr>\n",
              "      <th>加熱箱二水道溫度</th>\n",
              "      <td>90898.0</td>\n",
              "      <td>42.985045</td>\n",
              "      <td>16.253953</td>\n",
              "      <td>23.4</td>\n",
              "      <td>28.2</td>\n",
              "      <td>41.00</td>\n",
              "      <td>56.5</td>\n",
              "      <td>84.1</td>\n",
              "    </tr>\n",
              "    <tr>\n",
              "      <th>加熱箱三水道溫度</th>\n",
              "      <td>90898.0</td>\n",
              "      <td>43.801622</td>\n",
              "      <td>16.949621</td>\n",
              "      <td>23.6</td>\n",
              "      <td>28.6</td>\n",
              "      <td>41.20</td>\n",
              "      <td>57.8</td>\n",
              "      <td>99.6</td>\n",
              "    </tr>\n",
              "    <tr>\n",
              "      <th>加熱箱四水道溫度</th>\n",
              "      <td>90898.0</td>\n",
              "      <td>42.398373</td>\n",
              "      <td>14.921196</td>\n",
              "      <td>24.1</td>\n",
              "      <td>29.2</td>\n",
              "      <td>40.00</td>\n",
              "      <td>54.4</td>\n",
              "      <td>83.3</td>\n",
              "    </tr>\n",
              "    <tr>\n",
              "      <th>加熱箱五水道溫度</th>\n",
              "      <td>90898.0</td>\n",
              "      <td>40.790287</td>\n",
              "      <td>14.252876</td>\n",
              "      <td>23.6</td>\n",
              "      <td>28.4</td>\n",
              "      <td>37.80</td>\n",
              "      <td>52.5</td>\n",
              "      <td>75.9</td>\n",
              "    </tr>\n",
              "    <tr>\n",
              "      <th>加熱箱六水道溫度</th>\n",
              "      <td>90898.0</td>\n",
              "      <td>42.241900</td>\n",
              "      <td>15.042012</td>\n",
              "      <td>23.8</td>\n",
              "      <td>29.1</td>\n",
              "      <td>39.40</td>\n",
              "      <td>54.3</td>\n",
              "      <td>80.6</td>\n",
              "    </tr>\n",
              "    <tr>\n",
              "      <th>加熱箱七水道溫度</th>\n",
              "      <td>90898.0</td>\n",
              "      <td>43.237815</td>\n",
              "      <td>15.626656</td>\n",
              "      <td>23.9</td>\n",
              "      <td>29.3</td>\n",
              "      <td>40.70</td>\n",
              "      <td>55.9</td>\n",
              "      <td>83.1</td>\n",
              "    </tr>\n",
              "    <tr>\n",
              "      <th>加熱箱八水道溫度</th>\n",
              "      <td>90898.0</td>\n",
              "      <td>39.184595</td>\n",
              "      <td>11.712033</td>\n",
              "      <td>24.2</td>\n",
              "      <td>29.3</td>\n",
              "      <td>37.25</td>\n",
              "      <td>48.5</td>\n",
              "      <td>77.3</td>\n",
              "    </tr>\n",
              "    <tr>\n",
              "      <th>破瓶數量</th>\n",
              "      <td>90898.0</td>\n",
              "      <td>415.990242</td>\n",
              "      <td>192.487499</td>\n",
              "      <td>170.0</td>\n",
              "      <td>231.0</td>\n",
              "      <td>509.00</td>\n",
              "      <td>575.0</td>\n",
              "      <td>860.0</td>\n",
              "    </tr>\n",
              "    <tr>\n",
              "      <th>異常代碼</th>\n",
              "      <td>90898.0</td>\n",
              "      <td>37.135162</td>\n",
              "      <td>63.157651</td>\n",
              "      <td>0.0</td>\n",
              "      <td>0.0</td>\n",
              "      <td>0.50</td>\n",
              "      <td>38.0</td>\n",
              "      <td>204.0</td>\n",
              "    </tr>\n",
              "    <tr>\n",
              "      <th>破瓶數增加</th>\n",
              "      <td>90898.0</td>\n",
              "      <td>0.000836</td>\n",
              "      <td>0.028903</td>\n",
              "      <td>0.0</td>\n",
              "      <td>0.0</td>\n",
              "      <td>0.00</td>\n",
              "      <td>0.0</td>\n",
              "      <td>1.0</td>\n",
              "    </tr>\n",
              "  </tbody>\n",
              "</table>\n",
              "</div>"
            ],
            "text/plain": [
              "             count          mean          std  ...      50%      75%      max\n",
              "低壓壓力       90898.0      8.981450     1.197770  ...     8.70      9.5     12.3\n",
              "高壓壓力       90898.0     31.915873     2.555084  ...    32.20     32.8     34.1\n",
              "回收壓力       90898.0     17.490793     1.921917  ...    18.50     18.7     21.1\n",
              "預吹壓力       90898.0      9.210258     0.600520  ...     9.20      9.5     10.8\n",
              "最多成型時間     90898.0  11418.377027  8364.704724  ...  7200.00  13530.0  34454.0\n",
              "第一層燈管加熱%   90898.0     62.430018     7.592069  ...    61.50     70.0     95.0\n",
              "第二層燈管加熱%   90898.0     54.996403     9.556053  ...    54.00     66.0     76.0\n",
              "第三層燈管加熱%   90898.0     38.759384     8.255240  ...    44.00     45.0     60.0\n",
              "第四層燈管加熱%   90898.0     36.969295     9.944069  ...    41.00     45.0     63.0\n",
              "第五層燈管加熱%   90898.0     47.662143     6.275859  ...    45.50     47.0     85.0\n",
              "第六層燈管加熱%   90898.0     58.747085    18.436105  ...    47.00     85.0     95.0\n",
              "第七層燈管加熱%   90898.0     40.713063    27.036150  ...    56.00     60.0     85.0\n",
              "第八層燈管加熱%   90898.0     41.945697    27.586472  ...    60.00     60.0     61.0\n",
              "滾筒速度       90898.0    400.360624    98.814462  ...   370.00    430.0   3000.0\n",
              "第一穴壓力檢測    90898.0     20.070989    14.222900  ...    28.70     30.8     33.6\n",
              "第二穴壓力檢測    90898.0     19.144802    14.483640  ...    28.60     30.7     33.5\n",
              "第三穴壓力檢測    90898.0     18.812174    14.446917  ...    28.30     30.6     33.3\n",
              "第四穴壓力檢測    90898.0     16.090226    14.679965  ...    27.30     29.7     33.2\n",
              "第五穴壓力檢測    90898.0     13.213891    14.509377  ...     0.00     28.9     33.2\n",
              "第六穴壓力檢測    90898.0     12.247766    14.168961  ...     0.00     28.3     32.6\n",
              "第七穴壓力檢測    90898.0      9.741565    13.636673  ...     0.00     28.2     32.5\n",
              "第八穴壓力檢測    90898.0      8.923375    13.342381  ...     0.00     27.8     32.9\n",
              "破瓶壓力檢測值設定  90898.0     23.887434     6.920598  ...    26.00     26.0     40.0\n",
              "加熱箱一水道溫度   90898.0     42.814418    16.994865  ...    39.60     55.1     83.6\n",
              "加熱箱二水道溫度   90898.0     42.985045    16.253953  ...    41.00     56.5     84.1\n",
              "加熱箱三水道溫度   90898.0     43.801622    16.949621  ...    41.20     57.8     99.6\n",
              "加熱箱四水道溫度   90898.0     42.398373    14.921196  ...    40.00     54.4     83.3\n",
              "加熱箱五水道溫度   90898.0     40.790287    14.252876  ...    37.80     52.5     75.9\n",
              "加熱箱六水道溫度   90898.0     42.241900    15.042012  ...    39.40     54.3     80.6\n",
              "加熱箱七水道溫度   90898.0     43.237815    15.626656  ...    40.70     55.9     83.1\n",
              "加熱箱八水道溫度   90898.0     39.184595    11.712033  ...    37.25     48.5     77.3\n",
              "破瓶數量       90898.0    415.990242   192.487499  ...   509.00    575.0    860.0\n",
              "異常代碼       90898.0     37.135162    63.157651  ...     0.50     38.0    204.0\n",
              "破瓶數增加      90898.0      0.000836     0.028903  ...     0.00      0.0      1.0\n",
              "\n",
              "[34 rows x 8 columns]"
            ]
          },
          "metadata": {
            "tags": []
          },
          "execution_count": 156
        }
      ]
    },
    {
      "cell_type": "markdown",
      "metadata": {
        "id": "r1M7a4iian3u"
      },
      "source": [
        "## 2) 手動編碼\n",
        "處理名目資料 (Nominal variables) - 資料前處理\n",
        "依據特徵資料的特性，可以選擇手動編碼或自動編碼。\n",
        "\n",
        "### 使用編碼時機?\n",
        "進行深度學習時，神經網路只能處理數值資料。因此我們需要將所有非數字型態的特徵進行轉換。\n",
        "\n",
        "### 註：\n",
        "略。(IOT原始資料已經一次前處理)"
      ]
    },
    {
      "cell_type": "markdown",
      "metadata": {
        "id": "txpEEPgAan36"
      },
      "source": [
        "## 3) 檢查缺失值\n",
        "使用 numpy 所提供的函式來檢查是否有 NA 缺失值，假設有缺失值使用dropna()來移除。使用的時機在於當只有少量的缺失值適用，若遇到有大量缺失值的情況，或是本身的資料量就很少的情況下建議可以透過機器學習的方法補值來預測缺失值。\n",
        "### 註：\n",
        "略。(IOT原始資料已經一次前處理)"
      ]
    },
    {
      "cell_type": "markdown",
      "metadata": {
        "id": "gNBeqTcUan4A"
      },
      "source": [
        "## 4) 將輸出特徵做one-hot encoding\n",
        "如何對欄位class做one-hot encoding？"
      ]
    },
    {
      "cell_type": "code",
      "metadata": {
        "id": "iQFh4fj0an4C",
        "colab": {
          "base_uri": "https://localhost:8080/"
        },
        "outputId": "8241ae14-624d-44bb-b04c-21239d3aff6f"
      },
      "source": [
        "from tensorflow.keras.utils import to_categorical\n",
        "y = to_categorical(df_train[r'異常代碼'])\n",
        "y"
      ],
      "execution_count": 157,
      "outputs": [
        {
          "output_type": "execute_result",
          "data": {
            "text/plain": [
              "array([[0., 0., 1., ..., 0., 0., 0.],\n",
              "       [0., 0., 1., ..., 0., 0., 0.],\n",
              "       [0., 0., 1., ..., 0., 0., 0.],\n",
              "       ...,\n",
              "       [1., 0., 0., ..., 0., 0., 0.],\n",
              "       [1., 0., 0., ..., 0., 0., 0.],\n",
              "       [1., 0., 0., ..., 0., 0., 0.]], dtype=float32)"
            ]
          },
          "metadata": {
            "tags": []
          },
          "execution_count": 157
        }
      ]
    },
    {
      "cell_type": "markdown",
      "metadata": {
        "id": "_OclZM7Wan4I"
      },
      "source": [
        "## 5) 切割訓練集與測試集"
      ]
    },
    {
      "cell_type": "markdown",
      "metadata": {
        "id": "JSw4NVQLwdvU"
      },
      "source": [
        ""
      ]
    },
    {
      "cell_type": "code",
      "metadata": {
        "id": "hjDEttMPan4J",
        "colab": {
          "base_uri": "https://localhost:8080/"
        },
        "outputId": "07f9a06c-2a24-47b1-b20c-598f1edc27aa"
      },
      "source": [
        "pd.set_option('max_row',300)\n",
        "# X=df_train.drop(labels=['Class'],axis=1)\n",
        "X=df_train.drop(columns=[r'異常代碼'])\n",
        "# X.isna().sum().sum()\n",
        "# X\n",
        "mask = X.describe().transpose()['std']==0\n",
        "X.describe().transpose()[mask].index.tolist()\n",
        "# X.describe().transpose().columns.tolist()\n"
      ],
      "execution_count": 158,
      "outputs": [
        {
          "output_type": "execute_result",
          "data": {
            "text/plain": [
              "[]"
            ]
          },
          "metadata": {
            "tags": []
          },
          "execution_count": 158
        }
      ]
    },
    {
      "cell_type": "code",
      "metadata": {
        "id": "rKl7fICTan4Q"
      },
      "source": [
        "from sklearn.model_selection import train_test_split\n",
        "X_train , X_test , y_train , y_test = train_test_split(X,y , test_size=.3 , random_state=40)"
      ],
      "execution_count": 159,
      "outputs": []
    },
    {
      "cell_type": "code",
      "metadata": {
        "id": "8Ovl96zhan4T",
        "colab": {
          "base_uri": "https://localhost:8080/"
        },
        "outputId": "72ddce53-a8ca-4c4d-fab7-e93aa710dd4e"
      },
      "source": [
        "print('訓練資料: ',X_train.shape)\n",
        "print('測試資料: ',X_test.shape)\n",
        "# X_train"
      ],
      "execution_count": 160,
      "outputs": [
        {
          "output_type": "stream",
          "text": [
            "訓練資料:  (63628, 33)\n",
            "測試資料:  (27270, 33)\n"
          ],
          "name": "stdout"
        }
      ]
    },
    {
      "cell_type": "markdown",
      "metadata": {
        "id": "qB6zvYgJan4Z"
      },
      "source": [
        "## 6) 建立網路模型"
      ]
    },
    {
      "cell_type": "code",
      "metadata": {
        "id": "aJvDPRx5an4Z",
        "colab": {
          "base_uri": "https://localhost:8080/"
        },
        "outputId": "e6505d2f-ef9b-45c5-eab6-e8b4c36cbcd4"
      },
      "source": [
        "import tensorflow as tf\n",
        "from tensorflow.keras.layers import Dense, Activation\n",
        "from tensorflow.keras import Sequential\n",
        "from tensorflow.keras.optimizers import Adam\n",
        "\n",
        "print(tf.__version__)"
      ],
      "execution_count": 161,
      "outputs": [
        {
          "output_type": "stream",
          "text": [
            "2.3.0\n"
          ],
          "name": "stdout"
        }
      ]
    },
    {
      "cell_type": "code",
      "metadata": {
        "id": "Q30p2WHxan4d"
      },
      "source": [
        "# 此範例使用 Tensorflow2.0 Sequential API 搭建神經網路。\n",
        "model = Sequential()\n",
        "model.add(Dense(8, Activation('relu'), input_dim=X.shape[-1]))\n",
        "model.add(Dense(16, Activation('relu')))\n",
        "model.add(Dense(205, Activation('softmax')))"
      ],
      "execution_count": 162,
      "outputs": []
    },
    {
      "cell_type": "code",
      "metadata": {
        "id": "gCfdh7Lgan4h",
        "colab": {
          "base_uri": "https://localhost:8080/"
        },
        "outputId": "ecb466e1-34a1-420b-9413-cca33527c4cb"
      },
      "source": [
        "model.summary()   # Weights = (4+1)*8+(8+1)*16+(16+1)*3"
      ],
      "execution_count": 163,
      "outputs": [
        {
          "output_type": "stream",
          "text": [
            "Model: \"sequential_6\"\n",
            "_________________________________________________________________\n",
            "Layer (type)                 Output Shape              Param #   \n",
            "=================================================================\n",
            "dense_18 (Dense)             (None, 8)                 272       \n",
            "_________________________________________________________________\n",
            "dense_19 (Dense)             (None, 16)                144       \n",
            "_________________________________________________________________\n",
            "dense_20 (Dense)             (None, 205)               3485      \n",
            "=================================================================\n",
            "Total params: 3,901\n",
            "Trainable params: 3,901\n",
            "Non-trainable params: 0\n",
            "_________________________________________________________________\n"
          ],
          "name": "stdout"
        }
      ]
    },
    {
      "cell_type": "code",
      "metadata": {
        "id": "86S7ALLTan4l",
        "colab": {
          "base_uri": "https://localhost:8080/"
        },
        "outputId": "716625f2-b0fe-4503-a481-94e2aaebe7aa"
      },
      "source": [
        "# 編譯模型\n",
        "optim = Adam(lr=0.001)\n",
        "model.compile(loss='categorical_crossentropy',\n",
        "              optimizer=optim,\n",
        "              metrics=['acc'])\n",
        "\n",
        "batch_size=1000\n",
        "epochs = 50\n",
        "\n",
        "history = model.fit(X_train, y_train,\n",
        "                    batch_size=batch_size,\n",
        "                    epochs=epochs,\n",
        "                    verbose=1,\n",
        "                    shuffle=True,\n",
        "                    validation_split=0.1)\n"
      ],
      "execution_count": 166,
      "outputs": [
        {
          "output_type": "stream",
          "text": [
            "Epoch 1/50\n",
            "58/58 [==============================] - 1s 14ms/step - loss: 1.1057 - acc: 0.6964 - val_loss: 0.9861 - val_acc: 0.7267\n",
            "Epoch 2/50\n",
            "58/58 [==============================] - 0s 7ms/step - loss: 0.9721 - acc: 0.7323 - val_loss: 0.9876 - val_acc: 0.7281\n",
            "Epoch 3/50\n",
            "58/58 [==============================] - 0s 7ms/step - loss: 0.9733 - acc: 0.7328 - val_loss: 1.0031 - val_acc: 0.7231\n",
            "Epoch 4/50\n",
            "58/58 [==============================] - 0s 7ms/step - loss: 0.9710 - acc: 0.7335 - val_loss: 0.9780 - val_acc: 0.7220\n",
            "Epoch 5/50\n",
            "58/58 [==============================] - 0s 6ms/step - loss: 0.9711 - acc: 0.7323 - val_loss: 0.9781 - val_acc: 0.7309\n",
            "Epoch 6/50\n",
            "58/58 [==============================] - 0s 7ms/step - loss: 0.9730 - acc: 0.7323 - val_loss: 0.9807 - val_acc: 0.7247\n",
            "Epoch 7/50\n",
            "58/58 [==============================] - 0s 7ms/step - loss: 0.9715 - acc: 0.7335 - val_loss: 0.9754 - val_acc: 0.7314\n",
            "Epoch 8/50\n",
            "58/58 [==============================] - 0s 7ms/step - loss: 0.9754 - acc: 0.7315 - val_loss: 0.9920 - val_acc: 0.7067\n",
            "Epoch 9/50\n",
            "58/58 [==============================] - 0s 7ms/step - loss: 0.9737 - acc: 0.7323 - val_loss: 0.9840 - val_acc: 0.7286\n",
            "Epoch 10/50\n",
            "58/58 [==============================] - 0s 6ms/step - loss: 0.9733 - acc: 0.7295 - val_loss: 0.9805 - val_acc: 0.7251\n",
            "Epoch 11/50\n",
            "58/58 [==============================] - 0s 7ms/step - loss: 0.9729 - acc: 0.7324 - val_loss: 1.0148 - val_acc: 0.7314\n",
            "Epoch 12/50\n",
            "58/58 [==============================] - 0s 7ms/step - loss: 0.9774 - acc: 0.7312 - val_loss: 0.9914 - val_acc: 0.7254\n",
            "Epoch 13/50\n",
            "58/58 [==============================] - 0s 7ms/step - loss: 0.9756 - acc: 0.7307 - val_loss: 1.0047 - val_acc: 0.7198\n",
            "Epoch 14/50\n",
            "58/58 [==============================] - 0s 7ms/step - loss: 0.9753 - acc: 0.7306 - val_loss: 0.9841 - val_acc: 0.7336\n",
            "Epoch 15/50\n",
            "58/58 [==============================] - 0s 7ms/step - loss: 0.9769 - acc: 0.7308 - val_loss: 1.0149 - val_acc: 0.7148\n",
            "Epoch 16/50\n",
            "58/58 [==============================] - 0s 7ms/step - loss: 0.9756 - acc: 0.7323 - val_loss: 1.0027 - val_acc: 0.7096\n",
            "Epoch 17/50\n",
            "58/58 [==============================] - 0s 8ms/step - loss: 0.9831 - acc: 0.7311 - val_loss: 0.9767 - val_acc: 0.7265\n",
            "Epoch 18/50\n",
            "58/58 [==============================] - 0s 7ms/step - loss: 0.9723 - acc: 0.7323 - val_loss: 0.9798 - val_acc: 0.7187\n",
            "Epoch 19/50\n",
            "58/58 [==============================] - 0s 7ms/step - loss: 0.9739 - acc: 0.7332 - val_loss: 0.9888 - val_acc: 0.7292\n",
            "Epoch 20/50\n",
            "58/58 [==============================] - 0s 6ms/step - loss: 0.9726 - acc: 0.7330 - val_loss: 0.9751 - val_acc: 0.7372\n",
            "Epoch 21/50\n",
            "58/58 [==============================] - 0s 7ms/step - loss: 0.9732 - acc: 0.7326 - val_loss: 0.9845 - val_acc: 0.7309\n",
            "Epoch 22/50\n",
            "58/58 [==============================] - 0s 7ms/step - loss: 0.9842 - acc: 0.7309 - val_loss: 0.9863 - val_acc: 0.7258\n",
            "Epoch 23/50\n",
            "58/58 [==============================] - 0s 7ms/step - loss: 0.9757 - acc: 0.7335 - val_loss: 0.9791 - val_acc: 0.7327\n",
            "Epoch 24/50\n",
            "58/58 [==============================] - 0s 7ms/step - loss: 0.9712 - acc: 0.7340 - val_loss: 0.9724 - val_acc: 0.7339\n",
            "Epoch 25/50\n",
            "58/58 [==============================] - 0s 7ms/step - loss: 0.9689 - acc: 0.7330 - val_loss: 0.9780 - val_acc: 0.7339\n",
            "Epoch 26/50\n",
            "58/58 [==============================] - 0s 7ms/step - loss: 0.9743 - acc: 0.7308 - val_loss: 0.9756 - val_acc: 0.7207\n",
            "Epoch 27/50\n",
            "58/58 [==============================] - 0s 7ms/step - loss: 0.9709 - acc: 0.7324 - val_loss: 1.0039 - val_acc: 0.7137\n",
            "Epoch 28/50\n",
            "58/58 [==============================] - 0s 7ms/step - loss: 0.9703 - acc: 0.7333 - val_loss: 0.9840 - val_acc: 0.7317\n",
            "Epoch 29/50\n",
            "58/58 [==============================] - 0s 7ms/step - loss: 0.9785 - acc: 0.7285 - val_loss: 0.9806 - val_acc: 0.7209\n",
            "Epoch 30/50\n",
            "58/58 [==============================] - 0s 7ms/step - loss: 0.9754 - acc: 0.7330 - val_loss: 1.0091 - val_acc: 0.7360\n",
            "Epoch 31/50\n",
            "58/58 [==============================] - 0s 7ms/step - loss: 0.9746 - acc: 0.7322 - val_loss: 0.9807 - val_acc: 0.7193\n",
            "Epoch 32/50\n",
            "58/58 [==============================] - 0s 7ms/step - loss: 0.9749 - acc: 0.7320 - val_loss: 0.9810 - val_acc: 0.7264\n",
            "Epoch 33/50\n",
            "58/58 [==============================] - 0s 7ms/step - loss: 0.9776 - acc: 0.7298 - val_loss: 0.9798 - val_acc: 0.7319\n",
            "Epoch 34/50\n",
            "58/58 [==============================] - 0s 7ms/step - loss: 0.9724 - acc: 0.7342 - val_loss: 0.9763 - val_acc: 0.7272\n",
            "Epoch 35/50\n",
            "58/58 [==============================] - 0s 7ms/step - loss: 0.9767 - acc: 0.7316 - val_loss: 0.9726 - val_acc: 0.7344\n",
            "Epoch 36/50\n",
            "58/58 [==============================] - 0s 7ms/step - loss: 0.9777 - acc: 0.7301 - val_loss: 0.9738 - val_acc: 0.7322\n",
            "Epoch 37/50\n",
            "58/58 [==============================] - 0s 7ms/step - loss: 0.9763 - acc: 0.7315 - val_loss: 0.9808 - val_acc: 0.7265\n",
            "Epoch 38/50\n",
            "58/58 [==============================] - 0s 6ms/step - loss: 0.9692 - acc: 0.7332 - val_loss: 0.9870 - val_acc: 0.7234\n",
            "Epoch 39/50\n",
            "58/58 [==============================] - 0s 7ms/step - loss: 0.9771 - acc: 0.7328 - val_loss: 0.9949 - val_acc: 0.7221\n",
            "Epoch 40/50\n",
            "58/58 [==============================] - 0s 7ms/step - loss: 0.9759 - acc: 0.7294 - val_loss: 0.9953 - val_acc: 0.7270\n",
            "Epoch 41/50\n",
            "58/58 [==============================] - 0s 7ms/step - loss: 0.9692 - acc: 0.7330 - val_loss: 0.9761 - val_acc: 0.7248\n",
            "Epoch 42/50\n",
            "58/58 [==============================] - 0s 7ms/step - loss: 0.9731 - acc: 0.7316 - val_loss: 0.9718 - val_acc: 0.7352\n",
            "Epoch 43/50\n",
            "58/58 [==============================] - 0s 7ms/step - loss: 0.9757 - acc: 0.7335 - val_loss: 0.9958 - val_acc: 0.7236\n",
            "Epoch 44/50\n",
            "58/58 [==============================] - 0s 7ms/step - loss: 0.9740 - acc: 0.7340 - val_loss: 0.9748 - val_acc: 0.7352\n",
            "Epoch 45/50\n",
            "58/58 [==============================] - 0s 7ms/step - loss: 0.9677 - acc: 0.7339 - val_loss: 0.9746 - val_acc: 0.7328\n",
            "Epoch 46/50\n",
            "58/58 [==============================] - 0s 6ms/step - loss: 0.9689 - acc: 0.7330 - val_loss: 0.9990 - val_acc: 0.7193\n",
            "Epoch 47/50\n",
            "58/58 [==============================] - 0s 7ms/step - loss: 0.9731 - acc: 0.7324 - val_loss: 0.9785 - val_acc: 0.7300\n",
            "Epoch 48/50\n",
            "58/58 [==============================] - 0s 6ms/step - loss: 0.9786 - acc: 0.7291 - val_loss: 0.9995 - val_acc: 0.7265\n",
            "Epoch 49/50\n",
            "58/58 [==============================] - 0s 6ms/step - loss: 0.9708 - acc: 0.7322 - val_loss: 0.9769 - val_acc: 0.7269\n",
            "Epoch 50/50\n",
            "58/58 [==============================] - 0s 6ms/step - loss: 0.9721 - acc: 0.7324 - val_loss: 0.9930 - val_acc: 0.7187\n"
          ],
          "name": "stdout"
        }
      ]
    },
    {
      "cell_type": "markdown",
      "metadata": {
        "id": "pG1O5ymTan4s"
      },
      "source": [
        "## 7) 觀察訓練結果"
      ]
    },
    {
      "cell_type": "code",
      "metadata": {
        "id": "OFUTBafCan4u"
      },
      "source": [
        "import matplotlib.pyplot as plt\n",
        "\n",
        "history_dict = history.history\n",
        "history_dict.keys()\n",
        "acc = history_dict['acc']\n",
        "val_acc = history_dict['val_acc']\n",
        "loss = history_dict['loss']\n",
        "val_loss = history_dict['val_loss']\n",
        "epochs_ = range(1,len(acc)+1)"
      ],
      "execution_count": 167,
      "outputs": []
    },
    {
      "cell_type": "code",
      "metadata": {
        "id": "C5PL5GAwan4x",
        "colab": {
          "base_uri": "https://localhost:8080/",
          "height": 295
        },
        "outputId": "f056c7aa-8662-4da3-a706-60c638629a12"
      },
      "source": [
        "plt.plot(epochs_ , loss , label = 'training loss')\n",
        "plt.plot(epochs_ , val_loss , label = 'val los')\n",
        "plt.title('training and val loss')\n",
        "plt.xlabel('epochs')\n",
        "plt.ylabel('loss')\n",
        "plt.legend()\n",
        "plt.show()"
      ],
      "execution_count": 168,
      "outputs": [
        {
          "output_type": "display_data",
          "data": {
            "image/png": "[encoded data removed]",
            "text/plain": [
              "<Figure size 432x288 with 1 Axes>"
            ]
          },
          "metadata": {
            "tags": [],
            "needs_background": "light"
          }
        }
      ]
    },
    {
      "cell_type": "code",
      "metadata": {
        "id": "Ketuv_Bvan43",
        "colab": {
          "base_uri": "https://localhost:8080/",
          "height": 295
        },
        "outputId": "e01cf9fe-aec5-409c-df5b-d1df4be25f3f"
      },
      "source": [
        "plt.clf()\n",
        "plt.plot(epochs_ , acc , label='train accuracy')\n",
        "plt.plot(epochs_ , val_acc , label = 'val accuracy')\n",
        "plt.title('train and val acc')\n",
        "plt.xlabel('epochs')\n",
        "plt.ylabel('acc')\n",
        "plt.legend()\n",
        "plt.show()"
      ],
      "execution_count": 169,
      "outputs": [
        {
          "output_type": "display_data",
          "data": {
            "image/png": "[encoded data removed]",
            "text/plain": [
              "<Figure size 432x288 with 1 Axes>"
            ]
          },
          "metadata": {
            "tags": [],
            "needs_background": "light"
          }
        }
      ]
    },
    {
      "cell_type": "markdown",
      "metadata": {
        "id": "PR5QIun7an47"
      },
      "source": [
        "## 8) 測試"
      ]
    },
    {
      "cell_type": "code",
      "metadata": {
        "id": "rdG9q4M9an47",
        "colab": {
          "base_uri": "https://localhost:8080/"
        },
        "outputId": "16961194-4188-4817-e76b-c9d75c86361c"
      },
      "source": [
        "from sklearn.metrics import accuracy_score\n",
        "label=np.argmax(y,axis=1)\n",
        "pred =  np.argmax(model.predict(X), axis=1)\n",
        "# print(pred.shape)\n",
        "print(accuracy_score(label, pred))\n",
        "# print(y)"
      ],
      "execution_count": 170,
      "outputs": [
        {
          "output_type": "stream",
          "text": [
            "0.7205329050144118\n"
          ],
          "name": "stdout"
        }
      ]
    },
    {
      "cell_type": "code",
      "metadata": {
        "id": "JNWE7Fe8uBzn",
        "colab": {
          "base_uri": "https://localhost:8080/"
        },
        "outputId": "a39be9d2-b378-4402-e073-75a4a26bd9ee"
      },
      "source": [
        "!pip install eli5"
      ],
      "execution_count": 171,
      "outputs": [
        {
          "output_type": "stream",
          "text": [
            "Requirement already satisfied: eli5 in /usr/local/lib/python3.6/dist-packages (0.10.1)\n",
            "Requirement already satisfied: attrs>16.0.0 in /usr/local/lib/python3.6/dist-packages (from eli5) (20.2.0)\n",
            "Requirement already satisfied: six in /usr/local/lib/python3.6/dist-packages (from eli5) (1.15.0)\n",
            "Requirement already satisfied: jinja2 in /usr/local/lib/python3.6/dist-packages (from eli5) (2.11.2)\n",
            "Requirement already satisfied: scikit-learn>=0.18 in /usr/local/lib/python3.6/dist-packages (from eli5) (0.22.2.post1)\n",
            "Requirement already satisfied: scipy in /usr/local/lib/python3.6/dist-packages (from eli5) (1.4.1)\n",
            "Requirement already satisfied: tabulate>=0.7.7 in /usr/local/lib/python3.6/dist-packages (from eli5) (0.8.7)\n",
            "Requirement already satisfied: numpy>=1.9.0 in /usr/local/lib/python3.6/dist-packages (from eli5) (1.18.5)\n",
            "Requirement already satisfied: graphviz in /usr/local/lib/python3.6/dist-packages (from eli5) (0.10.1)\n",
            "Requirement already satisfied: MarkupSafe>=0.23 in /usr/local/lib/python3.6/dist-packages (from jinja2->eli5) (1.1.1)\n",
            "Requirement already satisfied: joblib>=0.11 in /usr/local/lib/python3.6/dist-packages (from scikit-learn>=0.18->eli5) (0.17.0)\n"
          ],
          "name": "stdout"
        }
      ]
    },
    {
      "cell_type": "markdown",
      "metadata": {
        "id": "wNxXer-qOlwj"
      },
      "source": [
        "## 9) 檢查特徵重要性\n",
        "> https://eli5.readthedocs.io/en/latest/blackbox/permutation_importance.html\n",
        "> https://www.mdeditor.tw/pl/pgi5/zh-tw\n",
        "\n",
        "> 針對BlackBox模型或非sklearn模型，使用排列重要性方法\n",
        "\n",
        "\n",
        "> 捨棄重要性低、增加損失的features特徵，重新建模訓練。\n",
        "\n",
        "\n",
        "> \n",
        "\n",
        "\n",
        "\n",
        "\n",
        "\n",
        "\n",
        "\n",
        "\n",
        "\n",
        "\n",
        "\n",
        "\n"
      ]
    },
    {
      "cell_type": "code",
      "metadata": {
        "id": "p-t6pvZman4_"
      },
      "source": [
        "# import numpy as np\n",
        "from eli5.permutation_importance import get_score_importances\n",
        "\n",
        "# ... load data, define score function\n",
        "def score(X, y):\n",
        "    y_pred = np.argmax(model.predict(X), axis=1)\n",
        "    return accuracy_score(y, y_pred)\n",
        "\n",
        "lab=np.argmax(y_train,axis=1)\n",
        "base_score, score_decreases = get_score_importances(score, X_train.values, lab)\n",
        "feature_importances = np.mean(score_decreases, axis=0)\n",
        "\n"
      ],
      "execution_count": 172,
      "outputs": []
    },
    {
      "cell_type": "code",
      "metadata": {
        "id": "uz2cPz1KQtQy",
        "colab": {
          "base_uri": "https://localhost:8080/"
        },
        "outputId": "de9c1388-724a-44ed-f8f9-1f61fee91f7d"
      },
      "source": [
        "# print(feature_importances)\n",
        "feature_importance_dict = {}\n",
        "for i, feature_name in enumerate(X.columns.values.tolist()) :\n",
        "\tfeature_importance_dict[feature_name]=feature_importances[i]\n",
        "\n",
        "# print(dict(sorted(feature_importance_dict.items(), key=lambda x:x[1],reverse=True)[:5]))\n",
        "sorted_fi = dict(sorted(feature_importance_dict.items(), key=lambda x:x[1],reverse=True))\n",
        "for name,i in sorted_fi.items():\n",
        "  print('{0:.8f}'.format(i),'\\t',name)\n"
      ],
      "execution_count": 173,
      "outputs": [
        {
          "output_type": "stream",
          "text": [
            "0.25876344 \t 最多成型時間\n",
            "0.19429811 \t 破瓶數量\n",
            "0.12601056 \t 第七穴壓力檢測\n",
            "0.09731879 \t 第一穴壓力檢測\n",
            "0.09230213 \t 第八層燈管加熱%\n",
            "0.07360596 \t 第六層燈管加熱%\n",
            "0.06567549 \t 第二穴壓力檢測\n",
            "0.06296913 \t 滾筒速度\n",
            "0.05429999 \t 第三穴壓力檢測\n",
            "0.03861508 \t 第六穴壓力檢測\n",
            "0.03686113 \t 第五穴壓力檢測\n",
            "0.03609417 \t 第八穴壓力檢測\n",
            "0.03210222 \t 加熱箱三水道溫度\n",
            "0.03143585 \t 第四穴壓力檢測\n",
            "0.03127868 \t 第四層燈管加熱%\n",
            "0.02247438 \t 加熱箱二水道溫度\n",
            "0.01981203 \t 第三層燈管加熱%\n",
            "0.01831898 \t 第七層燈管加熱%\n",
            "0.01821211 \t 第二層燈管加熱%\n",
            "0.01117118 \t 加熱箱六水道溫度\n",
            "0.01109889 \t 破瓶壓力檢測值設定\n",
            "0.00745584 \t 加熱箱四水道溫度\n",
            "0.00637141 \t 加熱箱七水道溫度\n",
            "0.00263092 \t 高壓壓力\n",
            "0.00120073 \t 第五層燈管加熱%\n",
            "0.00100899 \t 回收壓力\n",
            "0.00001257 \t 破瓶數增加\n",
            "-0.00006915 \t 加熱箱八水道溫度\n",
            "-0.00009744 \t 低壓壓力\n",
            "-0.00088955 \t 第一層燈管加熱%\n",
            "-0.00155906 \t 加熱箱一水道溫度\n",
            "-0.00290124 \t 加熱箱五水道溫度\n",
            "-0.00313698 \t 預吹壓力\n"
          ],
          "name": "stdout"
        }
      ]
    }
  ]
}