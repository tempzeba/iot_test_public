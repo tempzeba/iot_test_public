{
  "nbformat": 4,
  "nbformat_minor": 0,
  "metadata": {
    "colab": {
      "name": "A1L02001_log_20201119 (DNN-tensorflow2.0)-Sequential.ipynb",
      "provenance": [],
      "collapsed_sections": [],
      "toc_visible": true,
      "authorship_tag": "ABX9TyOlNBiy5epVhJTVeVDZZT4m",
      "include_colab_link": true
    },
    "kernelspec": {
      "name": "python3",
      "display_name": "Python 3"
    }
  },
  "cells": [
    {
      "cell_type": "markdown",
      "metadata": {
        "id": "view-in-github",
        "colab_type": "text"
      },
      "source": [
        "<a href=\"https://colab.research.google.com/github/tempzeba/iot_test_public/blob/main/A1L02002_log_20201119_(DNN_tensorflow2_0)_Sequential.ipynb\" target=\"_parent\"><img src=\"https://colab.research.google.com/assets/colab-badge.svg\" alt=\"Open In Colab\"/></a>"
      ]
    },
    {
      "cell_type": "markdown",
      "metadata": {
        "id": "1Y0w5q6AUmMa"
      },
      "source": [
        "## 0) 程式說明\n",
        "### 目的：A1L02001 IOT異常分析\n",
        "### 運行環境："
      ]
    },
    {
      "cell_type": "code",
      "metadata": {
        "colab": {
          "base_uri": "https://localhost:8080/"
        },
        "id": "JhSdZF2NW8Xs",
        "outputId": "0a7ac654-4e70-4e50-b567-656e5cd8c1bd"
      },
      "source": [
        "import sys\n",
        "print(\"python版本:%s\"% sys.version)"
      ],
      "execution_count": 112,
      "outputs": [
        {
          "output_type": "stream",
          "text": [
            "python版本:3.6.9 (default, Oct  8 2020, 12:12:24) \n",
            "[GCC 8.4.0]\n"
          ],
          "name": "stdout"
        }
      ]
    },
    {
      "cell_type": "code",
      "metadata": {
        "id": "bIVId25Van3a"
      },
      "source": [
        "import warnings\n",
        "import pandas as pd\n",
        "import numpy as np\n",
        "import matplotlib.pyplot as plt\n",
        "warnings.filterwarnings(\"ignore\")"
      ],
      "execution_count": 113,
      "outputs": []
    },
    {
      "cell_type": "markdown",
      "metadata": {
        "id": "a5wddLSban3o"
      },
      "source": [
        "## 1) 載入資料集"
      ]
    },
    {
      "cell_type": "code",
      "metadata": {
        "id": "GA-bjU2pan3p",
        "colab": {
          "base_uri": "https://localhost:8080/",
          "height": 1000
        },
        "outputId": "b066dff2-4a4b-40c7-b856-8116efa7fe46"
      },
      "source": [
        "# df_train = pd.read_csv('./data/Iris.csv')\n",
        "df_train = pd.read_csv('https://github.com/tempzeba/iot_test_public/releases/download/iot_data/A1L02001_log_01.csv', sep='\\t')\n",
        "df_train = df_train.drop(labels=[r'收集日期', \n",
        "r'抽樣秒', \n",
        "r'位址區段E32768紀錄時間', \n",
        "r'位址區段G32768紀錄時間', \n",
        "r'位址區段G12288紀錄時間',\n",
        "r'機台編號',\n",
        "r'目前生產配方'\n",
        ",\n",
        " '壓力檢測啟動',\n",
        " 'Cycle_Time',\n",
        " '第一穴預吹延遲',\n",
        " '第二穴預吹延遲',\n",
        " '第三穴預吹延遲',\n",
        " '第四穴預吹延遲',\n",
        " '第五穴預吹延遲',\n",
        " '第六穴預吹延遲',\n",
        " '第七穴預吹延遲',\n",
        " '第八穴預吹延遲',\n",
        " '第九穴預吹延遲',\n",
        " '第十穴預吹延遲',\n",
        " '第一穴高壓延遲',\n",
        " '第二穴高壓延遲',\n",
        " '第三穴高壓延遲',\n",
        " '第四穴高壓延遲',\n",
        " '第五穴高壓延遲',\n",
        " '第六穴高壓延遲',\n",
        " '第七穴高壓延遲',\n",
        " '第八穴高壓延遲',\n",
        " '第九穴高壓延遲',\n",
        " '第十穴高壓延遲',\n",
        " '第一穴吹高壓時間',\n",
        " '第二穴吹高壓時間',\n",
        " '第三穴吹高壓時間',\n",
        " '第四穴吹高壓時間',\n",
        " '第五穴吹高壓時間',\n",
        " '第六穴吹高壓時間',\n",
        " '第七穴吹高壓時間',\n",
        " '第八穴吹高壓時間',\n",
        " '第九穴吹高壓時間',\n",
        " '第十穴吹高壓時間',\n",
        " '第一穴排氣時間',\n",
        " '第二穴排氣時間',\n",
        " '第三穴排氣時間',\n",
        " '第四穴排氣時間',\n",
        " '第五穴排氣時間',\n",
        " '第六穴排氣時間',\n",
        " '第七穴排氣時間',\n",
        " '第八穴排氣時間',\n",
        " '第九穴排氣時間',\n",
        " '第十穴排氣時間',\n",
        " '第九層燈管加熱%',\n",
        " '第十層燈管加熱%',\n",
        " '產能',\n",
        " '吹氣鼓風機轉速',\n",
        " '吸氣鼓風機轉速',\n",
        " '自轉馬達轉速',\n",
        " '整列滾筒調速',\n",
        " '牙口鼓風機轉速',\n",
        " '入胚啟動位置',\n",
        " '入胚啟動延時',\n",
        " '震動馬達震動時間',\n",
        " '震動馬達震動循環時間',\n",
        " '第九穴壓力檢測',\n",
        " '第十穴壓力檢測',\n",
        "#  '破瓶數增加',\n",
        " '入胚啟動',\n",
        " '加熱啟動',\n",
        " '吹瓶啟動',\n",
        " '機台異常或無異常',\n",
        " '自動或手動',\n",
        " '總生產數量',\n",
        " '機台是否正常(0~59s)'\n",
        "\n",
        "],axis=1) \n",
        "\n",
        "# 調整資料集\n",
        "# 1. 只取有異常部分\n",
        "# 2. 計算有異常資料筆數\n",
        "# 3. 從無異常資料隨機抽出k筆資料與異常資料合併作為投入模型的資料集。k=異常資料筆數\n",
        "mask = df_train[r'異常代碼'] > 0\n",
        "target_count = mask.sum()\n",
        "df_train_noerr = df_train[df_train[r'異常代碼'] == 0].sample(n=target_count,random_state=123,axis=0)\n",
        "df_train = df_train[mask]\n",
        "df_train = df_train.append(df_train_noerr)\n",
        "df_train.describe().transpose()"
      ],
      "execution_count": 114,
      "outputs": [
        {
          "output_type": "execute_result",
          "data": {
            "text/html": [
              "<div>\n",
              "<style scoped>\n",
              "    .dataframe tbody tr th:only-of-type {\n",
              "        vertical-align: middle;\n",
              "    }\n",
              "\n",
              "    .dataframe tbody tr th {\n",
              "        vertical-align: top;\n",
              "    }\n",
              "\n",
              "    .dataframe thead th {\n",
              "        text-align: right;\n",
              "    }\n",
              "</style>\n",
              "<table border=\"1\" class=\"dataframe\">\n",
              "  <thead>\n",
              "    <tr style=\"text-align: right;\">\n",
              "      <th></th>\n",
              "      <th>count</th>\n",
              "      <th>mean</th>\n",
              "      <th>std</th>\n",
              "      <th>min</th>\n",
              "      <th>25%</th>\n",
              "      <th>50%</th>\n",
              "      <th>75%</th>\n",
              "      <th>max</th>\n",
              "    </tr>\n",
              "  </thead>\n",
              "  <tbody>\n",
              "    <tr>\n",
              "      <th>低壓壓力</th>\n",
              "      <td>17460.0</td>\n",
              "      <td>8.210412</td>\n",
              "      <td>0.135866</td>\n",
              "      <td>7.8</td>\n",
              "      <td>8.1</td>\n",
              "      <td>8.2</td>\n",
              "      <td>8.3</td>\n",
              "      <td>8.8</td>\n",
              "    </tr>\n",
              "    <tr>\n",
              "      <th>高壓壓力</th>\n",
              "      <td>17460.0</td>\n",
              "      <td>31.243545</td>\n",
              "      <td>1.752345</td>\n",
              "      <td>22.5</td>\n",
              "      <td>30.5</td>\n",
              "      <td>31.7</td>\n",
              "      <td>32.6</td>\n",
              "      <td>33.9</td>\n",
              "    </tr>\n",
              "    <tr>\n",
              "      <th>回收壓力</th>\n",
              "      <td>17460.0</td>\n",
              "      <td>11.051403</td>\n",
              "      <td>0.457494</td>\n",
              "      <td>9.0</td>\n",
              "      <td>10.8</td>\n",
              "      <td>11.0</td>\n",
              "      <td>11.3</td>\n",
              "      <td>12.5</td>\n",
              "    </tr>\n",
              "    <tr>\n",
              "      <th>預吹壓力</th>\n",
              "      <td>17460.0</td>\n",
              "      <td>10.789055</td>\n",
              "      <td>0.548347</td>\n",
              "      <td>8.5</td>\n",
              "      <td>10.4</td>\n",
              "      <td>10.8</td>\n",
              "      <td>11.2</td>\n",
              "      <td>12.4</td>\n",
              "    </tr>\n",
              "    <tr>\n",
              "      <th>最多成型時間</th>\n",
              "      <td>17460.0</td>\n",
              "      <td>942.864891</td>\n",
              "      <td>2.564258</td>\n",
              "      <td>927.0</td>\n",
              "      <td>942.0</td>\n",
              "      <td>942.0</td>\n",
              "      <td>945.0</td>\n",
              "      <td>951.0</td>\n",
              "    </tr>\n",
              "    <tr>\n",
              "      <th>第一層燈管加熱%</th>\n",
              "      <td>17460.0</td>\n",
              "      <td>69.383763</td>\n",
              "      <td>2.161632</td>\n",
              "      <td>65.5</td>\n",
              "      <td>68.0</td>\n",
              "      <td>69.0</td>\n",
              "      <td>70.0</td>\n",
              "      <td>82.0</td>\n",
              "    </tr>\n",
              "    <tr>\n",
              "      <th>第二層燈管加熱%</th>\n",
              "      <td>17460.0</td>\n",
              "      <td>41.008906</td>\n",
              "      <td>0.337388</td>\n",
              "      <td>40.5</td>\n",
              "      <td>41.0</td>\n",
              "      <td>41.0</td>\n",
              "      <td>41.0</td>\n",
              "      <td>43.0</td>\n",
              "    </tr>\n",
              "    <tr>\n",
              "      <th>第三層燈管加熱%</th>\n",
              "      <td>17460.0</td>\n",
              "      <td>40.047365</td>\n",
              "      <td>0.303088</td>\n",
              "      <td>40.0</td>\n",
              "      <td>40.0</td>\n",
              "      <td>40.0</td>\n",
              "      <td>40.0</td>\n",
              "      <td>42.0</td>\n",
              "    </tr>\n",
              "    <tr>\n",
              "      <th>第四層燈管加熱%</th>\n",
              "      <td>17460.0</td>\n",
              "      <td>40.070332</td>\n",
              "      <td>0.452677</td>\n",
              "      <td>40.0</td>\n",
              "      <td>40.0</td>\n",
              "      <td>40.0</td>\n",
              "      <td>40.0</td>\n",
              "      <td>43.0</td>\n",
              "    </tr>\n",
              "    <tr>\n",
              "      <th>第五層燈管加熱%</th>\n",
              "      <td>17460.0</td>\n",
              "      <td>45.464834</td>\n",
              "      <td>0.669276</td>\n",
              "      <td>44.0</td>\n",
              "      <td>45.0</td>\n",
              "      <td>45.0</td>\n",
              "      <td>46.0</td>\n",
              "      <td>47.0</td>\n",
              "    </tr>\n",
              "    <tr>\n",
              "      <th>第六層燈管加熱%</th>\n",
              "      <td>17460.0</td>\n",
              "      <td>67.125659</td>\n",
              "      <td>1.116048</td>\n",
              "      <td>65.0</td>\n",
              "      <td>66.0</td>\n",
              "      <td>67.5</td>\n",
              "      <td>68.0</td>\n",
              "      <td>69.0</td>\n",
              "    </tr>\n",
              "    <tr>\n",
              "      <th>第七層燈管加熱%</th>\n",
              "      <td>17460.0</td>\n",
              "      <td>47.266896</td>\n",
              "      <td>1.429647</td>\n",
              "      <td>45.0</td>\n",
              "      <td>46.0</td>\n",
              "      <td>47.0</td>\n",
              "      <td>49.0</td>\n",
              "      <td>49.5</td>\n",
              "    </tr>\n",
              "    <tr>\n",
              "      <th>第八層燈管加熱%</th>\n",
              "      <td>17460.0</td>\n",
              "      <td>39.158133</td>\n",
              "      <td>0.986808</td>\n",
              "      <td>38.0</td>\n",
              "      <td>38.0</td>\n",
              "      <td>39.0</td>\n",
              "      <td>40.0</td>\n",
              "      <td>45.0</td>\n",
              "    </tr>\n",
              "    <tr>\n",
              "      <th>滾筒速度</th>\n",
              "      <td>17460.0</td>\n",
              "      <td>35.730241</td>\n",
              "      <td>1.834236</td>\n",
              "      <td>35.0</td>\n",
              "      <td>35.0</td>\n",
              "      <td>35.0</td>\n",
              "      <td>35.0</td>\n",
              "      <td>45.0</td>\n",
              "    </tr>\n",
              "    <tr>\n",
              "      <th>第一穴壓力檢測</th>\n",
              "      <td>17460.0</td>\n",
              "      <td>28.029364</td>\n",
              "      <td>2.305539</td>\n",
              "      <td>0.0</td>\n",
              "      <td>27.2</td>\n",
              "      <td>27.8</td>\n",
              "      <td>28.9</td>\n",
              "      <td>33.1</td>\n",
              "    </tr>\n",
              "    <tr>\n",
              "      <th>第二穴壓力檢測</th>\n",
              "      <td>17460.0</td>\n",
              "      <td>27.126352</td>\n",
              "      <td>5.173938</td>\n",
              "      <td>0.0</td>\n",
              "      <td>27.1</td>\n",
              "      <td>27.8</td>\n",
              "      <td>28.5</td>\n",
              "      <td>32.2</td>\n",
              "    </tr>\n",
              "    <tr>\n",
              "      <th>第三穴壓力檢測</th>\n",
              "      <td>17460.0</td>\n",
              "      <td>26.367360</td>\n",
              "      <td>6.501664</td>\n",
              "      <td>0.0</td>\n",
              "      <td>27.0</td>\n",
              "      <td>27.7</td>\n",
              "      <td>28.4</td>\n",
              "      <td>31.0</td>\n",
              "    </tr>\n",
              "    <tr>\n",
              "      <th>第四穴壓力檢測</th>\n",
              "      <td>17460.0</td>\n",
              "      <td>23.932440</td>\n",
              "      <td>9.777206</td>\n",
              "      <td>0.0</td>\n",
              "      <td>26.9</td>\n",
              "      <td>27.7</td>\n",
              "      <td>28.3</td>\n",
              "      <td>31.2</td>\n",
              "    </tr>\n",
              "    <tr>\n",
              "      <th>第五穴壓力檢測</th>\n",
              "      <td>17460.0</td>\n",
              "      <td>21.604181</td>\n",
              "      <td>11.084392</td>\n",
              "      <td>0.0</td>\n",
              "      <td>26.3</td>\n",
              "      <td>27.0</td>\n",
              "      <td>27.6</td>\n",
              "      <td>30.0</td>\n",
              "    </tr>\n",
              "    <tr>\n",
              "      <th>第六穴壓力檢測</th>\n",
              "      <td>17460.0</td>\n",
              "      <td>21.111397</td>\n",
              "      <td>11.354786</td>\n",
              "      <td>0.0</td>\n",
              "      <td>26.2</td>\n",
              "      <td>26.9</td>\n",
              "      <td>27.5</td>\n",
              "      <td>29.5</td>\n",
              "    </tr>\n",
              "    <tr>\n",
              "      <th>第七穴壓力檢測</th>\n",
              "      <td>17460.0</td>\n",
              "      <td>20.540727</td>\n",
              "      <td>11.724704</td>\n",
              "      <td>0.0</td>\n",
              "      <td>21.9</td>\n",
              "      <td>26.9</td>\n",
              "      <td>27.5</td>\n",
              "      <td>28.8</td>\n",
              "    </tr>\n",
              "    <tr>\n",
              "      <th>第八穴壓力檢測</th>\n",
              "      <td>17460.0</td>\n",
              "      <td>18.563471</td>\n",
              "      <td>12.596074</td>\n",
              "      <td>0.0</td>\n",
              "      <td>0.0</td>\n",
              "      <td>26.7</td>\n",
              "      <td>27.4</td>\n",
              "      <td>29.1</td>\n",
              "    </tr>\n",
              "    <tr>\n",
              "      <th>破瓶壓力檢測值設定</th>\n",
              "      <td>17460.0</td>\n",
              "      <td>22.704983</td>\n",
              "      <td>0.789246</td>\n",
              "      <td>22.0</td>\n",
              "      <td>22.0</td>\n",
              "      <td>22.0</td>\n",
              "      <td>23.0</td>\n",
              "      <td>24.0</td>\n",
              "    </tr>\n",
              "    <tr>\n",
              "      <th>加熱箱一水道溫度</th>\n",
              "      <td>17460.0</td>\n",
              "      <td>55.107348</td>\n",
              "      <td>9.393586</td>\n",
              "      <td>23.3</td>\n",
              "      <td>43.6</td>\n",
              "      <td>61.4</td>\n",
              "      <td>62.4</td>\n",
              "      <td>65.3</td>\n",
              "    </tr>\n",
              "    <tr>\n",
              "      <th>加熱箱二水道溫度</th>\n",
              "      <td>17460.0</td>\n",
              "      <td>55.488763</td>\n",
              "      <td>8.684797</td>\n",
              "      <td>23.9</td>\n",
              "      <td>45.0</td>\n",
              "      <td>61.1</td>\n",
              "      <td>62.3</td>\n",
              "      <td>65.7</td>\n",
              "    </tr>\n",
              "    <tr>\n",
              "      <th>加熱箱三水道溫度</th>\n",
              "      <td>17460.0</td>\n",
              "      <td>59.686008</td>\n",
              "      <td>10.522983</td>\n",
              "      <td>23.6</td>\n",
              "      <td>46.8</td>\n",
              "      <td>66.6</td>\n",
              "      <td>67.8</td>\n",
              "      <td>71.7</td>\n",
              "    </tr>\n",
              "    <tr>\n",
              "      <th>加熱箱四水道溫度</th>\n",
              "      <td>17460.0</td>\n",
              "      <td>58.158677</td>\n",
              "      <td>9.873759</td>\n",
              "      <td>24.2</td>\n",
              "      <td>45.9</td>\n",
              "      <td>64.7</td>\n",
              "      <td>65.9</td>\n",
              "      <td>69.0</td>\n",
              "    </tr>\n",
              "    <tr>\n",
              "      <th>加熱箱五水道溫度</th>\n",
              "      <td>17460.0</td>\n",
              "      <td>49.755836</td>\n",
              "      <td>8.183261</td>\n",
              "      <td>23.6</td>\n",
              "      <td>39.6</td>\n",
              "      <td>54.8</td>\n",
              "      <td>56.1</td>\n",
              "      <td>59.1</td>\n",
              "    </tr>\n",
              "    <tr>\n",
              "      <th>加熱箱六水道溫度</th>\n",
              "      <td>17460.0</td>\n",
              "      <td>66.222417</td>\n",
              "      <td>13.023703</td>\n",
              "      <td>23.8</td>\n",
              "      <td>50.4</td>\n",
              "      <td>74.4</td>\n",
              "      <td>76.3</td>\n",
              "      <td>80.8</td>\n",
              "    </tr>\n",
              "    <tr>\n",
              "      <th>加熱箱七水道溫度</th>\n",
              "      <td>17460.0</td>\n",
              "      <td>59.592703</td>\n",
              "      <td>10.375915</td>\n",
              "      <td>24.4</td>\n",
              "      <td>47.3</td>\n",
              "      <td>66.0</td>\n",
              "      <td>67.7</td>\n",
              "      <td>71.3</td>\n",
              "    </tr>\n",
              "    <tr>\n",
              "      <th>加熱箱八水道溫度</th>\n",
              "      <td>17460.0</td>\n",
              "      <td>55.397973</td>\n",
              "      <td>9.208739</td>\n",
              "      <td>24.4</td>\n",
              "      <td>44.1</td>\n",
              "      <td>61.5</td>\n",
              "      <td>62.5</td>\n",
              "      <td>65.3</td>\n",
              "    </tr>\n",
              "    <tr>\n",
              "      <th>破瓶數量</th>\n",
              "      <td>17460.0</td>\n",
              "      <td>1282.073998</td>\n",
              "      <td>21.745568</td>\n",
              "      <td>1259.0</td>\n",
              "      <td>1261.0</td>\n",
              "      <td>1297.0</td>\n",
              "      <td>1305.0</td>\n",
              "      <td>1330.0</td>\n",
              "    </tr>\n",
              "    <tr>\n",
              "      <th>異常代碼</th>\n",
              "      <td>17460.0</td>\n",
              "      <td>50.200458</td>\n",
              "      <td>53.374103</td>\n",
              "      <td>0.0</td>\n",
              "      <td>0.0</td>\n",
              "      <td>1.0</td>\n",
              "      <td>107.0</td>\n",
              "      <td>192.0</td>\n",
              "    </tr>\n",
              "    <tr>\n",
              "      <th>破瓶數增加</th>\n",
              "      <td>17460.0</td>\n",
              "      <td>0.000172</td>\n",
              "      <td>0.013107</td>\n",
              "      <td>0.0</td>\n",
              "      <td>0.0</td>\n",
              "      <td>0.0</td>\n",
              "      <td>0.0</td>\n",
              "      <td>1.0</td>\n",
              "    </tr>\n",
              "  </tbody>\n",
              "</table>\n",
              "</div>"
            ],
            "text/plain": [
              "             count         mean        std  ...     50%     75%     max\n",
              "低壓壓力       17460.0     8.210412   0.135866  ...     8.2     8.3     8.8\n",
              "高壓壓力       17460.0    31.243545   1.752345  ...    31.7    32.6    33.9\n",
              "回收壓力       17460.0    11.051403   0.457494  ...    11.0    11.3    12.5\n",
              "預吹壓力       17460.0    10.789055   0.548347  ...    10.8    11.2    12.4\n",
              "最多成型時間     17460.0   942.864891   2.564258  ...   942.0   945.0   951.0\n",
              "第一層燈管加熱%   17460.0    69.383763   2.161632  ...    69.0    70.0    82.0\n",
              "第二層燈管加熱%   17460.0    41.008906   0.337388  ...    41.0    41.0    43.0\n",
              "第三層燈管加熱%   17460.0    40.047365   0.303088  ...    40.0    40.0    42.0\n",
              "第四層燈管加熱%   17460.0    40.070332   0.452677  ...    40.0    40.0    43.0\n",
              "第五層燈管加熱%   17460.0    45.464834   0.669276  ...    45.0    46.0    47.0\n",
              "第六層燈管加熱%   17460.0    67.125659   1.116048  ...    67.5    68.0    69.0\n",
              "第七層燈管加熱%   17460.0    47.266896   1.429647  ...    47.0    49.0    49.5\n",
              "第八層燈管加熱%   17460.0    39.158133   0.986808  ...    39.0    40.0    45.0\n",
              "滾筒速度       17460.0    35.730241   1.834236  ...    35.0    35.0    45.0\n",
              "第一穴壓力檢測    17460.0    28.029364   2.305539  ...    27.8    28.9    33.1\n",
              "第二穴壓力檢測    17460.0    27.126352   5.173938  ...    27.8    28.5    32.2\n",
              "第三穴壓力檢測    17460.0    26.367360   6.501664  ...    27.7    28.4    31.0\n",
              "第四穴壓力檢測    17460.0    23.932440   9.777206  ...    27.7    28.3    31.2\n",
              "第五穴壓力檢測    17460.0    21.604181  11.084392  ...    27.0    27.6    30.0\n",
              "第六穴壓力檢測    17460.0    21.111397  11.354786  ...    26.9    27.5    29.5\n",
              "第七穴壓力檢測    17460.0    20.540727  11.724704  ...    26.9    27.5    28.8\n",
              "第八穴壓力檢測    17460.0    18.563471  12.596074  ...    26.7    27.4    29.1\n",
              "破瓶壓力檢測值設定  17460.0    22.704983   0.789246  ...    22.0    23.0    24.0\n",
              "加熱箱一水道溫度   17460.0    55.107348   9.393586  ...    61.4    62.4    65.3\n",
              "加熱箱二水道溫度   17460.0    55.488763   8.684797  ...    61.1    62.3    65.7\n",
              "加熱箱三水道溫度   17460.0    59.686008  10.522983  ...    66.6    67.8    71.7\n",
              "加熱箱四水道溫度   17460.0    58.158677   9.873759  ...    64.7    65.9    69.0\n",
              "加熱箱五水道溫度   17460.0    49.755836   8.183261  ...    54.8    56.1    59.1\n",
              "加熱箱六水道溫度   17460.0    66.222417  13.023703  ...    74.4    76.3    80.8\n",
              "加熱箱七水道溫度   17460.0    59.592703  10.375915  ...    66.0    67.7    71.3\n",
              "加熱箱八水道溫度   17460.0    55.397973   9.208739  ...    61.5    62.5    65.3\n",
              "破瓶數量       17460.0  1282.073998  21.745568  ...  1297.0  1305.0  1330.0\n",
              "異常代碼       17460.0    50.200458  53.374103  ...     1.0   107.0   192.0\n",
              "破瓶數增加      17460.0     0.000172   0.013107  ...     0.0     0.0     1.0\n",
              "\n",
              "[34 rows x 8 columns]"
            ]
          },
          "metadata": {
            "tags": []
          },
          "execution_count": 114
        }
      ]
    },
    {
      "cell_type": "markdown",
      "metadata": {
        "id": "r1M7a4iian3u"
      },
      "source": [
        "## 2) 手動編碼\n",
        "處理名目資料 (Nominal variables) - 資料前處理\n",
        "依據特徵資料的特性，可以選擇手動編碼或自動編碼。\n",
        "\n",
        "### 使用編碼時機?\n",
        "進行深度學習時，神經網路只能處理數值資料。因此我們需要將所有非數字型態的特徵進行轉換。\n",
        "\n",
        "### 註：\n",
        "略。(IOT原始資料已經一次前處理)"
      ]
    },
    {
      "cell_type": "markdown",
      "metadata": {
        "id": "txpEEPgAan36"
      },
      "source": [
        "## 3) 檢查缺失值\n",
        "使用 numpy 所提供的函式來檢查是否有 NA 缺失值，假設有缺失值使用dropna()來移除。使用的時機在於當只有少量的缺失值適用，若遇到有大量缺失值的情況，或是本身的資料量就很少的情況下建議可以透過機器學習的方法補值來預測缺失值。\n",
        "### 註：\n",
        "略。(IOT原始資料已經一次前處理)"
      ]
    },
    {
      "cell_type": "markdown",
      "metadata": {
        "id": "gNBeqTcUan4A"
      },
      "source": [
        "## 4) 將輸出特徵做one-hot encoding\n",
        "如何對欄位class做one-hot encoding？"
      ]
    },
    {
      "cell_type": "code",
      "metadata": {
        "id": "iQFh4fj0an4C",
        "colab": {
          "base_uri": "https://localhost:8080/"
        },
        "outputId": "f357529a-95dd-43a9-c4b1-efcef22154b5"
      },
      "source": [
        "from tensorflow.keras.utils import to_categorical\n",
        "y = to_categorical(df_train[r'異常代碼'])\n",
        "y"
      ],
      "execution_count": 115,
      "outputs": [
        {
          "output_type": "execute_result",
          "data": {
            "text/plain": [
              "array([[0., 0., 0., ..., 0., 0., 0.],\n",
              "       [0., 0., 0., ..., 0., 0., 0.],\n",
              "       [0., 0., 0., ..., 0., 0., 0.],\n",
              "       ...,\n",
              "       [1., 0., 0., ..., 0., 0., 0.],\n",
              "       [1., 0., 0., ..., 0., 0., 0.],\n",
              "       [1., 0., 0., ..., 0., 0., 0.]], dtype=float32)"
            ]
          },
          "metadata": {
            "tags": []
          },
          "execution_count": 115
        }
      ]
    },
    {
      "cell_type": "markdown",
      "metadata": {
        "id": "_OclZM7Wan4I"
      },
      "source": [
        "## 5) 切割訓練集與測試集"
      ]
    },
    {
      "cell_type": "markdown",
      "metadata": {
        "id": "JSw4NVQLwdvU"
      },
      "source": [
        ""
      ]
    },
    {
      "cell_type": "code",
      "metadata": {
        "id": "hjDEttMPan4J",
        "colab": {
          "base_uri": "https://localhost:8080/"
        },
        "outputId": "df748a26-61ef-475d-acf7-250cad68a8e0"
      },
      "source": [
        "pd.set_option('max_row',300)\n",
        "# X=df_train.drop(labels=['Class'],axis=1)\n",
        "X=df_train.drop(columns=[r'異常代碼'])\n",
        "# X.isna().sum().sum()\n",
        "# X\n",
        "mask = X.describe().transpose()['std']==0\n",
        "X.describe().transpose()[mask].index.tolist()\n",
        "# X.describe().transpose().columns.tolist()\n"
      ],
      "execution_count": 116,
      "outputs": [
        {
          "output_type": "execute_result",
          "data": {
            "text/plain": [
              "[]"
            ]
          },
          "metadata": {
            "tags": []
          },
          "execution_count": 116
        }
      ]
    },
    {
      "cell_type": "code",
      "metadata": {
        "id": "rKl7fICTan4Q"
      },
      "source": [
        "from sklearn.model_selection import train_test_split\n",
        "X_train , X_test , y_train , y_test = train_test_split(X,y , test_size=.3 , random_state=40)"
      ],
      "execution_count": 117,
      "outputs": []
    },
    {
      "cell_type": "code",
      "metadata": {
        "id": "8Ovl96zhan4T",
        "colab": {
          "base_uri": "https://localhost:8080/"
        },
        "outputId": "eef6f27c-f0be-430e-c2e4-db820bc1753b"
      },
      "source": [
        "print('訓練資料: ',X_train.shape)\n",
        "print('測試資料: ',X_test.shape)\n",
        "# X_train"
      ],
      "execution_count": 118,
      "outputs": [
        {
          "output_type": "stream",
          "text": [
            "訓練資料:  (12222, 33)\n",
            "測試資料:  (5238, 33)\n"
          ],
          "name": "stdout"
        }
      ]
    },
    {
      "cell_type": "markdown",
      "metadata": {
        "id": "qB6zvYgJan4Z"
      },
      "source": [
        "## 6) 建立網路模型"
      ]
    },
    {
      "cell_type": "code",
      "metadata": {
        "id": "aJvDPRx5an4Z",
        "colab": {
          "base_uri": "https://localhost:8080/"
        },
        "outputId": "83fcd6cb-9cef-4924-964b-d58c80a4addf"
      },
      "source": [
        "import tensorflow as tf\n",
        "from tensorflow.keras.layers import Dense, Activation\n",
        "from tensorflow.keras import Sequential\n",
        "from tensorflow.keras.optimizers import Adam\n",
        "\n",
        "print(tf.__version__)"
      ],
      "execution_count": 119,
      "outputs": [
        {
          "output_type": "stream",
          "text": [
            "2.3.0\n"
          ],
          "name": "stdout"
        }
      ]
    },
    {
      "cell_type": "code",
      "metadata": {
        "id": "Q30p2WHxan4d"
      },
      "source": [
        "# 此範例使用 Tensorflow2.0 Sequential API 搭建神經網路。\n",
        "model = Sequential()\n",
        "model.add(Dense(8, Activation('relu'), input_dim=X.shape[-1]))\n",
        "model.add(Dense(16, Activation('relu')))\n",
        "model.add(Dense(193, Activation('softmax')))"
      ],
      "execution_count": 120,
      "outputs": []
    },
    {
      "cell_type": "code",
      "metadata": {
        "id": "gCfdh7Lgan4h",
        "colab": {
          "base_uri": "https://localhost:8080/"
        },
        "outputId": "cbcf2d32-70a7-4fab-cbee-dc67e69d1f8b"
      },
      "source": [
        "model.summary()   # Weights = (4+1)*8+(8+1)*16+(16+1)*3"
      ],
      "execution_count": 121,
      "outputs": [
        {
          "output_type": "stream",
          "text": [
            "Model: \"sequential_5\"\n",
            "_________________________________________________________________\n",
            "Layer (type)                 Output Shape              Param #   \n",
            "=================================================================\n",
            "dense_15 (Dense)             (None, 8)                 272       \n",
            "_________________________________________________________________\n",
            "dense_16 (Dense)             (None, 16)                144       \n",
            "_________________________________________________________________\n",
            "dense_17 (Dense)             (None, 193)               3281      \n",
            "=================================================================\n",
            "Total params: 3,697\n",
            "Trainable params: 3,697\n",
            "Non-trainable params: 0\n",
            "_________________________________________________________________\n"
          ],
          "name": "stdout"
        }
      ]
    },
    {
      "cell_type": "code",
      "metadata": {
        "id": "86S7ALLTan4l",
        "colab": {
          "base_uri": "https://localhost:8080/"
        },
        "outputId": "27c49e56-c9df-46e1-aed2-225d71a3f11c"
      },
      "source": [
        "# 編譯模型\n",
        "optim = Adam(lr=0.001)\n",
        "model.compile(loss='categorical_crossentropy',\n",
        "              optimizer=optim,\n",
        "              metrics=['acc'])\n",
        "\n",
        "batch_size=1000\n",
        "epochs = 50\n",
        "\n",
        "history = model.fit(X_train, y_train,\n",
        "                    batch_size=batch_size,\n",
        "                    epochs=epochs,\n",
        "                    verbose=1,\n",
        "                    shuffle=True,\n",
        "                    validation_split=0.1)\n"
      ],
      "execution_count": 123,
      "outputs": [
        {
          "output_type": "stream",
          "text": [
            "Epoch 1/50\n",
            "11/11 [==============================] - 0s 21ms/step - loss: 1.1061 - acc: 0.6523 - val_loss: 0.9235 - val_acc: 0.6051\n",
            "Epoch 2/50\n",
            "11/11 [==============================] - 0s 6ms/step - loss: 0.7465 - acc: 0.7658 - val_loss: 0.7185 - val_acc: 0.7195\n",
            "Epoch 3/50\n",
            "11/11 [==============================] - 0s 8ms/step - loss: 0.6608 - acc: 0.8113 - val_loss: 0.6768 - val_acc: 0.7866\n",
            "Epoch 4/50\n",
            "11/11 [==============================] - 0s 7ms/step - loss: 0.6499 - acc: 0.8318 - val_loss: 0.6477 - val_acc: 0.8414\n",
            "Epoch 5/50\n",
            "11/11 [==============================] - 0s 7ms/step - loss: 0.6349 - acc: 0.8413 - val_loss: 0.6502 - val_acc: 0.8250\n",
            "Epoch 6/50\n",
            "11/11 [==============================] - 0s 9ms/step - loss: 0.6303 - acc: 0.8440 - val_loss: 0.6438 - val_acc: 0.8316\n",
            "Epoch 7/50\n",
            "11/11 [==============================] - 0s 7ms/step - loss: 0.6250 - acc: 0.8467 - val_loss: 0.6458 - val_acc: 0.8332\n",
            "Epoch 8/50\n",
            "11/11 [==============================] - 0s 7ms/step - loss: 0.6214 - acc: 0.8463 - val_loss: 0.6362 - val_acc: 0.8422\n",
            "Epoch 9/50\n",
            "11/11 [==============================] - 0s 8ms/step - loss: 0.6201 - acc: 0.8467 - val_loss: 0.6409 - val_acc: 0.8348\n",
            "Epoch 10/50\n",
            "11/11 [==============================] - 0s 7ms/step - loss: 0.6173 - acc: 0.8453 - val_loss: 0.6446 - val_acc: 0.8422\n",
            "Epoch 11/50\n",
            "11/11 [==============================] - 0s 7ms/step - loss: 0.6146 - acc: 0.8463 - val_loss: 0.6364 - val_acc: 0.8397\n",
            "Epoch 12/50\n",
            "11/11 [==============================] - 0s 7ms/step - loss: 0.6116 - acc: 0.8466 - val_loss: 0.6358 - val_acc: 0.8299\n",
            "Epoch 13/50\n",
            "11/11 [==============================] - 0s 8ms/step - loss: 0.6071 - acc: 0.8456 - val_loss: 0.6248 - val_acc: 0.8422\n",
            "Epoch 14/50\n",
            "11/11 [==============================] - 0s 8ms/step - loss: 0.6054 - acc: 0.8465 - val_loss: 0.6207 - val_acc: 0.8381\n",
            "Epoch 15/50\n",
            "11/11 [==============================] - 0s 8ms/step - loss: 0.6027 - acc: 0.8457 - val_loss: 0.6208 - val_acc: 0.8381\n",
            "Epoch 16/50\n",
            "11/11 [==============================] - 0s 8ms/step - loss: 0.6014 - acc: 0.8470 - val_loss: 0.6282 - val_acc: 0.8291\n",
            "Epoch 17/50\n",
            "11/11 [==============================] - 0s 8ms/step - loss: 0.6043 - acc: 0.8453 - val_loss: 0.6210 - val_acc: 0.8422\n",
            "Epoch 18/50\n",
            "11/11 [==============================] - 0s 8ms/step - loss: 0.5969 - acc: 0.8468 - val_loss: 0.6156 - val_acc: 0.8340\n",
            "Epoch 19/50\n",
            "11/11 [==============================] - 0s 8ms/step - loss: 0.5950 - acc: 0.8455 - val_loss: 0.6136 - val_acc: 0.8340\n",
            "Epoch 20/50\n",
            "11/11 [==============================] - 0s 8ms/step - loss: 0.5937 - acc: 0.8453 - val_loss: 0.6115 - val_acc: 0.8397\n",
            "Epoch 21/50\n",
            "11/11 [==============================] - 0s 9ms/step - loss: 0.5918 - acc: 0.8466 - val_loss: 0.6077 - val_acc: 0.8324\n",
            "Epoch 22/50\n",
            "11/11 [==============================] - 0s 8ms/step - loss: 0.5876 - acc: 0.8462 - val_loss: 0.6124 - val_acc: 0.8307\n",
            "Epoch 23/50\n",
            "11/11 [==============================] - 0s 8ms/step - loss: 0.5863 - acc: 0.8452 - val_loss: 0.6131 - val_acc: 0.8406\n",
            "Epoch 24/50\n",
            "11/11 [==============================] - 0s 9ms/step - loss: 0.5850 - acc: 0.8459 - val_loss: 0.6058 - val_acc: 0.8348\n",
            "Epoch 25/50\n",
            "11/11 [==============================] - 0s 7ms/step - loss: 0.5820 - acc: 0.8464 - val_loss: 0.6041 - val_acc: 0.8406\n",
            "Epoch 26/50\n",
            "11/11 [==============================] - 0s 7ms/step - loss: 0.5819 - acc: 0.8462 - val_loss: 0.6046 - val_acc: 0.8316\n",
            "Epoch 27/50\n",
            "11/11 [==============================] - 0s 8ms/step - loss: 0.5774 - acc: 0.8463 - val_loss: 0.5999 - val_acc: 0.8348\n",
            "Epoch 28/50\n",
            "11/11 [==============================] - 0s 7ms/step - loss: 0.5763 - acc: 0.8461 - val_loss: 0.5993 - val_acc: 0.8365\n",
            "Epoch 29/50\n",
            "11/11 [==============================] - 0s 8ms/step - loss: 0.5769 - acc: 0.8467 - val_loss: 0.6009 - val_acc: 0.8275\n",
            "Epoch 30/50\n",
            "11/11 [==============================] - 0s 8ms/step - loss: 0.5747 - acc: 0.8465 - val_loss: 0.5979 - val_acc: 0.8348\n",
            "Epoch 31/50\n",
            "11/11 [==============================] - 0s 7ms/step - loss: 0.5745 - acc: 0.8461 - val_loss: 0.5944 - val_acc: 0.8373\n",
            "Epoch 32/50\n",
            "11/11 [==============================] - 0s 8ms/step - loss: 0.5744 - acc: 0.8462 - val_loss: 0.6017 - val_acc: 0.8422\n",
            "Epoch 33/50\n",
            "11/11 [==============================] - 0s 8ms/step - loss: 0.5737 - acc: 0.8455 - val_loss: 0.5899 - val_acc: 0.8348\n",
            "Epoch 34/50\n",
            "11/11 [==============================] - 0s 7ms/step - loss: 0.5690 - acc: 0.8465 - val_loss: 0.5902 - val_acc: 0.8348\n",
            "Epoch 35/50\n",
            "11/11 [==============================] - 0s 9ms/step - loss: 0.5688 - acc: 0.8474 - val_loss: 0.5922 - val_acc: 0.8299\n",
            "Epoch 36/50\n",
            "11/11 [==============================] - 0s 7ms/step - loss: 0.5683 - acc: 0.8473 - val_loss: 0.5875 - val_acc: 0.8373\n",
            "Epoch 37/50\n",
            "11/11 [==============================] - 0s 8ms/step - loss: 0.5655 - acc: 0.8461 - val_loss: 0.5896 - val_acc: 0.8348\n",
            "Epoch 38/50\n",
            "11/11 [==============================] - 0s 7ms/step - loss: 0.5668 - acc: 0.8468 - val_loss: 0.5933 - val_acc: 0.8316\n",
            "Epoch 39/50\n",
            "11/11 [==============================] - 0s 7ms/step - loss: 0.5662 - acc: 0.8475 - val_loss: 0.5941 - val_acc: 0.8283\n",
            "Epoch 40/50\n",
            "11/11 [==============================] - 0s 7ms/step - loss: 0.5717 - acc: 0.8465 - val_loss: 0.5894 - val_acc: 0.8397\n",
            "Epoch 41/50\n",
            "11/11 [==============================] - 0s 7ms/step - loss: 0.5653 - acc: 0.8461 - val_loss: 0.6051 - val_acc: 0.8365\n",
            "Epoch 42/50\n",
            "11/11 [==============================] - 0s 8ms/step - loss: 0.5692 - acc: 0.8474 - val_loss: 0.5895 - val_acc: 0.8430\n",
            "Epoch 43/50\n",
            "11/11 [==============================] - 0s 8ms/step - loss: 0.5706 - acc: 0.8466 - val_loss: 0.5919 - val_acc: 0.8275\n",
            "Epoch 44/50\n",
            "11/11 [==============================] - 0s 7ms/step - loss: 0.5642 - acc: 0.8468 - val_loss: 0.5881 - val_acc: 0.8299\n",
            "Epoch 45/50\n",
            "11/11 [==============================] - 0s 7ms/step - loss: 0.5646 - acc: 0.8475 - val_loss: 0.5967 - val_acc: 0.8242\n",
            "Epoch 46/50\n",
            "11/11 [==============================] - 0s 7ms/step - loss: 0.5695 - acc: 0.8468 - val_loss: 0.5845 - val_acc: 0.8340\n",
            "Epoch 47/50\n",
            "11/11 [==============================] - 0s 7ms/step - loss: 0.5580 - acc: 0.8470 - val_loss: 0.5794 - val_acc: 0.8381\n",
            "Epoch 48/50\n",
            "11/11 [==============================] - 0s 7ms/step - loss: 0.5560 - acc: 0.8474 - val_loss: 0.5780 - val_acc: 0.8340\n",
            "Epoch 49/50\n",
            "11/11 [==============================] - 0s 6ms/step - loss: 0.5577 - acc: 0.8477 - val_loss: 0.5883 - val_acc: 0.8250\n",
            "Epoch 50/50\n",
            "11/11 [==============================] - 0s 6ms/step - loss: 0.5579 - acc: 0.8479 - val_loss: 0.5853 - val_acc: 0.8275\n"
          ],
          "name": "stdout"
        }
      ]
    },
    {
      "cell_type": "markdown",
      "metadata": {
        "id": "pG1O5ymTan4s"
      },
      "source": [
        "## 7) 觀察訓練結果"
      ]
    },
    {
      "cell_type": "code",
      "metadata": {
        "id": "OFUTBafCan4u"
      },
      "source": [
        "import matplotlib.pyplot as plt\n",
        "\n",
        "history_dict = history.history\n",
        "history_dict.keys()\n",
        "acc = history_dict['acc']\n",
        "val_acc = history_dict['val_acc']\n",
        "loss = history_dict['loss']\n",
        "val_loss = history_dict['val_loss']\n",
        "epochs_ = range(1,len(acc)+1)"
      ],
      "execution_count": 124,
      "outputs": []
    },
    {
      "cell_type": "code",
      "metadata": {
        "id": "C5PL5GAwan4x",
        "colab": {
          "base_uri": "https://localhost:8080/",
          "height": 295
        },
        "outputId": "8d08f806-5c11-41a4-bc8c-e7542985740c"
      },
      "source": [
        "plt.plot(epochs_ , loss , label = 'training loss')\n",
        "plt.plot(epochs_ , val_loss , label = 'val los')\n",
        "plt.title('training and val loss')\n",
        "plt.xlabel('epochs')\n",
        "plt.ylabel('loss')\n",
        "plt.legend()\n",
        "plt.show()"
      ],
      "execution_count": 125,
      "outputs": [
        {
          "output_type": "display_data",
          "data": {
            "image/png": "[encoded data removed]",
            "text/plain": [
              "<Figure size 432x288 with 1 Axes>"
            ]
          },
          "metadata": {
            "tags": [],
            "needs_background": "light"
          }
        }
      ]
    },
    {
      "cell_type": "code",
      "metadata": {
        "id": "Ketuv_Bvan43",
        "colab": {
          "base_uri": "https://localhost:8080/",
          "height": 295
        },
        "outputId": "9c4d6ec3-2f17-44d7-a21b-31882dea5c17"
      },
      "source": [
        "plt.clf()\n",
        "plt.plot(epochs_ , acc , label='train accuracy')\n",
        "plt.plot(epochs_ , val_acc , label = 'val accuracy')\n",
        "plt.title('train and val acc')\n",
        "plt.xlabel('epochs')\n",
        "plt.ylabel('acc')\n",
        "plt.legend()\n",
        "plt.show()"
      ],
      "execution_count": 126,
      "outputs": [
        {
          "output_type": "display_data",
          "data": {
            "image/png": "[encoded data removed]",
            "text/plain": [
              "<Figure size 432x288 with 1 Axes>"
            ]
          },
          "metadata": {
            "tags": [],
            "needs_background": "light"
          }
        }
      ]
    },
    {
      "cell_type": "markdown",
      "metadata": {
        "id": "PR5QIun7an47"
      },
      "source": [
        "## 8) 測試"
      ]
    },
    {
      "cell_type": "code",
      "metadata": {
        "id": "rdG9q4M9an47",
        "colab": {
          "base_uri": "https://localhost:8080/"
        },
        "outputId": "492bf382-a08f-4710-d4b4-f3c6aca9ba0a"
      },
      "source": [
        "from sklearn.metrics import accuracy_score\n",
        "label=np.argmax(y,axis=1)\n",
        "pred =  np.argmax(model.predict(X), axis=1)\n",
        "# print(pred.shape)\n",
        "print(accuracy_score(label, pred))\n",
        "# print(y)"
      ],
      "execution_count": 127,
      "outputs": [
        {
          "output_type": "stream",
          "text": [
            "0.840893470790378\n"
          ],
          "name": "stdout"
        }
      ]
    },
    {
      "cell_type": "code",
      "metadata": {
        "id": "JNWE7Fe8uBzn",
        "colab": {
          "base_uri": "https://localhost:8080/"
        },
        "outputId": "83a67851-c858-41d0-d3f1-eaa925f710b7"
      },
      "source": [
        "!pip install eli5"
      ],
      "execution_count": 128,
      "outputs": [
        {
          "output_type": "stream",
          "text": [
            "Requirement already satisfied: eli5 in /usr/local/lib/python3.6/dist-packages (0.10.1)\n",
            "Requirement already satisfied: tabulate>=0.7.7 in /usr/local/lib/python3.6/dist-packages (from eli5) (0.8.7)\n",
            "Requirement already satisfied: six in /usr/local/lib/python3.6/dist-packages (from eli5) (1.15.0)\n",
            "Requirement already satisfied: jinja2 in /usr/local/lib/python3.6/dist-packages (from eli5) (2.11.2)\n",
            "Requirement already satisfied: graphviz in /usr/local/lib/python3.6/dist-packages (from eli5) (0.10.1)\n",
            "Requirement already satisfied: scipy in /usr/local/lib/python3.6/dist-packages (from eli5) (1.4.1)\n",
            "Requirement already satisfied: scikit-learn>=0.18 in /usr/local/lib/python3.6/dist-packages (from eli5) (0.22.2.post1)\n",
            "Requirement already satisfied: attrs>16.0.0 in /usr/local/lib/python3.6/dist-packages (from eli5) (20.2.0)\n",
            "Requirement already satisfied: numpy>=1.9.0 in /usr/local/lib/python3.6/dist-packages (from eli5) (1.18.5)\n",
            "Requirement already satisfied: MarkupSafe>=0.23 in /usr/local/lib/python3.6/dist-packages (from jinja2->eli5) (1.1.1)\n",
            "Requirement already satisfied: joblib>=0.11 in /usr/local/lib/python3.6/dist-packages (from scikit-learn>=0.18->eli5) (0.17.0)\n"
          ],
          "name": "stdout"
        }
      ]
    },
    {
      "cell_type": "markdown",
      "metadata": {
        "id": "wNxXer-qOlwj"
      },
      "source": [
        "## 9) 檢查特徵重要性\n",
        "> https://eli5.readthedocs.io/en/latest/blackbox/permutation_importance.html\n",
        "> https://www.mdeditor.tw/pl/pgi5/zh-tw\n",
        "\n",
        "> 針對BlackBox模型或非sklearn模型，使用排列重要性方法\n",
        "\n",
        "\n",
        "> 捨棄重要性低、增加損失的features特徵，重新建模訓練。\n",
        "\n",
        "\n",
        "> \n",
        "\n",
        "\n",
        "\n",
        "\n",
        "\n",
        "\n",
        "\n",
        "\n",
        "\n",
        "\n",
        "\n",
        "\n"
      ]
    },
    {
      "cell_type": "code",
      "metadata": {
        "id": "p-t6pvZman4_"
      },
      "source": [
        "# import numpy as np\n",
        "from eli5.permutation_importance import get_score_importances\n",
        "\n",
        "# ... load data, define score function\n",
        "def score(X, y):\n",
        "    y_pred = np.argmax(model.predict(X), axis=1)\n",
        "    return accuracy_score(y, y_pred)\n",
        "\n",
        "lab=np.argmax(y_train,axis=1)\n",
        "base_score, score_decreases = get_score_importances(score, X_train.values, lab)\n",
        "feature_importances = np.mean(score_decreases, axis=0)\n",
        "\n"
      ],
      "execution_count": 129,
      "outputs": []
    },
    {
      "cell_type": "code",
      "metadata": {
        "id": "uz2cPz1KQtQy",
        "colab": {
          "base_uri": "https://localhost:8080/"
        },
        "outputId": "289e724d-2928-4038-f2d1-2a1fbd84ab88"
      },
      "source": [
        "# print(feature_importances)\n",
        "feature_importance_dict = {}\n",
        "for i, feature_name in enumerate(X.columns.values.tolist()) :\n",
        "\tfeature_importance_dict[feature_name]=feature_importances[i]\n",
        "\n",
        "# print(dict(sorted(feature_importance_dict.items(), key=lambda x:x[1],reverse=True)[:5]))\n",
        "sorted_fi = dict(sorted(feature_importance_dict.items(), key=lambda x:x[1],reverse=True))\n",
        "for name,i in sorted_fi.items():\n",
        "  print(name, i)"
      ],
      "execution_count": 130,
      "outputs": [
        {
          "output_type": "stream",
          "text": [
            "第五穴壓力檢測 0.027736867943053523\n",
            "第七穴壓力檢測 0.021894943544428114\n",
            "加熱箱五水道溫度 0.002994599901816386\n",
            "第八穴壓力檢測 0.0021600392734413276\n",
            "最多成型時間 0.0014400261822942184\n",
            "第一穴壓力檢測 0.001161839306169199\n",
            "第六穴壓力檢測 0.0008836524300441795\n",
            "加熱箱八水道溫度 0.0008672884961544725\n",
            "高壓壓力 0.0005072819505809179\n",
            "第三穴壓力檢測 0.0004090983472426757\n",
            "加熱箱七水道溫度 0.0002945508100147265\n",
            "第二層燈管加熱% 0.00013091147111765622\n",
            "第三層燈管加熱% 4.909180166912108e-05\n",
            "第四層燈管加熱% 1.6363933889707027e-05\n",
            "回收壓力 0.0\n",
            "破瓶數增加 0.0\n",
            "低壓壓力 -3.2727867779414055e-05\n",
            "預吹壓力 -3.2727867779414055e-05\n",
            "破瓶數量 -0.00011454753722794919\n",
            "第五層燈管加熱% -0.00013091147111765622\n",
            "第七層燈管加熱% -0.00013091147111765622\n",
            "破瓶壓力檢測值設定 -0.00013091147111765622\n",
            "第六層燈管加熱% -0.0001800032727867773\n",
            "第八層燈管加熱% -0.00021273114056619136\n",
            "加熱箱二水道溫度 -0.000621829487808867\n",
            "加熱箱四水道溫度 -0.0006545573555882811\n",
            "加熱箱三水道溫度 -0.0008345606283750584\n",
            "第一層燈管加熱% -0.0009000163639338865\n",
            "滾筒速度 -0.0009327442317133006\n",
            "加熱箱一水道溫度 -0.0009654720994927146\n",
            "加熱箱六水道溫度 -0.0010963835706103708\n",
            "第二穴壓力檢測 -0.0018654884634266011\n",
            "第四穴壓力檢測 -0.002274586810669277\n"
          ],
          "name": "stdout"
        }
      ]
    }
  ]
}