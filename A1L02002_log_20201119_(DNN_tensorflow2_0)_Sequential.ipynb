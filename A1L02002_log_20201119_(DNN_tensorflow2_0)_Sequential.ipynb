{
  "nbformat": 4,
  "nbformat_minor": 0,
  "metadata": {
    "colab": {
      "name": "A1L02002_log_20201119 (DNN-tensorflow2.0)-Sequential.ipynb",
      "provenance": [],
      "collapsed_sections": [],
      "toc_visible": true,
      "authorship_tag": "ABX9TyPYJCir2BGCPty2WNUQR/zu",
      "include_colab_link": true
    },
    "kernelspec": {
      "name": "python3",
      "display_name": "Python 3"
    }
  },
  "cells": [
    {
      "cell_type": "markdown",
      "metadata": {
        "id": "view-in-github",
        "colab_type": "text"
      },
      "source": [
        "<a href=\"https://colab.research.google.com/github/tempzeba/iot_test_public/blob/main/A1L02002_log_20201119_(DNN_tensorflow2_0)_Sequential.ipynb\" target=\"_parent\"><img src=\"https://colab.research.google.com/assets/colab-badge.svg\" alt=\"Open In Colab\"/></a>"
      ]
    },
    {
      "cell_type": "markdown",
      "metadata": {
        "id": "1Y0w5q6AUmMa"
      },
      "source": [
        "## 0) 程式說明\n",
        "### 目的：A1L02002 IOT異常分析\n",
        "### 運行環境："
      ]
    },
    {
      "cell_type": "code",
      "metadata": {
        "colab": {
          "base_uri": "https://localhost:8080/"
        },
        "id": "JhSdZF2NW8Xs",
        "outputId": "ff7f2fb3-602c-408e-a6fe-2b0c5b3c0a06"
      },
      "source": [
        "import sys\n",
        "print(\"python版本:%s\"% sys.version)"
      ],
      "execution_count": null,
      "outputs": [
        {
          "output_type": "stream",
          "text": [
            "python版本:3.6.9 (default, Oct  8 2020, 12:12:24) \n",
            "[GCC 8.4.0]\n"
          ],
          "name": "stdout"
        }
      ]
    },
    {
      "cell_type": "code",
      "metadata": {
        "id": "bIVId25Van3a"
      },
      "source": [
        "import warnings\n",
        "import pandas as pd\n",
        "import numpy as np\n",
        "import matplotlib.pyplot as plt\n",
        "warnings.filterwarnings(\"ignore\")"
      ],
      "execution_count": null,
      "outputs": []
    },
    {
      "cell_type": "markdown",
      "metadata": {
        "id": "a5wddLSban3o"
      },
      "source": [
        "## 1) 載入資料集"
      ]
    },
    {
      "cell_type": "code",
      "metadata": {
        "id": "GA-bjU2pan3p",
        "colab": {
          "base_uri": "https://localhost:8080/",
          "height": 1000
        },
        "outputId": "d28ad48f-475d-489d-e377-9039ad9aadc5"
      },
      "source": [
        "# df_train = pd.read_csv('./data/Iris.csv')\n",
        "df_train = pd.read_csv('https://github.com/tempzeba/iot_test_public/releases/download/iot_data/A1L02002_log_01.csv', sep='\\t')\n",
        "df_train = df_train.drop(labels=[r'收集日期', \n",
        "r'抽樣秒', \n",
        "r'位址區段E32768紀錄時間', \n",
        "r'位址區段G32768紀錄時間', \n",
        "r'位址區段G12288紀錄時間',\n",
        "r'機台編號',\n",
        "r'目前生產配方'\n",
        ",\n",
        " '壓力檢測啟動',\n",
        " 'Cycle_Time',\n",
        " '第一穴預吹延遲',\n",
        " '第二穴預吹延遲',\n",
        " '第三穴預吹延遲',\n",
        " '第四穴預吹延遲',\n",
        " '第五穴預吹延遲',\n",
        " '第六穴預吹延遲',\n",
        " '第七穴預吹延遲',\n",
        " '第八穴預吹延遲',\n",
        " '第九穴預吹延遲',\n",
        " '第十穴預吹延遲',\n",
        " '第一穴高壓延遲',\n",
        " '第二穴高壓延遲',\n",
        " '第三穴高壓延遲',\n",
        " '第四穴高壓延遲',\n",
        " '第五穴高壓延遲',\n",
        " '第六穴高壓延遲',\n",
        " '第七穴高壓延遲',\n",
        " '第八穴高壓延遲',\n",
        " '第九穴高壓延遲',\n",
        " '第十穴高壓延遲',\n",
        " '第一穴吹高壓時間',\n",
        " '第二穴吹高壓時間',\n",
        " '第三穴吹高壓時間',\n",
        " '第四穴吹高壓時間',\n",
        " '第五穴吹高壓時間',\n",
        " '第六穴吹高壓時間',\n",
        " '第七穴吹高壓時間',\n",
        " '第八穴吹高壓時間',\n",
        " '第九穴吹高壓時間',\n",
        " '第十穴吹高壓時間',\n",
        " '第一穴排氣時間',\n",
        " '第二穴排氣時間',\n",
        " '第三穴排氣時間',\n",
        " '第四穴排氣時間',\n",
        " '第五穴排氣時間',\n",
        " '第六穴排氣時間',\n",
        " '第七穴排氣時間',\n",
        " '第八穴排氣時間',\n",
        " '第九穴排氣時間',\n",
        " '第十穴排氣時間',\n",
        " '第九層燈管加熱%',\n",
        " '第十層燈管加熱%',\n",
        " '產能',\n",
        " '吹氣鼓風機轉速',\n",
        " '吸氣鼓風機轉速',\n",
        " '自轉馬達轉速',\n",
        " '整列滾筒調速',\n",
        " '牙口鼓風機轉速',\n",
        " '入胚啟動位置',\n",
        " '入胚啟動延時',\n",
        " '震動馬達震動時間',\n",
        " '震動馬達震動循環時間',\n",
        " '第九穴壓力檢測',\n",
        " '第十穴壓力檢測',\n",
        "#  '破瓶數增加',\n",
        " '入胚啟動',\n",
        " '加熱啟動',\n",
        " '吹瓶啟動',\n",
        " '機台異常或無異常',\n",
        " '自動或手動',\n",
        " '總生產數量',\n",
        " '機台是否正常(0~59s)'\n",
        "\n",
        "],axis=1) \n",
        "\n",
        "# 調整資料集\n",
        "# 1. 只取有異常部分\n",
        "# 2. 計算有異常資料筆數\n",
        "# 3. 從無異常資料隨機抽出k筆資料與異常資料合併作為投入模型的資料集。k=異常資料筆數\n",
        "mask = df_train[r'異常代碼'] > 0\n",
        "target_count = mask.sum()\n",
        "df_train_noerr = df_train[df_train[r'異常代碼'] == 0].sample(n=target_count,random_state=123,axis=0)\n",
        "df_train = df_train[mask]\n",
        "df_train = df_train.append(df_train_noerr)\n",
        "df_train.describe().transpose()"
      ],
      "execution_count": null,
      "outputs": [
        {
          "output_type": "execute_result",
          "data": {
            "text/html": [
              "<div>\n",
              "<style scoped>\n",
              "    .dataframe tbody tr th:only-of-type {\n",
              "        vertical-align: middle;\n",
              "    }\n",
              "\n",
              "    .dataframe tbody tr th {\n",
              "        vertical-align: top;\n",
              "    }\n",
              "\n",
              "    .dataframe thead th {\n",
              "        text-align: right;\n",
              "    }\n",
              "</style>\n",
              "<table border=\"1\" class=\"dataframe\">\n",
              "  <thead>\n",
              "    <tr style=\"text-align: right;\">\n",
              "      <th></th>\n",
              "      <th>count</th>\n",
              "      <th>mean</th>\n",
              "      <th>std</th>\n",
              "      <th>min</th>\n",
              "      <th>25%</th>\n",
              "      <th>50%</th>\n",
              "      <th>75%</th>\n",
              "      <th>max</th>\n",
              "    </tr>\n",
              "  </thead>\n",
              "  <tbody>\n",
              "    <tr>\n",
              "      <th>低壓壓力</th>\n",
              "      <td>61836.0</td>\n",
              "      <td>8.767959</td>\n",
              "      <td>0.381238</td>\n",
              "      <td>0.0</td>\n",
              "      <td>8.5</td>\n",
              "      <td>8.6</td>\n",
              "      <td>8.8</td>\n",
              "      <td>11.2</td>\n",
              "    </tr>\n",
              "    <tr>\n",
              "      <th>高壓壓力</th>\n",
              "      <td>61836.0</td>\n",
              "      <td>32.157821</td>\n",
              "      <td>1.169327</td>\n",
              "      <td>0.0</td>\n",
              "      <td>31.6</td>\n",
              "      <td>32.2</td>\n",
              "      <td>32.8</td>\n",
              "      <td>34.0</td>\n",
              "    </tr>\n",
              "    <tr>\n",
              "      <th>回收壓力</th>\n",
              "      <td>61836.0</td>\n",
              "      <td>16.390746</td>\n",
              "      <td>1.232401</td>\n",
              "      <td>0.0</td>\n",
              "      <td>15.7</td>\n",
              "      <td>15.8</td>\n",
              "      <td>16.3</td>\n",
              "      <td>19.3</td>\n",
              "    </tr>\n",
              "    <tr>\n",
              "      <th>預吹壓力</th>\n",
              "      <td>61836.0</td>\n",
              "      <td>9.251389</td>\n",
              "      <td>0.530407</td>\n",
              "      <td>0.0</td>\n",
              "      <td>9.0</td>\n",
              "      <td>9.2</td>\n",
              "      <td>9.7</td>\n",
              "      <td>10.8</td>\n",
              "    </tr>\n",
              "    <tr>\n",
              "      <th>最多成型時間</th>\n",
              "      <td>61836.0</td>\n",
              "      <td>9945.454638</td>\n",
              "      <td>7454.828764</td>\n",
              "      <td>0.0</td>\n",
              "      <td>7110.0</td>\n",
              "      <td>7200.0</td>\n",
              "      <td>13530.0</td>\n",
              "      <td>34454.0</td>\n",
              "    </tr>\n",
              "    <tr>\n",
              "      <th>第一層燈管加熱%</th>\n",
              "      <td>61836.0</td>\n",
              "      <td>68.059714</td>\n",
              "      <td>5.897641</td>\n",
              "      <td>0.0</td>\n",
              "      <td>61.5</td>\n",
              "      <td>69.0</td>\n",
              "      <td>72.0</td>\n",
              "      <td>95.0</td>\n",
              "    </tr>\n",
              "    <tr>\n",
              "      <th>第二層燈管加熱%</th>\n",
              "      <td>61836.0</td>\n",
              "      <td>61.963937</td>\n",
              "      <td>7.199523</td>\n",
              "      <td>0.0</td>\n",
              "      <td>54.0</td>\n",
              "      <td>65.0</td>\n",
              "      <td>67.0</td>\n",
              "      <td>76.0</td>\n",
              "    </tr>\n",
              "    <tr>\n",
              "      <th>第三層燈管加熱%</th>\n",
              "      <td>61836.0</td>\n",
              "      <td>34.516617</td>\n",
              "      <td>9.550270</td>\n",
              "      <td>0.0</td>\n",
              "      <td>26.0</td>\n",
              "      <td>31.0</td>\n",
              "      <td>45.0</td>\n",
              "      <td>60.0</td>\n",
              "    </tr>\n",
              "    <tr>\n",
              "      <th>第四層燈管加熱%</th>\n",
              "      <td>61836.0</td>\n",
              "      <td>31.364860</td>\n",
              "      <td>10.837608</td>\n",
              "      <td>0.0</td>\n",
              "      <td>23.0</td>\n",
              "      <td>24.0</td>\n",
              "      <td>45.0</td>\n",
              "      <td>63.0</td>\n",
              "    </tr>\n",
              "    <tr>\n",
              "      <th>第五層燈管加熱%</th>\n",
              "      <td>61836.0</td>\n",
              "      <td>50.024694</td>\n",
              "      <td>7.814662</td>\n",
              "      <td>0.0</td>\n",
              "      <td>45.5</td>\n",
              "      <td>47.0</td>\n",
              "      <td>54.5</td>\n",
              "      <td>85.0</td>\n",
              "    </tr>\n",
              "    <tr>\n",
              "      <th>第六層燈管加熱%</th>\n",
              "      <td>61836.0</td>\n",
              "      <td>70.227877</td>\n",
              "      <td>19.471666</td>\n",
              "      <td>0.0</td>\n",
              "      <td>47.0</td>\n",
              "      <td>85.0</td>\n",
              "      <td>86.0</td>\n",
              "      <td>93.0</td>\n",
              "    </tr>\n",
              "    <tr>\n",
              "      <th>第七層燈管加熱%</th>\n",
              "      <td>61836.0</td>\n",
              "      <td>23.958414</td>\n",
              "      <td>28.708215</td>\n",
              "      <td>0.0</td>\n",
              "      <td>0.0</td>\n",
              "      <td>0.0</td>\n",
              "      <td>56.0</td>\n",
              "      <td>85.0</td>\n",
              "    </tr>\n",
              "    <tr>\n",
              "      <th>第八層燈管加熱%</th>\n",
              "      <td>61836.0</td>\n",
              "      <td>24.773740</td>\n",
              "      <td>29.636013</td>\n",
              "      <td>0.0</td>\n",
              "      <td>0.0</td>\n",
              "      <td>0.0</td>\n",
              "      <td>60.0</td>\n",
              "      <td>61.0</td>\n",
              "    </tr>\n",
              "    <tr>\n",
              "      <th>滾筒速度</th>\n",
              "      <td>61836.0</td>\n",
              "      <td>397.038618</td>\n",
              "      <td>118.682173</td>\n",
              "      <td>0.0</td>\n",
              "      <td>350.0</td>\n",
              "      <td>370.0</td>\n",
              "      <td>500.0</td>\n",
              "      <td>3000.0</td>\n",
              "    </tr>\n",
              "    <tr>\n",
              "      <th>第一穴壓力檢測</th>\n",
              "      <td>61836.0</td>\n",
              "      <td>20.574690</td>\n",
              "      <td>14.548259</td>\n",
              "      <td>0.0</td>\n",
              "      <td>0.0</td>\n",
              "      <td>29.9</td>\n",
              "      <td>31.5</td>\n",
              "      <td>33.5</td>\n",
              "    </tr>\n",
              "    <tr>\n",
              "      <th>第二穴壓力檢測</th>\n",
              "      <td>61836.0</td>\n",
              "      <td>19.078006</td>\n",
              "      <td>14.948467</td>\n",
              "      <td>0.0</td>\n",
              "      <td>0.0</td>\n",
              "      <td>28.9</td>\n",
              "      <td>31.5</td>\n",
              "      <td>33.5</td>\n",
              "    </tr>\n",
              "    <tr>\n",
              "      <th>第三穴壓力檢測</th>\n",
              "      <td>61836.0</td>\n",
              "      <td>18.499193</td>\n",
              "      <td>14.924750</td>\n",
              "      <td>0.0</td>\n",
              "      <td>0.0</td>\n",
              "      <td>28.3</td>\n",
              "      <td>30.8</td>\n",
              "      <td>33.3</td>\n",
              "    </tr>\n",
              "    <tr>\n",
              "      <th>第四穴壓力檢測</th>\n",
              "      <td>61836.0</td>\n",
              "      <td>14.476274</td>\n",
              "      <td>15.021796</td>\n",
              "      <td>0.0</td>\n",
              "      <td>0.0</td>\n",
              "      <td>0.0</td>\n",
              "      <td>30.6</td>\n",
              "      <td>33.2</td>\n",
              "    </tr>\n",
              "    <tr>\n",
              "      <th>第五穴壓力檢測</th>\n",
              "      <td>61836.0</td>\n",
              "      <td>9.667202</td>\n",
              "      <td>13.885382</td>\n",
              "      <td>0.0</td>\n",
              "      <td>0.0</td>\n",
              "      <td>0.0</td>\n",
              "      <td>28.1</td>\n",
              "      <td>33.2</td>\n",
              "    </tr>\n",
              "    <tr>\n",
              "      <th>第六穴壓力檢測</th>\n",
              "      <td>61836.0</td>\n",
              "      <td>8.795946</td>\n",
              "      <td>13.448691</td>\n",
              "      <td>0.0</td>\n",
              "      <td>0.0</td>\n",
              "      <td>0.0</td>\n",
              "      <td>28.3</td>\n",
              "      <td>32.6</td>\n",
              "    </tr>\n",
              "    <tr>\n",
              "      <th>第七穴壓力檢測</th>\n",
              "      <td>61836.0</td>\n",
              "      <td>6.053239</td>\n",
              "      <td>11.909546</td>\n",
              "      <td>0.0</td>\n",
              "      <td>0.0</td>\n",
              "      <td>0.0</td>\n",
              "      <td>0.0</td>\n",
              "      <td>32.5</td>\n",
              "    </tr>\n",
              "    <tr>\n",
              "      <th>第八穴壓力檢測</th>\n",
              "      <td>61836.0</td>\n",
              "      <td>5.395964</td>\n",
              "      <td>11.433115</td>\n",
              "      <td>0.0</td>\n",
              "      <td>0.0</td>\n",
              "      <td>0.0</td>\n",
              "      <td>0.0</td>\n",
              "      <td>32.9</td>\n",
              "    </tr>\n",
              "    <tr>\n",
              "      <th>破瓶壓力檢測值設定</th>\n",
              "      <td>61836.0</td>\n",
              "      <td>23.163384</td>\n",
              "      <td>8.382733</td>\n",
              "      <td>0.0</td>\n",
              "      <td>25.0</td>\n",
              "      <td>26.0</td>\n",
              "      <td>26.0</td>\n",
              "      <td>40.0</td>\n",
              "    </tr>\n",
              "    <tr>\n",
              "      <th>加熱箱一水道溫度</th>\n",
              "      <td>61836.0</td>\n",
              "      <td>39.038233</td>\n",
              "      <td>15.042091</td>\n",
              "      <td>0.0</td>\n",
              "      <td>28.1</td>\n",
              "      <td>30.8</td>\n",
              "      <td>44.9</td>\n",
              "      <td>82.1</td>\n",
              "    </tr>\n",
              "    <tr>\n",
              "      <th>加熱箱二水道溫度</th>\n",
              "      <td>61836.0</td>\n",
              "      <td>39.571560</td>\n",
              "      <td>15.019092</td>\n",
              "      <td>0.0</td>\n",
              "      <td>27.8</td>\n",
              "      <td>32.8</td>\n",
              "      <td>46.3</td>\n",
              "      <td>84.1</td>\n",
              "    </tr>\n",
              "    <tr>\n",
              "      <th>加熱箱三水道溫度</th>\n",
              "      <td>61836.0</td>\n",
              "      <td>40.642980</td>\n",
              "      <td>15.954154</td>\n",
              "      <td>0.0</td>\n",
              "      <td>28.3</td>\n",
              "      <td>32.8</td>\n",
              "      <td>48.1</td>\n",
              "      <td>89.0</td>\n",
              "    </tr>\n",
              "    <tr>\n",
              "      <th>加熱箱四水道溫度</th>\n",
              "      <td>61836.0</td>\n",
              "      <td>39.600120</td>\n",
              "      <td>13.911283</td>\n",
              "      <td>0.0</td>\n",
              "      <td>29.1</td>\n",
              "      <td>32.3</td>\n",
              "      <td>46.1</td>\n",
              "      <td>83.3</td>\n",
              "    </tr>\n",
              "    <tr>\n",
              "      <th>加熱箱五水道溫度</th>\n",
              "      <td>61836.0</td>\n",
              "      <td>38.037035</td>\n",
              "      <td>13.279778</td>\n",
              "      <td>0.0</td>\n",
              "      <td>28.3</td>\n",
              "      <td>31.4</td>\n",
              "      <td>43.9</td>\n",
              "      <td>75.9</td>\n",
              "    </tr>\n",
              "    <tr>\n",
              "      <th>加熱箱六水道溫度</th>\n",
              "      <td>61836.0</td>\n",
              "      <td>39.066463</td>\n",
              "      <td>13.541261</td>\n",
              "      <td>0.0</td>\n",
              "      <td>28.9</td>\n",
              "      <td>32.1</td>\n",
              "      <td>45.9</td>\n",
              "      <td>80.6</td>\n",
              "    </tr>\n",
              "    <tr>\n",
              "      <th>加熱箱七水道溫度</th>\n",
              "      <td>61836.0</td>\n",
              "      <td>40.238917</td>\n",
              "      <td>14.613555</td>\n",
              "      <td>0.0</td>\n",
              "      <td>29.1</td>\n",
              "      <td>33.1</td>\n",
              "      <td>47.3</td>\n",
              "      <td>83.1</td>\n",
              "    </tr>\n",
              "    <tr>\n",
              "      <th>加熱箱八水道溫度</th>\n",
              "      <td>61836.0</td>\n",
              "      <td>36.925691</td>\n",
              "      <td>10.881908</td>\n",
              "      <td>0.0</td>\n",
              "      <td>29.1</td>\n",
              "      <td>31.1</td>\n",
              "      <td>41.6</td>\n",
              "      <td>77.3</td>\n",
              "    </tr>\n",
              "    <tr>\n",
              "      <th>破瓶數量</th>\n",
              "      <td>61836.0</td>\n",
              "      <td>329.582557</td>\n",
              "      <td>164.744088</td>\n",
              "      <td>0.0</td>\n",
              "      <td>231.0</td>\n",
              "      <td>231.0</td>\n",
              "      <td>575.0</td>\n",
              "      <td>606.0</td>\n",
              "    </tr>\n",
              "    <tr>\n",
              "      <th>異常代碼</th>\n",
              "      <td>61836.0</td>\n",
              "      <td>36.326671</td>\n",
              "      <td>63.220060</td>\n",
              "      <td>0.0</td>\n",
              "      <td>0.0</td>\n",
              "      <td>0.5</td>\n",
              "      <td>38.0</td>\n",
              "      <td>204.0</td>\n",
              "    </tr>\n",
              "    <tr>\n",
              "      <th>破瓶數增加</th>\n",
              "      <td>61836.0</td>\n",
              "      <td>0.000065</td>\n",
              "      <td>0.008043</td>\n",
              "      <td>0.0</td>\n",
              "      <td>0.0</td>\n",
              "      <td>0.0</td>\n",
              "      <td>0.0</td>\n",
              "      <td>1.0</td>\n",
              "    </tr>\n",
              "  </tbody>\n",
              "</table>\n",
              "</div>"
            ],
            "text/plain": [
              "             count         mean          std  ...     50%      75%      max\n",
              "低壓壓力       61836.0     8.767959     0.381238  ...     8.6      8.8     11.2\n",
              "高壓壓力       61836.0    32.157821     1.169327  ...    32.2     32.8     34.0\n",
              "回收壓力       61836.0    16.390746     1.232401  ...    15.8     16.3     19.3\n",
              "預吹壓力       61836.0     9.251389     0.530407  ...     9.2      9.7     10.8\n",
              "最多成型時間     61836.0  9945.454638  7454.828764  ...  7200.0  13530.0  34454.0\n",
              "第一層燈管加熱%   61836.0    68.059714     5.897641  ...    69.0     72.0     95.0\n",
              "第二層燈管加熱%   61836.0    61.963937     7.199523  ...    65.0     67.0     76.0\n",
              "第三層燈管加熱%   61836.0    34.516617     9.550270  ...    31.0     45.0     60.0\n",
              "第四層燈管加熱%   61836.0    31.364860    10.837608  ...    24.0     45.0     63.0\n",
              "第五層燈管加熱%   61836.0    50.024694     7.814662  ...    47.0     54.5     85.0\n",
              "第六層燈管加熱%   61836.0    70.227877    19.471666  ...    85.0     86.0     93.0\n",
              "第七層燈管加熱%   61836.0    23.958414    28.708215  ...     0.0     56.0     85.0\n",
              "第八層燈管加熱%   61836.0    24.773740    29.636013  ...     0.0     60.0     61.0\n",
              "滾筒速度       61836.0   397.038618   118.682173  ...   370.0    500.0   3000.0\n",
              "第一穴壓力檢測    61836.0    20.574690    14.548259  ...    29.9     31.5     33.5\n",
              "第二穴壓力檢測    61836.0    19.078006    14.948467  ...    28.9     31.5     33.5\n",
              "第三穴壓力檢測    61836.0    18.499193    14.924750  ...    28.3     30.8     33.3\n",
              "第四穴壓力檢測    61836.0    14.476274    15.021796  ...     0.0     30.6     33.2\n",
              "第五穴壓力檢測    61836.0     9.667202    13.885382  ...     0.0     28.1     33.2\n",
              "第六穴壓力檢測    61836.0     8.795946    13.448691  ...     0.0     28.3     32.6\n",
              "第七穴壓力檢測    61836.0     6.053239    11.909546  ...     0.0      0.0     32.5\n",
              "第八穴壓力檢測    61836.0     5.395964    11.433115  ...     0.0      0.0     32.9\n",
              "破瓶壓力檢測值設定  61836.0    23.163384     8.382733  ...    26.0     26.0     40.0\n",
              "加熱箱一水道溫度   61836.0    39.038233    15.042091  ...    30.8     44.9     82.1\n",
              "加熱箱二水道溫度   61836.0    39.571560    15.019092  ...    32.8     46.3     84.1\n",
              "加熱箱三水道溫度   61836.0    40.642980    15.954154  ...    32.8     48.1     89.0\n",
              "加熱箱四水道溫度   61836.0    39.600120    13.911283  ...    32.3     46.1     83.3\n",
              "加熱箱五水道溫度   61836.0    38.037035    13.279778  ...    31.4     43.9     75.9\n",
              "加熱箱六水道溫度   61836.0    39.066463    13.541261  ...    32.1     45.9     80.6\n",
              "加熱箱七水道溫度   61836.0    40.238917    14.613555  ...    33.1     47.3     83.1\n",
              "加熱箱八水道溫度   61836.0    36.925691    10.881908  ...    31.1     41.6     77.3\n",
              "破瓶數量       61836.0   329.582557   164.744088  ...   231.0    575.0    606.0\n",
              "異常代碼       61836.0    36.326671    63.220060  ...     0.5     38.0    204.0\n",
              "破瓶數增加      61836.0     0.000065     0.008043  ...     0.0      0.0      1.0\n",
              "\n",
              "[34 rows x 8 columns]"
            ]
          },
          "metadata": {
            "tags": []
          },
          "execution_count": 3
        }
      ]
    },
    {
      "cell_type": "markdown",
      "metadata": {
        "id": "r1M7a4iian3u"
      },
      "source": [
        "## 2) 手動編碼\n",
        "處理名目資料 (Nominal variables) - 資料前處理\n",
        "依據特徵資料的特性，可以選擇手動編碼或自動編碼。\n",
        "\n",
        "### 使用編碼時機?\n",
        "進行深度學習時，神經網路只能處理數值資料。因此我們需要將所有非數字型態的特徵進行轉換。\n",
        "\n",
        "### 註：\n",
        "略。(IOT原始資料已經一次前處理)"
      ]
    },
    {
      "cell_type": "markdown",
      "metadata": {
        "id": "txpEEPgAan36"
      },
      "source": [
        "## 3) 檢查缺失值\n",
        "使用 numpy 所提供的函式來檢查是否有 NA 缺失值，假設有缺失值使用dropna()來移除。使用的時機在於當只有少量的缺失值適用，若遇到有大量缺失值的情況，或是本身的資料量就很少的情況下建議可以透過機器學習的方法補值來預測缺失值。\n",
        "### 註：\n",
        "略。(IOT原始資料已經一次前處理)"
      ]
    },
    {
      "cell_type": "markdown",
      "metadata": {
        "id": "gNBeqTcUan4A"
      },
      "source": [
        "## 4) 將輸出特徵做one-hot encoding\n",
        "如何對欄位class做one-hot encoding？"
      ]
    },
    {
      "cell_type": "code",
      "metadata": {
        "id": "iQFh4fj0an4C",
        "colab": {
          "base_uri": "https://localhost:8080/"
        },
        "outputId": "eee48623-36fc-4923-d18d-88f86330e892"
      },
      "source": [
        "from tensorflow.keras.utils import to_categorical\n",
        "y = to_categorical(df_train[r'異常代碼'])\n",
        "y"
      ],
      "execution_count": null,
      "outputs": [
        {
          "output_type": "execute_result",
          "data": {
            "text/plain": [
              "array([[0., 0., 1., ..., 0., 0., 0.],\n",
              "       [0., 0., 1., ..., 0., 0., 0.],\n",
              "       [0., 0., 1., ..., 0., 0., 0.],\n",
              "       ...,\n",
              "       [1., 0., 0., ..., 0., 0., 0.],\n",
              "       [1., 0., 0., ..., 0., 0., 0.],\n",
              "       [1., 0., 0., ..., 0., 0., 0.]], dtype=float32)"
            ]
          },
          "metadata": {
            "tags": []
          },
          "execution_count": 4
        }
      ]
    },
    {
      "cell_type": "markdown",
      "metadata": {
        "id": "_OclZM7Wan4I"
      },
      "source": [
        "## 5) 切割訓練集與測試集"
      ]
    },
    {
      "cell_type": "markdown",
      "metadata": {
        "id": "JSw4NVQLwdvU"
      },
      "source": [
        ""
      ]
    },
    {
      "cell_type": "code",
      "metadata": {
        "id": "hjDEttMPan4J",
        "colab": {
          "base_uri": "https://localhost:8080/"
        },
        "outputId": "fa0c2216-6318-4f38-daaa-cc82c85c4dad"
      },
      "source": [
        "pd.set_option('max_row',300)\n",
        "# X=df_train.drop(labels=['Class'],axis=1)\n",
        "X=df_train.drop(columns=[r'異常代碼'])\n",
        "# X.isna().sum().sum()\n",
        "# X\n",
        "mask = X.describe().transpose()['std']==0\n",
        "X.describe().transpose()[mask].index.tolist()\n",
        "# X.describe().transpose().columns.tolist()\n"
      ],
      "execution_count": null,
      "outputs": [
        {
          "output_type": "execute_result",
          "data": {
            "text/plain": [
              "[]"
            ]
          },
          "metadata": {
            "tags": []
          },
          "execution_count": 5
        }
      ]
    },
    {
      "cell_type": "code",
      "metadata": {
        "id": "rKl7fICTan4Q"
      },
      "source": [
        "from sklearn.model_selection import train_test_split\n",
        "X_train , X_test , y_train , y_test = train_test_split(X,y , test_size=.3 , random_state=40)"
      ],
      "execution_count": null,
      "outputs": []
    },
    {
      "cell_type": "code",
      "metadata": {
        "id": "8Ovl96zhan4T",
        "colab": {
          "base_uri": "https://localhost:8080/"
        },
        "outputId": "0dcbfb2f-315c-476c-ea93-cbbf5e19006b"
      },
      "source": [
        "print('訓練資料: ',X_train.shape)\n",
        "print('測試資料: ',X_test.shape)\n",
        "# X_train"
      ],
      "execution_count": null,
      "outputs": [
        {
          "output_type": "stream",
          "text": [
            "訓練資料:  (43285, 33)\n",
            "測試資料:  (18551, 33)\n"
          ],
          "name": "stdout"
        }
      ]
    },
    {
      "cell_type": "markdown",
      "metadata": {
        "id": "qB6zvYgJan4Z"
      },
      "source": [
        "## 6) 建立網路模型"
      ]
    },
    {
      "cell_type": "code",
      "metadata": {
        "id": "aJvDPRx5an4Z",
        "colab": {
          "base_uri": "https://localhost:8080/"
        },
        "outputId": "2bfece1c-5029-4cf5-b75f-5d7948c1855b"
      },
      "source": [
        "import tensorflow as tf\n",
        "from tensorflow.keras.layers import Dense, Activation\n",
        "from tensorflow.keras import Sequential\n",
        "from tensorflow.keras.optimizers import Adam\n",
        "\n",
        "print(tf.__version__)"
      ],
      "execution_count": null,
      "outputs": [
        {
          "output_type": "stream",
          "text": [
            "2.3.0\n"
          ],
          "name": "stdout"
        }
      ]
    },
    {
      "cell_type": "code",
      "metadata": {
        "id": "Q30p2WHxan4d"
      },
      "source": [
        "# 此範例使用 Tensorflow2.0 Sequential API 搭建神經網路。\n",
        "model = Sequential()\n",
        "model.add(Dense(8, Activation('relu'), input_dim=X.shape[-1]))\n",
        "model.add(Dense(16, Activation('relu')))\n",
        "model.add(Dense(205, Activation('softmax')))"
      ],
      "execution_count": null,
      "outputs": []
    },
    {
      "cell_type": "code",
      "metadata": {
        "id": "gCfdh7Lgan4h",
        "colab": {
          "base_uri": "https://localhost:8080/"
        },
        "outputId": "c16009d1-8327-4048-e477-188102b75b65"
      },
      "source": [
        "model.summary()   # Weights = (4+1)*8+(8+1)*16+(16+1)*3"
      ],
      "execution_count": null,
      "outputs": [
        {
          "output_type": "stream",
          "text": [
            "Model: \"sequential_1\"\n",
            "_________________________________________________________________\n",
            "Layer (type)                 Output Shape              Param #   \n",
            "=================================================================\n",
            "dense_3 (Dense)              (None, 8)                 272       \n",
            "_________________________________________________________________\n",
            "dense_4 (Dense)              (None, 16)                144       \n",
            "_________________________________________________________________\n",
            "dense_5 (Dense)              (None, 205)               3485      \n",
            "=================================================================\n",
            "Total params: 3,901\n",
            "Trainable params: 3,901\n",
            "Non-trainable params: 0\n",
            "_________________________________________________________________\n"
          ],
          "name": "stdout"
        }
      ]
    },
    {
      "cell_type": "code",
      "metadata": {
        "id": "86S7ALLTan4l",
        "colab": {
          "base_uri": "https://localhost:8080/"
        },
        "outputId": "aef48f71-3abd-4ab1-e9c7-8ee9c6444b73"
      },
      "source": [
        "# 編譯模型\n",
        "optim = Adam(lr=0.001)\n",
        "model.compile(loss='categorical_crossentropy',\n",
        "              optimizer=optim,\n",
        "              metrics=['acc'])\n",
        "\n",
        "batch_size=1000\n",
        "epochs = 50\n",
        "\n",
        "history = model.fit(X_train, y_train,\n",
        "                    batch_size=batch_size,\n",
        "                    epochs=epochs,\n",
        "                    verbose=1,\n",
        "                    shuffle=True,\n",
        "                    validation_split=0.1)\n"
      ],
      "execution_count": null,
      "outputs": [
        {
          "output_type": "stream",
          "text": [
            "Epoch 1/50\n",
            "39/39 [==============================] - 0s 11ms/step - loss: 1.9835 - acc: 0.6784 - val_loss: 1.0527 - val_acc: 0.7845\n",
            "Epoch 2/50\n",
            "39/39 [==============================] - 0s 7ms/step - loss: 0.8363 - acc: 0.7805 - val_loss: 0.7719 - val_acc: 0.7704\n",
            "Epoch 3/50\n",
            "39/39 [==============================] - 0s 7ms/step - loss: 0.7416 - acc: 0.7861 - val_loss: 0.7779 - val_acc: 0.7750\n",
            "Epoch 4/50\n",
            "39/39 [==============================] - 0s 7ms/step - loss: 0.7479 - acc: 0.7857 - val_loss: 0.8507 - val_acc: 0.7974\n",
            "Epoch 5/50\n",
            "39/39 [==============================] - 0s 7ms/step - loss: 0.7669 - acc: 0.7853 - val_loss: 0.7596 - val_acc: 0.7824\n",
            "Epoch 6/50\n",
            "39/39 [==============================] - 0s 7ms/step - loss: 0.7976 - acc: 0.7740 - val_loss: 0.8128 - val_acc: 0.7805\n",
            "Epoch 7/50\n",
            "39/39 [==============================] - 0s 7ms/step - loss: 0.8319 - acc: 0.7784 - val_loss: 0.8801 - val_acc: 0.7651\n",
            "Epoch 8/50\n",
            "39/39 [==============================] - 0s 7ms/step - loss: 0.8010 - acc: 0.7831 - val_loss: 0.8940 - val_acc: 0.7034\n",
            "Epoch 9/50\n",
            "39/39 [==============================] - 0s 7ms/step - loss: 0.7593 - acc: 0.7842 - val_loss: 0.7714 - val_acc: 0.7990\n",
            "Epoch 10/50\n",
            "39/39 [==============================] - 0s 6ms/step - loss: 0.7783 - acc: 0.7797 - val_loss: 0.7994 - val_acc: 0.7896\n",
            "Epoch 11/50\n",
            "39/39 [==============================] - 0s 7ms/step - loss: 0.7714 - acc: 0.7839 - val_loss: 0.8831 - val_acc: 0.6962\n",
            "Epoch 12/50\n",
            "39/39 [==============================] - 0s 7ms/step - loss: 0.7815 - acc: 0.7768 - val_loss: 0.7827 - val_acc: 0.7997\n",
            "Epoch 13/50\n",
            "39/39 [==============================] - 0s 7ms/step - loss: 0.8723 - acc: 0.7621 - val_loss: 0.9832 - val_acc: 0.7993\n",
            "Epoch 14/50\n",
            "39/39 [==============================] - 0s 7ms/step - loss: 0.8296 - acc: 0.7779 - val_loss: 0.8195 - val_acc: 0.7658\n",
            "Epoch 15/50\n",
            "39/39 [==============================] - 0s 6ms/step - loss: 0.8459 - acc: 0.7771 - val_loss: 0.8785 - val_acc: 0.7900\n",
            "Epoch 16/50\n",
            "39/39 [==============================] - 0s 7ms/step - loss: 0.7969 - acc: 0.7762 - val_loss: 0.8107 - val_acc: 0.7764\n",
            "Epoch 17/50\n",
            "39/39 [==============================] - 0s 7ms/step - loss: 0.8184 - acc: 0.7703 - val_loss: 0.8370 - val_acc: 0.7732\n",
            "Epoch 18/50\n",
            "39/39 [==============================] - 0s 7ms/step - loss: 0.8037 - acc: 0.7745 - val_loss: 0.9175 - val_acc: 0.7949\n",
            "Epoch 19/50\n",
            "39/39 [==============================] - 0s 7ms/step - loss: 0.7882 - acc: 0.7780 - val_loss: 0.8380 - val_acc: 0.8062\n",
            "Epoch 20/50\n",
            "39/39 [==============================] - 0s 7ms/step - loss: 0.7876 - acc: 0.7860 - val_loss: 0.8490 - val_acc: 0.8011\n",
            "Epoch 21/50\n",
            "39/39 [==============================] - 0s 7ms/step - loss: 0.9650 - acc: 0.7562 - val_loss: 0.9602 - val_acc: 0.6459\n",
            "Epoch 22/50\n",
            "39/39 [==============================] - 0s 7ms/step - loss: 0.8624 - acc: 0.7660 - val_loss: 0.8872 - val_acc: 0.7729\n",
            "Epoch 23/50\n",
            "39/39 [==============================] - 0s 7ms/step - loss: 0.8705 - acc: 0.7602 - val_loss: 0.9545 - val_acc: 0.7886\n",
            "Epoch 24/50\n",
            "39/39 [==============================] - 0s 7ms/step - loss: 0.8031 - acc: 0.7852 - val_loss: 0.8432 - val_acc: 0.7052\n",
            "Epoch 25/50\n",
            "39/39 [==============================] - 0s 7ms/step - loss: 0.7653 - acc: 0.7827 - val_loss: 0.7828 - val_acc: 0.7939\n",
            "Epoch 26/50\n",
            "39/39 [==============================] - 0s 7ms/step - loss: 0.7742 - acc: 0.7825 - val_loss: 0.7934 - val_acc: 0.7854\n",
            "Epoch 27/50\n",
            "39/39 [==============================] - 0s 6ms/step - loss: 0.7832 - acc: 0.7794 - val_loss: 0.7758 - val_acc: 0.7875\n",
            "Epoch 28/50\n",
            "39/39 [==============================] - 0s 6ms/step - loss: 0.7645 - acc: 0.7890 - val_loss: 0.7704 - val_acc: 0.7720\n",
            "Epoch 29/50\n",
            "39/39 [==============================] - 0s 7ms/step - loss: 0.7921 - acc: 0.7770 - val_loss: 0.8358 - val_acc: 0.7665\n",
            "Epoch 30/50\n",
            "39/39 [==============================] - 0s 7ms/step - loss: 0.8072 - acc: 0.7774 - val_loss: 0.8076 - val_acc: 0.7708\n",
            "Epoch 31/50\n",
            "39/39 [==============================] - 0s 7ms/step - loss: 0.7894 - acc: 0.7788 - val_loss: 0.7812 - val_acc: 0.7794\n",
            "Epoch 32/50\n",
            "39/39 [==============================] - 0s 7ms/step - loss: 0.8025 - acc: 0.7844 - val_loss: 0.8517 - val_acc: 0.7805\n",
            "Epoch 33/50\n",
            "39/39 [==============================] - 0s 7ms/step - loss: 0.8415 - acc: 0.7626 - val_loss: 0.8183 - val_acc: 0.7715\n",
            "Epoch 34/50\n",
            "39/39 [==============================] - 0s 7ms/step - loss: 0.8430 - acc: 0.7682 - val_loss: 0.9024 - val_acc: 0.7734\n",
            "Epoch 35/50\n",
            "39/39 [==============================] - 0s 7ms/step - loss: 0.7920 - acc: 0.7832 - val_loss: 0.9625 - val_acc: 0.6847\n",
            "Epoch 36/50\n",
            "39/39 [==============================] - 0s 7ms/step - loss: 0.7868 - acc: 0.7740 - val_loss: 0.8357 - val_acc: 0.7748\n",
            "Epoch 37/50\n",
            "39/39 [==============================] - 0s 7ms/step - loss: 0.7694 - acc: 0.7864 - val_loss: 0.7560 - val_acc: 0.7662\n",
            "Epoch 38/50\n",
            "39/39 [==============================] - 0s 7ms/step - loss: 0.7781 - acc: 0.7776 - val_loss: 0.8542 - val_acc: 0.7831\n",
            "Epoch 39/50\n",
            "39/39 [==============================] - 0s 6ms/step - loss: 0.7799 - acc: 0.7800 - val_loss: 0.7996 - val_acc: 0.7667\n",
            "Epoch 40/50\n",
            "39/39 [==============================] - 0s 7ms/step - loss: 0.8392 - acc: 0.7707 - val_loss: 0.8360 - val_acc: 0.7997\n",
            "Epoch 41/50\n",
            "39/39 [==============================] - 0s 7ms/step - loss: 0.7712 - acc: 0.7818 - val_loss: 0.7557 - val_acc: 0.7891\n",
            "Epoch 42/50\n",
            "39/39 [==============================] - 0s 7ms/step - loss: 0.7552 - acc: 0.7803 - val_loss: 0.8533 - val_acc: 0.7893\n",
            "Epoch 43/50\n",
            "39/39 [==============================] - 0s 7ms/step - loss: 0.8251 - acc: 0.7692 - val_loss: 0.7849 - val_acc: 0.7669\n",
            "Epoch 44/50\n",
            "39/39 [==============================] - 0s 7ms/step - loss: 0.8167 - acc: 0.7683 - val_loss: 0.8729 - val_acc: 0.7708\n",
            "Epoch 45/50\n",
            "39/39 [==============================] - 0s 7ms/step - loss: 0.8053 - acc: 0.7817 - val_loss: 0.8480 - val_acc: 0.7494\n",
            "Epoch 46/50\n",
            "39/39 [==============================] - 0s 7ms/step - loss: 0.7794 - acc: 0.7798 - val_loss: 0.8126 - val_acc: 0.7734\n",
            "Epoch 47/50\n",
            "39/39 [==============================] - 0s 7ms/step - loss: 0.7722 - acc: 0.7823 - val_loss: 0.7633 - val_acc: 0.7886\n",
            "Epoch 48/50\n",
            "39/39 [==============================] - 0s 7ms/step - loss: 0.7918 - acc: 0.7776 - val_loss: 0.8688 - val_acc: 0.7704\n",
            "Epoch 49/50\n",
            "39/39 [==============================] - 0s 7ms/step - loss: 0.8602 - acc: 0.7554 - val_loss: 0.7975 - val_acc: 0.7672\n",
            "Epoch 50/50\n",
            "39/39 [==============================] - 0s 7ms/step - loss: 0.8360 - acc: 0.7647 - val_loss: 0.9252 - val_acc: 0.7782\n"
          ],
          "name": "stdout"
        }
      ]
    },
    {
      "cell_type": "markdown",
      "metadata": {
        "id": "pG1O5ymTan4s"
      },
      "source": [
        "## 7) 觀察訓練結果"
      ]
    },
    {
      "cell_type": "code",
      "metadata": {
        "id": "OFUTBafCan4u"
      },
      "source": [
        "import matplotlib.pyplot as plt\n",
        "\n",
        "history_dict = history.history\n",
        "history_dict.keys()\n",
        "acc = history_dict['acc']\n",
        "val_acc = history_dict['val_acc']\n",
        "loss = history_dict['loss']\n",
        "val_loss = history_dict['val_loss']\n",
        "epochs_ = range(1,len(acc)+1)"
      ],
      "execution_count": null,
      "outputs": []
    },
    {
      "cell_type": "code",
      "metadata": {
        "id": "C5PL5GAwan4x",
        "colab": {
          "base_uri": "https://localhost:8080/",
          "height": 295
        },
        "outputId": "1b3b4b4a-a3f7-4890-c1fe-9752fbc0db5f"
      },
      "source": [
        "plt.plot(epochs_ , loss , label = 'training loss')\n",
        "plt.plot(epochs_ , val_loss , label = 'val los')\n",
        "plt.title('training and val loss')\n",
        "plt.xlabel('epochs')\n",
        "plt.ylabel('loss')\n",
        "plt.legend()\n",
        "plt.show()"
      ],
      "execution_count": null,
      "outputs": [
        {
          "output_type": "display_data",
          "data": {
            "image/png": "[encoded data removed]",
            "text/plain": [
              "<Figure size 432x288 with 1 Axes>"
            ]
          },
          "metadata": {
            "tags": [],
            "needs_background": "light"
          }
        }
      ]
    },
    {
      "cell_type": "code",
      "metadata": {
        "id": "Ketuv_Bvan43",
        "colab": {
          "base_uri": "https://localhost:8080/",
          "height": 295
        },
        "outputId": "f12633de-4c79-424d-a31d-3369025aaffa"
      },
      "source": [
        "plt.clf()\n",
        "plt.plot(epochs_ , acc , label='train accuracy')\n",
        "plt.plot(epochs_ , val_acc , label = 'val accuracy')\n",
        "plt.title('train and val acc')\n",
        "plt.xlabel('epochs')\n",
        "plt.ylabel('acc')\n",
        "plt.legend()\n",
        "plt.show()"
      ],
      "execution_count": null,
      "outputs": [
        {
          "output_type": "display_data",
          "data": {
            "image/png": "[encoded data removed]",
            "text/plain": [
              "<Figure size 432x288 with 1 Axes>"
            ]
          },
          "metadata": {
            "tags": [],
            "needs_background": "light"
          }
        }
      ]
    },
    {
      "cell_type": "markdown",
      "metadata": {
        "id": "PR5QIun7an47"
      },
      "source": [
        "## 8) 測試"
      ]
    },
    {
      "cell_type": "code",
      "metadata": {
        "id": "rdG9q4M9an47",
        "colab": {
          "base_uri": "https://localhost:8080/"
        },
        "outputId": "d3355900-eb97-4353-c78a-d74f3b9703ce"
      },
      "source": [
        "from sklearn.metrics import accuracy_score\n",
        "label=np.argmax(y,axis=1)\n",
        "pred =  np.argmax(model.predict(X), axis=1)\n",
        "# print(pred.shape)\n",
        "print(accuracy_score(label, pred))\n",
        "# print(y)"
      ],
      "execution_count": null,
      "outputs": [
        {
          "output_type": "stream",
          "text": [
            "0.7842518921016883\n"
          ],
          "name": "stdout"
        }
      ]
    },
    {
      "cell_type": "code",
      "metadata": {
        "id": "JNWE7Fe8uBzn",
        "colab": {
          "base_uri": "https://localhost:8080/"
        },
        "outputId": "2ea9f923-71bd-4170-a4da-59dc899b81dc"
      },
      "source": [
        "!pip install eli5"
      ],
      "execution_count": null,
      "outputs": [
        {
          "output_type": "stream",
          "text": [
            "Requirement already satisfied: eli5 in /usr/local/lib/python3.6/dist-packages (0.10.1)\n",
            "Requirement already satisfied: tabulate>=0.7.7 in /usr/local/lib/python3.6/dist-packages (from eli5) (0.8.7)\n",
            "Requirement already satisfied: graphviz in /usr/local/lib/python3.6/dist-packages (from eli5) (0.10.1)\n",
            "Requirement already satisfied: jinja2 in /usr/local/lib/python3.6/dist-packages (from eli5) (2.11.2)\n",
            "Requirement already satisfied: six in /usr/local/lib/python3.6/dist-packages (from eli5) (1.15.0)\n",
            "Requirement already satisfied: numpy>=1.9.0 in /usr/local/lib/python3.6/dist-packages (from eli5) (1.18.5)\n",
            "Requirement already satisfied: attrs>16.0.0 in /usr/local/lib/python3.6/dist-packages (from eli5) (20.2.0)\n",
            "Requirement already satisfied: scikit-learn>=0.18 in /usr/local/lib/python3.6/dist-packages (from eli5) (0.22.2.post1)\n",
            "Requirement already satisfied: scipy in /usr/local/lib/python3.6/dist-packages (from eli5) (1.4.1)\n",
            "Requirement already satisfied: MarkupSafe>=0.23 in /usr/local/lib/python3.6/dist-packages (from jinja2->eli5) (1.1.1)\n",
            "Requirement already satisfied: joblib>=0.11 in /usr/local/lib/python3.6/dist-packages (from scikit-learn>=0.18->eli5) (0.17.0)\n"
          ],
          "name": "stdout"
        }
      ]
    },
    {
      "cell_type": "markdown",
      "metadata": {
        "id": "wNxXer-qOlwj"
      },
      "source": [
        "## 9) 檢查特徵重要性\n",
        "> https://eli5.readthedocs.io/en/latest/blackbox/permutation_importance.html\n",
        "> https://www.mdeditor.tw/pl/pgi5/zh-tw\n",
        "\n",
        "> 針對BlackBox模型或非sklearn模型，使用排列重要性方法\n",
        "\n",
        "\n",
        "> 捨棄重要性低、增加損失的features特徵，重新建模訓練。\n",
        "\n",
        "\n",
        "> \n",
        "\n",
        "\n",
        "\n",
        "\n",
        "\n",
        "\n",
        "\n",
        "\n",
        "\n",
        "\n",
        "\n",
        "\n"
      ]
    },
    {
      "cell_type": "code",
      "metadata": {
        "id": "p-t6pvZman4_"
      },
      "source": [
        "# import numpy as np\n",
        "from eli5.permutation_importance import get_score_importances\n",
        "\n",
        "# ... load data, define score function\n",
        "def score(X, y):\n",
        "    y_pred = np.argmax(model.predict(X), axis=1)\n",
        "    return accuracy_score(y, y_pred)\n",
        "\n",
        "lab=np.argmax(y_train,axis=1)\n",
        "base_score, score_decreases = get_score_importances(score, X_train.values, lab)\n",
        "feature_importances = np.mean(score_decreases, axis=0)\n",
        "\n"
      ],
      "execution_count": null,
      "outputs": []
    },
    {
      "cell_type": "code",
      "metadata": {
        "id": "uz2cPz1KQtQy",
        "colab": {
          "base_uri": "https://localhost:8080/"
        },
        "outputId": "f034569f-269d-4d4c-a10e-36106b5877bf"
      },
      "source": [
        "# print(feature_importances)\n",
        "feature_importance_dict = {}\n",
        "for i, feature_name in enumerate(X.columns.values.tolist()) :\n",
        "\tfeature_importance_dict[feature_name]=feature_importances[i]\n",
        "\n",
        "# print(dict(sorted(feature_importance_dict.items(), key=lambda x:x[1],reverse=True)[:5]))\n",
        "sorted_fi = dict(sorted(feature_importance_dict.items(), key=lambda x:x[1],reverse=True))\n",
        "for name,i in sorted_fi.items():\n",
        "  print(name, i)"
      ],
      "execution_count": null,
      "outputs": [
        {
          "output_type": "stream",
          "text": [
            "最多成型時間 0.3385653228601132\n",
            "第八層燈管加熱% 0.193970197528012\n",
            "破瓶數量 0.188596511493589\n",
            "滾筒速度 0.1268799815178468\n",
            "第六穴壓力檢測 0.1124639020445882\n",
            "第三穴壓力檢測 0.10946517269261873\n",
            "加熱箱三水道溫度 0.09339031997227676\n",
            "第一穴壓力檢測 0.08916252743444611\n",
            "第二穴壓力檢測 0.08346078318124062\n",
            "第五層燈管加熱% 0.08104424165415272\n",
            "第七穴壓力檢測 0.0626036733279427\n",
            "第六層燈管加熱% 0.05516922721497055\n",
            "加熱箱二水道溫度 0.054878133302529754\n",
            "第八穴壓力檢測 0.05390319972276773\n",
            "第三層燈管加熱% 0.04582649878710869\n",
            "第五穴壓力檢測 0.043317546494166595\n",
            "加熱箱五水道溫度 0.042961765045627806\n",
            "第四層燈管加熱% 0.04207924223171999\n",
            "破瓶壓力檢測值設定 0.03526856878826383\n",
            "加熱箱四水道溫度 0.03042162411920988\n",
            "第四穴壓力檢測 0.02605059489430519\n",
            "加熱箱七水道溫度 0.024511955642832393\n",
            "加熱箱六水道溫度 0.021268337761349176\n",
            "加熱箱一水道溫度 0.01591313388009703\n",
            "加熱箱八水道溫度 0.013311770821300684\n",
            "第二層燈管加熱% 0.007586923876631646\n",
            "第七層燈管加熱% 0.007143352200531372\n",
            "第一層燈管加熱% 0.0056462977936929445\n",
            "高壓壓力 0.0007254245119556524\n",
            "低壓壓力 0.0005868083631743292\n",
            "回收壓力 0.00029109391244082073\n",
            "預吹壓力 0.00028647337414808847\n",
            "破瓶數增加 0.0\n"
          ],
          "name": "stdout"
        }
      ]
    }
  ]
}