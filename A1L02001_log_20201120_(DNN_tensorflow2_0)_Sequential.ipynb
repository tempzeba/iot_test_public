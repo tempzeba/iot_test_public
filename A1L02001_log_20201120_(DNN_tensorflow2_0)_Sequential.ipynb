{
  "nbformat": 4,
  "nbformat_minor": 0,
  "metadata": {
    "colab": {
      "name": "A1L02001_log_20201120 (DNN-tensorflow2.0)-Sequential.ipynb",
      "provenance": [],
      "collapsed_sections": [],
      "toc_visible": true,
      "authorship_tag": "ABX9TyP2j498XIoU4Mj6VQsf4Ghn",
      "include_colab_link": true
    },
    "kernelspec": {
      "name": "python3",
      "display_name": "Python 3"
    }
  },
  "cells": [
    {
      "cell_type": "markdown",
      "metadata": {
        "id": "view-in-github",
        "colab_type": "text"
      },
      "source": [
        "<a href=\"https://colab.research.google.com/github/tempzeba/iot_test_public/blob/main/A1L02001_log_20201120_(DNN_tensorflow2_0)_Sequential.ipynb\" target=\"_parent\"><img src=\"https://colab.research.google.com/assets/colab-badge.svg\" alt=\"Open In Colab\"/></a>"
      ]
    },
    {
      "cell_type": "markdown",
      "metadata": {
        "id": "1Y0w5q6AUmMa"
      },
      "source": [
        "## 0) 程式說明\n",
        "### 目的：A1L02001 IOT異常分析\n",
        "### 運行環境："
      ]
    },
    {
      "cell_type": "code",
      "metadata": {
        "colab": {
          "base_uri": "https://localhost:8080/"
        },
        "id": "JhSdZF2NW8Xs",
        "outputId": "eb3b444c-c6e8-4ab4-d12b-a81af865dd63"
      },
      "source": [
        "import sys\n",
        "print(\"python版本:%s\"% sys.version)"
      ],
      "execution_count": 86,
      "outputs": [
        {
          "output_type": "stream",
          "text": [
            "python版本:3.6.9 (default, Oct  8 2020, 12:12:24) \n",
            "[GCC 8.4.0]\n"
          ],
          "name": "stdout"
        }
      ]
    },
    {
      "cell_type": "code",
      "metadata": {
        "id": "bIVId25Van3a"
      },
      "source": [
        "import warnings\n",
        "import pandas as pd\n",
        "import numpy as np\n",
        "import matplotlib.pyplot as plt\n",
        "warnings.filterwarnings(\"ignore\")"
      ],
      "execution_count": 87,
      "outputs": []
    },
    {
      "cell_type": "code",
      "metadata": {
        "id": "fO_R1c3PN9ab"
      },
      "source": [
        "# pip install urllib3"
      ],
      "execution_count": 88,
      "outputs": []
    },
    {
      "cell_type": "code",
      "metadata": {
        "colab": {
          "base_uri": "https://localhost:8080/"
        },
        "id": "6oGSyTzFDaWj",
        "outputId": "eed25fbc-8665-4014-d80c-48753e9e08c4"
      },
      "source": [
        "\n",
        "# try:\n",
        "#     from urllib.request import urlopen\n",
        "# except ImportError:\n",
        "#     from urllib2 import urlopen\n",
        "\n",
        "from urllib.request import urlopen\n",
        "from io import BytesIO\n",
        "import zipfile\n",
        "\n",
        "import pandas as pd\n",
        "\n",
        "# Dictionary holding all the dataframes from all zip/zip/csvs\n",
        "df_train = pd.DataFrame()\n",
        "\n",
        "\n",
        "def zip_to_dfs(data):\n",
        "    global df_train\n",
        "    zip_file = zipfile.ZipFile(BytesIO(data))\n",
        "\n",
        "    for name in zip_file.namelist():\n",
        "        if name.lower().endswith('.csv'):\n",
        "            df_train = df_train.append(pd.read_csv(zip_file.open(name), sep='\\t'))\n",
        "        elif name.lower().endswith('.zip'):\n",
        "            zip_to_dfs(zip_file.open(name).read())\n",
        "        # print(dfs)\n",
        "\n",
        "\n",
        "def get_zip_data_from_url(url):\n",
        "    req = urlopen(url)\n",
        "    zip_to_dfs(req.read())\n",
        "\n",
        "\n",
        "final_links_list = [\n",
        "    'https://github.com/tempzeba/iot_test_public/releases/download/iot_data/A1L02001_202009.zip']\n",
        "\n",
        "for link in final_links_list:\n",
        "    print(link)\n",
        "    get_zip_data_from_url(link)\n",
        "\n",
        "# Display the first couple of dataframes    \n",
        "# for name, df in sorted(dfs.items())[:2]:\n",
        "#     print('\\n', name, '\\n')\n",
        "#     print(df)\n",
        "\n",
        "# print(dfs)"
      ],
      "execution_count": 89,
      "outputs": [
        {
          "output_type": "stream",
          "text": [
            "https://github.com/tempzeba/iot_test_public/releases/download/iot_data/A1L02001_202009.zip\n"
          ],
          "name": "stdout"
        }
      ]
    },
    {
      "cell_type": "markdown",
      "metadata": {
        "id": "a5wddLSban3o"
      },
      "source": [
        "## 1) 載入資料集"
      ]
    },
    {
      "cell_type": "code",
      "metadata": {
        "id": "GA-bjU2pan3p",
        "colab": {
          "base_uri": "https://localhost:8080/",
          "height": 1000
        },
        "outputId": "abb9bf04-ac4a-41d2-ffe6-ea71807f129b"
      },
      "source": [
        "# df_train = pd.read_csv('./data/Iris.csv')\n",
        "# df_train = pd.read_csv('https://github.com/tempzeba/iot_test_public/releases/download/iot_data/A1L02001_log_01.csv', sep='\\t')\n",
        "df_train = df_train.drop(labels=[r'收集日期', \n",
        "r'抽樣秒', \n",
        "r'位址區段E32768紀錄時間', \n",
        "r'位址區段G32768紀錄時間', \n",
        "r'位址區段G12288紀錄時間',\n",
        "r'機台編號',\n",
        "r'目前生產配方'\n",
        ",\n",
        " '壓力檢測啟動',\n",
        " 'Cycle_Time',\n",
        " '第一穴預吹延遲',\n",
        " '第二穴預吹延遲',\n",
        " '第三穴預吹延遲',\n",
        " '第四穴預吹延遲',\n",
        " '第五穴預吹延遲',\n",
        " '第六穴預吹延遲',\n",
        " '第七穴預吹延遲',\n",
        " '第八穴預吹延遲',\n",
        " '第九穴預吹延遲',\n",
        " '第十穴預吹延遲',\n",
        " '第一穴高壓延遲',\n",
        " '第二穴高壓延遲',\n",
        " '第三穴高壓延遲',\n",
        " '第四穴高壓延遲',\n",
        " '第五穴高壓延遲',\n",
        " '第六穴高壓延遲',\n",
        " '第七穴高壓延遲',\n",
        " '第八穴高壓延遲',\n",
        " '第九穴高壓延遲',\n",
        " '第十穴高壓延遲',\n",
        " '第一穴吹高壓時間',\n",
        " '第二穴吹高壓時間',\n",
        " '第三穴吹高壓時間',\n",
        " '第四穴吹高壓時間',\n",
        " '第五穴吹高壓時間',\n",
        " '第六穴吹高壓時間',\n",
        " '第七穴吹高壓時間',\n",
        " '第八穴吹高壓時間',\n",
        " '第九穴吹高壓時間',\n",
        " '第十穴吹高壓時間',\n",
        " '第一穴排氣時間',\n",
        " '第二穴排氣時間',\n",
        " '第三穴排氣時間',\n",
        " '第四穴排氣時間',\n",
        " '第五穴排氣時間',\n",
        " '第六穴排氣時間',\n",
        " '第七穴排氣時間',\n",
        " '第八穴排氣時間',\n",
        " '第九穴排氣時間',\n",
        " '第十穴排氣時間',\n",
        " '第九層燈管加熱%',\n",
        " '第十層燈管加熱%',\n",
        " '產能',\n",
        " '吹氣鼓風機轉速',\n",
        " '吸氣鼓風機轉速',\n",
        " '自轉馬達轉速',\n",
        " '整列滾筒調速',\n",
        " '牙口鼓風機轉速',\n",
        " '入胚啟動位置',\n",
        " '入胚啟動延時',\n",
        " '震動馬達震動時間',\n",
        " '震動馬達震動循環時間',\n",
        " '第九穴壓力檢測',\n",
        " '第十穴壓力檢測',\n",
        "#  '破瓶數增加',\n",
        " '入胚啟動',\n",
        " '加熱啟動',\n",
        " '吹瓶啟動',\n",
        " '機台異常或無異常',\n",
        " '自動或手動',\n",
        " '總生產數量',\n",
        " '機台是否正常(0~59s)'\n",
        "\n",
        "],axis=1) \n",
        "\n",
        "# 調整資料集\n",
        "# 1. 只取有異常部分\n",
        "# 2. 計算有異常資料筆數\n",
        "# 3. 從無異常資料隨機抽出k筆資料與異常資料合併作為投入模型的資料集。k=異常資料筆數\n",
        "mask = df_train[r'異常代碼'] > 0\n",
        "target_count = mask.sum()\n",
        "df_train_noerr = df_train[df_train[r'異常代碼'] == 0].sample(n=target_count,random_state=123,axis=0)\n",
        "df_train = df_train[mask]\n",
        "df_train = df_train.append(df_train_noerr,ignore_index=True)\n",
        "df_train.describe().transpose()"
      ],
      "execution_count": 90,
      "outputs": [
        {
          "output_type": "execute_result",
          "data": {
            "text/html": [
              "<div>\n",
              "<style scoped>\n",
              "    .dataframe tbody tr th:only-of-type {\n",
              "        vertical-align: middle;\n",
              "    }\n",
              "\n",
              "    .dataframe tbody tr th {\n",
              "        vertical-align: top;\n",
              "    }\n",
              "\n",
              "    .dataframe thead th {\n",
              "        text-align: right;\n",
              "    }\n",
              "</style>\n",
              "<table border=\"1\" class=\"dataframe\">\n",
              "  <thead>\n",
              "    <tr style=\"text-align: right;\">\n",
              "      <th></th>\n",
              "      <th>count</th>\n",
              "      <th>mean</th>\n",
              "      <th>std</th>\n",
              "      <th>min</th>\n",
              "      <th>25%</th>\n",
              "      <th>50%</th>\n",
              "      <th>75%</th>\n",
              "      <th>max</th>\n",
              "    </tr>\n",
              "  </thead>\n",
              "  <tbody>\n",
              "    <tr>\n",
              "      <th>低壓壓力</th>\n",
              "      <td>243724.0</td>\n",
              "      <td>8.280608</td>\n",
              "      <td>0.336354</td>\n",
              "      <td>0.0</td>\n",
              "      <td>8.2</td>\n",
              "      <td>8.3</td>\n",
              "      <td>8.4</td>\n",
              "      <td>10.0</td>\n",
              "    </tr>\n",
              "    <tr>\n",
              "      <th>高壓壓力</th>\n",
              "      <td>243724.0</td>\n",
              "      <td>31.281413</td>\n",
              "      <td>2.226189</td>\n",
              "      <td>0.0</td>\n",
              "      <td>31.0</td>\n",
              "      <td>31.8</td>\n",
              "      <td>32.6</td>\n",
              "      <td>33.9</td>\n",
              "    </tr>\n",
              "    <tr>\n",
              "      <th>回收壓力</th>\n",
              "      <td>243724.0</td>\n",
              "      <td>10.587112</td>\n",
              "      <td>0.749143</td>\n",
              "      <td>0.0</td>\n",
              "      <td>10.2</td>\n",
              "      <td>10.4</td>\n",
              "      <td>10.8</td>\n",
              "      <td>13.4</td>\n",
              "    </tr>\n",
              "    <tr>\n",
              "      <th>預吹壓力</th>\n",
              "      <td>243724.0</td>\n",
              "      <td>10.294536</td>\n",
              "      <td>0.650911</td>\n",
              "      <td>0.0</td>\n",
              "      <td>9.9</td>\n",
              "      <td>10.2</td>\n",
              "      <td>10.6</td>\n",
              "      <td>12.8</td>\n",
              "    </tr>\n",
              "    <tr>\n",
              "      <th>最多成型時間</th>\n",
              "      <td>243724.0</td>\n",
              "      <td>987.014849</td>\n",
              "      <td>489.459398</td>\n",
              "      <td>0.0</td>\n",
              "      <td>831.0</td>\n",
              "      <td>942.0</td>\n",
              "      <td>948.0</td>\n",
              "      <td>9999.0</td>\n",
              "    </tr>\n",
              "    <tr>\n",
              "      <th>第一層燈管加熱%</th>\n",
              "      <td>243724.0</td>\n",
              "      <td>66.214036</td>\n",
              "      <td>5.415295</td>\n",
              "      <td>0.0</td>\n",
              "      <td>60.0</td>\n",
              "      <td>67.5</td>\n",
              "      <td>69.0</td>\n",
              "      <td>87.0</td>\n",
              "    </tr>\n",
              "    <tr>\n",
              "      <th>第二層燈管加熱%</th>\n",
              "      <td>243724.0</td>\n",
              "      <td>44.150658</td>\n",
              "      <td>10.539212</td>\n",
              "      <td>0.0</td>\n",
              "      <td>40.0</td>\n",
              "      <td>41.0</td>\n",
              "      <td>41.0</td>\n",
              "      <td>76.0</td>\n",
              "    </tr>\n",
              "    <tr>\n",
              "      <th>第三層燈管加熱%</th>\n",
              "      <td>243724.0</td>\n",
              "      <td>37.598170</td>\n",
              "      <td>6.453511</td>\n",
              "      <td>0.0</td>\n",
              "      <td>40.0</td>\n",
              "      <td>40.0</td>\n",
              "      <td>40.0</td>\n",
              "      <td>71.0</td>\n",
              "    </tr>\n",
              "    <tr>\n",
              "      <th>第四層燈管加熱%</th>\n",
              "      <td>243724.0</td>\n",
              "      <td>35.340775</td>\n",
              "      <td>9.517012</td>\n",
              "      <td>0.0</td>\n",
              "      <td>35.0</td>\n",
              "      <td>40.0</td>\n",
              "      <td>40.0</td>\n",
              "      <td>48.0</td>\n",
              "    </tr>\n",
              "    <tr>\n",
              "      <th>第五層燈管加熱%</th>\n",
              "      <td>243724.0</td>\n",
              "      <td>46.601371</td>\n",
              "      <td>3.655427</td>\n",
              "      <td>0.0</td>\n",
              "      <td>45.0</td>\n",
              "      <td>47.0</td>\n",
              "      <td>48.0</td>\n",
              "      <td>55.0</td>\n",
              "    </tr>\n",
              "    <tr>\n",
              "      <th>第六層燈管加熱%</th>\n",
              "      <td>243724.0</td>\n",
              "      <td>63.039377</td>\n",
              "      <td>8.817562</td>\n",
              "      <td>0.0</td>\n",
              "      <td>52.0</td>\n",
              "      <td>66.5</td>\n",
              "      <td>68.0</td>\n",
              "      <td>98.0</td>\n",
              "    </tr>\n",
              "    <tr>\n",
              "      <th>第七層燈管加熱%</th>\n",
              "      <td>243724.0</td>\n",
              "      <td>47.854275</td>\n",
              "      <td>13.348882</td>\n",
              "      <td>0.0</td>\n",
              "      <td>47.0</td>\n",
              "      <td>47.0</td>\n",
              "      <td>60.0</td>\n",
              "      <td>85.0</td>\n",
              "    </tr>\n",
              "    <tr>\n",
              "      <th>第八層燈管加熱%</th>\n",
              "      <td>243724.0</td>\n",
              "      <td>34.004610</td>\n",
              "      <td>10.245477</td>\n",
              "      <td>0.0</td>\n",
              "      <td>20.0</td>\n",
              "      <td>38.0</td>\n",
              "      <td>39.5</td>\n",
              "      <td>58.0</td>\n",
              "    </tr>\n",
              "    <tr>\n",
              "      <th>滾筒速度</th>\n",
              "      <td>243724.0</td>\n",
              "      <td>35.751227</td>\n",
              "      <td>5.249499</td>\n",
              "      <td>0.0</td>\n",
              "      <td>35.0</td>\n",
              "      <td>35.0</td>\n",
              "      <td>38.0</td>\n",
              "      <td>50.0</td>\n",
              "    </tr>\n",
              "    <tr>\n",
              "      <th>第一穴壓力檢測</th>\n",
              "      <td>243724.0</td>\n",
              "      <td>27.476195</td>\n",
              "      <td>6.824133</td>\n",
              "      <td>0.0</td>\n",
              "      <td>27.4</td>\n",
              "      <td>28.4</td>\n",
              "      <td>30.5</td>\n",
              "      <td>33.9</td>\n",
              "    </tr>\n",
              "    <tr>\n",
              "      <th>第二穴壓力檢測</th>\n",
              "      <td>243724.0</td>\n",
              "      <td>25.304706</td>\n",
              "      <td>9.614531</td>\n",
              "      <td>0.0</td>\n",
              "      <td>27.0</td>\n",
              "      <td>28.1</td>\n",
              "      <td>29.9</td>\n",
              "      <td>33.4</td>\n",
              "    </tr>\n",
              "    <tr>\n",
              "      <th>第三穴壓力檢測</th>\n",
              "      <td>243724.0</td>\n",
              "      <td>23.649483</td>\n",
              "      <td>10.967671</td>\n",
              "      <td>0.0</td>\n",
              "      <td>26.8</td>\n",
              "      <td>27.9</td>\n",
              "      <td>29.3</td>\n",
              "      <td>33.4</td>\n",
              "    </tr>\n",
              "    <tr>\n",
              "      <th>第四穴壓力檢測</th>\n",
              "      <td>243724.0</td>\n",
              "      <td>21.485934</td>\n",
              "      <td>12.434349</td>\n",
              "      <td>0.0</td>\n",
              "      <td>19.6</td>\n",
              "      <td>27.7</td>\n",
              "      <td>29.2</td>\n",
              "      <td>32.8</td>\n",
              "    </tr>\n",
              "    <tr>\n",
              "      <th>第五穴壓力檢測</th>\n",
              "      <td>243724.0</td>\n",
              "      <td>20.097275</td>\n",
              "      <td>12.790184</td>\n",
              "      <td>0.0</td>\n",
              "      <td>0.0</td>\n",
              "      <td>27.2</td>\n",
              "      <td>28.6</td>\n",
              "      <td>32.2</td>\n",
              "    </tr>\n",
              "    <tr>\n",
              "      <th>第六穴壓力檢測</th>\n",
              "      <td>243724.0</td>\n",
              "      <td>18.235679</td>\n",
              "      <td>13.381738</td>\n",
              "      <td>0.0</td>\n",
              "      <td>0.0</td>\n",
              "      <td>26.9</td>\n",
              "      <td>27.9</td>\n",
              "      <td>32.1</td>\n",
              "    </tr>\n",
              "    <tr>\n",
              "      <th>第七穴壓力檢測</th>\n",
              "      <td>243724.0</td>\n",
              "      <td>17.424723</td>\n",
              "      <td>13.586094</td>\n",
              "      <td>0.0</td>\n",
              "      <td>0.0</td>\n",
              "      <td>26.8</td>\n",
              "      <td>27.9</td>\n",
              "      <td>32.1</td>\n",
              "    </tr>\n",
              "    <tr>\n",
              "      <th>第八穴壓力檢測</th>\n",
              "      <td>243724.0</td>\n",
              "      <td>15.791861</td>\n",
              "      <td>13.817320</td>\n",
              "      <td>0.0</td>\n",
              "      <td>0.0</td>\n",
              "      <td>26.5</td>\n",
              "      <td>27.7</td>\n",
              "      <td>33.7</td>\n",
              "    </tr>\n",
              "    <tr>\n",
              "      <th>破瓶壓力檢測值設定</th>\n",
              "      <td>243724.0</td>\n",
              "      <td>23.235816</td>\n",
              "      <td>1.194039</td>\n",
              "      <td>0.0</td>\n",
              "      <td>23.0</td>\n",
              "      <td>23.0</td>\n",
              "      <td>24.0</td>\n",
              "      <td>26.0</td>\n",
              "    </tr>\n",
              "    <tr>\n",
              "      <th>加熱箱一水道溫度</th>\n",
              "      <td>243724.0</td>\n",
              "      <td>52.449578</td>\n",
              "      <td>12.250633</td>\n",
              "      <td>0.0</td>\n",
              "      <td>41.9</td>\n",
              "      <td>59.4</td>\n",
              "      <td>62.6</td>\n",
              "      <td>96.7</td>\n",
              "    </tr>\n",
              "    <tr>\n",
              "      <th>加熱箱二水道溫度</th>\n",
              "      <td>243724.0</td>\n",
              "      <td>52.819019</td>\n",
              "      <td>11.800873</td>\n",
              "      <td>0.0</td>\n",
              "      <td>43.4</td>\n",
              "      <td>59.6</td>\n",
              "      <td>62.4</td>\n",
              "      <td>97.8</td>\n",
              "    </tr>\n",
              "    <tr>\n",
              "      <th>加熱箱三水道溫度</th>\n",
              "      <td>243724.0</td>\n",
              "      <td>57.005989</td>\n",
              "      <td>14.222408</td>\n",
              "      <td>0.0</td>\n",
              "      <td>45.4</td>\n",
              "      <td>65.8</td>\n",
              "      <td>68.5</td>\n",
              "      <td>102.6</td>\n",
              "    </tr>\n",
              "    <tr>\n",
              "      <th>加熱箱四水道溫度</th>\n",
              "      <td>243724.0</td>\n",
              "      <td>55.349779</td>\n",
              "      <td>13.041419</td>\n",
              "      <td>0.0</td>\n",
              "      <td>44.5</td>\n",
              "      <td>63.1</td>\n",
              "      <td>66.0</td>\n",
              "      <td>94.3</td>\n",
              "    </tr>\n",
              "    <tr>\n",
              "      <th>加熱箱五水道溫度</th>\n",
              "      <td>243724.0</td>\n",
              "      <td>48.225468</td>\n",
              "      <td>10.364996</td>\n",
              "      <td>0.0</td>\n",
              "      <td>39.3</td>\n",
              "      <td>54.3</td>\n",
              "      <td>56.6</td>\n",
              "      <td>96.3</td>\n",
              "    </tr>\n",
              "    <tr>\n",
              "      <th>加熱箱六水道溫度</th>\n",
              "      <td>243724.0</td>\n",
              "      <td>62.226450</td>\n",
              "      <td>17.011625</td>\n",
              "      <td>0.0</td>\n",
              "      <td>48.2</td>\n",
              "      <td>71.4</td>\n",
              "      <td>76.4</td>\n",
              "      <td>105.6</td>\n",
              "    </tr>\n",
              "    <tr>\n",
              "      <th>加熱箱七水道溫度</th>\n",
              "      <td>243724.0</td>\n",
              "      <td>56.737007</td>\n",
              "      <td>13.810740</td>\n",
              "      <td>0.0</td>\n",
              "      <td>45.3</td>\n",
              "      <td>64.8</td>\n",
              "      <td>67.8</td>\n",
              "      <td>94.4</td>\n",
              "    </tr>\n",
              "    <tr>\n",
              "      <th>加熱箱八水道溫度</th>\n",
              "      <td>243724.0</td>\n",
              "      <td>53.683219</td>\n",
              "      <td>12.376750</td>\n",
              "      <td>0.0</td>\n",
              "      <td>43.6</td>\n",
              "      <td>61.2</td>\n",
              "      <td>63.4</td>\n",
              "      <td>98.9</td>\n",
              "    </tr>\n",
              "    <tr>\n",
              "      <th>破瓶數量</th>\n",
              "      <td>243724.0</td>\n",
              "      <td>1038.514451</td>\n",
              "      <td>316.274704</td>\n",
              "      <td>0.0</td>\n",
              "      <td>654.0</td>\n",
              "      <td>1261.0</td>\n",
              "      <td>1336.0</td>\n",
              "      <td>1370.0</td>\n",
              "    </tr>\n",
              "    <tr>\n",
              "      <th>異常代碼</th>\n",
              "      <td>243724.0</td>\n",
              "      <td>43.193424</td>\n",
              "      <td>54.040730</td>\n",
              "      <td>0.0</td>\n",
              "      <td>0.0</td>\n",
              "      <td>0.5</td>\n",
              "      <td>107.0</td>\n",
              "      <td>192.0</td>\n",
              "    </tr>\n",
              "    <tr>\n",
              "      <th>破瓶數增加</th>\n",
              "      <td>243724.0</td>\n",
              "      <td>0.000201</td>\n",
              "      <td>0.014178</td>\n",
              "      <td>0.0</td>\n",
              "      <td>0.0</td>\n",
              "      <td>0.0</td>\n",
              "      <td>0.0</td>\n",
              "      <td>1.0</td>\n",
              "    </tr>\n",
              "  </tbody>\n",
              "</table>\n",
              "</div>"
            ],
            "text/plain": [
              "              count         mean         std  ...     50%     75%     max\n",
              "低壓壓力       243724.0     8.280608    0.336354  ...     8.3     8.4    10.0\n",
              "高壓壓力       243724.0    31.281413    2.226189  ...    31.8    32.6    33.9\n",
              "回收壓力       243724.0    10.587112    0.749143  ...    10.4    10.8    13.4\n",
              "預吹壓力       243724.0    10.294536    0.650911  ...    10.2    10.6    12.8\n",
              "最多成型時間     243724.0   987.014849  489.459398  ...   942.0   948.0  9999.0\n",
              "第一層燈管加熱%   243724.0    66.214036    5.415295  ...    67.5    69.0    87.0\n",
              "第二層燈管加熱%   243724.0    44.150658   10.539212  ...    41.0    41.0    76.0\n",
              "第三層燈管加熱%   243724.0    37.598170    6.453511  ...    40.0    40.0    71.0\n",
              "第四層燈管加熱%   243724.0    35.340775    9.517012  ...    40.0    40.0    48.0\n",
              "第五層燈管加熱%   243724.0    46.601371    3.655427  ...    47.0    48.0    55.0\n",
              "第六層燈管加熱%   243724.0    63.039377    8.817562  ...    66.5    68.0    98.0\n",
              "第七層燈管加熱%   243724.0    47.854275   13.348882  ...    47.0    60.0    85.0\n",
              "第八層燈管加熱%   243724.0    34.004610   10.245477  ...    38.0    39.5    58.0\n",
              "滾筒速度       243724.0    35.751227    5.249499  ...    35.0    38.0    50.0\n",
              "第一穴壓力檢測    243724.0    27.476195    6.824133  ...    28.4    30.5    33.9\n",
              "第二穴壓力檢測    243724.0    25.304706    9.614531  ...    28.1    29.9    33.4\n",
              "第三穴壓力檢測    243724.0    23.649483   10.967671  ...    27.9    29.3    33.4\n",
              "第四穴壓力檢測    243724.0    21.485934   12.434349  ...    27.7    29.2    32.8\n",
              "第五穴壓力檢測    243724.0    20.097275   12.790184  ...    27.2    28.6    32.2\n",
              "第六穴壓力檢測    243724.0    18.235679   13.381738  ...    26.9    27.9    32.1\n",
              "第七穴壓力檢測    243724.0    17.424723   13.586094  ...    26.8    27.9    32.1\n",
              "第八穴壓力檢測    243724.0    15.791861   13.817320  ...    26.5    27.7    33.7\n",
              "破瓶壓力檢測值設定  243724.0    23.235816    1.194039  ...    23.0    24.0    26.0\n",
              "加熱箱一水道溫度   243724.0    52.449578   12.250633  ...    59.4    62.6    96.7\n",
              "加熱箱二水道溫度   243724.0    52.819019   11.800873  ...    59.6    62.4    97.8\n",
              "加熱箱三水道溫度   243724.0    57.005989   14.222408  ...    65.8    68.5   102.6\n",
              "加熱箱四水道溫度   243724.0    55.349779   13.041419  ...    63.1    66.0    94.3\n",
              "加熱箱五水道溫度   243724.0    48.225468   10.364996  ...    54.3    56.6    96.3\n",
              "加熱箱六水道溫度   243724.0    62.226450   17.011625  ...    71.4    76.4   105.6\n",
              "加熱箱七水道溫度   243724.0    56.737007   13.810740  ...    64.8    67.8    94.4\n",
              "加熱箱八水道溫度   243724.0    53.683219   12.376750  ...    61.2    63.4    98.9\n",
              "破瓶數量       243724.0  1038.514451  316.274704  ...  1261.0  1336.0  1370.0\n",
              "異常代碼       243724.0    43.193424   54.040730  ...     0.5   107.0   192.0\n",
              "破瓶數增加      243724.0     0.000201    0.014178  ...     0.0     0.0     1.0\n",
              "\n",
              "[34 rows x 8 columns]"
            ]
          },
          "metadata": {
            "tags": []
          },
          "execution_count": 90
        }
      ]
    },
    {
      "cell_type": "markdown",
      "metadata": {
        "id": "r1M7a4iian3u"
      },
      "source": [
        "## 2) 手動編碼\n",
        "處理名目資料 (Nominal variables) - 資料前處理\n",
        "依據特徵資料的特性，可以選擇手動編碼或自動編碼。\n",
        "\n",
        "### 使用編碼時機?\n",
        "進行深度學習時，神經網路只能處理數值資料。因此我們需要將所有非數字型態的特徵進行轉換。\n",
        "\n",
        "### 註：\n",
        "略。(IOT原始資料已經一次前處理)"
      ]
    },
    {
      "cell_type": "markdown",
      "metadata": {
        "id": "txpEEPgAan36"
      },
      "source": [
        "## 3) 檢查缺失值\n",
        "使用 numpy 所提供的函式來檢查是否有 NA 缺失值，假設有缺失值使用dropna()來移除。使用的時機在於當只有少量的缺失值適用，若遇到有大量缺失值的情況，或是本身的資料量就很少的情況下建議可以透過機器學習的方法補值來預測缺失值。\n",
        "### 註：\n",
        "略。(IOT原始資料已經一次前處理)"
      ]
    },
    {
      "cell_type": "markdown",
      "metadata": {
        "id": "gNBeqTcUan4A"
      },
      "source": [
        "## 4) 將輸出特徵做one-hot encoding\n",
        "如何對欄位class做one-hot encoding？"
      ]
    },
    {
      "cell_type": "code",
      "metadata": {
        "id": "iQFh4fj0an4C",
        "colab": {
          "base_uri": "https://localhost:8080/"
        },
        "outputId": "b20a0715-5dc6-468a-d46e-8040cf108946"
      },
      "source": [
        "from tensorflow.keras.utils import to_categorical\n",
        "y = to_categorical(df_train[r'異常代碼'])\n",
        "y"
      ],
      "execution_count": 91,
      "outputs": [
        {
          "output_type": "execute_result",
          "data": {
            "text/plain": [
              "array([[0., 0., 0., ..., 0., 0., 0.],\n",
              "       [0., 0., 0., ..., 0., 0., 0.],\n",
              "       [0., 0., 0., ..., 0., 0., 0.],\n",
              "       ...,\n",
              "       [1., 0., 0., ..., 0., 0., 0.],\n",
              "       [1., 0., 0., ..., 0., 0., 0.],\n",
              "       [1., 0., 0., ..., 0., 0., 0.]], dtype=float32)"
            ]
          },
          "metadata": {
            "tags": []
          },
          "execution_count": 91
        }
      ]
    },
    {
      "cell_type": "markdown",
      "metadata": {
        "id": "_OclZM7Wan4I"
      },
      "source": [
        "## 5) 切割訓練集與測試集"
      ]
    },
    {
      "cell_type": "markdown",
      "metadata": {
        "id": "JSw4NVQLwdvU"
      },
      "source": [
        ""
      ]
    },
    {
      "cell_type": "code",
      "metadata": {
        "id": "hjDEttMPan4J",
        "colab": {
          "base_uri": "https://localhost:8080/"
        },
        "outputId": "dfae4687-4ebd-464e-e6ab-ae098aaf1b31"
      },
      "source": [
        "pd.set_option('max_row',300)\n",
        "# X=df_train.drop(labels=['Class'],axis=1)\n",
        "X=df_train.drop(columns=[r'異常代碼'])\n",
        "# X.isna().sum().sum()\n",
        "# X\n",
        "mask = X.describe().transpose()['std']==0\n",
        "X.describe().transpose()[mask].index.tolist()\n",
        "# X.describe().transpose().columns.tolist()\n"
      ],
      "execution_count": 92,
      "outputs": [
        {
          "output_type": "execute_result",
          "data": {
            "text/plain": [
              "[]"
            ]
          },
          "metadata": {
            "tags": []
          },
          "execution_count": 92
        }
      ]
    },
    {
      "cell_type": "code",
      "metadata": {
        "id": "rKl7fICTan4Q"
      },
      "source": [
        "from sklearn.model_selection import train_test_split\n",
        "X_train , X_test , y_train , y_test = train_test_split(X,y , test_size=.3 , random_state=40)"
      ],
      "execution_count": 93,
      "outputs": []
    },
    {
      "cell_type": "code",
      "metadata": {
        "id": "8Ovl96zhan4T",
        "colab": {
          "base_uri": "https://localhost:8080/"
        },
        "outputId": "a9410a73-8593-4f81-dff1-6e76953692dc"
      },
      "source": [
        "print('訓練資料: ',X_train.shape)\n",
        "print('測試資料: ',X_test.shape)\n",
        "# X_train"
      ],
      "execution_count": 94,
      "outputs": [
        {
          "output_type": "stream",
          "text": [
            "訓練資料:  (170606, 33)\n",
            "測試資料:  (73118, 33)\n"
          ],
          "name": "stdout"
        }
      ]
    },
    {
      "cell_type": "markdown",
      "metadata": {
        "id": "qB6zvYgJan4Z"
      },
      "source": [
        "## 6) 建立網路模型"
      ]
    },
    {
      "cell_type": "code",
      "metadata": {
        "id": "aJvDPRx5an4Z",
        "colab": {
          "base_uri": "https://localhost:8080/"
        },
        "outputId": "6d5d3d1b-7357-40a7-edd5-99d537ad167f"
      },
      "source": [
        "import tensorflow as tf\n",
        "from tensorflow.keras.layers import Dense, Activation\n",
        "from tensorflow.keras import Sequential\n",
        "from tensorflow.keras.optimizers import Adam\n",
        "\n",
        "print(tf.__version__)"
      ],
      "execution_count": 95,
      "outputs": [
        {
          "output_type": "stream",
          "text": [
            "2.3.0\n"
          ],
          "name": "stdout"
        }
      ]
    },
    {
      "cell_type": "code",
      "metadata": {
        "id": "Q30p2WHxan4d"
      },
      "source": [
        "# 此範例使用 Tensorflow2.0 Sequential API 搭建神經網路。\n",
        "model = Sequential()\n",
        "model.add(Dense(8, Activation('relu'), input_dim=X.shape[-1]))\n",
        "model.add(Dense(16, Activation('relu')))\n",
        "model.add(Dense(193, Activation('softmax')))"
      ],
      "execution_count": 96,
      "outputs": []
    },
    {
      "cell_type": "code",
      "metadata": {
        "id": "gCfdh7Lgan4h",
        "colab": {
          "base_uri": "https://localhost:8080/"
        },
        "outputId": "cb51c126-3238-40d1-96b4-280073210884"
      },
      "source": [
        "model.summary()   # Weights = (4+1)*8+(8+1)*16+(16+1)*3"
      ],
      "execution_count": 97,
      "outputs": [
        {
          "output_type": "stream",
          "text": [
            "Model: \"sequential_3\"\n",
            "_________________________________________________________________\n",
            "Layer (type)                 Output Shape              Param #   \n",
            "=================================================================\n",
            "dense_9 (Dense)              (None, 8)                 272       \n",
            "_________________________________________________________________\n",
            "dense_10 (Dense)             (None, 16)                144       \n",
            "_________________________________________________________________\n",
            "dense_11 (Dense)             (None, 193)               3281      \n",
            "=================================================================\n",
            "Total params: 3,697\n",
            "Trainable params: 3,697\n",
            "Non-trainable params: 0\n",
            "_________________________________________________________________\n"
          ],
          "name": "stdout"
        }
      ]
    },
    {
      "cell_type": "code",
      "metadata": {
        "id": "86S7ALLTan4l",
        "colab": {
          "base_uri": "https://localhost:8080/"
        },
        "outputId": "45867609-3dcd-47a3-b739-1a798072998c"
      },
      "source": [
        "# 編譯模型\n",
        "optim = Adam(lr=0.001)\n",
        "model.compile(loss='categorical_crossentropy',\n",
        "              optimizer=optim,\n",
        "              metrics=['acc'])\n",
        "\n",
        "batch_size=1000\n",
        "epochs = 50\n",
        "\n",
        "history = model.fit(X_train, y_train,\n",
        "                    batch_size=batch_size,\n",
        "                    epochs=epochs,\n",
        "                    verbose=1,\n",
        "                    shuffle=True,\n",
        "                    validation_split=0.1)\n"
      ],
      "execution_count": 98,
      "outputs": [
        {
          "output_type": "stream",
          "text": [
            "Epoch 1/50\n",
            "154/154 [==============================] - 1s 9ms/step - loss: 31.1062 - acc: 0.3098 - val_loss: 1.3911 - val_acc: 0.5093\n",
            "Epoch 2/50\n",
            "154/154 [==============================] - 1s 7ms/step - loss: 1.2779 - acc: 0.5281 - val_loss: 1.1449 - val_acc: 0.5505\n",
            "Epoch 3/50\n",
            "154/154 [==============================] - 1s 6ms/step - loss: 1.1260 - acc: 0.5764 - val_loss: 1.0681 - val_acc: 0.5772\n",
            "Epoch 4/50\n",
            "154/154 [==============================] - 1s 6ms/step - loss: 1.0651 - acc: 0.5937 - val_loss: 1.0206 - val_acc: 0.6024\n",
            "Epoch 5/50\n",
            "154/154 [==============================] - 1s 6ms/step - loss: 1.0175 - acc: 0.6254 - val_loss: 0.9713 - val_acc: 0.6398\n",
            "Epoch 6/50\n",
            "154/154 [==============================] - 1s 6ms/step - loss: 0.9776 - acc: 0.6569 - val_loss: 0.9553 - val_acc: 0.6887\n",
            "Epoch 7/50\n",
            "154/154 [==============================] - 1s 6ms/step - loss: 0.9428 - acc: 0.6904 - val_loss: 0.9153 - val_acc: 0.6940\n",
            "Epoch 8/50\n",
            "154/154 [==============================] - 1s 7ms/step - loss: 0.9133 - acc: 0.7192 - val_loss: 0.8896 - val_acc: 0.7385\n",
            "Epoch 9/50\n",
            "154/154 [==============================] - 1s 7ms/step - loss: 0.8856 - acc: 0.7366 - val_loss: 0.8530 - val_acc: 0.7410\n",
            "Epoch 10/50\n",
            "154/154 [==============================] - 1s 6ms/step - loss: 0.8580 - acc: 0.7451 - val_loss: 0.8319 - val_acc: 0.7476\n",
            "Epoch 11/50\n",
            "154/154 [==============================] - 1s 6ms/step - loss: 0.8413 - acc: 0.7473 - val_loss: 0.8166 - val_acc: 0.7546\n",
            "Epoch 12/50\n",
            "154/154 [==============================] - 1s 6ms/step - loss: 0.8241 - acc: 0.7503 - val_loss: 0.7976 - val_acc: 0.7570\n",
            "Epoch 13/50\n",
            "154/154 [==============================] - 1s 6ms/step - loss: 0.8088 - acc: 0.7605 - val_loss: 0.7854 - val_acc: 0.7699\n",
            "Epoch 14/50\n",
            "154/154 [==============================] - 1s 6ms/step - loss: 0.7943 - acc: 0.7683 - val_loss: 0.7745 - val_acc: 0.7715\n",
            "Epoch 15/50\n",
            "154/154 [==============================] - 1s 6ms/step - loss: 0.7856 - acc: 0.7716 - val_loss: 0.7589 - val_acc: 0.7738\n",
            "Epoch 16/50\n",
            "154/154 [==============================] - 1s 7ms/step - loss: 0.7740 - acc: 0.7729 - val_loss: 0.7542 - val_acc: 0.7723\n",
            "Epoch 17/50\n",
            "154/154 [==============================] - 1s 6ms/step - loss: 0.7667 - acc: 0.7737 - val_loss: 0.7460 - val_acc: 0.7791\n",
            "Epoch 18/50\n",
            "154/154 [==============================] - 1s 6ms/step - loss: 0.7630 - acc: 0.7748 - val_loss: 0.7417 - val_acc: 0.7765\n",
            "Epoch 19/50\n",
            "154/154 [==============================] - 1s 6ms/step - loss: 0.7539 - acc: 0.7756 - val_loss: 0.7356 - val_acc: 0.7806\n",
            "Epoch 20/50\n",
            "154/154 [==============================] - 1s 6ms/step - loss: 0.7476 - acc: 0.7768 - val_loss: 0.7335 - val_acc: 0.7780\n",
            "Epoch 21/50\n",
            "154/154 [==============================] - 1s 6ms/step - loss: 0.7489 - acc: 0.7773 - val_loss: 0.7333 - val_acc: 0.7807\n",
            "Epoch 22/50\n",
            "154/154 [==============================] - 1s 6ms/step - loss: 0.7399 - acc: 0.7786 - val_loss: 0.7330 - val_acc: 0.7763\n",
            "Epoch 23/50\n",
            "154/154 [==============================] - 1s 6ms/step - loss: 0.7352 - acc: 0.7796 - val_loss: 0.7184 - val_acc: 0.7857\n",
            "Epoch 24/50\n",
            "154/154 [==============================] - 1s 6ms/step - loss: 0.7317 - acc: 0.7804 - val_loss: 0.7115 - val_acc: 0.7813\n",
            "Epoch 25/50\n",
            "154/154 [==============================] - 1s 6ms/step - loss: 0.7304 - acc: 0.7821 - val_loss: 0.7086 - val_acc: 0.7859\n",
            "Epoch 26/50\n",
            "154/154 [==============================] - 1s 6ms/step - loss: 0.7243 - acc: 0.7830 - val_loss: 0.7027 - val_acc: 0.7900\n",
            "Epoch 27/50\n",
            "154/154 [==============================] - 1s 6ms/step - loss: 0.7181 - acc: 0.7829 - val_loss: 0.6970 - val_acc: 0.7853\n",
            "Epoch 28/50\n",
            "154/154 [==============================] - 1s 6ms/step - loss: 0.7136 - acc: 0.7844 - val_loss: 0.6998 - val_acc: 0.7878\n",
            "Epoch 29/50\n",
            "154/154 [==============================] - 1s 6ms/step - loss: 0.7101 - acc: 0.7854 - val_loss: 0.6953 - val_acc: 0.7878\n",
            "Epoch 30/50\n",
            "154/154 [==============================] - 1s 6ms/step - loss: 0.7079 - acc: 0.7855 - val_loss: 0.6905 - val_acc: 0.7865\n",
            "Epoch 31/50\n",
            "154/154 [==============================] - 1s 6ms/step - loss: 0.7039 - acc: 0.7861 - val_loss: 0.6833 - val_acc: 0.7900\n",
            "Epoch 32/50\n",
            "154/154 [==============================] - 1s 6ms/step - loss: 0.7041 - acc: 0.7860 - val_loss: 0.6825 - val_acc: 0.7902\n",
            "Epoch 33/50\n",
            "154/154 [==============================] - 1s 6ms/step - loss: 0.7015 - acc: 0.7865 - val_loss: 0.6827 - val_acc: 0.7898\n",
            "Epoch 34/50\n",
            "154/154 [==============================] - 1s 6ms/step - loss: 0.6971 - acc: 0.7873 - val_loss: 0.6783 - val_acc: 0.7925\n",
            "Epoch 35/50\n",
            "154/154 [==============================] - 1s 6ms/step - loss: 0.6983 - acc: 0.7868 - val_loss: 0.6725 - val_acc: 0.7919\n",
            "Epoch 36/50\n",
            "154/154 [==============================] - 1s 6ms/step - loss: 0.6940 - acc: 0.7875 - val_loss: 0.6759 - val_acc: 0.7902\n",
            "Epoch 37/50\n",
            "154/154 [==============================] - 1s 6ms/step - loss: 0.6913 - acc: 0.7874 - val_loss: 0.6760 - val_acc: 0.7912\n",
            "Epoch 38/50\n",
            "154/154 [==============================] - 1s 6ms/step - loss: 0.6936 - acc: 0.7875 - val_loss: 0.6713 - val_acc: 0.7896\n",
            "Epoch 39/50\n",
            "154/154 [==============================] - 1s 6ms/step - loss: 0.6887 - acc: 0.7882 - val_loss: 0.6627 - val_acc: 0.7917\n",
            "Epoch 40/50\n",
            "154/154 [==============================] - 1s 6ms/step - loss: 0.6844 - acc: 0.7888 - val_loss: 0.6705 - val_acc: 0.7936\n",
            "Epoch 41/50\n",
            "154/154 [==============================] - 1s 6ms/step - loss: 0.6847 - acc: 0.7884 - val_loss: 0.6641 - val_acc: 0.7901\n",
            "Epoch 42/50\n",
            "154/154 [==============================] - 1s 6ms/step - loss: 0.6818 - acc: 0.7879 - val_loss: 0.6650 - val_acc: 0.7908\n",
            "Epoch 43/50\n",
            "154/154 [==============================] - 1s 6ms/step - loss: 0.6780 - acc: 0.7892 - val_loss: 0.6644 - val_acc: 0.7903\n",
            "Epoch 44/50\n",
            "154/154 [==============================] - 1s 6ms/step - loss: 0.6763 - acc: 0.7893 - val_loss: 0.6604 - val_acc: 0.7923\n",
            "Epoch 45/50\n",
            "154/154 [==============================] - 1s 6ms/step - loss: 0.6728 - acc: 0.7901 - val_loss: 0.6535 - val_acc: 0.7941\n",
            "Epoch 46/50\n",
            "154/154 [==============================] - 1s 7ms/step - loss: 0.6711 - acc: 0.7907 - val_loss: 0.6564 - val_acc: 0.7927\n",
            "Epoch 47/50\n",
            "154/154 [==============================] - 1s 7ms/step - loss: 0.6691 - acc: 0.7912 - val_loss: 0.6514 - val_acc: 0.7942\n",
            "Epoch 48/50\n",
            "154/154 [==============================] - 1s 6ms/step - loss: 0.6668 - acc: 0.7919 - val_loss: 0.6533 - val_acc: 0.7883\n",
            "Epoch 49/50\n",
            "154/154 [==============================] - 1s 6ms/step - loss: 0.6642 - acc: 0.7911 - val_loss: 0.6528 - val_acc: 0.7919\n",
            "Epoch 50/50\n",
            "154/154 [==============================] - 1s 6ms/step - loss: 0.6630 - acc: 0.7921 - val_loss: 0.6631 - val_acc: 0.7908\n"
          ],
          "name": "stdout"
        }
      ]
    },
    {
      "cell_type": "markdown",
      "metadata": {
        "id": "pG1O5ymTan4s"
      },
      "source": [
        "## 7) 觀察訓練結果"
      ]
    },
    {
      "cell_type": "code",
      "metadata": {
        "id": "OFUTBafCan4u"
      },
      "source": [
        "import matplotlib.pyplot as plt\n",
        "\n",
        "history_dict = history.history\n",
        "history_dict.keys()\n",
        "acc = history_dict['acc']\n",
        "val_acc = history_dict['val_acc']\n",
        "loss = history_dict['loss']\n",
        "val_loss = history_dict['val_loss']\n",
        "epochs_ = range(1,len(acc)+1)"
      ],
      "execution_count": 99,
      "outputs": []
    },
    {
      "cell_type": "code",
      "metadata": {
        "id": "C5PL5GAwan4x",
        "colab": {
          "base_uri": "https://localhost:8080/",
          "height": 295
        },
        "outputId": "b52e978c-75ee-4615-87ac-5702e07096f5"
      },
      "source": [
        "plt.plot(epochs_ , loss , label = 'training loss')\n",
        "plt.plot(epochs_ , val_loss , label = 'val los')\n",
        "plt.title('training and val loss')\n",
        "plt.xlabel('epochs')\n",
        "plt.ylabel('loss')\n",
        "plt.legend()\n",
        "plt.show()"
      ],
      "execution_count": 100,
      "outputs": [
        {
          "output_type": "display_data",
          "data": {
            "image/png": "[encoded data removed]",
            "text/plain": [
              "<Figure size 432x288 with 1 Axes>"
            ]
          },
          "metadata": {
            "tags": [],
            "needs_background": "light"
          }
        }
      ]
    },
    {
      "cell_type": "code",
      "metadata": {
        "id": "Ketuv_Bvan43",
        "colab": {
          "base_uri": "https://localhost:8080/",
          "height": 295
        },
        "outputId": "9ab5c2b3-8f51-4ac9-b1ff-99a5ffb16e52"
      },
      "source": [
        "plt.clf()\n",
        "plt.plot(epochs_ , acc , label='train accuracy')\n",
        "plt.plot(epochs_ , val_acc , label = 'val accuracy')\n",
        "plt.title('train and val acc')\n",
        "plt.xlabel('epochs')\n",
        "plt.ylabel('acc')\n",
        "plt.legend()\n",
        "plt.show()"
      ],
      "execution_count": 101,
      "outputs": [
        {
          "output_type": "display_data",
          "data": {
            "image/png": "[encoded data removed]",
            "text/plain": [
              "<Figure size 432x288 with 1 Axes>"
            ]
          },
          "metadata": {
            "tags": [],
            "needs_background": "light"
          }
        }
      ]
    },
    {
      "cell_type": "markdown",
      "metadata": {
        "id": "PR5QIun7an47"
      },
      "source": [
        "## 8) 測試"
      ]
    },
    {
      "cell_type": "code",
      "metadata": {
        "id": "rdG9q4M9an47",
        "colab": {
          "base_uri": "https://localhost:8080/"
        },
        "outputId": "d9dbb600-3f1e-47f3-cae9-7d378f4193da"
      },
      "source": [
        "from sklearn.metrics import accuracy_score\n",
        "label=np.argmax(y,axis=1)\n",
        "pred =  np.argmax(model.predict(X), axis=1)\n",
        "# print(pred.shape)\n",
        "print(accuracy_score(label, pred))\n",
        "# print(y)"
      ],
      "execution_count": 102,
      "outputs": [
        {
          "output_type": "stream",
          "text": [
            "0.7904514943132396\n"
          ],
          "name": "stdout"
        }
      ]
    },
    {
      "cell_type": "code",
      "metadata": {
        "id": "JNWE7Fe8uBzn",
        "colab": {
          "base_uri": "https://localhost:8080/"
        },
        "outputId": "07aa9adf-52fd-4cbf-b062-a12e7b26eb5c"
      },
      "source": [
        "!pip install eli5"
      ],
      "execution_count": 103,
      "outputs": [
        {
          "output_type": "stream",
          "text": [
            "Requirement already satisfied: eli5 in /usr/local/lib/python3.6/dist-packages (0.10.1)\n",
            "Requirement already satisfied: scipy in /usr/local/lib/python3.6/dist-packages (from eli5) (1.4.1)\n",
            "Requirement already satisfied: jinja2 in /usr/local/lib/python3.6/dist-packages (from eli5) (2.11.2)\n",
            "Requirement already satisfied: numpy>=1.9.0 in /usr/local/lib/python3.6/dist-packages (from eli5) (1.18.5)\n",
            "Requirement already satisfied: graphviz in /usr/local/lib/python3.6/dist-packages (from eli5) (0.10.1)\n",
            "Requirement already satisfied: six in /usr/local/lib/python3.6/dist-packages (from eli5) (1.15.0)\n",
            "Requirement already satisfied: attrs>16.0.0 in /usr/local/lib/python3.6/dist-packages (from eli5) (20.2.0)\n",
            "Requirement already satisfied: tabulate>=0.7.7 in /usr/local/lib/python3.6/dist-packages (from eli5) (0.8.7)\n",
            "Requirement already satisfied: scikit-learn>=0.18 in /usr/local/lib/python3.6/dist-packages (from eli5) (0.22.2.post1)\n",
            "Requirement already satisfied: MarkupSafe>=0.23 in /usr/local/lib/python3.6/dist-packages (from jinja2->eli5) (1.1.1)\n",
            "Requirement already satisfied: joblib>=0.11 in /usr/local/lib/python3.6/dist-packages (from scikit-learn>=0.18->eli5) (0.17.0)\n"
          ],
          "name": "stdout"
        }
      ]
    },
    {
      "cell_type": "markdown",
      "metadata": {
        "id": "wNxXer-qOlwj"
      },
      "source": [
        "## 9) 檢查特徵重要性\n",
        "> https://eli5.readthedocs.io/en/latest/blackbox/permutation_importance.html\n",
        "> https://www.mdeditor.tw/pl/pgi5/zh-tw\n",
        "\n",
        "> 針對BlackBox模型或非sklearn模型，使用排列重要性方法\n",
        "\n",
        "\n",
        "> 捨棄重要性低、增加損失的features特徵，重新建模訓練。\n",
        "\n",
        "\n",
        "> \n",
        "\n",
        "\n",
        "\n",
        "\n",
        "\n",
        "\n",
        "\n",
        "\n",
        "\n",
        "\n",
        "\n",
        "\n"
      ]
    },
    {
      "cell_type": "code",
      "metadata": {
        "id": "p-t6pvZman4_"
      },
      "source": [
        "# import numpy as np\n",
        "from eli5.permutation_importance import get_score_importances\n",
        "\n",
        "# ... load data, define score function\n",
        "def score(X, y):\n",
        "    y_pred = np.argmax(model.predict(X), axis=1)\n",
        "    return accuracy_score(y, y_pred)\n",
        "\n",
        "lab=np.argmax(y_train,axis=1)\n",
        "base_score, score_decreases = get_score_importances(score, X_train.values, lab)\n",
        "feature_importances = np.mean(score_decreases, axis=0)\n",
        "\n"
      ],
      "execution_count": 104,
      "outputs": []
    },
    {
      "cell_type": "code",
      "metadata": {
        "id": "uz2cPz1KQtQy",
        "colab": {
          "base_uri": "https://localhost:8080/"
        },
        "outputId": "3e99c110-a3c1-4221-e3e6-d5b67f37b449"
      },
      "source": [
        "# print(feature_importances)\n",
        "feature_importance_dict = {}\n",
        "for i, feature_name in enumerate(X.columns.values.tolist()) :\n",
        "\tfeature_importance_dict[feature_name]=feature_importances[i]\n",
        "\n",
        "# print(dict(sorted(feature_importance_dict.items(), key=lambda x:x[1],reverse=True)[:5]))\n",
        "sorted_fi = dict(sorted(feature_importance_dict.items(), key=lambda x:x[1],reverse=True))\n",
        "for name,i in sorted_fi.items():\n",
        "  print(name, i)"
      ],
      "execution_count": 105,
      "outputs": [
        {
          "output_type": "stream",
          "text": [
            "破瓶數量 0.215820076667878\n",
            "加熱箱六水道溫度 0.20797275594058817\n",
            "最多成型時間 0.10959872454661615\n",
            "第八穴壓力檢測 0.10156149256180902\n",
            "加熱箱三水道溫度 0.0835726762247517\n",
            "第七層燈管加熱% 0.05318453043855427\n",
            "第六層燈管加熱% 0.04642275183756721\n",
            "滾筒速度 0.03992473887202086\n",
            "加熱箱二水道溫度 0.03590026142105194\n",
            "第一穴壓力檢測 0.024537237846265623\n",
            "加熱箱七水道溫度 0.02437428929814891\n",
            "加熱箱四水道溫度 0.022802246110922207\n",
            "第四穴壓力檢測 0.020679225818552638\n",
            "第八層燈管加熱% 0.01685286566709252\n",
            "加熱箱一水道溫度 0.013881106174460367\n",
            "加熱箱八水道溫度 0.013219933648288973\n",
            "加熱箱五水道溫度 0.011667819420184466\n",
            "第三穴壓力檢測 0.011277446279732217\n",
            "第六穴壓力檢測 0.010455669788870225\n",
            "第五穴壓力檢測 0.005559007303377328\n",
            "第四層燈管加熱% 0.002038615289028489\n",
            "第二層燈管加熱% 0.001997585079071018\n",
            "第一層燈管加熱% 0.0015708708955135986\n",
            "第二穴壓力檢測 0.0012801425506722586\n",
            "第三層燈管加熱% 0.0011593965042260735\n",
            "第七穴壓力檢測 0.0010515456666236433\n",
            "預吹壓力 0.0008428777416972011\n",
            "高壓壓力 0.0007479221129385483\n",
            "破瓶壓力檢測值設定 0.0004630552266625232\n",
            "第五層燈管加熱% 0.0004220250167051187\n",
            "低壓壓力 0.00011254000445466427\n",
            "破瓶數增加 -1.172291713080753e-06\n",
            "回收壓力 -5.27531270881898e-05\n"
          ],
          "name": "stdout"
        }
      ]
    }
  ]
}