{
  "nbformat": 4,
  "nbformat_minor": 0,
  "metadata": {
    "colab": {
      "name": "A1L02001_log_20201120 (DNN-tensorflow2.0)-Sequential.ipynb",
      "provenance": [],
      "collapsed_sections": [],
      "toc_visible": true,
      "authorship_tag": "ABX9TyNZj58FJWZAnlJrvHtLPaG3",
      "include_colab_link": true
    },
    "kernelspec": {
      "name": "python3",
      "display_name": "Python 3"
    }
  },
  "cells": [
    {
      "cell_type": "markdown",
      "metadata": {
        "id": "view-in-github",
        "colab_type": "text"
      },
      "source": [
        "<a href=\"https://colab.research.google.com/github/tempzeba/iot_test_public/blob/main/A1L02001_log_20201120_(DNN_tensorflow2_0)_Sequential.ipynb\" target=\"_parent\"><img src=\"https://colab.research.google.com/assets/colab-badge.svg\" alt=\"Open In Colab\"/></a>"
      ]
    },
    {
      "cell_type": "markdown",
      "metadata": {
        "id": "1Y0w5q6AUmMa"
      },
      "source": [
        "## 0) 程式說明\n",
        "### 目的：A1L02001 IOT異常分析\n",
        "### 運行環境："
      ]
    },
    {
      "cell_type": "code",
      "metadata": {
        "id": "JhSdZF2NW8Xs"
      },
      "source": [
        "import sys\n",
        "print(\"python版本:%s\"% sys.version)"
      ],
      "execution_count": null,
      "outputs": []
    },
    {
      "cell_type": "code",
      "metadata": {
        "id": "bIVId25Van3a"
      },
      "source": [
        "import warnings\n",
        "import pandas as pd\n",
        "import numpy as np\n",
        "import matplotlib.pyplot as plt\n",
        "warnings.filterwarnings(\"ignore\")"
      ],
      "execution_count": null,
      "outputs": []
    },
    {
      "cell_type": "code",
      "metadata": {
        "id": "fO_R1c3PN9ab"
      },
      "source": [
        "# pip install urllib3"
      ],
      "execution_count": null,
      "outputs": []
    },
    {
      "cell_type": "code",
      "metadata": {
        "colab": {
          "base_uri": "https://localhost:8080/"
        },
        "id": "6oGSyTzFDaWj",
        "outputId": "0dff92d9-96f1-4268-9867-a393e976b424"
      },
      "source": [
        "\n",
        "zdata = 'https://github.com/tempzeba/iot_test_public/releases/download/iot_data/A1L02001.zip'\n",
        "\n",
        "# try:\n",
        "#     from urllib.request import urlopen\n",
        "# except ImportError:\n",
        "#     from urllib2 import urlopen\n",
        "\n",
        "from urllib.request import urlopen\n",
        "from io import BytesIO\n",
        "import zipfile\n",
        "\n",
        "import pandas as pd\n",
        "\n",
        "# Dictionary holding all the dataframes from all zip/zip/csvs\n",
        "df_train = pd.DataFrame()\n",
        "\n",
        "\n",
        "def zip_to_dfs(data):\n",
        "    global df_train\n",
        "    zip_file = zipfile.ZipFile(BytesIO(data))\n",
        "\n",
        "    for name in zip_file.namelist():\n",
        "        if name.lower().endswith('.csv'):\n",
        "            df_train = df_train.append(pd.read_csv(zip_file.open(name), sep='\\t'))\n",
        "        elif name.lower().endswith('.zip'):\n",
        "            zip_to_dfs(zip_file.open(name).read())\n",
        "        # print(dfs)\n",
        "\n",
        "\n",
        "def get_zip_data_from_url(url):\n",
        "    req = urlopen(url)\n",
        "    zip_to_dfs(req.read())\n",
        "\n",
        "\n",
        "final_links_list = [\n",
        "    'https://github.com/tempzeba/iot_test_public/releases/download/iot_data/A1L02001.zip']\n",
        "\n",
        "for link in final_links_list:\n",
        "    print(link)\n",
        "    get_zip_data_from_url(link)\n",
        "\n",
        "# Display the first couple of dataframes    \n",
        "# for name, df in sorted(dfs.items())[:2]:\n",
        "#     print('\\n', name, '\\n')\n",
        "#     print(df)\n",
        "\n",
        "# print(dfs)"
      ],
      "execution_count": 51,
      "outputs": [
        {
          "output_type": "stream",
          "text": [
            "https://github.com/tempzeba/iot_test_public/releases/download/iot_data/A1L02001.zip\n"
          ],
          "name": "stdout"
        }
      ]
    },
    {
      "cell_type": "markdown",
      "metadata": {
        "id": "a5wddLSban3o"
      },
      "source": [
        "## 1) 載入資料集"
      ]
    },
    {
      "cell_type": "code",
      "metadata": {
        "id": "GA-bjU2pan3p",
        "colab": {
          "base_uri": "https://localhost:8080/",
          "height": 1000
        },
        "outputId": "6ee23352-aac0-42b9-9110-2c892e507fb5"
      },
      "source": [
        "# df_train = pd.read_csv('./data/Iris.csv')\n",
        "# df_train = pd.read_csv('https://github.com/tempzeba/iot_test_public/releases/download/iot_data/A1L02001_log_01.csv', sep='\\t')\n",
        "df_train = df_train.drop(labels=[r'收集日期', \n",
        "r'抽樣秒', \n",
        "r'位址區段E32768紀錄時間', \n",
        "r'位址區段G32768紀錄時間', \n",
        "r'位址區段G12288紀錄時間',\n",
        "r'機台編號',\n",
        "r'目前生產配方'\n",
        ",\n",
        " '壓力檢測啟動',\n",
        " 'Cycle_Time',\n",
        " '第一穴預吹延遲',\n",
        " '第二穴預吹延遲',\n",
        " '第三穴預吹延遲',\n",
        " '第四穴預吹延遲',\n",
        " '第五穴預吹延遲',\n",
        " '第六穴預吹延遲',\n",
        " '第七穴預吹延遲',\n",
        " '第八穴預吹延遲',\n",
        " '第九穴預吹延遲',\n",
        " '第十穴預吹延遲',\n",
        " '第一穴高壓延遲',\n",
        " '第二穴高壓延遲',\n",
        " '第三穴高壓延遲',\n",
        " '第四穴高壓延遲',\n",
        " '第五穴高壓延遲',\n",
        " '第六穴高壓延遲',\n",
        " '第七穴高壓延遲',\n",
        " '第八穴高壓延遲',\n",
        " '第九穴高壓延遲',\n",
        " '第十穴高壓延遲',\n",
        " '第一穴吹高壓時間',\n",
        " '第二穴吹高壓時間',\n",
        " '第三穴吹高壓時間',\n",
        " '第四穴吹高壓時間',\n",
        " '第五穴吹高壓時間',\n",
        " '第六穴吹高壓時間',\n",
        " '第七穴吹高壓時間',\n",
        " '第八穴吹高壓時間',\n",
        " '第九穴吹高壓時間',\n",
        " '第十穴吹高壓時間',\n",
        " '第一穴排氣時間',\n",
        " '第二穴排氣時間',\n",
        " '第三穴排氣時間',\n",
        " '第四穴排氣時間',\n",
        " '第五穴排氣時間',\n",
        " '第六穴排氣時間',\n",
        " '第七穴排氣時間',\n",
        " '第八穴排氣時間',\n",
        " '第九穴排氣時間',\n",
        " '第十穴排氣時間',\n",
        " '第九層燈管加熱%',\n",
        " '第十層燈管加熱%',\n",
        " '產能',\n",
        " '吹氣鼓風機轉速',\n",
        " '吸氣鼓風機轉速',\n",
        " '自轉馬達轉速',\n",
        " '整列滾筒調速',\n",
        " '牙口鼓風機轉速',\n",
        " '入胚啟動位置',\n",
        " '入胚啟動延時',\n",
        " '震動馬達震動時間',\n",
        " '震動馬達震動循環時間',\n",
        " '第九穴壓力檢測',\n",
        " '第十穴壓力檢測',\n",
        "#  '破瓶數增加',\n",
        " '入胚啟動',\n",
        " '加熱啟動',\n",
        " '吹瓶啟動',\n",
        " '機台異常或無異常',\n",
        " '自動或手動',\n",
        " '總生產數量',\n",
        " '機台是否正常(0~59s)'\n",
        "\n",
        "],axis=1) \n",
        "\n",
        "# 調整資料集\n",
        "# 1. 只取有異常部分\n",
        "# 2. 計算有異常資料筆數\n",
        "# 3. 從無異常資料隨機抽出k筆資料與異常資料合併作為投入模型的資料集。k=異常資料筆數\n",
        "mask = df_train[r'異常代碼'] > 0\n",
        "target_count = mask.sum()\n",
        "df_train_noerr = df_train[df_train[r'異常代碼'] == 0].sample(n=target_count,random_state=123,axis=0)\n",
        "df_train = df_train[mask]\n",
        "df_train = df_train.append(df_train_noerr,ignore_index=True)\n",
        "df_train.describe().transpose()"
      ],
      "execution_count": 52,
      "outputs": [
        {
          "output_type": "execute_result",
          "data": {
            "text/html": [
              "<div>\n",
              "<style scoped>\n",
              "    .dataframe tbody tr th:only-of-type {\n",
              "        vertical-align: middle;\n",
              "    }\n",
              "\n",
              "    .dataframe tbody tr th {\n",
              "        vertical-align: top;\n",
              "    }\n",
              "\n",
              "    .dataframe thead th {\n",
              "        text-align: right;\n",
              "    }\n",
              "</style>\n",
              "<table border=\"1\" class=\"dataframe\">\n",
              "  <thead>\n",
              "    <tr style=\"text-align: right;\">\n",
              "      <th></th>\n",
              "      <th>count</th>\n",
              "      <th>mean</th>\n",
              "      <th>std</th>\n",
              "      <th>min</th>\n",
              "      <th>25%</th>\n",
              "      <th>50%</th>\n",
              "      <th>75%</th>\n",
              "      <th>max</th>\n",
              "    </tr>\n",
              "  </thead>\n",
              "  <tbody>\n",
              "    <tr>\n",
              "      <th>低壓壓力</th>\n",
              "      <td>106896.0</td>\n",
              "      <td>8.232200</td>\n",
              "      <td>0.173758</td>\n",
              "      <td>0.0</td>\n",
              "      <td>8.1</td>\n",
              "      <td>8.2</td>\n",
              "      <td>8.3</td>\n",
              "      <td>9.1</td>\n",
              "    </tr>\n",
              "    <tr>\n",
              "      <th>高壓壓力</th>\n",
              "      <td>106896.0</td>\n",
              "      <td>31.274447</td>\n",
              "      <td>1.827459</td>\n",
              "      <td>0.0</td>\n",
              "      <td>30.9</td>\n",
              "      <td>31.7</td>\n",
              "      <td>32.5</td>\n",
              "      <td>33.9</td>\n",
              "    </tr>\n",
              "    <tr>\n",
              "      <th>回收壓力</th>\n",
              "      <td>106896.0</td>\n",
              "      <td>10.896990</td>\n",
              "      <td>0.886160</td>\n",
              "      <td>0.0</td>\n",
              "      <td>10.3</td>\n",
              "      <td>10.6</td>\n",
              "      <td>11.0</td>\n",
              "      <td>13.4</td>\n",
              "    </tr>\n",
              "    <tr>\n",
              "      <th>預吹壓力</th>\n",
              "      <td>106896.0</td>\n",
              "      <td>10.540034</td>\n",
              "      <td>0.715017</td>\n",
              "      <td>1.0</td>\n",
              "      <td>10.1</td>\n",
              "      <td>10.3</td>\n",
              "      <td>10.8</td>\n",
              "      <td>12.8</td>\n",
              "    </tr>\n",
              "    <tr>\n",
              "      <th>最多成型時間</th>\n",
              "      <td>106896.0</td>\n",
              "      <td>984.894308</td>\n",
              "      <td>469.635332</td>\n",
              "      <td>3.0</td>\n",
              "      <td>831.0</td>\n",
              "      <td>942.0</td>\n",
              "      <td>945.0</td>\n",
              "      <td>9999.0</td>\n",
              "    </tr>\n",
              "    <tr>\n",
              "      <th>第一層燈管加熱%</th>\n",
              "      <td>106896.0</td>\n",
              "      <td>68.944198</td>\n",
              "      <td>4.754437</td>\n",
              "      <td>40.0</td>\n",
              "      <td>67.0</td>\n",
              "      <td>69.0</td>\n",
              "      <td>72.0</td>\n",
              "      <td>87.0</td>\n",
              "    </tr>\n",
              "    <tr>\n",
              "      <th>第二層燈管加熱%</th>\n",
              "      <td>106896.0</td>\n",
              "      <td>50.550123</td>\n",
              "      <td>13.001179</td>\n",
              "      <td>40.0</td>\n",
              "      <td>41.0</td>\n",
              "      <td>41.0</td>\n",
              "      <td>67.0</td>\n",
              "      <td>76.0</td>\n",
              "    </tr>\n",
              "    <tr>\n",
              "      <th>第三層燈管加熱%</th>\n",
              "      <td>106896.0</td>\n",
              "      <td>34.221692</td>\n",
              "      <td>8.538347</td>\n",
              "      <td>16.0</td>\n",
              "      <td>25.0</td>\n",
              "      <td>40.0</td>\n",
              "      <td>40.0</td>\n",
              "      <td>71.0</td>\n",
              "    </tr>\n",
              "    <tr>\n",
              "      <th>第四層燈管加熱%</th>\n",
              "      <td>106896.0</td>\n",
              "      <td>31.018710</td>\n",
              "      <td>12.814023</td>\n",
              "      <td>10.0</td>\n",
              "      <td>15.0</td>\n",
              "      <td>40.0</td>\n",
              "      <td>40.0</td>\n",
              "      <td>48.0</td>\n",
              "    </tr>\n",
              "    <tr>\n",
              "      <th>第五層燈管加熱%</th>\n",
              "      <td>106896.0</td>\n",
              "      <td>47.836785</td>\n",
              "      <td>3.723736</td>\n",
              "      <td>10.0</td>\n",
              "      <td>45.0</td>\n",
              "      <td>47.0</td>\n",
              "      <td>50.0</td>\n",
              "      <td>55.0</td>\n",
              "    </tr>\n",
              "    <tr>\n",
              "      <th>第六層燈管加熱%</th>\n",
              "      <td>106896.0</td>\n",
              "      <td>66.973535</td>\n",
              "      <td>7.740347</td>\n",
              "      <td>37.0</td>\n",
              "      <td>66.0</td>\n",
              "      <td>67.5</td>\n",
              "      <td>70.0</td>\n",
              "      <td>98.0</td>\n",
              "    </tr>\n",
              "    <tr>\n",
              "      <th>第七層燈管加熱%</th>\n",
              "      <td>106896.0</td>\n",
              "      <td>41.724143</td>\n",
              "      <td>16.812947</td>\n",
              "      <td>20.0</td>\n",
              "      <td>20.0</td>\n",
              "      <td>47.0</td>\n",
              "      <td>49.0</td>\n",
              "      <td>85.0</td>\n",
              "    </tr>\n",
              "    <tr>\n",
              "      <th>第八層燈管加熱%</th>\n",
              "      <td>106896.0</td>\n",
              "      <td>33.391352</td>\n",
              "      <td>10.522288</td>\n",
              "      <td>20.0</td>\n",
              "      <td>20.0</td>\n",
              "      <td>38.0</td>\n",
              "      <td>40.0</td>\n",
              "      <td>58.0</td>\n",
              "    </tr>\n",
              "    <tr>\n",
              "      <th>滾筒速度</th>\n",
              "      <td>106896.0</td>\n",
              "      <td>34.493592</td>\n",
              "      <td>5.675107</td>\n",
              "      <td>20.0</td>\n",
              "      <td>30.0</td>\n",
              "      <td>35.0</td>\n",
              "      <td>35.0</td>\n",
              "      <td>47.0</td>\n",
              "    </tr>\n",
              "    <tr>\n",
              "      <th>第一穴壓力檢測</th>\n",
              "      <td>106896.0</td>\n",
              "      <td>27.250003</td>\n",
              "      <td>7.306310</td>\n",
              "      <td>0.0</td>\n",
              "      <td>27.3</td>\n",
              "      <td>28.3</td>\n",
              "      <td>30.8</td>\n",
              "      <td>33.9</td>\n",
              "    </tr>\n",
              "    <tr>\n",
              "      <th>第二穴壓力檢測</th>\n",
              "      <td>106896.0</td>\n",
              "      <td>27.543654</td>\n",
              "      <td>6.842164</td>\n",
              "      <td>0.0</td>\n",
              "      <td>27.3</td>\n",
              "      <td>28.3</td>\n",
              "      <td>31.0</td>\n",
              "      <td>33.4</td>\n",
              "    </tr>\n",
              "    <tr>\n",
              "      <th>第三穴壓力檢測</th>\n",
              "      <td>106896.0</td>\n",
              "      <td>25.106522</td>\n",
              "      <td>9.832677</td>\n",
              "      <td>0.0</td>\n",
              "      <td>27.0</td>\n",
              "      <td>27.9</td>\n",
              "      <td>29.9</td>\n",
              "      <td>33.4</td>\n",
              "    </tr>\n",
              "    <tr>\n",
              "      <th>第四穴壓力檢測</th>\n",
              "      <td>106896.0</td>\n",
              "      <td>20.255447</td>\n",
              "      <td>13.002600</td>\n",
              "      <td>0.0</td>\n",
              "      <td>0.1</td>\n",
              "      <td>27.5</td>\n",
              "      <td>28.5</td>\n",
              "      <td>32.7</td>\n",
              "    </tr>\n",
              "    <tr>\n",
              "      <th>第五穴壓力檢測</th>\n",
              "      <td>106896.0</td>\n",
              "      <td>19.205084</td>\n",
              "      <td>13.115879</td>\n",
              "      <td>0.0</td>\n",
              "      <td>0.0</td>\n",
              "      <td>27.0</td>\n",
              "      <td>28.0</td>\n",
              "      <td>32.2</td>\n",
              "    </tr>\n",
              "    <tr>\n",
              "      <th>第六穴壓力檢測</th>\n",
              "      <td>106896.0</td>\n",
              "      <td>18.753952</td>\n",
              "      <td>13.229958</td>\n",
              "      <td>0.0</td>\n",
              "      <td>0.0</td>\n",
              "      <td>26.9</td>\n",
              "      <td>27.9</td>\n",
              "      <td>32.1</td>\n",
              "    </tr>\n",
              "    <tr>\n",
              "      <th>第七穴壓力檢測</th>\n",
              "      <td>106896.0</td>\n",
              "      <td>17.801315</td>\n",
              "      <td>13.503554</td>\n",
              "      <td>0.0</td>\n",
              "      <td>0.0</td>\n",
              "      <td>26.8</td>\n",
              "      <td>27.8</td>\n",
              "      <td>32.8</td>\n",
              "    </tr>\n",
              "    <tr>\n",
              "      <th>第八穴壓力檢測</th>\n",
              "      <td>106896.0</td>\n",
              "      <td>16.069055</td>\n",
              "      <td>13.775439</td>\n",
              "      <td>0.0</td>\n",
              "      <td>0.0</td>\n",
              "      <td>26.6</td>\n",
              "      <td>27.6</td>\n",
              "      <td>32.8</td>\n",
              "    </tr>\n",
              "    <tr>\n",
              "      <th>破瓶壓力檢測值設定</th>\n",
              "      <td>106896.0</td>\n",
              "      <td>22.856197</td>\n",
              "      <td>1.488448</td>\n",
              "      <td>0.0</td>\n",
              "      <td>22.0</td>\n",
              "      <td>23.0</td>\n",
              "      <td>24.0</td>\n",
              "      <td>25.0</td>\n",
              "    </tr>\n",
              "    <tr>\n",
              "      <th>加熱箱一水道溫度</th>\n",
              "      <td>106896.0</td>\n",
              "      <td>51.955841</td>\n",
              "      <td>12.874794</td>\n",
              "      <td>19.6</td>\n",
              "      <td>40.5</td>\n",
              "      <td>60.6</td>\n",
              "      <td>62.6</td>\n",
              "      <td>96.7</td>\n",
              "    </tr>\n",
              "    <tr>\n",
              "      <th>加熱箱二水道溫度</th>\n",
              "      <td>106896.0</td>\n",
              "      <td>52.318440</td>\n",
              "      <td>12.451645</td>\n",
              "      <td>20.4</td>\n",
              "      <td>41.9</td>\n",
              "      <td>60.2</td>\n",
              "      <td>62.5</td>\n",
              "      <td>97.8</td>\n",
              "    </tr>\n",
              "    <tr>\n",
              "      <th>加熱箱三水道溫度</th>\n",
              "      <td>106896.0</td>\n",
              "      <td>56.159925</td>\n",
              "      <td>14.571833</td>\n",
              "      <td>20.0</td>\n",
              "      <td>44.1</td>\n",
              "      <td>66.0</td>\n",
              "      <td>68.1</td>\n",
              "      <td>102.6</td>\n",
              "    </tr>\n",
              "    <tr>\n",
              "      <th>加熱箱四水道溫度</th>\n",
              "      <td>106896.0</td>\n",
              "      <td>54.914361</td>\n",
              "      <td>13.576216</td>\n",
              "      <td>20.6</td>\n",
              "      <td>43.5</td>\n",
              "      <td>64.0</td>\n",
              "      <td>66.0</td>\n",
              "      <td>94.3</td>\n",
              "    </tr>\n",
              "    <tr>\n",
              "      <th>加熱箱五水道溫度</th>\n",
              "      <td>106896.0</td>\n",
              "      <td>47.781464</td>\n",
              "      <td>10.742114</td>\n",
              "      <td>20.0</td>\n",
              "      <td>38.4</td>\n",
              "      <td>54.7</td>\n",
              "      <td>56.4</td>\n",
              "      <td>96.3</td>\n",
              "    </tr>\n",
              "    <tr>\n",
              "      <th>加熱箱六水道溫度</th>\n",
              "      <td>106896.0</td>\n",
              "      <td>61.925985</td>\n",
              "      <td>17.757968</td>\n",
              "      <td>20.2</td>\n",
              "      <td>47.1</td>\n",
              "      <td>73.7</td>\n",
              "      <td>76.4</td>\n",
              "      <td>105.6</td>\n",
              "    </tr>\n",
              "    <tr>\n",
              "      <th>加熱箱七水道溫度</th>\n",
              "      <td>106896.0</td>\n",
              "      <td>56.388694</td>\n",
              "      <td>14.522057</td>\n",
              "      <td>20.9</td>\n",
              "      <td>44.1</td>\n",
              "      <td>65.6</td>\n",
              "      <td>68.0</td>\n",
              "      <td>94.4</td>\n",
              "    </tr>\n",
              "    <tr>\n",
              "      <th>加熱箱八水道溫度</th>\n",
              "      <td>106896.0</td>\n",
              "      <td>52.942143</td>\n",
              "      <td>12.738950</td>\n",
              "      <td>20.9</td>\n",
              "      <td>42.4</td>\n",
              "      <td>61.4</td>\n",
              "      <td>62.9</td>\n",
              "      <td>98.9</td>\n",
              "    </tr>\n",
              "    <tr>\n",
              "      <th>破瓶數量</th>\n",
              "      <td>106896.0</td>\n",
              "      <td>1000.627030</td>\n",
              "      <td>310.072853</td>\n",
              "      <td>574.0</td>\n",
              "      <td>647.0</td>\n",
              "      <td>1259.0</td>\n",
              "      <td>1305.0</td>\n",
              "      <td>1336.0</td>\n",
              "    </tr>\n",
              "    <tr>\n",
              "      <th>異常代碼</th>\n",
              "      <td>106896.0</td>\n",
              "      <td>40.760178</td>\n",
              "      <td>53.778770</td>\n",
              "      <td>0.0</td>\n",
              "      <td>0.0</td>\n",
              "      <td>0.5</td>\n",
              "      <td>107.0</td>\n",
              "      <td>192.0</td>\n",
              "    </tr>\n",
              "    <tr>\n",
              "      <th>破瓶數增加</th>\n",
              "      <td>106896.0</td>\n",
              "      <td>0.000150</td>\n",
              "      <td>0.012233</td>\n",
              "      <td>0.0</td>\n",
              "      <td>0.0</td>\n",
              "      <td>0.0</td>\n",
              "      <td>0.0</td>\n",
              "      <td>1.0</td>\n",
              "    </tr>\n",
              "  </tbody>\n",
              "</table>\n",
              "</div>"
            ],
            "text/plain": [
              "              count         mean         std  ...     50%     75%     max\n",
              "低壓壓力       106896.0     8.232200    0.173758  ...     8.2     8.3     9.1\n",
              "高壓壓力       106896.0    31.274447    1.827459  ...    31.7    32.5    33.9\n",
              "回收壓力       106896.0    10.896990    0.886160  ...    10.6    11.0    13.4\n",
              "預吹壓力       106896.0    10.540034    0.715017  ...    10.3    10.8    12.8\n",
              "最多成型時間     106896.0   984.894308  469.635332  ...   942.0   945.0  9999.0\n",
              "第一層燈管加熱%   106896.0    68.944198    4.754437  ...    69.0    72.0    87.0\n",
              "第二層燈管加熱%   106896.0    50.550123   13.001179  ...    41.0    67.0    76.0\n",
              "第三層燈管加熱%   106896.0    34.221692    8.538347  ...    40.0    40.0    71.0\n",
              "第四層燈管加熱%   106896.0    31.018710   12.814023  ...    40.0    40.0    48.0\n",
              "第五層燈管加熱%   106896.0    47.836785    3.723736  ...    47.0    50.0    55.0\n",
              "第六層燈管加熱%   106896.0    66.973535    7.740347  ...    67.5    70.0    98.0\n",
              "第七層燈管加熱%   106896.0    41.724143   16.812947  ...    47.0    49.0    85.0\n",
              "第八層燈管加熱%   106896.0    33.391352   10.522288  ...    38.0    40.0    58.0\n",
              "滾筒速度       106896.0    34.493592    5.675107  ...    35.0    35.0    47.0\n",
              "第一穴壓力檢測    106896.0    27.250003    7.306310  ...    28.3    30.8    33.9\n",
              "第二穴壓力檢測    106896.0    27.543654    6.842164  ...    28.3    31.0    33.4\n",
              "第三穴壓力檢測    106896.0    25.106522    9.832677  ...    27.9    29.9    33.4\n",
              "第四穴壓力檢測    106896.0    20.255447   13.002600  ...    27.5    28.5    32.7\n",
              "第五穴壓力檢測    106896.0    19.205084   13.115879  ...    27.0    28.0    32.2\n",
              "第六穴壓力檢測    106896.0    18.753952   13.229958  ...    26.9    27.9    32.1\n",
              "第七穴壓力檢測    106896.0    17.801315   13.503554  ...    26.8    27.8    32.8\n",
              "第八穴壓力檢測    106896.0    16.069055   13.775439  ...    26.6    27.6    32.8\n",
              "破瓶壓力檢測值設定  106896.0    22.856197    1.488448  ...    23.0    24.0    25.0\n",
              "加熱箱一水道溫度   106896.0    51.955841   12.874794  ...    60.6    62.6    96.7\n",
              "加熱箱二水道溫度   106896.0    52.318440   12.451645  ...    60.2    62.5    97.8\n",
              "加熱箱三水道溫度   106896.0    56.159925   14.571833  ...    66.0    68.1   102.6\n",
              "加熱箱四水道溫度   106896.0    54.914361   13.576216  ...    64.0    66.0    94.3\n",
              "加熱箱五水道溫度   106896.0    47.781464   10.742114  ...    54.7    56.4    96.3\n",
              "加熱箱六水道溫度   106896.0    61.925985   17.757968  ...    73.7    76.4   105.6\n",
              "加熱箱七水道溫度   106896.0    56.388694   14.522057  ...    65.6    68.0    94.4\n",
              "加熱箱八水道溫度   106896.0    52.942143   12.738950  ...    61.4    62.9    98.9\n",
              "破瓶數量       106896.0  1000.627030  310.072853  ...  1259.0  1305.0  1336.0\n",
              "異常代碼       106896.0    40.760178   53.778770  ...     0.5   107.0   192.0\n",
              "破瓶數增加      106896.0     0.000150    0.012233  ...     0.0     0.0     1.0\n",
              "\n",
              "[34 rows x 8 columns]"
            ]
          },
          "metadata": {
            "tags": []
          },
          "execution_count": 52
        }
      ]
    },
    {
      "cell_type": "markdown",
      "metadata": {
        "id": "r1M7a4iian3u"
      },
      "source": [
        "## 2) 手動編碼\n",
        "處理名目資料 (Nominal variables) - 資料前處理\n",
        "依據特徵資料的特性，可以選擇手動編碼或自動編碼。\n",
        "\n",
        "### 使用編碼時機?\n",
        "進行深度學習時，神經網路只能處理數值資料。因此我們需要將所有非數字型態的特徵進行轉換。\n",
        "\n",
        "### 註：\n",
        "略。(IOT原始資料已經一次前處理)"
      ]
    },
    {
      "cell_type": "markdown",
      "metadata": {
        "id": "txpEEPgAan36"
      },
      "source": [
        "## 3) 檢查缺失值\n",
        "使用 numpy 所提供的函式來檢查是否有 NA 缺失值，假設有缺失值使用dropna()來移除。使用的時機在於當只有少量的缺失值適用，若遇到有大量缺失值的情況，或是本身的資料量就很少的情況下建議可以透過機器學習的方法補值來預測缺失值。\n",
        "### 註：\n",
        "略。(IOT原始資料已經一次前處理)"
      ]
    },
    {
      "cell_type": "markdown",
      "metadata": {
        "id": "gNBeqTcUan4A"
      },
      "source": [
        "## 4) 將輸出特徵做one-hot encoding\n",
        "如何對欄位class做one-hot encoding？"
      ]
    },
    {
      "cell_type": "code",
      "metadata": {
        "id": "iQFh4fj0an4C",
        "colab": {
          "base_uri": "https://localhost:8080/"
        },
        "outputId": "3c6422d1-f496-4ca0-97f7-f4b73cff53f9"
      },
      "source": [
        "from tensorflow.keras.utils import to_categorical\n",
        "y = to_categorical(df_train[r'異常代碼'])\n",
        "y"
      ],
      "execution_count": 53,
      "outputs": [
        {
          "output_type": "execute_result",
          "data": {
            "text/plain": [
              "array([[0., 0., 0., ..., 0., 0., 0.],\n",
              "       [0., 0., 0., ..., 0., 0., 0.],\n",
              "       [0., 0., 0., ..., 0., 0., 0.],\n",
              "       ...,\n",
              "       [1., 0., 0., ..., 0., 0., 0.],\n",
              "       [1., 0., 0., ..., 0., 0., 0.],\n",
              "       [1., 0., 0., ..., 0., 0., 0.]], dtype=float32)"
            ]
          },
          "metadata": {
            "tags": []
          },
          "execution_count": 53
        }
      ]
    },
    {
      "cell_type": "markdown",
      "metadata": {
        "id": "_OclZM7Wan4I"
      },
      "source": [
        "## 5) 切割訓練集與測試集"
      ]
    },
    {
      "cell_type": "markdown",
      "metadata": {
        "id": "JSw4NVQLwdvU"
      },
      "source": [
        ""
      ]
    },
    {
      "cell_type": "code",
      "metadata": {
        "id": "hjDEttMPan4J",
        "colab": {
          "base_uri": "https://localhost:8080/"
        },
        "outputId": "29acc9bc-e3f6-4a14-b419-7764462bdcd1"
      },
      "source": [
        "pd.set_option('max_row',300)\n",
        "# X=df_train.drop(labels=['Class'],axis=1)\n",
        "X=df_train.drop(columns=[r'異常代碼'])\n",
        "# X.isna().sum().sum()\n",
        "# X\n",
        "mask = X.describe().transpose()['std']==0\n",
        "X.describe().transpose()[mask].index.tolist()\n",
        "# X.describe().transpose().columns.tolist()\n"
      ],
      "execution_count": 54,
      "outputs": [
        {
          "output_type": "execute_result",
          "data": {
            "text/plain": [
              "[]"
            ]
          },
          "metadata": {
            "tags": []
          },
          "execution_count": 54
        }
      ]
    },
    {
      "cell_type": "code",
      "metadata": {
        "id": "rKl7fICTan4Q"
      },
      "source": [
        "from sklearn.model_selection import train_test_split\n",
        "X_train , X_test , y_train , y_test = train_test_split(X,y , test_size=.3 , random_state=40)"
      ],
      "execution_count": 55,
      "outputs": []
    },
    {
      "cell_type": "code",
      "metadata": {
        "id": "8Ovl96zhan4T",
        "colab": {
          "base_uri": "https://localhost:8080/"
        },
        "outputId": "b5b1a1b1-f6e5-4763-e140-f3304855bb38"
      },
      "source": [
        "print('訓練資料: ',X_train.shape)\n",
        "print('測試資料: ',X_test.shape)\n",
        "# X_train"
      ],
      "execution_count": 56,
      "outputs": [
        {
          "output_type": "stream",
          "text": [
            "訓練資料:  (74827, 33)\n",
            "測試資料:  (32069, 33)\n"
          ],
          "name": "stdout"
        }
      ]
    },
    {
      "cell_type": "markdown",
      "metadata": {
        "id": "qB6zvYgJan4Z"
      },
      "source": [
        "## 6) 建立網路模型"
      ]
    },
    {
      "cell_type": "code",
      "metadata": {
        "id": "aJvDPRx5an4Z",
        "colab": {
          "base_uri": "https://localhost:8080/"
        },
        "outputId": "203e6606-487e-4909-8647-554499bae5f8"
      },
      "source": [
        "import tensorflow as tf\n",
        "from tensorflow.keras.layers import Dense, Activation\n",
        "from tensorflow.keras import Sequential\n",
        "from tensorflow.keras.optimizers import Adam\n",
        "\n",
        "print(tf.__version__)"
      ],
      "execution_count": 57,
      "outputs": [
        {
          "output_type": "stream",
          "text": [
            "2.3.0\n"
          ],
          "name": "stdout"
        }
      ]
    },
    {
      "cell_type": "code",
      "metadata": {
        "id": "Q30p2WHxan4d"
      },
      "source": [
        "# 此範例使用 Tensorflow2.0 Sequential API 搭建神經網路。\n",
        "model = Sequential()\n",
        "model.add(Dense(8, Activation('relu'), input_dim=X.shape[-1]))\n",
        "model.add(Dense(16, Activation('relu')))\n",
        "model.add(Dense(193, Activation('softmax')))"
      ],
      "execution_count": 58,
      "outputs": []
    },
    {
      "cell_type": "code",
      "metadata": {
        "id": "gCfdh7Lgan4h",
        "colab": {
          "base_uri": "https://localhost:8080/"
        },
        "outputId": "aae2cf95-b539-4773-f92e-95ccc3b3c3ca"
      },
      "source": [
        "model.summary()   # Weights = (4+1)*8+(8+1)*16+(16+1)*3"
      ],
      "execution_count": 59,
      "outputs": [
        {
          "output_type": "stream",
          "text": [
            "Model: \"sequential_1\"\n",
            "_________________________________________________________________\n",
            "Layer (type)                 Output Shape              Param #   \n",
            "=================================================================\n",
            "dense_3 (Dense)              (None, 8)                 272       \n",
            "_________________________________________________________________\n",
            "dense_4 (Dense)              (None, 16)                144       \n",
            "_________________________________________________________________\n",
            "dense_5 (Dense)              (None, 193)               3281      \n",
            "=================================================================\n",
            "Total params: 3,697\n",
            "Trainable params: 3,697\n",
            "Non-trainable params: 0\n",
            "_________________________________________________________________\n"
          ],
          "name": "stdout"
        }
      ]
    },
    {
      "cell_type": "code",
      "metadata": {
        "id": "86S7ALLTan4l",
        "colab": {
          "base_uri": "https://localhost:8080/"
        },
        "outputId": "be56ba41-a749-46fe-8517-aa894a2097ae"
      },
      "source": [
        "# 編譯模型\n",
        "optim = Adam(lr=0.001)\n",
        "model.compile(loss='categorical_crossentropy',\n",
        "              optimizer=optim,\n",
        "              metrics=['acc'])\n",
        "\n",
        "batch_size=1000\n",
        "epochs = 50\n",
        "\n",
        "history = model.fit(X_train, y_train,\n",
        "                    batch_size=batch_size,\n",
        "                    epochs=epochs,\n",
        "                    verbose=1,\n",
        "                    shuffle=True,\n",
        "                    validation_split=0.1)\n"
      ],
      "execution_count": 68,
      "outputs": [
        {
          "output_type": "stream",
          "text": [
            "Epoch 1/50\n",
            "68/68 [==============================] - 1s 9ms/step - loss: 0.6573 - acc: 0.8057 - val_loss: 0.6466 - val_acc: 0.8128\n",
            "Epoch 2/50\n",
            "68/68 [==============================] - 0s 6ms/step - loss: 0.6423 - acc: 0.8099 - val_loss: 0.6512 - val_acc: 0.8184\n",
            "Epoch 3/50\n",
            "68/68 [==============================] - 0s 6ms/step - loss: 0.6402 - acc: 0.8116 - val_loss: 0.6409 - val_acc: 0.8094\n",
            "Epoch 4/50\n",
            "68/68 [==============================] - 0s 6ms/step - loss: 0.6364 - acc: 0.8110 - val_loss: 0.6367 - val_acc: 0.8200\n",
            "Epoch 5/50\n",
            "68/68 [==============================] - 0s 6ms/step - loss: 0.6316 - acc: 0.8146 - val_loss: 0.6379 - val_acc: 0.8201\n",
            "Epoch 6/50\n",
            "68/68 [==============================] - 0s 6ms/step - loss: 0.6320 - acc: 0.8133 - val_loss: 0.6342 - val_acc: 0.8175\n",
            "Epoch 7/50\n",
            "68/68 [==============================] - 0s 6ms/step - loss: 0.6265 - acc: 0.8148 - val_loss: 0.6289 - val_acc: 0.8199\n",
            "Epoch 8/50\n",
            "68/68 [==============================] - 0s 6ms/step - loss: 0.6248 - acc: 0.8159 - val_loss: 0.6306 - val_acc: 0.8108\n",
            "Epoch 9/50\n",
            "68/68 [==============================] - 0s 6ms/step - loss: 0.6238 - acc: 0.8147 - val_loss: 0.6252 - val_acc: 0.8215\n",
            "Epoch 10/50\n",
            "68/68 [==============================] - 0s 6ms/step - loss: 0.6203 - acc: 0.8167 - val_loss: 0.6339 - val_acc: 0.8272\n",
            "Epoch 11/50\n",
            "68/68 [==============================] - 0s 6ms/step - loss: 0.6181 - acc: 0.8184 - val_loss: 0.6275 - val_acc: 0.8137\n",
            "Epoch 12/50\n",
            "68/68 [==============================] - 0s 6ms/step - loss: 0.6189 - acc: 0.8179 - val_loss: 0.6231 - val_acc: 0.8285\n",
            "Epoch 13/50\n",
            "68/68 [==============================] - 0s 6ms/step - loss: 0.6143 - acc: 0.8193 - val_loss: 0.6163 - val_acc: 0.8236\n",
            "Epoch 14/50\n",
            "68/68 [==============================] - 0s 6ms/step - loss: 0.6119 - acc: 0.8191 - val_loss: 0.6243 - val_acc: 0.8243\n",
            "Epoch 15/50\n",
            "68/68 [==============================] - 0s 6ms/step - loss: 0.6081 - acc: 0.8206 - val_loss: 0.6142 - val_acc: 0.8187\n",
            "Epoch 16/50\n",
            "68/68 [==============================] - 0s 6ms/step - loss: 0.6065 - acc: 0.8199 - val_loss: 0.6251 - val_acc: 0.8142\n",
            "Epoch 17/50\n",
            "68/68 [==============================] - 0s 6ms/step - loss: 0.6057 - acc: 0.8207 - val_loss: 0.6073 - val_acc: 0.8276\n",
            "Epoch 18/50\n",
            "68/68 [==============================] - 0s 6ms/step - loss: 0.6010 - acc: 0.8211 - val_loss: 0.6085 - val_acc: 0.8248\n",
            "Epoch 19/50\n",
            "68/68 [==============================] - 0s 6ms/step - loss: 0.6012 - acc: 0.8215 - val_loss: 0.6063 - val_acc: 0.8245\n",
            "Epoch 20/50\n",
            "68/68 [==============================] - 0s 6ms/step - loss: 0.5996 - acc: 0.8213 - val_loss: 0.6090 - val_acc: 0.8247\n",
            "Epoch 21/50\n",
            "68/68 [==============================] - 0s 6ms/step - loss: 0.5968 - acc: 0.8235 - val_loss: 0.6033 - val_acc: 0.8283\n",
            "Epoch 22/50\n",
            "68/68 [==============================] - 0s 6ms/step - loss: 0.5965 - acc: 0.8221 - val_loss: 0.5998 - val_acc: 0.8287\n",
            "Epoch 23/50\n",
            "68/68 [==============================] - 0s 6ms/step - loss: 0.5954 - acc: 0.8228 - val_loss: 0.6050 - val_acc: 0.8248\n",
            "Epoch 24/50\n",
            "68/68 [==============================] - 0s 6ms/step - loss: 0.5931 - acc: 0.8228 - val_loss: 0.6004 - val_acc: 0.8195\n",
            "Epoch 25/50\n",
            "68/68 [==============================] - 0s 6ms/step - loss: 0.5951 - acc: 0.8214 - val_loss: 0.6051 - val_acc: 0.8264\n",
            "Epoch 26/50\n",
            "68/68 [==============================] - 0s 6ms/step - loss: 0.5899 - acc: 0.8247 - val_loss: 0.5939 - val_acc: 0.8311\n",
            "Epoch 27/50\n",
            "68/68 [==============================] - 0s 6ms/step - loss: 0.5873 - acc: 0.8254 - val_loss: 0.5998 - val_acc: 0.8268\n",
            "Epoch 28/50\n",
            "68/68 [==============================] - 0s 6ms/step - loss: 0.5845 - acc: 0.8259 - val_loss: 0.5981 - val_acc: 0.8228\n",
            "Epoch 29/50\n",
            "68/68 [==============================] - 0s 6ms/step - loss: 0.5880 - acc: 0.8238 - val_loss: 0.5864 - val_acc: 0.8296\n",
            "Epoch 30/50\n",
            "68/68 [==============================] - 0s 6ms/step - loss: 0.5856 - acc: 0.8252 - val_loss: 0.5890 - val_acc: 0.8320\n",
            "Epoch 31/50\n",
            "68/68 [==============================] - 0s 6ms/step - loss: 0.5814 - acc: 0.8255 - val_loss: 0.5915 - val_acc: 0.8247\n",
            "Epoch 32/50\n",
            "68/68 [==============================] - 0s 7ms/step - loss: 0.5792 - acc: 0.8262 - val_loss: 0.5920 - val_acc: 0.8326\n",
            "Epoch 33/50\n",
            "68/68 [==============================] - 0s 6ms/step - loss: 0.5825 - acc: 0.8254 - val_loss: 0.5831 - val_acc: 0.8320\n",
            "Epoch 34/50\n",
            "68/68 [==============================] - 0s 6ms/step - loss: 0.5766 - acc: 0.8265 - val_loss: 0.5831 - val_acc: 0.8312\n",
            "Epoch 35/50\n",
            "68/68 [==============================] - 0s 6ms/step - loss: 0.5773 - acc: 0.8268 - val_loss: 0.5894 - val_acc: 0.8307\n",
            "Epoch 36/50\n",
            "68/68 [==============================] - 0s 6ms/step - loss: 0.5769 - acc: 0.8261 - val_loss: 0.5964 - val_acc: 0.8228\n",
            "Epoch 37/50\n",
            "68/68 [==============================] - 0s 6ms/step - loss: 0.5749 - acc: 0.8277 - val_loss: 0.5858 - val_acc: 0.8308\n",
            "Epoch 38/50\n",
            "68/68 [==============================] - 0s 6ms/step - loss: 0.5731 - acc: 0.8283 - val_loss: 0.5797 - val_acc: 0.8342\n",
            "Epoch 39/50\n",
            "68/68 [==============================] - 0s 6ms/step - loss: 0.5696 - acc: 0.8288 - val_loss: 0.5808 - val_acc: 0.8323\n",
            "Epoch 40/50\n",
            "68/68 [==============================] - 0s 6ms/step - loss: 0.5720 - acc: 0.8276 - val_loss: 0.5754 - val_acc: 0.8307\n",
            "Epoch 41/50\n",
            "68/68 [==============================] - 0s 6ms/step - loss: 0.5734 - acc: 0.8292 - val_loss: 0.5761 - val_acc: 0.8297\n",
            "Epoch 42/50\n",
            "68/68 [==============================] - 0s 6ms/step - loss: 0.5680 - acc: 0.8290 - val_loss: 0.5862 - val_acc: 0.8283\n",
            "Epoch 43/50\n",
            "68/68 [==============================] - 0s 6ms/step - loss: 0.5685 - acc: 0.8284 - val_loss: 0.5779 - val_acc: 0.8291\n",
            "Epoch 44/50\n",
            "68/68 [==============================] - 0s 6ms/step - loss: 0.5689 - acc: 0.8270 - val_loss: 0.5743 - val_acc: 0.8314\n",
            "Epoch 45/50\n",
            "68/68 [==============================] - 0s 6ms/step - loss: 0.5679 - acc: 0.8288 - val_loss: 0.5734 - val_acc: 0.8311\n",
            "Epoch 46/50\n",
            "68/68 [==============================] - 0s 6ms/step - loss: 0.5665 - acc: 0.8288 - val_loss: 0.5718 - val_acc: 0.8319\n",
            "Epoch 47/50\n",
            "68/68 [==============================] - 0s 6ms/step - loss: 0.5668 - acc: 0.8286 - val_loss: 0.5740 - val_acc: 0.8267\n",
            "Epoch 48/50\n",
            "68/68 [==============================] - 0s 6ms/step - loss: 0.5669 - acc: 0.8294 - val_loss: 0.5749 - val_acc: 0.8303\n",
            "Epoch 49/50\n",
            "68/68 [==============================] - 0s 6ms/step - loss: 0.5639 - acc: 0.8297 - val_loss: 0.5766 - val_acc: 0.8340\n",
            "Epoch 50/50\n",
            "68/68 [==============================] - 0s 7ms/step - loss: 0.5656 - acc: 0.8293 - val_loss: 0.5698 - val_acc: 0.8315\n"
          ],
          "name": "stdout"
        }
      ]
    },
    {
      "cell_type": "markdown",
      "metadata": {
        "id": "pG1O5ymTan4s"
      },
      "source": [
        "## 7) 觀察訓練結果"
      ]
    },
    {
      "cell_type": "code",
      "metadata": {
        "id": "OFUTBafCan4u"
      },
      "source": [
        "import matplotlib.pyplot as plt\n",
        "\n",
        "history_dict = history.history\n",
        "history_dict.keys()\n",
        "acc = history_dict['acc']\n",
        "val_acc = history_dict['val_acc']\n",
        "loss = history_dict['loss']\n",
        "val_loss = history_dict['val_loss']\n",
        "epochs_ = range(1,len(acc)+1)"
      ],
      "execution_count": 61,
      "outputs": []
    },
    {
      "cell_type": "code",
      "metadata": {
        "id": "C5PL5GAwan4x",
        "colab": {
          "base_uri": "https://localhost:8080/",
          "height": 295
        },
        "outputId": "20c5c2ed-2026-4d39-bd17-630ac398a87e"
      },
      "source": [
        "plt.plot(epochs_ , loss , label = 'training loss')\n",
        "plt.plot(epochs_ , val_loss , label = 'val los')\n",
        "plt.title('training and val loss')\n",
        "plt.xlabel('epochs')\n",
        "plt.ylabel('loss')\n",
        "plt.legend()\n",
        "plt.show()"
      ],
      "execution_count": 62,
      "outputs": [
        {
          "output_type": "display_data",
          "data": {
            "image/png": "[encoded data removed]",
            "text/plain": [
              "<Figure size 432x288 with 1 Axes>"
            ]
          },
          "metadata": {
            "tags": [],
            "needs_background": "light"
          }
        }
      ]
    },
    {
      "cell_type": "code",
      "metadata": {
        "id": "Ketuv_Bvan43",
        "colab": {
          "base_uri": "https://localhost:8080/",
          "height": 295
        },
        "outputId": "f92de4e7-3c94-48eb-8fcf-da68021ca7c8"
      },
      "source": [
        "plt.clf()\n",
        "plt.plot(epochs_ , acc , label='train accuracy')\n",
        "plt.plot(epochs_ , val_acc , label = 'val accuracy')\n",
        "plt.title('train and val acc')\n",
        "plt.xlabel('epochs')\n",
        "plt.ylabel('acc')\n",
        "plt.legend()\n",
        "plt.show()"
      ],
      "execution_count": 63,
      "outputs": [
        {
          "output_type": "display_data",
          "data": {
            "image/png": "[encoded data removed]",
            "text/plain": [
              "<Figure size 432x288 with 1 Axes>"
            ]
          },
          "metadata": {
            "tags": [],
            "needs_background": "light"
          }
        }
      ]
    },
    {
      "cell_type": "markdown",
      "metadata": {
        "id": "PR5QIun7an47"
      },
      "source": [
        "## 8) 測試"
      ]
    },
    {
      "cell_type": "code",
      "metadata": {
        "id": "rdG9q4M9an47",
        "colab": {
          "base_uri": "https://localhost:8080/"
        },
        "outputId": "3504ee14-b2f1-4c06-88a7-b15915674fba"
      },
      "source": [
        "from sklearn.metrics import accuracy_score\n",
        "label=np.argmax(y,axis=1)\n",
        "pred =  np.argmax(model.predict(X), axis=1)\n",
        "# print(pred.shape)\n",
        "print(accuracy_score(label, pred))\n",
        "# print(y)"
      ],
      "execution_count": 64,
      "outputs": [
        {
          "output_type": "stream",
          "text": [
            "0.8094596617272863\n"
          ],
          "name": "stdout"
        }
      ]
    },
    {
      "cell_type": "code",
      "metadata": {
        "id": "JNWE7Fe8uBzn",
        "colab": {
          "base_uri": "https://localhost:8080/"
        },
        "outputId": "3d27ff6a-5bf9-4115-e210-d24ee6011b60"
      },
      "source": [
        "!pip install eli5"
      ],
      "execution_count": 65,
      "outputs": [
        {
          "output_type": "stream",
          "text": [
            "Requirement already satisfied: eli5 in /usr/local/lib/python3.6/dist-packages (0.10.1)\n",
            "Requirement already satisfied: jinja2 in /usr/local/lib/python3.6/dist-packages (from eli5) (2.11.2)\n",
            "Requirement already satisfied: graphviz in /usr/local/lib/python3.6/dist-packages (from eli5) (0.10.1)\n",
            "Requirement already satisfied: attrs>16.0.0 in /usr/local/lib/python3.6/dist-packages (from eli5) (20.2.0)\n",
            "Requirement already satisfied: six in /usr/local/lib/python3.6/dist-packages (from eli5) (1.15.0)\n",
            "Requirement already satisfied: scikit-learn>=0.18 in /usr/local/lib/python3.6/dist-packages (from eli5) (0.22.2.post1)\n",
            "Requirement already satisfied: numpy>=1.9.0 in /usr/local/lib/python3.6/dist-packages (from eli5) (1.18.5)\n",
            "Requirement already satisfied: tabulate>=0.7.7 in /usr/local/lib/python3.6/dist-packages (from eli5) (0.8.7)\n",
            "Requirement already satisfied: scipy in /usr/local/lib/python3.6/dist-packages (from eli5) (1.4.1)\n",
            "Requirement already satisfied: MarkupSafe>=0.23 in /usr/local/lib/python3.6/dist-packages (from jinja2->eli5) (1.1.1)\n",
            "Requirement already satisfied: joblib>=0.11 in /usr/local/lib/python3.6/dist-packages (from scikit-learn>=0.18->eli5) (0.17.0)\n"
          ],
          "name": "stdout"
        }
      ]
    },
    {
      "cell_type": "markdown",
      "metadata": {
        "id": "wNxXer-qOlwj"
      },
      "source": [
        "## 9) 檢查特徵重要性\n",
        "> https://eli5.readthedocs.io/en/latest/blackbox/permutation_importance.html\n",
        "> https://www.mdeditor.tw/pl/pgi5/zh-tw\n",
        "\n",
        "> 針對BlackBox模型或非sklearn模型，使用排列重要性方法\n",
        "\n",
        "\n",
        "> 捨棄重要性低、增加損失的features特徵，重新建模訓練。\n",
        "\n",
        "\n",
        "> \n",
        "\n",
        "\n",
        "\n",
        "\n",
        "\n",
        "\n",
        "\n",
        "\n",
        "\n",
        "\n",
        "\n",
        "\n"
      ]
    },
    {
      "cell_type": "code",
      "metadata": {
        "id": "p-t6pvZman4_"
      },
      "source": [
        "# import numpy as np\n",
        "from eli5.permutation_importance import get_score_importances\n",
        "\n",
        "# ... load data, define score function\n",
        "def score(X, y):\n",
        "    y_pred = np.argmax(model.predict(X), axis=1)\n",
        "    return accuracy_score(y, y_pred)\n",
        "\n",
        "lab=np.argmax(y_train,axis=1)\n",
        "base_score, score_decreases = get_score_importances(score, X_train.values, lab)\n",
        "feature_importances = np.mean(score_decreases, axis=0)\n",
        "\n"
      ],
      "execution_count": 66,
      "outputs": []
    },
    {
      "cell_type": "code",
      "metadata": {
        "id": "uz2cPz1KQtQy",
        "colab": {
          "base_uri": "https://localhost:8080/"
        },
        "outputId": "375c6f69-4aa2-4ff4-d2b3-860b9bdc175e"
      },
      "source": [
        "# print(feature_importances)\n",
        "feature_importance_dict = {}\n",
        "for i, feature_name in enumerate(X.columns.values.tolist()) :\n",
        "\tfeature_importance_dict[feature_name]=feature_importances[i]\n",
        "\n",
        "# print(dict(sorted(feature_importance_dict.items(), key=lambda x:x[1],reverse=True)[:5]))\n",
        "sorted_fi = dict(sorted(feature_importance_dict.items(), key=lambda x:x[1],reverse=True))\n",
        "for name,i in sorted_fi.items():\n",
        "  print(name, i)"
      ],
      "execution_count": 67,
      "outputs": [
        {
          "output_type": "stream",
          "text": [
            "破瓶數量 0.27781148515910037\n",
            "最多成型時間 0.154428214414583\n",
            "加熱箱二水道溫度 0.11169230358025846\n",
            "加熱箱七水道溫度 0.08610795568444547\n",
            "加熱箱八水道溫度 0.07295494941665441\n",
            "第七層燈管加熱% 0.0715650767770992\n",
            "第八穴壓力檢測 0.049690619696099024\n",
            "第四穴壓力檢測 0.047541662768786686\n",
            "加熱箱五水道溫度 0.04380771646598156\n",
            "加熱箱三水道溫度 0.042527429938391224\n",
            "第三層燈管加熱% 0.025001670519999464\n",
            "加熱箱六水道溫度 0.0247824982960696\n",
            "加熱箱四水道溫度 0.024378900664198743\n",
            "第二層燈管加熱% 0.023927192056343305\n",
            "第五穴壓力檢測 0.023462119288492133\n",
            "第八層燈管加熱% 0.01831691769013859\n",
            "加熱箱一水道溫度 0.01472463148328813\n",
            "第七穴壓力檢測 0.013962874363531896\n",
            "第四層燈管加熱% 0.013861306747564361\n",
            "第三穴壓力檢測 0.011789861948227265\n",
            "第六層燈管加熱% 0.0062570997099977484\n",
            "第一穴壓力檢測 0.005866866238122581\n",
            "滾筒速度 0.004001229502719616\n",
            "第二穴壓力檢測 0.0016117176954842493\n",
            "第六穴壓力檢測 0.0011813917436219513\n",
            "第五層燈管加熱% 0.000751065791759653\n",
            "預吹壓力 0.00013898726395551454\n",
            "第一層燈管加熱% 0.0001309687679581062\n",
            "高壓壓力 0.00010958611196494328\n",
            "破瓶數增加 -2.672831999150915e-06\n",
            "回收壓力 -0.00012562310395980436\n",
            "低壓壓力 -0.00014166009595466543\n",
            "破瓶壓力檢測值設定 -0.0006120785278041163\n"
          ],
          "name": "stdout"
        }
      ]
    }
  ]
}