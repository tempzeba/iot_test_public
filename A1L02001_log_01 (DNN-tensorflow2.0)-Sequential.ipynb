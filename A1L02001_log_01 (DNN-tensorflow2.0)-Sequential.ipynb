{
  "nbformat": 4,
  "nbformat_minor": 0,
  "metadata": {
    "kernelspec": {
      "display_name": "Python 3",
      "language": "python",
      "name": "python3"
    },
    "language_info": {
      "codemirror_mode": {
        "name": "ipython",
        "version": 3
      },
      "file_extension": ".py",
      "mimetype": "text/x-python",
      "name": "python",
      "nbconvert_exporter": "python",
      "pygments_lexer": "ipython3",
      "version": "3.7.3"
    },
    "colab": {
      "name": "iris(DNN-tensorflow2.0)-Sequential.ipynb",
      "provenance": [],
      "toc_visible": true
    }
  },
  "cells": [
    {
      "cell_type": "code",
      "metadata": {
        "id": "bIVId25Van3a"
      },
      "source": [
        "import warnings\n",
        "import pandas as pd\n",
        "import numpy as np\n",
        "import matplotlib.pyplot as plt\n",
        "warnings.filterwarnings(\"ignore\")"
      ],
      "execution_count": 3,
      "outputs": []
    },
    {
      "cell_type": "markdown",
      "metadata": {
        "id": "a5wddLSban3o"
      },
      "source": [
        "## 1) 載入資料集"
      ]
    },
    {
      "cell_type": "code",
      "metadata": {
        "id": "GA-bjU2pan3p",
        "outputId": "3be9a28a-4eb9-498c-d1d5-bbff368f502b",
        "colab": {
          "base_uri": "https://localhost:8080/",
          "height": 415
        }
      },
      "source": [
        "# df_train = pd.read_csv('./data/Iris.csv')\n",
        "df_train = pd.read_csv('https://github.com/tempzeba/iris-dnn-tensorflow/raw/master/data/Iris.csv')\n",
        "df_train = df_train.drop(labels=['Id'],axis=1) # 移除Id\n",
        "df_train"
      ],
      "execution_count": 4,
      "outputs": [
        {
          "output_type": "execute_result",
          "data": {
            "text/html": [
              "<div>\n",
              "<style scoped>\n",
              "    .dataframe tbody tr th:only-of-type {\n",
              "        vertical-align: middle;\n",
              "    }\n",
              "\n",
              "    .dataframe tbody tr th {\n",
              "        vertical-align: top;\n",
              "    }\n",
              "\n",
              "    .dataframe thead th {\n",
              "        text-align: right;\n",
              "    }\n",
              "</style>\n",
              "<table border=\"1\" class=\"dataframe\">\n",
              "  <thead>\n",
              "    <tr style=\"text-align: right;\">\n",
              "      <th></th>\n",
              "      <th>SepalLengthCm</th>\n",
              "      <th>SepalWidthCm</th>\n",
              "      <th>PetalLengthCm</th>\n",
              "      <th>PetalWidthCm</th>\n",
              "      <th>Species</th>\n",
              "    </tr>\n",
              "  </thead>\n",
              "  <tbody>\n",
              "    <tr>\n",
              "      <th>0</th>\n",
              "      <td>5.1</td>\n",
              "      <td>3.5</td>\n",
              "      <td>1.4</td>\n",
              "      <td>0.2</td>\n",
              "      <td>Iris-setosa</td>\n",
              "    </tr>\n",
              "    <tr>\n",
              "      <th>1</th>\n",
              "      <td>4.9</td>\n",
              "      <td>3.0</td>\n",
              "      <td>1.4</td>\n",
              "      <td>0.2</td>\n",
              "      <td>Iris-setosa</td>\n",
              "    </tr>\n",
              "    <tr>\n",
              "      <th>2</th>\n",
              "      <td>4.7</td>\n",
              "      <td>3.2</td>\n",
              "      <td>1.3</td>\n",
              "      <td>0.2</td>\n",
              "      <td>Iris-setosa</td>\n",
              "    </tr>\n",
              "    <tr>\n",
              "      <th>3</th>\n",
              "      <td>4.6</td>\n",
              "      <td>3.1</td>\n",
              "      <td>1.5</td>\n",
              "      <td>0.2</td>\n",
              "      <td>Iris-setosa</td>\n",
              "    </tr>\n",
              "    <tr>\n",
              "      <th>4</th>\n",
              "      <td>5.0</td>\n",
              "      <td>3.6</td>\n",
              "      <td>1.4</td>\n",
              "      <td>0.2</td>\n",
              "      <td>Iris-setosa</td>\n",
              "    </tr>\n",
              "    <tr>\n",
              "      <th>...</th>\n",
              "      <td>...</td>\n",
              "      <td>...</td>\n",
              "      <td>...</td>\n",
              "      <td>...</td>\n",
              "      <td>...</td>\n",
              "    </tr>\n",
              "    <tr>\n",
              "      <th>145</th>\n",
              "      <td>6.7</td>\n",
              "      <td>3.0</td>\n",
              "      <td>5.2</td>\n",
              "      <td>2.3</td>\n",
              "      <td>Iris-virginica</td>\n",
              "    </tr>\n",
              "    <tr>\n",
              "      <th>146</th>\n",
              "      <td>6.3</td>\n",
              "      <td>2.5</td>\n",
              "      <td>5.0</td>\n",
              "      <td>1.9</td>\n",
              "      <td>Iris-virginica</td>\n",
              "    </tr>\n",
              "    <tr>\n",
              "      <th>147</th>\n",
              "      <td>6.5</td>\n",
              "      <td>3.0</td>\n",
              "      <td>5.2</td>\n",
              "      <td>2.0</td>\n",
              "      <td>Iris-virginica</td>\n",
              "    </tr>\n",
              "    <tr>\n",
              "      <th>148</th>\n",
              "      <td>6.2</td>\n",
              "      <td>3.4</td>\n",
              "      <td>5.4</td>\n",
              "      <td>2.3</td>\n",
              "      <td>Iris-virginica</td>\n",
              "    </tr>\n",
              "    <tr>\n",
              "      <th>149</th>\n",
              "      <td>5.9</td>\n",
              "      <td>3.0</td>\n",
              "      <td>5.1</td>\n",
              "      <td>1.8</td>\n",
              "      <td>Iris-virginica</td>\n",
              "    </tr>\n",
              "  </tbody>\n",
              "</table>\n",
              "<p>150 rows × 5 columns</p>\n",
              "</div>"
            ],
            "text/plain": [
              "     SepalLengthCm  SepalWidthCm  PetalLengthCm  PetalWidthCm         Species\n",
              "0              5.1           3.5            1.4           0.2     Iris-setosa\n",
              "1              4.9           3.0            1.4           0.2     Iris-setosa\n",
              "2              4.7           3.2            1.3           0.2     Iris-setosa\n",
              "3              4.6           3.1            1.5           0.2     Iris-setosa\n",
              "4              5.0           3.6            1.4           0.2     Iris-setosa\n",
              "..             ...           ...            ...           ...             ...\n",
              "145            6.7           3.0            5.2           2.3  Iris-virginica\n",
              "146            6.3           2.5            5.0           1.9  Iris-virginica\n",
              "147            6.5           3.0            5.2           2.0  Iris-virginica\n",
              "148            6.2           3.4            5.4           2.3  Iris-virginica\n",
              "149            5.9           3.0            5.1           1.8  Iris-virginica\n",
              "\n",
              "[150 rows x 5 columns]"
            ]
          },
          "metadata": {
            "tags": []
          },
          "execution_count": 4
        }
      ]
    },
    {
      "cell_type": "markdown",
      "metadata": {
        "id": "r1M7a4iian3u"
      },
      "source": [
        "## 2) 手動編碼\n",
        "處理名目資料 (Nominal variables) - 資料前處理\n",
        "依據特徵資料的特性，可以選擇手動編碼或自動編碼。\n",
        "\n",
        "### 使用編碼時機?\n",
        "進行深度學習時，神經網路只能處理數值資料。因此我們需要將所有非數字型態的特徵進行轉換。\n",
        "\n",
        "ex:\n",
        "\n",
        "|  Iris-setosa |  Iris-versicolor | Iris-virginica  |\n",
        "|:---:|:---:|:---:|\n",
        "|  1 | 2  | 3  |"
      ]
    },
    {
      "cell_type": "code",
      "metadata": {
        "id": "QEkMEV93an3v"
      },
      "source": [
        "label_map = {'Iris-setosa': 0, 'Iris-versicolor': 1, 'Iris-virginica': 2}\n",
        "\n",
        "#將編碼後的label map存至df_train['Species']中。\n",
        "df_train['Class'] = df_train['Species'].map(label_map)"
      ],
      "execution_count": 5,
      "outputs": []
    },
    {
      "cell_type": "code",
      "metadata": {
        "id": "JjK2EtTXan30",
        "outputId": "014d3d2e-e956-4fcf-e394-0340aad8e502",
        "colab": {
          "base_uri": "https://localhost:8080/",
          "height": 415
        }
      },
      "source": [
        "df_train"
      ],
      "execution_count": 6,
      "outputs": [
        {
          "output_type": "execute_result",
          "data": {
            "text/html": [
              "<div>\n",
              "<style scoped>\n",
              "    .dataframe tbody tr th:only-of-type {\n",
              "        vertical-align: middle;\n",
              "    }\n",
              "\n",
              "    .dataframe tbody tr th {\n",
              "        vertical-align: top;\n",
              "    }\n",
              "\n",
              "    .dataframe thead th {\n",
              "        text-align: right;\n",
              "    }\n",
              "</style>\n",
              "<table border=\"1\" class=\"dataframe\">\n",
              "  <thead>\n",
              "    <tr style=\"text-align: right;\">\n",
              "      <th></th>\n",
              "      <th>SepalLengthCm</th>\n",
              "      <th>SepalWidthCm</th>\n",
              "      <th>PetalLengthCm</th>\n",
              "      <th>PetalWidthCm</th>\n",
              "      <th>Species</th>\n",
              "      <th>Class</th>\n",
              "    </tr>\n",
              "  </thead>\n",
              "  <tbody>\n",
              "    <tr>\n",
              "      <th>0</th>\n",
              "      <td>5.1</td>\n",
              "      <td>3.5</td>\n",
              "      <td>1.4</td>\n",
              "      <td>0.2</td>\n",
              "      <td>Iris-setosa</td>\n",
              "      <td>0</td>\n",
              "    </tr>\n",
              "    <tr>\n",
              "      <th>1</th>\n",
              "      <td>4.9</td>\n",
              "      <td>3.0</td>\n",
              "      <td>1.4</td>\n",
              "      <td>0.2</td>\n",
              "      <td>Iris-setosa</td>\n",
              "      <td>0</td>\n",
              "    </tr>\n",
              "    <tr>\n",
              "      <th>2</th>\n",
              "      <td>4.7</td>\n",
              "      <td>3.2</td>\n",
              "      <td>1.3</td>\n",
              "      <td>0.2</td>\n",
              "      <td>Iris-setosa</td>\n",
              "      <td>0</td>\n",
              "    </tr>\n",
              "    <tr>\n",
              "      <th>3</th>\n",
              "      <td>4.6</td>\n",
              "      <td>3.1</td>\n",
              "      <td>1.5</td>\n",
              "      <td>0.2</td>\n",
              "      <td>Iris-setosa</td>\n",
              "      <td>0</td>\n",
              "    </tr>\n",
              "    <tr>\n",
              "      <th>4</th>\n",
              "      <td>5.0</td>\n",
              "      <td>3.6</td>\n",
              "      <td>1.4</td>\n",
              "      <td>0.2</td>\n",
              "      <td>Iris-setosa</td>\n",
              "      <td>0</td>\n",
              "    </tr>\n",
              "    <tr>\n",
              "      <th>...</th>\n",
              "      <td>...</td>\n",
              "      <td>...</td>\n",
              "      <td>...</td>\n",
              "      <td>...</td>\n",
              "      <td>...</td>\n",
              "      <td>...</td>\n",
              "    </tr>\n",
              "    <tr>\n",
              "      <th>145</th>\n",
              "      <td>6.7</td>\n",
              "      <td>3.0</td>\n",
              "      <td>5.2</td>\n",
              "      <td>2.3</td>\n",
              "      <td>Iris-virginica</td>\n",
              "      <td>2</td>\n",
              "    </tr>\n",
              "    <tr>\n",
              "      <th>146</th>\n",
              "      <td>6.3</td>\n",
              "      <td>2.5</td>\n",
              "      <td>5.0</td>\n",
              "      <td>1.9</td>\n",
              "      <td>Iris-virginica</td>\n",
              "      <td>2</td>\n",
              "    </tr>\n",
              "    <tr>\n",
              "      <th>147</th>\n",
              "      <td>6.5</td>\n",
              "      <td>3.0</td>\n",
              "      <td>5.2</td>\n",
              "      <td>2.0</td>\n",
              "      <td>Iris-virginica</td>\n",
              "      <td>2</td>\n",
              "    </tr>\n",
              "    <tr>\n",
              "      <th>148</th>\n",
              "      <td>6.2</td>\n",
              "      <td>3.4</td>\n",
              "      <td>5.4</td>\n",
              "      <td>2.3</td>\n",
              "      <td>Iris-virginica</td>\n",
              "      <td>2</td>\n",
              "    </tr>\n",
              "    <tr>\n",
              "      <th>149</th>\n",
              "      <td>5.9</td>\n",
              "      <td>3.0</td>\n",
              "      <td>5.1</td>\n",
              "      <td>1.8</td>\n",
              "      <td>Iris-virginica</td>\n",
              "      <td>2</td>\n",
              "    </tr>\n",
              "  </tbody>\n",
              "</table>\n",
              "<p>150 rows × 6 columns</p>\n",
              "</div>"
            ],
            "text/plain": [
              "     SepalLengthCm  SepalWidthCm  ...         Species  Class\n",
              "0              5.1           3.5  ...     Iris-setosa      0\n",
              "1              4.9           3.0  ...     Iris-setosa      0\n",
              "2              4.7           3.2  ...     Iris-setosa      0\n",
              "3              4.6           3.1  ...     Iris-setosa      0\n",
              "4              5.0           3.6  ...     Iris-setosa      0\n",
              "..             ...           ...  ...             ...    ...\n",
              "145            6.7           3.0  ...  Iris-virginica      2\n",
              "146            6.3           2.5  ...  Iris-virginica      2\n",
              "147            6.5           3.0  ...  Iris-virginica      2\n",
              "148            6.2           3.4  ...  Iris-virginica      2\n",
              "149            5.9           3.0  ...  Iris-virginica      2\n",
              "\n",
              "[150 rows x 6 columns]"
            ]
          },
          "metadata": {
            "tags": []
          },
          "execution_count": 6
        }
      ]
    },
    {
      "cell_type": "markdown",
      "metadata": {
        "id": "txpEEPgAan36"
      },
      "source": [
        "## 3) 檢查缺失值\n",
        "使用 numpy 所提供的函式來檢查是否有 NA 缺失值，假設有缺失值使用dropna()來移除。使用的時機在於當只有少量的缺失值適用，若遇到有大量缺失值的情況，或是本身的資料量就很少的情況下建議可以透過機器學習的方法補值來預測缺失值。\n",
        "\n",
        "```python\n",
        "# 移除缺失值\n",
        "train=train.dropna()\n",
        "```"
      ]
    },
    {
      "cell_type": "code",
      "metadata": {
        "id": "Jpzei1WIan37",
        "outputId": "978e5be4-6c8d-41e6-d56e-06e8df4fe827",
        "colab": {
          "base_uri": "https://localhost:8080/"
        }
      },
      "source": [
        "df_train = df_train.drop(labels=['Species'],axis=1) # 移除Species\n",
        "# checked missing data\n",
        "print(\"checked missing data(NAN mount):\",len(np.where(np.isnan(df_train))[0]))"
      ],
      "execution_count": 7,
      "outputs": [
        {
          "output_type": "stream",
          "text": [
            "checked missing data(NAN mount): 0\n"
          ],
          "name": "stdout"
        }
      ]
    },
    {
      "cell_type": "markdown",
      "metadata": {
        "id": "gNBeqTcUan4A"
      },
      "source": [
        "## 4) 將輸出特徵做one-hot encoding\n",
        "如何對欄位class做one-hot encoding？\n",
        "#### class 的值有0,1,2"
      ]
    },
    {
      "cell_type": "code",
      "metadata": {
        "id": "iQFh4fj0an4C",
        "outputId": "788abdb4-e3b0-4bd8-cc62-638424eb23ed",
        "colab": {
          "base_uri": "https://localhost:8080/"
        }
      },
      "source": [
        "from tensorflow.keras.utils import to_categorical\n",
        "y = to_categorical(df_train['Class'])\n",
        "y[0:5]"
      ],
      "execution_count": 8,
      "outputs": [
        {
          "output_type": "execute_result",
          "data": {
            "text/plain": [
              "array([[1., 0., 0.],\n",
              "       [1., 0., 0.],\n",
              "       [1., 0., 0.],\n",
              "       [1., 0., 0.],\n",
              "       [1., 0., 0.]], dtype=float32)"
            ]
          },
          "metadata": {
            "tags": []
          },
          "execution_count": 8
        }
      ]
    },
    {
      "cell_type": "markdown",
      "metadata": {
        "id": "_OclZM7Wan4I"
      },
      "source": [
        "## 4) 切割訓練集與測試集"
      ]
    },
    {
      "cell_type": "code",
      "metadata": {
        "id": "hjDEttMPan4J"
      },
      "source": [
        "X=df_train.drop(labels=['Class'],axis=1)"
      ],
      "execution_count": 9,
      "outputs": []
    },
    {
      "cell_type": "code",
      "metadata": {
        "id": "rKl7fICTan4Q"
      },
      "source": [
        "from sklearn.model_selection import train_test_split\n",
        "X_train , X_test , y_train , y_test = train_test_split(X,y , test_size=.3 , random_state=40)"
      ],
      "execution_count": 10,
      "outputs": []
    },
    {
      "cell_type": "code",
      "metadata": {
        "id": "8Ovl96zhan4T",
        "outputId": "4821a67f-f843-4505-fdf9-3ff0413f027e",
        "colab": {
          "base_uri": "https://localhost:8080/"
        }
      },
      "source": [
        "print('訓練資料: ',X_train.shape)\n",
        "print('測試資料: ',X_test.shape)"
      ],
      "execution_count": 11,
      "outputs": [
        {
          "output_type": "stream",
          "text": [
            "訓練資料:  (105, 4)\n",
            "測試資料:  (45, 4)\n"
          ],
          "name": "stdout"
        }
      ]
    },
    {
      "cell_type": "markdown",
      "metadata": {
        "id": "qB6zvYgJan4Z"
      },
      "source": [
        "## 5) 建立網路模型"
      ]
    },
    {
      "cell_type": "code",
      "metadata": {
        "id": "aJvDPRx5an4Z",
        "outputId": "c04dbfe6-bd50-4323-d85b-78d15aadfdde",
        "colab": {
          "base_uri": "https://localhost:8080/"
        }
      },
      "source": [
        "import tensorflow as tf\n",
        "from tensorflow.keras.layers import Dense, Activation\n",
        "from tensorflow.keras import Sequential\n",
        "from tensorflow.keras.optimizers import Adam\n",
        "\n",
        "print(tf.__version__)"
      ],
      "execution_count": 12,
      "outputs": [
        {
          "output_type": "stream",
          "text": [
            "2.3.0\n"
          ],
          "name": "stdout"
        }
      ]
    },
    {
      "cell_type": "code",
      "metadata": {
        "id": "Q30p2WHxan4d"
      },
      "source": [
        "# 此範例使用 Tensorflow2.0 Sequential API 搭建神經網路。\n",
        "model = Sequential()\n",
        "model.add(Dense(8, Activation('relu'), input_dim=X.shape[-1]))\n",
        "model.add(Dense(16, Activation('relu')))\n",
        "model.add(Dense(3, Activation('softmax')))"
      ],
      "execution_count": 13,
      "outputs": []
    },
    {
      "cell_type": "code",
      "metadata": {
        "id": "gCfdh7Lgan4h",
        "outputId": "0857aa46-855a-40ee-c4d9-91103ad80b7f",
        "colab": {
          "base_uri": "https://localhost:8080/"
        }
      },
      "source": [
        "model.summary()   # Weights = (4+1)*8+(8+1)*16+(16+1)*3"
      ],
      "execution_count": 14,
      "outputs": [
        {
          "output_type": "stream",
          "text": [
            "Model: \"sequential\"\n",
            "_________________________________________________________________\n",
            "Layer (type)                 Output Shape              Param #   \n",
            "=================================================================\n",
            "dense (Dense)                (None, 8)                 40        \n",
            "_________________________________________________________________\n",
            "dense_1 (Dense)              (None, 16)                144       \n",
            "_________________________________________________________________\n",
            "dense_2 (Dense)              (None, 3)                 51        \n",
            "=================================================================\n",
            "Total params: 235\n",
            "Trainable params: 235\n",
            "Non-trainable params: 0\n",
            "_________________________________________________________________\n"
          ],
          "name": "stdout"
        }
      ]
    },
    {
      "cell_type": "code",
      "metadata": {
        "id": "86S7ALLTan4l",
        "outputId": "a6c3cc0f-71bc-45af-ffe9-76e7504ff81f",
        "colab": {
          "base_uri": "https://localhost:8080/"
        }
      },
      "source": [
        "# 編譯模型\n",
        "optim = Adam(lr=0.001)\n",
        "model.compile(loss='categorical_crossentropy',\n",
        "              optimizer=optim,\n",
        "              metrics=['acc'])\n",
        "\n",
        "batch_size=1\n",
        "epochs = 50\n",
        "\n",
        "# 訓練模型\n",
        "history = model.fit(X_train, y_train,\n",
        "                    batch_size=batch_size,\n",
        "                    epochs=epochs,\n",
        "                    verbose=1,\n",
        "                    shuffle=True,\n",
        "                    validation_split=0.1)\n"
      ],
      "execution_count": 15,
      "outputs": [
        {
          "output_type": "stream",
          "text": [
            "Epoch 1/50\n",
            "94/94 [==============================] - 0s 3ms/step - loss: 1.1386 - acc: 0.3511 - val_loss: 1.0033 - val_acc: 0.2727\n",
            "Epoch 2/50\n",
            "94/94 [==============================] - 0s 1ms/step - loss: 0.8402 - acc: 0.6064 - val_loss: 0.8171 - val_acc: 0.3636\n",
            "Epoch 3/50\n",
            "94/94 [==============================] - 0s 1ms/step - loss: 0.6696 - acc: 0.6702 - val_loss: 0.7760 - val_acc: 0.3636\n",
            "Epoch 4/50\n",
            "94/94 [==============================] - 0s 1ms/step - loss: 0.5582 - acc: 0.7128 - val_loss: 0.6042 - val_acc: 0.6364\n",
            "Epoch 5/50\n",
            "94/94 [==============================] - 0s 1ms/step - loss: 0.4862 - acc: 0.7660 - val_loss: 0.5858 - val_acc: 0.6364\n",
            "Epoch 6/50\n",
            "94/94 [==============================] - 0s 1ms/step - loss: 0.4347 - acc: 0.8404 - val_loss: 0.5031 - val_acc: 0.7273\n",
            "Epoch 7/50\n",
            "94/94 [==============================] - 0s 1ms/step - loss: 0.3885 - acc: 0.9043 - val_loss: 0.5535 - val_acc: 0.6364\n",
            "Epoch 8/50\n",
            "94/94 [==============================] - 0s 1ms/step - loss: 0.3653 - acc: 0.9043 - val_loss: 0.4252 - val_acc: 0.8182\n",
            "Epoch 9/50\n",
            "94/94 [==============================] - 0s 1ms/step - loss: 0.3491 - acc: 0.8936 - val_loss: 0.3142 - val_acc: 1.0000\n",
            "Epoch 10/50\n",
            "94/94 [==============================] - 0s 990us/step - loss: 0.3114 - acc: 0.9149 - val_loss: 0.3462 - val_acc: 1.0000\n",
            "Epoch 11/50\n",
            "94/94 [==============================] - 0s 1ms/step - loss: 0.2884 - acc: 0.9362 - val_loss: 0.4287 - val_acc: 0.7273\n",
            "Epoch 12/50\n",
            "94/94 [==============================] - 0s 1ms/step - loss: 0.2761 - acc: 0.9362 - val_loss: 0.2885 - val_acc: 1.0000\n",
            "Epoch 13/50\n",
            "94/94 [==============================] - 0s 1ms/step - loss: 0.2637 - acc: 0.9149 - val_loss: 0.2675 - val_acc: 1.0000\n",
            "Epoch 14/50\n",
            "94/94 [==============================] - 0s 1ms/step - loss: 0.2390 - acc: 0.9362 - val_loss: 0.3245 - val_acc: 0.7273\n",
            "Epoch 15/50\n",
            "94/94 [==============================] - 0s 1ms/step - loss: 0.2198 - acc: 0.9574 - val_loss: 0.2781 - val_acc: 0.9091\n",
            "Epoch 16/50\n",
            "94/94 [==============================] - 0s 1ms/step - loss: 0.1859 - acc: 0.9574 - val_loss: 0.2451 - val_acc: 0.9091\n",
            "Epoch 17/50\n",
            "94/94 [==============================] - 0s 992us/step - loss: 0.1821 - acc: 0.9574 - val_loss: 0.2727 - val_acc: 0.9091\n",
            "Epoch 18/50\n",
            "94/94 [==============================] - 0s 1ms/step - loss: 0.1666 - acc: 0.9468 - val_loss: 0.2250 - val_acc: 0.9091\n",
            "Epoch 19/50\n",
            "94/94 [==============================] - 0s 973us/step - loss: 0.1505 - acc: 0.9681 - val_loss: 0.2416 - val_acc: 0.9091\n",
            "Epoch 20/50\n",
            "94/94 [==============================] - 0s 974us/step - loss: 0.1372 - acc: 0.9787 - val_loss: 0.1973 - val_acc: 0.9091\n",
            "Epoch 21/50\n",
            "94/94 [==============================] - 0s 1ms/step - loss: 0.1337 - acc: 0.9681 - val_loss: 0.2342 - val_acc: 0.9091\n",
            "Epoch 22/50\n",
            "94/94 [==============================] - 0s 1ms/step - loss: 0.1326 - acc: 0.9681 - val_loss: 0.1786 - val_acc: 0.9091\n",
            "Epoch 23/50\n",
            "94/94 [==============================] - 0s 993us/step - loss: 0.1256 - acc: 0.9681 - val_loss: 0.1286 - val_acc: 0.9091\n",
            "Epoch 24/50\n",
            "94/94 [==============================] - 0s 976us/step - loss: 0.1257 - acc: 0.9787 - val_loss: 0.3079 - val_acc: 0.8182\n",
            "Epoch 25/50\n",
            "94/94 [==============================] - 0s 1ms/step - loss: 0.1135 - acc: 0.9787 - val_loss: 0.1545 - val_acc: 0.9091\n",
            "Epoch 26/50\n",
            "94/94 [==============================] - 0s 1ms/step - loss: 0.1137 - acc: 0.9681 - val_loss: 0.1355 - val_acc: 0.9091\n",
            "Epoch 27/50\n",
            "94/94 [==============================] - 0s 1ms/step - loss: 0.1124 - acc: 0.9894 - val_loss: 0.1985 - val_acc: 0.9091\n",
            "Epoch 28/50\n",
            "94/94 [==============================] - 0s 1ms/step - loss: 0.1190 - acc: 0.9681 - val_loss: 0.1991 - val_acc: 0.9091\n",
            "Epoch 29/50\n",
            "94/94 [==============================] - 0s 1ms/step - loss: 0.1084 - acc: 0.9681 - val_loss: 0.1203 - val_acc: 0.9091\n",
            "Epoch 30/50\n",
            "94/94 [==============================] - 0s 1ms/step - loss: 0.1032 - acc: 0.9681 - val_loss: 0.2412 - val_acc: 0.9091\n",
            "Epoch 31/50\n",
            "94/94 [==============================] - 0s 1ms/step - loss: 0.1044 - acc: 0.9681 - val_loss: 0.2374 - val_acc: 0.9091\n",
            "Epoch 32/50\n",
            "94/94 [==============================] - 0s 1ms/step - loss: 0.1062 - acc: 0.9681 - val_loss: 0.2400 - val_acc: 0.9091\n",
            "Epoch 33/50\n",
            "94/94 [==============================] - 0s 995us/step - loss: 0.0985 - acc: 0.9787 - val_loss: 0.2061 - val_acc: 0.9091\n",
            "Epoch 34/50\n",
            "94/94 [==============================] - 0s 1ms/step - loss: 0.0854 - acc: 0.9787 - val_loss: 0.0842 - val_acc: 1.0000\n",
            "Epoch 35/50\n",
            "94/94 [==============================] - 0s 1ms/step - loss: 0.0995 - acc: 0.9681 - val_loss: 0.1077 - val_acc: 0.9091\n",
            "Epoch 36/50\n",
            "94/94 [==============================] - 0s 980us/step - loss: 0.1206 - acc: 0.9681 - val_loss: 0.1233 - val_acc: 0.9091\n",
            "Epoch 37/50\n",
            "94/94 [==============================] - 0s 1ms/step - loss: 0.0859 - acc: 0.9894 - val_loss: 0.1008 - val_acc: 0.9091\n",
            "Epoch 38/50\n",
            "94/94 [==============================] - 0s 1ms/step - loss: 0.0941 - acc: 0.9894 - val_loss: 0.1247 - val_acc: 0.9091\n",
            "Epoch 39/50\n",
            "94/94 [==============================] - 0s 961us/step - loss: 0.0979 - acc: 0.9787 - val_loss: 0.1732 - val_acc: 0.9091\n",
            "Epoch 40/50\n",
            "94/94 [==============================] - 0s 980us/step - loss: 0.0910 - acc: 0.9787 - val_loss: 0.1234 - val_acc: 0.9091\n",
            "Epoch 41/50\n",
            "94/94 [==============================] - 0s 967us/step - loss: 0.1030 - acc: 0.9787 - val_loss: 0.0566 - val_acc: 1.0000\n",
            "Epoch 42/50\n",
            "94/94 [==============================] - 0s 994us/step - loss: 0.0920 - acc: 0.9681 - val_loss: 0.0623 - val_acc: 1.0000\n",
            "Epoch 43/50\n",
            "94/94 [==============================] - 0s 1ms/step - loss: 0.0910 - acc: 0.9894 - val_loss: 0.1416 - val_acc: 0.9091\n",
            "Epoch 44/50\n",
            "94/94 [==============================] - 0s 1ms/step - loss: 0.0857 - acc: 0.9787 - val_loss: 0.0604 - val_acc: 1.0000\n",
            "Epoch 45/50\n",
            "94/94 [==============================] - 0s 999us/step - loss: 0.0897 - acc: 0.9574 - val_loss: 0.1049 - val_acc: 0.9091\n",
            "Epoch 46/50\n",
            "94/94 [==============================] - 0s 1ms/step - loss: 0.0936 - acc: 0.9681 - val_loss: 0.2367 - val_acc: 0.9091\n",
            "Epoch 47/50\n",
            "94/94 [==============================] - 0s 1ms/step - loss: 0.0907 - acc: 0.9787 - val_loss: 0.1951 - val_acc: 0.9091\n",
            "Epoch 48/50\n",
            "94/94 [==============================] - 0s 1ms/step - loss: 0.1181 - acc: 0.9468 - val_loss: 0.0595 - val_acc: 1.0000\n",
            "Epoch 49/50\n",
            "94/94 [==============================] - 0s 1ms/step - loss: 0.0997 - acc: 0.9681 - val_loss: 0.1915 - val_acc: 0.9091\n",
            "Epoch 50/50\n",
            "94/94 [==============================] - 0s 975us/step - loss: 0.0888 - acc: 0.9787 - val_loss: 0.1854 - val_acc: 0.9091\n"
          ],
          "name": "stdout"
        }
      ]
    },
    {
      "cell_type": "markdown",
      "metadata": {
        "id": "pG1O5ymTan4s"
      },
      "source": [
        "## 6) 觀察訓練結果"
      ]
    },
    {
      "cell_type": "code",
      "metadata": {
        "id": "OFUTBafCan4u"
      },
      "source": [
        "import matplotlib.pyplot as plt\n",
        "\n",
        "history_dict = history.history\n",
        "history_dict.keys()\n",
        "acc = history_dict['acc']\n",
        "val_acc = history_dict['val_acc']\n",
        "loss = history_dict['loss']\n",
        "val_loss = history_dict['val_loss']\n",
        "epochs_ = range(1,len(acc)+1)"
      ],
      "execution_count": 16,
      "outputs": []
    },
    {
      "cell_type": "code",
      "metadata": {
        "id": "C5PL5GAwan4x",
        "outputId": "b178c5c9-364c-4ecf-9fde-a48c260d1357",
        "colab": {
          "base_uri": "https://localhost:8080/",
          "height": 295
        }
      },
      "source": [
        "plt.plot(epochs_ , loss , label = 'training loss')\n",
        "plt.plot(epochs_ , val_loss , label = 'val los')\n",
        "plt.title('training and val loss')\n",
        "plt.xlabel('epochs')\n",
        "plt.ylabel('loss')\n",
        "plt.legend()\n",
        "plt.show()"
      ],
      "execution_count": 17,
      "outputs": [
        {
          "output_type": "display_data",
          "data": {
            "image/png": "[encoded data removed]",
            "text/plain": [
              "<Figure size 432x288 with 1 Axes>"
            ]
          },
          "metadata": {
            "tags": [],
            "needs_background": "light"
          }
        }
      ]
    },
    {
      "cell_type": "code",
      "metadata": {
        "id": "Ketuv_Bvan43",
        "outputId": "a63cc8a6-cdc2-456f-92a7-0983ada54b8c",
        "colab": {
          "base_uri": "https://localhost:8080/",
          "height": 295
        }
      },
      "source": [
        "plt.clf()\n",
        "plt.plot(epochs_ , acc , label='train accuracy')\n",
        "plt.plot(epochs_ , val_acc , label = 'val accuracy')\n",
        "plt.title('train and val acc')\n",
        "plt.xlabel('epochs')\n",
        "plt.ylabel('acc')\n",
        "plt.legend()\n",
        "plt.show()"
      ],
      "execution_count": 18,
      "outputs": [
        {
          "output_type": "display_data",
          "data": {
            "image/png": "[encoded data removed]",
            "text/plain": [
              "<Figure size 432x288 with 1 Axes>"
            ]
          },
          "metadata": {
            "tags": [],
            "needs_background": "light"
          }
        }
      ]
    },
    {
      "cell_type": "markdown",
      "metadata": {
        "id": "PR5QIun7an47"
      },
      "source": [
        "## 測試"
      ]
    },
    {
      "cell_type": "code",
      "metadata": {
        "id": "rdG9q4M9an47",
        "outputId": "f4738b5b-6486-439c-f003-58244e0f6abe",
        "colab": {
          "base_uri": "https://localhost:8080/"
        }
      },
      "source": [
        "from sklearn.metrics import accuracy_score\n",
        "label=np.argmax(y,axis=1)\n",
        "pred =  np.argmax(model.predict(X), axis=1)\n",
        "print(accuracy_score(label, pred))"
      ],
      "execution_count": 19,
      "outputs": [
        {
          "output_type": "stream",
          "text": [
            "0.9733333333333334\n"
          ],
          "name": "stdout"
        }
      ]
    },
    {
      "cell_type": "code",
      "metadata": {
        "id": "p-t6pvZman4_"
      },
      "source": [
        ""
      ],
      "execution_count": 19,
      "outputs": []
    }
  ]
}