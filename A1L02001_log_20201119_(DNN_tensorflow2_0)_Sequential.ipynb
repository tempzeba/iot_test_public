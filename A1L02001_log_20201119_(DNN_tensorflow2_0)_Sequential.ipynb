{
  "nbformat": 4,
  "nbformat_minor": 0,
  "metadata": {
    "colab": {
      "name": "A1L02001_log_20201119 (DNN-tensorflow2.0)-Sequential.ipynb",
      "provenance": [],
      "collapsed_sections": [],
      "toc_visible": true,
      "authorship_tag": "ABX9TyOolx6rJjfjYzEoLYyDO6Pp",
      "include_colab_link": true
    },
    "kernelspec": {
      "name": "python3",
      "display_name": "Python 3"
    }
  },
  "cells": [
    {
      "cell_type": "markdown",
      "metadata": {
        "id": "view-in-github",
        "colab_type": "text"
      },
      "source": [
        "<a href=\"https://colab.research.google.com/github/tempzeba/iot_test_public/blob/main/A1L02001_log_20201119_(DNN_tensorflow2_0)_Sequential.ipynb\" target=\"_parent\"><img src=\"https://colab.research.google.com/assets/colab-badge.svg\" alt=\"Open In Colab\"/></a>"
      ]
    },
    {
      "cell_type": "markdown",
      "metadata": {
        "id": "1Y0w5q6AUmMa"
      },
      "source": [
        "## 0) 程式說明\n",
        "### 目的：A1L02001 IOT異常分析\n",
        "### 運行環境："
      ]
    },
    {
      "cell_type": "code",
      "metadata": {
        "colab": {
          "base_uri": "https://localhost:8080/"
        },
        "id": "JhSdZF2NW8Xs",
        "outputId": "103109b2-5c26-43d5-9f97-516df9625a87"
      },
      "source": [
        "import sys\n",
        "print(\"python版本:%s\"% sys.version)"
      ],
      "execution_count": 2,
      "outputs": [
        {
          "output_type": "stream",
          "text": [
            "python版本:3.6.9 (default, Oct  8 2020, 12:12:24) \n",
            "[GCC 8.4.0]\n"
          ],
          "name": "stdout"
        }
      ]
    },
    {
      "cell_type": "code",
      "metadata": {
        "id": "bIVId25Van3a"
      },
      "source": [
        "import warnings\n",
        "import pandas as pd\n",
        "import numpy as np\n",
        "import matplotlib.pyplot as plt\n",
        "warnings.filterwarnings(\"ignore\")"
      ],
      "execution_count": null,
      "outputs": []
    },
    {
      "cell_type": "markdown",
      "metadata": {
        "id": "a5wddLSban3o"
      },
      "source": [
        "## 1) 載入資料集"
      ]
    },
    {
      "cell_type": "code",
      "metadata": {
        "id": "GA-bjU2pan3p",
        "colab": {
          "base_uri": "https://localhost:8080/"
        },
        "outputId": "e07f408d-2448-4a1e-9e56-031ce7c539e0"
      },
      "source": [
        "# df_train = pd.read_csv('./data/Iris.csv')\n",
        "df_train = pd.read_csv('https://github.com/tempzeba/iot_test_public/releases/download/iot_data/A1L02001_log_01.csv', sep='\\t')\n",
        "df_train = df_train.drop(labels=[r'收集日期', \n",
        "r'抽樣秒', \n",
        "r'位址區段E32768紀錄時間', \n",
        "r'位址區段G32768紀錄時間', \n",
        "r'位址區段G12288紀錄時間',\n",
        "r'機台編號',\n",
        "r'目前生產配方'\n",
        ",\n",
        " '壓力檢測啟動',\n",
        " 'Cycle_Time',\n",
        " '第一穴預吹延遲',\n",
        " '第二穴預吹延遲',\n",
        " '第三穴預吹延遲',\n",
        " '第四穴預吹延遲',\n",
        " '第五穴預吹延遲',\n",
        " '第六穴預吹延遲',\n",
        " '第七穴預吹延遲',\n",
        " '第八穴預吹延遲',\n",
        " '第九穴預吹延遲',\n",
        " '第十穴預吹延遲',\n",
        " '第一穴高壓延遲',\n",
        " '第二穴高壓延遲',\n",
        " '第三穴高壓延遲',\n",
        " '第四穴高壓延遲',\n",
        " '第五穴高壓延遲',\n",
        " '第六穴高壓延遲',\n",
        " '第七穴高壓延遲',\n",
        " '第八穴高壓延遲',\n",
        " '第九穴高壓延遲',\n",
        " '第十穴高壓延遲',\n",
        " '第一穴吹高壓時間',\n",
        " '第二穴吹高壓時間',\n",
        " '第三穴吹高壓時間',\n",
        " '第四穴吹高壓時間',\n",
        " '第五穴吹高壓時間',\n",
        " '第六穴吹高壓時間',\n",
        " '第七穴吹高壓時間',\n",
        " '第八穴吹高壓時間',\n",
        " '第九穴吹高壓時間',\n",
        " '第十穴吹高壓時間',\n",
        " '第一穴排氣時間',\n",
        " '第二穴排氣時間',\n",
        " '第三穴排氣時間',\n",
        " '第四穴排氣時間',\n",
        " '第五穴排氣時間',\n",
        " '第六穴排氣時間',\n",
        " '第七穴排氣時間',\n",
        " '第八穴排氣時間',\n",
        " '第九穴排氣時間',\n",
        " '第十穴排氣時間',\n",
        " '第九層燈管加熱%',\n",
        " '第十層燈管加熱%',\n",
        " '產能',\n",
        " '吹氣鼓風機轉速',\n",
        " '吸氣鼓風機轉速',\n",
        " '自轉馬達轉速',\n",
        " '整列滾筒調速',\n",
        " '牙口鼓風機轉速',\n",
        " '入胚啟動位置',\n",
        " '入胚啟動延時',\n",
        " '震動馬達震動時間',\n",
        " '震動馬達震動循環時間',\n",
        " '第九穴壓力檢測',\n",
        " '第十穴壓力檢測',\n",
        " '破瓶數增加',\n",
        " '入胚啟動',\n",
        " '加熱啟動',\n",
        " '吹瓶啟動',\n",
        " '機台異常或無異常',\n",
        " '自動或手動',\n",
        " '總生產數量',\n",
        " '機台是否正常(0~59s)'\n",
        "\n",
        "],axis=1) # 移除Id\n",
        "# df_train = pd.read_csv('https://github.com/tempzeba/iris-dnn-tensorflow/raw/master/data/Iris.csv')\n",
        "# df_train = df_train.drop(labels=['Id'],axis=1) # 移除Id\n",
        "mask = df_train[r'異常代碼'] > 0\n",
        "target_count = mask.sum()\n",
        "df_train_noerr = df_train[df_train[r'異常代碼'] == 0].sample(n=target_count,random_state=123,axis=0)\n",
        "df_train = df_train[mask]\n",
        "df_train = df_train.append(df_train_noerr)\n",
        "df_train.count()"
      ],
      "execution_count": null,
      "outputs": [
        {
          "output_type": "execute_result",
          "data": {
            "text/plain": [
              "低壓壓力         17460\n",
              "高壓壓力         17460\n",
              "回收壓力         17460\n",
              "預吹壓力         17460\n",
              "最多成型時間       17460\n",
              "第一層燈管加熱%     17460\n",
              "第二層燈管加熱%     17460\n",
              "第三層燈管加熱%     17460\n",
              "第四層燈管加熱%     17460\n",
              "第五層燈管加熱%     17460\n",
              "第六層燈管加熱%     17460\n",
              "第七層燈管加熱%     17460\n",
              "第八層燈管加熱%     17460\n",
              "滾筒速度         17460\n",
              "第一穴壓力檢測      17460\n",
              "第二穴壓力檢測      17460\n",
              "第三穴壓力檢測      17460\n",
              "第四穴壓力檢測      17460\n",
              "第五穴壓力檢測      17460\n",
              "第六穴壓力檢測      17460\n",
              "第七穴壓力檢測      17460\n",
              "第八穴壓力檢測      17460\n",
              "破瓶壓力檢測值設定    17460\n",
              "加熱箱一水道溫度     17460\n",
              "加熱箱二水道溫度     17460\n",
              "加熱箱三水道溫度     17460\n",
              "加熱箱四水道溫度     17460\n",
              "加熱箱五水道溫度     17460\n",
              "加熱箱六水道溫度     17460\n",
              "加熱箱七水道溫度     17460\n",
              "加熱箱八水道溫度     17460\n",
              "破瓶數量         17460\n",
              "異常代碼         17460\n",
              "dtype: int64"
            ]
          },
          "metadata": {
            "tags": []
          },
          "execution_count": 177
        }
      ]
    },
    {
      "cell_type": "markdown",
      "metadata": {
        "id": "r1M7a4iian3u"
      },
      "source": [
        "## 2) 手動編碼\n",
        "處理名目資料 (Nominal variables) - 資料前處理\n",
        "依據特徵資料的特性，可以選擇手動編碼或自動編碼。\n",
        "\n",
        "### 使用編碼時機?\n",
        "進行深度學習時，神經網路只能處理數值資料。因此我們需要將所有非數字型態的特徵進行轉換。\n",
        "\n",
        "### 註：\n",
        "略。(IOT原始資料已經一次前處理)"
      ]
    },
    {
      "cell_type": "markdown",
      "metadata": {
        "id": "txpEEPgAan36"
      },
      "source": [
        "## 3) 檢查缺失值\n",
        "使用 numpy 所提供的函式來檢查是否有 NA 缺失值，假設有缺失值使用dropna()來移除。使用的時機在於當只有少量的缺失值適用，若遇到有大量缺失值的情況，或是本身的資料量就很少的情況下建議可以透過機器學習的方法補值來預測缺失值。\n",
        "### 註：\n",
        "略。(IOT原始資料已經一次前處理)"
      ]
    },
    {
      "cell_type": "markdown",
      "metadata": {
        "id": "gNBeqTcUan4A"
      },
      "source": [
        "## 4) 將輸出特徵做one-hot encoding\n",
        "如何對欄位class做one-hot encoding？"
      ]
    },
    {
      "cell_type": "code",
      "metadata": {
        "id": "iQFh4fj0an4C",
        "colab": {
          "base_uri": "https://localhost:8080/"
        },
        "outputId": "5a3b650f-a727-4902-e476-055d5bb13778"
      },
      "source": [
        "from tensorflow.keras.utils import to_categorical\n",
        "y = to_categorical(df_train[r'異常代碼'])\n",
        "y"
      ],
      "execution_count": null,
      "outputs": [
        {
          "output_type": "execute_result",
          "data": {
            "text/plain": [
              "array([[0., 0., 0., ..., 0., 0., 0.],\n",
              "       [0., 0., 0., ..., 0., 0., 0.],\n",
              "       [0., 0., 0., ..., 0., 0., 0.],\n",
              "       ...,\n",
              "       [1., 0., 0., ..., 0., 0., 0.],\n",
              "       [1., 0., 0., ..., 0., 0., 0.],\n",
              "       [1., 0., 0., ..., 0., 0., 0.]], dtype=float32)"
            ]
          },
          "metadata": {
            "tags": []
          },
          "execution_count": 178
        }
      ]
    },
    {
      "cell_type": "markdown",
      "metadata": {
        "id": "_OclZM7Wan4I"
      },
      "source": [
        "## 5) 切割訓練集與測試集"
      ]
    },
    {
      "cell_type": "markdown",
      "metadata": {
        "id": "JSw4NVQLwdvU"
      },
      "source": [
        ""
      ]
    },
    {
      "cell_type": "code",
      "metadata": {
        "id": "hjDEttMPan4J",
        "colab": {
          "base_uri": "https://localhost:8080/"
        },
        "outputId": "fe9fe87f-8fb8-4f5e-d2eb-984ee7d1665c"
      },
      "source": [
        "pd.set_option('max_row',300)\n",
        "# X=df_train.drop(labels=['Class'],axis=1)\n",
        "X=df_train.drop(columns=[r'異常代碼'])\n",
        "# X.isna().sum().sum()\n",
        "# X\n",
        "mask = X.describe().transpose()['std']==0\n",
        "X.describe().transpose()[mask].index.tolist()\n",
        "# X.describe().transpose().columns.tolist()\n"
      ],
      "execution_count": null,
      "outputs": [
        {
          "output_type": "execute_result",
          "data": {
            "text/plain": [
              "[]"
            ]
          },
          "metadata": {
            "tags": []
          },
          "execution_count": 179
        }
      ]
    },
    {
      "cell_type": "code",
      "metadata": {
        "id": "rKl7fICTan4Q"
      },
      "source": [
        "from sklearn.model_selection import train_test_split\n",
        "X_train , X_test , y_train , y_test = train_test_split(X,y , test_size=.3 , random_state=40)"
      ],
      "execution_count": null,
      "outputs": []
    },
    {
      "cell_type": "code",
      "metadata": {
        "id": "8Ovl96zhan4T",
        "colab": {
          "base_uri": "https://localhost:8080/",
          "height": 542
        },
        "outputId": "ee642293-eb86-4822-aa02-7656b4859855"
      },
      "source": [
        "print('訓練資料: ',X_train.shape)\n",
        "print('測試資料: ',X_test.shape)\n",
        "X_train"
      ],
      "execution_count": null,
      "outputs": [
        {
          "output_type": "stream",
          "text": [
            "訓練資料:  (12222, 32)\n",
            "測試資料:  (5238, 32)\n"
          ],
          "name": "stdout"
        },
        {
          "output_type": "execute_result",
          "data": {
            "text/html": [
              "<div>\n",
              "<style scoped>\n",
              "    .dataframe tbody tr th:only-of-type {\n",
              "        vertical-align: middle;\n",
              "    }\n",
              "\n",
              "    .dataframe tbody tr th {\n",
              "        vertical-align: top;\n",
              "    }\n",
              "\n",
              "    .dataframe thead th {\n",
              "        text-align: right;\n",
              "    }\n",
              "</style>\n",
              "<table border=\"1\" class=\"dataframe\">\n",
              "  <thead>\n",
              "    <tr style=\"text-align: right;\">\n",
              "      <th></th>\n",
              "      <th>低壓壓力</th>\n",
              "      <th>高壓壓力</th>\n",
              "      <th>回收壓力</th>\n",
              "      <th>預吹壓力</th>\n",
              "      <th>最多成型時間</th>\n",
              "      <th>第一層燈管加熱%</th>\n",
              "      <th>第二層燈管加熱%</th>\n",
              "      <th>第三層燈管加熱%</th>\n",
              "      <th>第四層燈管加熱%</th>\n",
              "      <th>第五層燈管加熱%</th>\n",
              "      <th>第六層燈管加熱%</th>\n",
              "      <th>第七層燈管加熱%</th>\n",
              "      <th>第八層燈管加熱%</th>\n",
              "      <th>滾筒速度</th>\n",
              "      <th>第一穴壓力檢測</th>\n",
              "      <th>第二穴壓力檢測</th>\n",
              "      <th>第三穴壓力檢測</th>\n",
              "      <th>第四穴壓力檢測</th>\n",
              "      <th>第五穴壓力檢測</th>\n",
              "      <th>第六穴壓力檢測</th>\n",
              "      <th>第七穴壓力檢測</th>\n",
              "      <th>第八穴壓力檢測</th>\n",
              "      <th>破瓶壓力檢測值設定</th>\n",
              "      <th>加熱箱一水道溫度</th>\n",
              "      <th>加熱箱二水道溫度</th>\n",
              "      <th>加熱箱三水道溫度</th>\n",
              "      <th>加熱箱四水道溫度</th>\n",
              "      <th>加熱箱五水道溫度</th>\n",
              "      <th>加熱箱六水道溫度</th>\n",
              "      <th>加熱箱七水道溫度</th>\n",
              "      <th>加熱箱八水道溫度</th>\n",
              "      <th>破瓶數量</th>\n",
              "    </tr>\n",
              "  </thead>\n",
              "  <tbody>\n",
              "    <tr>\n",
              "      <th>31881</th>\n",
              "      <td>8.0</td>\n",
              "      <td>32.9</td>\n",
              "      <td>10.9</td>\n",
              "      <td>10.7</td>\n",
              "      <td>945.0</td>\n",
              "      <td>69.0</td>\n",
              "      <td>41.0</td>\n",
              "      <td>40.0</td>\n",
              "      <td>40.0</td>\n",
              "      <td>45.0</td>\n",
              "      <td>67.0</td>\n",
              "      <td>45.5</td>\n",
              "      <td>40.0</td>\n",
              "      <td>35.0</td>\n",
              "      <td>28.4</td>\n",
              "      <td>28.5</td>\n",
              "      <td>28.5</td>\n",
              "      <td>28.6</td>\n",
              "      <td>28.1</td>\n",
              "      <td>28.1</td>\n",
              "      <td>28.1</td>\n",
              "      <td>28.1</td>\n",
              "      <td>22.0</td>\n",
              "      <td>62.6</td>\n",
              "      <td>63.3</td>\n",
              "      <td>68.5</td>\n",
              "      <td>66.1</td>\n",
              "      <td>55.0</td>\n",
              "      <td>75.4</td>\n",
              "      <td>68.7</td>\n",
              "      <td>63.5</td>\n",
              "      <td>1261.0</td>\n",
              "    </tr>\n",
              "    <tr>\n",
              "      <th>36099</th>\n",
              "      <td>8.3</td>\n",
              "      <td>31.3</td>\n",
              "      <td>11.4</td>\n",
              "      <td>11.3</td>\n",
              "      <td>942.0</td>\n",
              "      <td>68.5</td>\n",
              "      <td>41.0</td>\n",
              "      <td>40.0</td>\n",
              "      <td>40.0</td>\n",
              "      <td>45.0</td>\n",
              "      <td>69.0</td>\n",
              "      <td>45.0</td>\n",
              "      <td>40.0</td>\n",
              "      <td>35.0</td>\n",
              "      <td>27.7</td>\n",
              "      <td>27.8</td>\n",
              "      <td>27.7</td>\n",
              "      <td>27.8</td>\n",
              "      <td>27.4</td>\n",
              "      <td>27.4</td>\n",
              "      <td>27.4</td>\n",
              "      <td>27.4</td>\n",
              "      <td>22.0</td>\n",
              "      <td>41.6</td>\n",
              "      <td>44.3</td>\n",
              "      <td>45.4</td>\n",
              "      <td>44.6</td>\n",
              "      <td>38.3</td>\n",
              "      <td>47.4</td>\n",
              "      <td>43.8</td>\n",
              "      <td>42.0</td>\n",
              "      <td>1261.0</td>\n",
              "    </tr>\n",
              "    <tr>\n",
              "      <th>35910</th>\n",
              "      <td>8.2</td>\n",
              "      <td>33.4</td>\n",
              "      <td>11.2</td>\n",
              "      <td>11.1</td>\n",
              "      <td>942.0</td>\n",
              "      <td>68.5</td>\n",
              "      <td>41.0</td>\n",
              "      <td>40.0</td>\n",
              "      <td>40.0</td>\n",
              "      <td>45.0</td>\n",
              "      <td>69.0</td>\n",
              "      <td>45.0</td>\n",
              "      <td>40.0</td>\n",
              "      <td>35.0</td>\n",
              "      <td>27.7</td>\n",
              "      <td>27.8</td>\n",
              "      <td>27.7</td>\n",
              "      <td>27.8</td>\n",
              "      <td>27.4</td>\n",
              "      <td>27.4</td>\n",
              "      <td>27.4</td>\n",
              "      <td>27.4</td>\n",
              "      <td>22.0</td>\n",
              "      <td>47.9</td>\n",
              "      <td>48.1</td>\n",
              "      <td>50.1</td>\n",
              "      <td>49.3</td>\n",
              "      <td>40.9</td>\n",
              "      <td>54.1</td>\n",
              "      <td>52.0</td>\n",
              "      <td>46.6</td>\n",
              "      <td>1261.0</td>\n",
              "    </tr>\n",
              "    <tr>\n",
              "      <th>90214</th>\n",
              "      <td>8.3</td>\n",
              "      <td>29.0</td>\n",
              "      <td>10.7</td>\n",
              "      <td>10.2</td>\n",
              "      <td>939.0</td>\n",
              "      <td>68.0</td>\n",
              "      <td>40.5</td>\n",
              "      <td>40.0</td>\n",
              "      <td>40.0</td>\n",
              "      <td>46.5</td>\n",
              "      <td>66.5</td>\n",
              "      <td>47.0</td>\n",
              "      <td>38.0</td>\n",
              "      <td>35.0</td>\n",
              "      <td>28.4</td>\n",
              "      <td>28.4</td>\n",
              "      <td>28.4</td>\n",
              "      <td>28.6</td>\n",
              "      <td>28.1</td>\n",
              "      <td>28.1</td>\n",
              "      <td>28.1</td>\n",
              "      <td>28.1</td>\n",
              "      <td>24.0</td>\n",
              "      <td>61.4</td>\n",
              "      <td>61.6</td>\n",
              "      <td>66.1</td>\n",
              "      <td>65.2</td>\n",
              "      <td>56.1</td>\n",
              "      <td>74.1</td>\n",
              "      <td>66.3</td>\n",
              "      <td>61.3</td>\n",
              "      <td>1306.0</td>\n",
              "    </tr>\n",
              "    <tr>\n",
              "      <th>12491</th>\n",
              "      <td>8.2</td>\n",
              "      <td>31.4</td>\n",
              "      <td>12.0</td>\n",
              "      <td>11.9</td>\n",
              "      <td>945.0</td>\n",
              "      <td>71.0</td>\n",
              "      <td>41.0</td>\n",
              "      <td>40.0</td>\n",
              "      <td>40.0</td>\n",
              "      <td>45.0</td>\n",
              "      <td>67.5</td>\n",
              "      <td>47.5</td>\n",
              "      <td>40.0</td>\n",
              "      <td>35.0</td>\n",
              "      <td>31.1</td>\n",
              "      <td>31.1</td>\n",
              "      <td>31.0</td>\n",
              "      <td>31.2</td>\n",
              "      <td>0.0</td>\n",
              "      <td>0.0</td>\n",
              "      <td>0.0</td>\n",
              "      <td>0.0</td>\n",
              "      <td>22.0</td>\n",
              "      <td>40.9</td>\n",
              "      <td>42.6</td>\n",
              "      <td>44.4</td>\n",
              "      <td>43.7</td>\n",
              "      <td>37.4</td>\n",
              "      <td>46.0</td>\n",
              "      <td>42.8</td>\n",
              "      <td>41.6</td>\n",
              "      <td>1259.0</td>\n",
              "    </tr>\n",
              "    <tr>\n",
              "      <th>...</th>\n",
              "      <td>...</td>\n",
              "      <td>...</td>\n",
              "      <td>...</td>\n",
              "      <td>...</td>\n",
              "      <td>...</td>\n",
              "      <td>...</td>\n",
              "      <td>...</td>\n",
              "      <td>...</td>\n",
              "      <td>...</td>\n",
              "      <td>...</td>\n",
              "      <td>...</td>\n",
              "      <td>...</td>\n",
              "      <td>...</td>\n",
              "      <td>...</td>\n",
              "      <td>...</td>\n",
              "      <td>...</td>\n",
              "      <td>...</td>\n",
              "      <td>...</td>\n",
              "      <td>...</td>\n",
              "      <td>...</td>\n",
              "      <td>...</td>\n",
              "      <td>...</td>\n",
              "      <td>...</td>\n",
              "      <td>...</td>\n",
              "      <td>...</td>\n",
              "      <td>...</td>\n",
              "      <td>...</td>\n",
              "      <td>...</td>\n",
              "      <td>...</td>\n",
              "      <td>...</td>\n",
              "      <td>...</td>\n",
              "      <td>...</td>\n",
              "    </tr>\n",
              "    <tr>\n",
              "      <th>18789</th>\n",
              "      <td>8.4</td>\n",
              "      <td>27.8</td>\n",
              "      <td>10.9</td>\n",
              "      <td>10.5</td>\n",
              "      <td>942.0</td>\n",
              "      <td>70.0</td>\n",
              "      <td>41.0</td>\n",
              "      <td>40.0</td>\n",
              "      <td>40.0</td>\n",
              "      <td>45.0</td>\n",
              "      <td>68.0</td>\n",
              "      <td>46.0</td>\n",
              "      <td>40.0</td>\n",
              "      <td>35.0</td>\n",
              "      <td>26.7</td>\n",
              "      <td>26.6</td>\n",
              "      <td>26.6</td>\n",
              "      <td>26.7</td>\n",
              "      <td>26.4</td>\n",
              "      <td>26.3</td>\n",
              "      <td>26.3</td>\n",
              "      <td>26.4</td>\n",
              "      <td>22.0</td>\n",
              "      <td>62.8</td>\n",
              "      <td>63.1</td>\n",
              "      <td>68.8</td>\n",
              "      <td>66.8</td>\n",
              "      <td>57.2</td>\n",
              "      <td>77.7</td>\n",
              "      <td>67.9</td>\n",
              "      <td>62.8</td>\n",
              "      <td>1260.0</td>\n",
              "    </tr>\n",
              "    <tr>\n",
              "      <th>6163</th>\n",
              "      <td>8.0</td>\n",
              "      <td>31.6</td>\n",
              "      <td>12.1</td>\n",
              "      <td>11.8</td>\n",
              "      <td>942.0</td>\n",
              "      <td>70.0</td>\n",
              "      <td>41.0</td>\n",
              "      <td>40.0</td>\n",
              "      <td>40.0</td>\n",
              "      <td>45.0</td>\n",
              "      <td>67.5</td>\n",
              "      <td>47.0</td>\n",
              "      <td>40.0</td>\n",
              "      <td>35.0</td>\n",
              "      <td>27.7</td>\n",
              "      <td>27.6</td>\n",
              "      <td>27.6</td>\n",
              "      <td>27.8</td>\n",
              "      <td>27.3</td>\n",
              "      <td>27.3</td>\n",
              "      <td>27.3</td>\n",
              "      <td>27.3</td>\n",
              "      <td>22.0</td>\n",
              "      <td>61.4</td>\n",
              "      <td>61.1</td>\n",
              "      <td>66.8</td>\n",
              "      <td>64.5</td>\n",
              "      <td>56.1</td>\n",
              "      <td>75.9</td>\n",
              "      <td>66.3</td>\n",
              "      <td>61.9</td>\n",
              "      <td>1259.0</td>\n",
              "    </tr>\n",
              "    <tr>\n",
              "      <th>53210</th>\n",
              "      <td>8.2</td>\n",
              "      <td>27.6</td>\n",
              "      <td>10.1</td>\n",
              "      <td>9.7</td>\n",
              "      <td>942.0</td>\n",
              "      <td>68.5</td>\n",
              "      <td>41.0</td>\n",
              "      <td>40.0</td>\n",
              "      <td>40.0</td>\n",
              "      <td>46.0</td>\n",
              "      <td>66.5</td>\n",
              "      <td>49.0</td>\n",
              "      <td>39.0</td>\n",
              "      <td>35.0</td>\n",
              "      <td>27.3</td>\n",
              "      <td>27.2</td>\n",
              "      <td>27.3</td>\n",
              "      <td>27.4</td>\n",
              "      <td>27.0</td>\n",
              "      <td>26.9</td>\n",
              "      <td>26.9</td>\n",
              "      <td>26.9</td>\n",
              "      <td>23.0</td>\n",
              "      <td>61.8</td>\n",
              "      <td>62.6</td>\n",
              "      <td>67.9</td>\n",
              "      <td>65.4</td>\n",
              "      <td>55.1</td>\n",
              "      <td>77.8</td>\n",
              "      <td>68.8</td>\n",
              "      <td>61.9</td>\n",
              "      <td>1297.0</td>\n",
              "    </tr>\n",
              "    <tr>\n",
              "      <th>80469</th>\n",
              "      <td>8.3</td>\n",
              "      <td>28.8</td>\n",
              "      <td>10.6</td>\n",
              "      <td>10.2</td>\n",
              "      <td>942.0</td>\n",
              "      <td>68.5</td>\n",
              "      <td>41.0</td>\n",
              "      <td>40.0</td>\n",
              "      <td>40.0</td>\n",
              "      <td>45.0</td>\n",
              "      <td>65.5</td>\n",
              "      <td>49.0</td>\n",
              "      <td>38.0</td>\n",
              "      <td>35.0</td>\n",
              "      <td>27.8</td>\n",
              "      <td>27.8</td>\n",
              "      <td>27.8</td>\n",
              "      <td>27.9</td>\n",
              "      <td>27.5</td>\n",
              "      <td>27.4</td>\n",
              "      <td>27.5</td>\n",
              "      <td>27.5</td>\n",
              "      <td>24.0</td>\n",
              "      <td>61.9</td>\n",
              "      <td>62.4</td>\n",
              "      <td>66.5</td>\n",
              "      <td>65.3</td>\n",
              "      <td>55.4</td>\n",
              "      <td>75.2</td>\n",
              "      <td>65.3</td>\n",
              "      <td>61.3</td>\n",
              "      <td>1305.0</td>\n",
              "    </tr>\n",
              "    <tr>\n",
              "      <th>95428</th>\n",
              "      <td>8.2</td>\n",
              "      <td>31.3</td>\n",
              "      <td>10.8</td>\n",
              "      <td>10.5</td>\n",
              "      <td>939.0</td>\n",
              "      <td>67.0</td>\n",
              "      <td>40.5</td>\n",
              "      <td>40.0</td>\n",
              "      <td>40.0</td>\n",
              "      <td>46.5</td>\n",
              "      <td>66.5</td>\n",
              "      <td>47.0</td>\n",
              "      <td>38.0</td>\n",
              "      <td>35.0</td>\n",
              "      <td>26.9</td>\n",
              "      <td>26.8</td>\n",
              "      <td>26.8</td>\n",
              "      <td>27.0</td>\n",
              "      <td>26.5</td>\n",
              "      <td>26.5</td>\n",
              "      <td>26.5</td>\n",
              "      <td>26.5</td>\n",
              "      <td>24.0</td>\n",
              "      <td>62.6</td>\n",
              "      <td>62.8</td>\n",
              "      <td>66.9</td>\n",
              "      <td>65.6</td>\n",
              "      <td>55.5</td>\n",
              "      <td>74.1</td>\n",
              "      <td>67.8</td>\n",
              "      <td>62.9</td>\n",
              "      <td>1306.0</td>\n",
              "    </tr>\n",
              "  </tbody>\n",
              "</table>\n",
              "<p>12222 rows × 32 columns</p>\n",
              "</div>"
            ],
            "text/plain": [
              "       低壓壓力  高壓壓力  回收壓力  預吹壓力  ...  加熱箱六水道溫度  加熱箱七水道溫度  加熱箱八水道溫度    破瓶數量\n",
              "31881   8.0  32.9  10.9  10.7  ...      75.4      68.7      63.5  1261.0\n",
              "36099   8.3  31.3  11.4  11.3  ...      47.4      43.8      42.0  1261.0\n",
              "35910   8.2  33.4  11.2  11.1  ...      54.1      52.0      46.6  1261.0\n",
              "90214   8.3  29.0  10.7  10.2  ...      74.1      66.3      61.3  1306.0\n",
              "12491   8.2  31.4  12.0  11.9  ...      46.0      42.8      41.6  1259.0\n",
              "...     ...   ...   ...   ...  ...       ...       ...       ...     ...\n",
              "18789   8.4  27.8  10.9  10.5  ...      77.7      67.9      62.8  1260.0\n",
              "6163    8.0  31.6  12.1  11.8  ...      75.9      66.3      61.9  1259.0\n",
              "53210   8.2  27.6  10.1   9.7  ...      77.8      68.8      61.9  1297.0\n",
              "80469   8.3  28.8  10.6  10.2  ...      75.2      65.3      61.3  1305.0\n",
              "95428   8.2  31.3  10.8  10.5  ...      74.1      67.8      62.9  1306.0\n",
              "\n",
              "[12222 rows x 32 columns]"
            ]
          },
          "metadata": {
            "tags": []
          },
          "execution_count": 181
        }
      ]
    },
    {
      "cell_type": "markdown",
      "metadata": {
        "id": "qB6zvYgJan4Z"
      },
      "source": [
        "## 6) 建立網路模型"
      ]
    },
    {
      "cell_type": "code",
      "metadata": {
        "id": "aJvDPRx5an4Z",
        "colab": {
          "base_uri": "https://localhost:8080/"
        },
        "outputId": "b477c23c-1703-4eb8-cec0-99679ed8cc72"
      },
      "source": [
        "import tensorflow as tf\n",
        "from tensorflow.keras.layers import Dense, Activation\n",
        "from tensorflow.keras import Sequential\n",
        "from tensorflow.keras.optimizers import Adam\n",
        "\n",
        "print(tf.__version__)"
      ],
      "execution_count": null,
      "outputs": [
        {
          "output_type": "stream",
          "text": [
            "2.3.0\n"
          ],
          "name": "stdout"
        }
      ]
    },
    {
      "cell_type": "code",
      "metadata": {
        "id": "Q30p2WHxan4d"
      },
      "source": [
        "# 此範例使用 Tensorflow2.0 Sequential API 搭建神經網路。\n",
        "model = Sequential()\n",
        "model.add(Dense(8, Activation('relu'), input_dim=X.shape[-1]))\n",
        "model.add(Dense(16, Activation('relu')))\n",
        "model.add(Dense(193, Activation('softmax')))"
      ],
      "execution_count": null,
      "outputs": []
    },
    {
      "cell_type": "code",
      "metadata": {
        "id": "gCfdh7Lgan4h",
        "colab": {
          "base_uri": "https://localhost:8080/"
        },
        "outputId": "37c1bbc6-3b25-4695-a0fb-1b20ff1301a9"
      },
      "source": [
        "model.summary()   # Weights = (4+1)*8+(8+1)*16+(16+1)*3"
      ],
      "execution_count": null,
      "outputs": [
        {
          "output_type": "stream",
          "text": [
            "Model: \"sequential_6\"\n",
            "_________________________________________________________________\n",
            "Layer (type)                 Output Shape              Param #   \n",
            "=================================================================\n",
            "dense_18 (Dense)             (None, 8)                 264       \n",
            "_________________________________________________________________\n",
            "dense_19 (Dense)             (None, 16)                144       \n",
            "_________________________________________________________________\n",
            "dense_20 (Dense)             (None, 193)               3281      \n",
            "=================================================================\n",
            "Total params: 3,689\n",
            "Trainable params: 3,689\n",
            "Non-trainable params: 0\n",
            "_________________________________________________________________\n"
          ],
          "name": "stdout"
        }
      ]
    },
    {
      "cell_type": "code",
      "metadata": {
        "id": "86S7ALLTan4l",
        "colab": {
          "base_uri": "https://localhost:8080/"
        },
        "outputId": "ca273bcf-f820-4af6-d0db-f36852594254"
      },
      "source": [
        "# 編譯模型\n",
        "optim = Adam(lr=0.001)\n",
        "model.compile(loss='categorical_crossentropy',\n",
        "              optimizer=optim,\n",
        "              metrics=['acc'])\n",
        "\n",
        "batch_size=1000\n",
        "epochs = 20\n",
        "\n",
        "history = model.fit(X_train, y_train,\n",
        "                    batch_size=batch_size,\n",
        "                    epochs=epochs,\n",
        "                    verbose=1,\n",
        "                    shuffle=True,\n",
        "                    validation_split=0.1)\n"
      ],
      "execution_count": null,
      "outputs": [
        {
          "output_type": "stream",
          "text": [
            "Epoch 1/20\n",
            "6/6 [==============================] - 0s 38ms/step - loss: 0.4270 - acc: 0.8714 - val_loss: 0.4237 - val_acc: 0.8765\n",
            "Epoch 2/20\n",
            "6/6 [==============================] - 0s 11ms/step - loss: 0.3908 - acc: 0.8773 - val_loss: 0.4023 - val_acc: 0.8790\n",
            "Epoch 3/20\n",
            "6/6 [==============================] - 0s 10ms/step - loss: 0.3893 - acc: 0.8804 - val_loss: 0.3861 - val_acc: 0.8774\n",
            "Epoch 4/20\n",
            "6/6 [==============================] - 0s 10ms/step - loss: 0.3756 - acc: 0.8812 - val_loss: 0.3766 - val_acc: 0.8823\n",
            "Epoch 5/20\n",
            "6/6 [==============================] - 0s 10ms/step - loss: 0.3705 - acc: 0.8844 - val_loss: 0.3829 - val_acc: 0.8823\n",
            "Epoch 6/20\n",
            "6/6 [==============================] - 0s 11ms/step - loss: 0.3706 - acc: 0.8828 - val_loss: 0.3733 - val_acc: 0.8839\n",
            "Epoch 7/20\n",
            "6/6 [==============================] - 0s 10ms/step - loss: 0.3668 - acc: 0.8832 - val_loss: 0.3722 - val_acc: 0.8880\n",
            "Epoch 8/20\n",
            "6/6 [==============================] - 0s 10ms/step - loss: 0.3664 - acc: 0.8844 - val_loss: 0.3708 - val_acc: 0.8863\n",
            "Epoch 9/20\n",
            "6/6 [==============================] - 0s 10ms/step - loss: 0.3665 - acc: 0.8840 - val_loss: 0.3711 - val_acc: 0.8888\n",
            "Epoch 10/20\n",
            "6/6 [==============================] - 0s 13ms/step - loss: 0.3662 - acc: 0.8845 - val_loss: 0.3737 - val_acc: 0.8839\n",
            "Epoch 11/20\n",
            "6/6 [==============================] - 0s 10ms/step - loss: 0.3668 - acc: 0.8851 - val_loss: 0.3713 - val_acc: 0.8855\n",
            "Epoch 12/20\n",
            "6/6 [==============================] - 0s 10ms/step - loss: 0.3664 - acc: 0.8834 - val_loss: 0.3703 - val_acc: 0.8888\n",
            "Epoch 13/20\n",
            "6/6 [==============================] - 0s 11ms/step - loss: 0.3657 - acc: 0.8844 - val_loss: 0.3723 - val_acc: 0.8831\n",
            "Epoch 14/20\n",
            "6/6 [==============================] - 0s 11ms/step - loss: 0.3663 - acc: 0.8837 - val_loss: 0.3730 - val_acc: 0.8855\n",
            "Epoch 15/20\n",
            "6/6 [==============================] - 0s 11ms/step - loss: 0.3669 - acc: 0.8828 - val_loss: 0.3716 - val_acc: 0.8896\n",
            "Epoch 16/20\n",
            "6/6 [==============================] - 0s 10ms/step - loss: 0.3669 - acc: 0.8847 - val_loss: 0.3708 - val_acc: 0.8831\n",
            "Epoch 17/20\n",
            "6/6 [==============================] - 0s 10ms/step - loss: 0.3664 - acc: 0.8837 - val_loss: 0.3707 - val_acc: 0.8880\n",
            "Epoch 18/20\n",
            "6/6 [==============================] - 0s 11ms/step - loss: 0.3698 - acc: 0.8834 - val_loss: 0.3695 - val_acc: 0.8872\n",
            "Epoch 19/20\n",
            "6/6 [==============================] - 0s 10ms/step - loss: 0.3696 - acc: 0.8838 - val_loss: 0.3725 - val_acc: 0.8855\n",
            "Epoch 20/20\n",
            "6/6 [==============================] - 0s 10ms/step - loss: 0.3701 - acc: 0.8835 - val_loss: 0.3863 - val_acc: 0.8790\n"
          ],
          "name": "stdout"
        }
      ]
    },
    {
      "cell_type": "markdown",
      "metadata": {
        "id": "pG1O5ymTan4s"
      },
      "source": [
        "## 7) 觀察訓練結果"
      ]
    },
    {
      "cell_type": "code",
      "metadata": {
        "id": "OFUTBafCan4u"
      },
      "source": [
        "import matplotlib.pyplot as plt\n",
        "\n",
        "history_dict = history.history\n",
        "history_dict.keys()\n",
        "acc = history_dict['acc']\n",
        "val_acc = history_dict['val_acc']\n",
        "loss = history_dict['loss']\n",
        "val_loss = history_dict['val_loss']\n",
        "epochs_ = range(1,len(acc)+1)"
      ],
      "execution_count": null,
      "outputs": []
    },
    {
      "cell_type": "code",
      "metadata": {
        "id": "C5PL5GAwan4x",
        "colab": {
          "base_uri": "https://localhost:8080/",
          "height": 295
        },
        "outputId": "2b1a73b5-baea-478f-95c4-dfb456cd7f37"
      },
      "source": [
        "plt.plot(epochs_ , loss , label = 'training loss')\n",
        "plt.plot(epochs_ , val_loss , label = 'val los')\n",
        "plt.title('training and val loss')\n",
        "plt.xlabel('epochs')\n",
        "plt.ylabel('loss')\n",
        "plt.legend()\n",
        "plt.show()"
      ],
      "execution_count": null,
      "outputs": [
        {
          "output_type": "display_data",
          "data": {
            "image/png": "[encoded data removed]",
            "text/plain": [
              "<Figure size 432x288 with 1 Axes>"
            ]
          },
          "metadata": {
            "tags": [],
            "needs_background": "light"
          }
        }
      ]
    },
    {
      "cell_type": "code",
      "metadata": {
        "id": "Ketuv_Bvan43",
        "colab": {
          "base_uri": "https://localhost:8080/",
          "height": 295
        },
        "outputId": "e60adfef-c6b7-4c70-8e73-bbde38089924"
      },
      "source": [
        "plt.clf()\n",
        "plt.plot(epochs_ , acc , label='train accuracy')\n",
        "plt.plot(epochs_ , val_acc , label = 'val accuracy')\n",
        "plt.title('train and val acc')\n",
        "plt.xlabel('epochs')\n",
        "plt.ylabel('acc')\n",
        "plt.legend()\n",
        "plt.show()"
      ],
      "execution_count": null,
      "outputs": [
        {
          "output_type": "display_data",
          "data": {
            "image/png": "[encoded data removed]",
            "text/plain": [
              "<Figure size 432x288 with 1 Axes>"
            ]
          },
          "metadata": {
            "tags": [],
            "needs_background": "light"
          }
        }
      ]
    },
    {
      "cell_type": "markdown",
      "metadata": {
        "id": "PR5QIun7an47"
      },
      "source": [
        "## 8) 測試"
      ]
    },
    {
      "cell_type": "code",
      "metadata": {
        "id": "rdG9q4M9an47",
        "colab": {
          "base_uri": "https://localhost:8080/"
        },
        "outputId": "94c340a6-7f76-4651-a98b-26b2b77fc0b7"
      },
      "source": [
        "from sklearn.metrics import accuracy_score\n",
        "label=np.argmax(y,axis=1)\n",
        "pred =  np.argmax(model.predict(X), axis=1)\n",
        "print(pred.shape)\n",
        "print(accuracy_score(label, pred))\n",
        "print(y)"
      ],
      "execution_count": null,
      "outputs": [
        {
          "output_type": "stream",
          "text": [
            "(17460,)\n",
            "0.8800687285223368\n",
            "[[0. 0. 0. ... 0. 0. 0.]\n",
            " [0. 0. 0. ... 0. 0. 0.]\n",
            " [0. 0. 0. ... 0. 0. 0.]\n",
            " ...\n",
            " [1. 0. 0. ... 0. 0. 0.]\n",
            " [1. 0. 0. ... 0. 0. 0.]\n",
            " [1. 0. 0. ... 0. 0. 0.]]\n"
          ],
          "name": "stdout"
        }
      ]
    },
    {
      "cell_type": "code",
      "metadata": {
        "id": "mDTXyKfX61dp",
        "colab": {
          "base_uri": "https://localhost:8080/"
        },
        "outputId": "c7fcd1ab-291e-4672-9af7-4cfebfde6159"
      },
      "source": [
        "from numpy import *\n",
        "a = array([[1, 3], [2, 4], [5, 6]])\n",
        "print(a.shape)"
      ],
      "execution_count": null,
      "outputs": [
        {
          "output_type": "stream",
          "text": [
            "(3, 2)\n"
          ],
          "name": "stdout"
        }
      ]
    },
    {
      "cell_type": "code",
      "metadata": {
        "id": "JNWE7Fe8uBzn"
      },
      "source": [
        "# !pip install eli5"
      ],
      "execution_count": null,
      "outputs": []
    },
    {
      "cell_type": "markdown",
      "metadata": {
        "id": "wNxXer-qOlwj"
      },
      "source": [
        "## 9) 檢查特徵重要性\n",
        "> https://eli5.readthedocs.io/en/latest/blackbox/permutation_importance.html\n",
        "> https://www.mdeditor.tw/pl/pgi5/zh-tw\n",
        "\n",
        "> 針對BlackBox模型或非sklearn模型，使用排列重要性方法\n",
        "\n",
        "\n",
        "> 捨棄重要性低、增加損失的features特徵，重新建模訓練。\n",
        "\n",
        "\n",
        "> \n",
        "\n",
        "\n",
        "\n",
        "\n",
        "\n",
        "\n",
        "\n",
        "\n",
        "\n",
        "\n",
        "\n",
        "\n"
      ]
    },
    {
      "cell_type": "code",
      "metadata": {
        "id": "p-t6pvZman4_"
      },
      "source": [
        "\n",
        "\n",
        "# import numpy as np\n",
        "from eli5.permutation_importance import get_score_importances\n",
        "\n",
        "# ... load data, define score function\n",
        "def score(X, y):\n",
        "    y_pred = np.argmax(model.predict(X), axis=1)\n",
        "    return accuracy_score(y, y_pred)\n",
        "\n",
        "lab=np.argmax(y_train,axis=1)\n",
        "base_score, score_decreases = get_score_importances(score, X_train.values, lab)\n",
        "feature_importances = np.mean(score_decreases, axis=0)\n",
        "\n"
      ],
      "execution_count": null,
      "outputs": []
    },
    {
      "cell_type": "code",
      "metadata": {
        "id": "uz2cPz1KQtQy",
        "colab": {
          "base_uri": "https://localhost:8080/"
        },
        "outputId": "8ba841f5-cd88-4d53-a63f-215a039e94f7"
      },
      "source": [
        "# print(feature_importances)\n",
        "feature_importance_dict = {}\n",
        "for i, feature_name in enumerate(X.columns.values.tolist()) :\n",
        "\tfeature_importance_dict[feature_name]=feature_importances[i]\n",
        "\n",
        "# print(dict(sorted(feature_importance_dict.items(), key=lambda x:x[1],reverse=True)[:5]))\n",
        "sorted_fi = dict(sorted(feature_importance_dict.items(), key=lambda x:x[1],reverse=True))\n",
        "for name,i in sorted_fi.items():\n",
        "  print(name, i)"
      ],
      "execution_count": null,
      "outputs": [
        {
          "output_type": "stream",
          "text": [
            "第八穴壓力檢測 0.15195549009982\n",
            "加熱箱七水道溫度 0.14473899525445916\n",
            "加熱箱四水道溫度 0.06138111602029128\n",
            "第五穴壓力檢測 0.06000654557355589\n",
            "破瓶數量 0.032236949762722955\n",
            "第一穴壓力檢測 0.025969563082965164\n",
            "加熱箱一水道溫度 0.022942235313369343\n",
            "第七穴壓力檢測 0.021109474717722086\n",
            "加熱箱三水道溫度 0.018245786287023336\n",
            "加熱箱二水道溫度 0.01739486172475857\n",
            "滾筒速度 0.014923907707412809\n",
            "加熱箱八水道溫度 0.013745704467353903\n",
            "加熱箱五水道溫度 0.011160202912780193\n",
            "第二穴壓力檢測 0.007363770250368162\n",
            "第三穴壓力檢測 0.006774668630338709\n",
            "加熱箱六水道溫度 0.005236458844706249\n",
            "第六穴壓力檢測 0.0028473244968090228\n",
            "第四穴壓力檢測 0.001800032727867773\n",
            "第一層燈管加熱% 0.0003436426116838476\n",
            "第八層燈管加熱% 0.0002945508100147265\n",
            "第七層燈管加熱% 0.0002454590083456054\n",
            "破瓶壓力檢測值設定 0.00022909507445589838\n",
            "高壓壓力 -3.2727867779414055e-05\n",
            "第二層燈管加熱% -0.00013091147111765622\n",
            "第五層燈管加熱% -0.00014727540500736325\n",
            "低壓壓力 -0.0001800032727867773\n",
            "回收壓力 -0.00022909507445589838\n",
            "第三層燈管加熱% -0.0002454590083456054\n",
            "第四層燈管加熱% -0.0002454590083456054\n",
            "第六層燈管加熱% -0.00027818687612501947\n",
            "預吹壓力 -0.0004745540828015038\n",
            "最多成型時間 -0.0013745704467353903\n"
          ],
          "name": "stdout"
        }
      ]
    },
    {
      "cell_type": "code",
      "metadata": {
        "id": "X-kN9DTOHRN1"
      },
      "source": [
        "# "
      ],
      "execution_count": null,
      "outputs": []
    },
    {
      "cell_type": "code",
      "metadata": {
        "id": "p1AHBS-8HWSS"
      },
      "source": [
        "# "
      ],
      "execution_count": null,
      "outputs": []
    }
  ]
}