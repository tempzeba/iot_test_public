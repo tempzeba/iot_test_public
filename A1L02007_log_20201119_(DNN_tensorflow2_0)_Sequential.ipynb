{
  "nbformat": 4,
  "nbformat_minor": 0,
  "metadata": {
    "colab": {
      "name": "A1L02007_log_20201119 (DNN-tensorflow2.0)-Sequential.ipynb",
      "provenance": [],
      "collapsed_sections": [],
      "toc_visible": true,
      "authorship_tag": "ABX9TyOPuH/TkUULZ0JbCUynzKSj",
      "include_colab_link": true
    },
    "kernelspec": {
      "name": "python3",
      "display_name": "Python 3"
    }
  },
  "cells": [
    {
      "cell_type": "markdown",
      "metadata": {
        "id": "view-in-github",
        "colab_type": "text"
      },
      "source": [
        "<a href=\"https://colab.research.google.com/github/tempzeba/iot_test_public/blob/main/A1L02007_log_20201119_(DNN_tensorflow2_0)_Sequential.ipynb\" target=\"_parent\"><img src=\"https://colab.research.google.com/assets/colab-badge.svg\" alt=\"Open In Colab\"/></a>"
      ]
    },
    {
      "cell_type": "markdown",
      "metadata": {
        "id": "1Y0w5q6AUmMa"
      },
      "source": [
        "## 0) 程式說明\n",
        "### 目的：A1L02007 IOT異常分析\n",
        "### 運行環境："
      ]
    },
    {
      "cell_type": "code",
      "metadata": {
        "id": "JhSdZF2NW8Xs",
        "colab": {
          "base_uri": "https://localhost:8080/"
        },
        "outputId": "49dd75b4-e9e3-4927-e40f-dd33e81334a2"
      },
      "source": [
        "import sys\n",
        "print(\"python版本:%s\"% sys.version)"
      ],
      "execution_count": null,
      "outputs": [
        {
          "output_type": "stream",
          "text": [
            "python版本:3.6.9 (default, Oct  8 2020, 12:12:24) \n",
            "[GCC 8.4.0]\n"
          ],
          "name": "stdout"
        }
      ]
    },
    {
      "cell_type": "code",
      "metadata": {
        "id": "bIVId25Van3a"
      },
      "source": [
        "import warnings\n",
        "import pandas as pd\n",
        "import numpy as np\n",
        "import matplotlib.pyplot as plt\n",
        "warnings.filterwarnings(\"ignore\")\n",
        "pd.set_option('max_row',500)"
      ],
      "execution_count": null,
      "outputs": []
    },
    {
      "cell_type": "markdown",
      "metadata": {
        "id": "a5wddLSban3o"
      },
      "source": [
        "## 1) 載入資料集"
      ]
    },
    {
      "cell_type": "code",
      "metadata": {
        "id": "GA-bjU2pan3p"
      },
      "source": [
        "# df_train = pd.read_csv('./data/Iris.csv')\n",
        "df_train = pd.read_csv('https://github.com/tempzeba/iot_test_public/releases/download/iot_data/A1L02007_log_01.csv', sep='\\t')\n",
        "df_train = df_train.drop(labels=[ \n",
        "r'收集日期',\n",
        "r'抽樣秒',\n",
        "r'位址區段B0紀錄時間',\n",
        "r'位址區段W10紀錄時間',\n",
        "r'位址區段W1200紀錄時間',\n",
        "r'位址區段W200紀錄時間',\n",
        "r'位址區段W2004紀錄時間'\n",
        ",\n",
        " 'A001. 空壓源SN#1異常',\n",
        " 'A010. 真空源SN#1異常',\n",
        " 'A020. EMO觸發異常',\n",
        " 'A030. CPU異常',\n",
        " 'A031. RD77MS16模組異常',\n",
        " 'A032. RS-485模組異常',\n",
        " 'A033. R64AD模組異常',\n",
        " 'A050. CPU電池 電力低下',\n",
        " 'A051. PLC保險絲燒毀',\n",
        " 'A052. PLC偵測 AC/DC 電力低下',\n",
        " 'A100. 轉塔伺服R軸異常',\n",
        " 'A101. 真空鼓R軸伺服異常',\n",
        " 'A102. 刀鼓R軸伺服異常',\n",
        " 'A103. 旋轉刀R軸伺服異常',\n",
        " 'A104. 轉瓶01伺服R軸異常',\n",
        " 'A105. 送標伺服R軸異常',\n",
        " 'A106. 螺桿01伺服R軸異常',\n",
        " 'A107. 膠鼓伺服R軸伺服異常',\n",
        " 'A108. 標捲A伺服R軸異常',\n",
        " 'A109. 標捲B伺服R軸異常',\n",
        " 'A110. 轉塔伺服Z軸異常',\n",
        " 'A111. 貼標主機伺服Z軸異常',\n",
        " 'A112. 貼標主機伺服Y軸異常',\n",
        " 'A113. 虛擬軸01伺服R軸異常',\n",
        " 'A114. 螺桿02伺服R軸異常',\n",
        " 'A115. 轉瓶02伺服R軸異常',\n",
        " 'A116. 轉瓶03伺服R軸異常',\n",
        " 'A117. 轉瓶04伺服R軸異常',\n",
        " 'A118. 轉瓶05伺服R軸異常',\n",
        " 'A119. 轉瓶06伺服R軸異常',\n",
        " 'A120. 轉瓶07伺服R軸異常',\n",
        " 'A121. 轉瓶08伺服R軸異常',\n",
        " 'A122. 轉瓶09伺服R軸異常',\n",
        " 'A123. 轉瓶10伺服R軸異常',\n",
        " 'A124. 轉瓶11伺服R軸異常',\n",
        " 'A125. 轉瓶12伺服R軸異常',\n",
        " 'A126. 轉瓶13伺服R軸異常',\n",
        " 'A127. 轉瓶14伺服R軸異常',\n",
        " 'A128. 轉瓶15伺服R軸異常',\n",
        " 'A129. 轉瓶16伺服R軸異常',\n",
        " 'A130. 轉瓶17伺服R軸異常',\n",
        " 'A131. 轉瓶18伺服R軸異常',\n",
        " 'A321. 操作側01門檢異常',\n",
        " 'A322. 操作側02門檢異常',\n",
        " 'A323. 維修側01門檢異常',\n",
        " 'A324. 維修側02門檢異常',\n",
        " 'A330.轉刀Index Sensor異常',\n",
        " 'A331.標籤MarkSensor異常',\n",
        " 'A340. 標籤斷標異常',\n",
        " 'A345. 張力位置不正確',\n",
        " 'A350. 入料星盤跳齒異常',\n",
        " 'A351. 出料星盤跳齒異常',\n",
        " 'A360. 真空標籤檢查異常',\n",
        " 'A361. 真空鼓沾膠標籤檢查異常',\n",
        " 'A362. 真空鼓漏貼標籤檢查異常',\n",
        " 'A364. 螺桿進瓶異常',\n",
        " 'A365. 進瓶甩瓶檢查異常',\n",
        " 'A366. 貼標甩瓶檢查異常',\n",
        " 'A367. 出瓶甩瓶檢查異常',\n",
        " 'A370. 倒瓶偵測異常',\n",
        " 'A371. 標籤切斷位置不正確',\n",
        " 'A380. Roll Fed變頻器異常',\n",
        " 'A381. Vacuum變頻器異常',\n",
        " 'A382. 膠泵變頻器異常',\n",
        " 'A383. 主輸送帶變頻器異常',\n",
        " 'A390. 膠鼓加熱器斷線異常',\n",
        " 'A391. 膠桶加熱器斷線異常',\n",
        " 'A392. 出膠板加熱器斷線異常',\n",
        " 'A393. 刮膠板加熱器斷線異常',\n",
        " 'A394. 盛料盤加熱器斷線異常',\n",
        " 'A395. 膠管加熱器斷線異常',\n",
        " 'A401. 轉塔伺服R軸未設原點',\n",
        " 'A402. 真空鼓伺服R軸未設原點',\n",
        " 'A403. 刀鼓伺服R軸未設原點',\n",
        " 'A404. 旋轉刀伺服R軸未設原點',\n",
        " 'A405. 轉瓶01伺服R軸未設原點',\n",
        " 'A406. 送標伺服R軸未設原點',\n",
        " 'A407. 螺桿01伺服R軸未設原點',\n",
        " 'A408. 膠鼓伺服R軸未設原點',\n",
        " 'A409. 標捲A伺服R軸未設原點',\n",
        " 'A410. 標捲B伺服R軸未設原點',\n",
        " 'A411. 轉塔伺服Z軸未設原點',\n",
        " 'A412. 貼標主機伺服Z軸未設原點',\n",
        " 'A413. 貼標主機伺服Y軸未設原點',\n",
        " 'A414. 虛擬軸01伺服R軸未設原點',\n",
        " 'A415. 螺桿02伺服R軸未設原點',\n",
        " 'A416. 轉瓶02伺服R軸未設原點',\n",
        " 'A417. 轉瓶03伺服R軸未設原點',\n",
        " 'A418. 轉瓶04伺服R軸未設原點',\n",
        " 'A419. 轉瓶05伺服R軸未設原點',\n",
        " 'A420. 轉瓶06伺服R軸未設原點',\n",
        " 'A421. 轉瓶07伺服R軸未設原點',\n",
        " 'A422. 轉瓶08伺服R軸未設原點',\n",
        " 'A423. 轉瓶09伺服R軸未設原點',\n",
        " 'A424. 轉瓶10伺服R軸未設原點',\n",
        " 'A425. 轉瓶11伺服R軸未設原點',\n",
        " 'A426. 轉瓶12伺服R軸未設原點',\n",
        " 'A427. 轉瓶13伺服R軸未設原點',\n",
        " 'A428. 轉瓶14伺服R軸未設原點',\n",
        " 'A429. 轉瓶15伺服R軸未設原點',\n",
        " 'A430. 轉瓶16伺服R軸未設原點',\n",
        " 'A431. 轉瓶17伺服R軸未設原點',\n",
        " 'A432. 轉瓶18伺服R軸未設原點',\n",
        " 'A455. 標簽長度設定錯誤',\n",
        " 'A456.ARC-Mark不正確',\n",
        " 'A460. 電控箱冷氣異常',\n",
        " '轉塔伺服R軸單元老化預警',\n",
        " '真空鼓伺服R軸單元老化預警',\n",
        " '刀鼓伺服R軸單元老化預警',\n",
        " '旋轉刀伺服R軸單元老化預警',\n",
        " '轉瓶01伺服R軸單元老化預警',\n",
        " '送標伺服R軸單元老化預警',\n",
        " '螺桿01伺服R軸單元老化預警',\n",
        " '膠鼓伺服R軸單元老化預警',\n",
        " '標捲A伺服R軸單元老化預警',\n",
        " '標捲B伺服R軸單元老化預警',\n",
        " '轉塔伺服Z軸單元老化預警',\n",
        " '貼標主機伺服Z軸單元老化預警',\n",
        " '貼標主機伺服Y軸單元老化預警',\n",
        " '保留軸單元老化預警',\n",
        " '螺桿02伺服R軸單元老化預警',\n",
        " '轉瓶02伺服R軸單元老化預警',\n",
        " '轉瓶03伺服R軸單元老化預警',\n",
        " '轉瓶04伺服R軸單元老化預警',\n",
        " '轉瓶05伺服R軸單元老化預警',\n",
        " '轉瓶06伺服R軸單元老化預警',\n",
        " '轉瓶07伺服R軸單元老化預警',\n",
        " '轉瓶08伺服R軸單元老化預警',\n",
        " '轉瓶09伺服R軸單元老化預警',\n",
        " '轉瓶10伺服R軸單元老化預警',\n",
        " '轉瓶11伺服R軸單元老化預警',\n",
        " '轉瓶12伺服R軸單元老化預警',\n",
        " '轉瓶13伺服R軸單元老化預警',\n",
        " '轉瓶14伺服R軸單元老化預警',\n",
        " '轉瓶15伺服R軸單元老化預警',\n",
        " '轉瓶16伺服R軸單元老化預警',\n",
        " '轉瓶17伺服R軸單元老化預警',\n",
        " '轉瓶18伺服R軸單元老化預警'\n",
        "\n",
        "],axis=1) \n",
        "\n",
        "df_train = df_train[df_train['ALife(PLC)']>=0]  #清除無效數據\n",
        "df_train.describe().transpose()\n",
        "# df_train.columns.to_list()\n",
        "\n",
        "\n",
        "a=sorted(list(df_train['故障代號'].unique()))\n",
        "\n",
        "label_map = dict(zip(a,range(len(a))))\n",
        "# print(label_map)\n",
        "\n",
        "df_train['故障序碼'] = df_train['故障代號'].map(label_map)\n",
        "# list(df_train['故障序碼'].unique())\n",
        "\n",
        "# 調整資料集\n",
        "# 1. 只取有異常部分\n",
        "# 2. 計算有異常資料筆數\n",
        "# 3. 從無異常資料隨機抽出k筆資料與異常資料合併作為投入模型的資料集。k=異常資料筆數\n",
        "mask = df_train[r'故障序碼'] > 0\n",
        "target_count = mask.sum()\n",
        "# print(target_count)\n",
        "df_train_noerr = df_train[df_train[r'故障序碼'] == 0].sample(n=target_count,random_state=123,axis=0)\n",
        "df_train = df_train[mask]\n",
        "df_train = df_train.append(df_train_noerr)\n",
        "# df_train.describe().transpose()"
      ],
      "execution_count": null,
      "outputs": []
    },
    {
      "cell_type": "markdown",
      "metadata": {
        "id": "r1M7a4iian3u"
      },
      "source": [
        "## 2) 手動編碼\n",
        "處理名目資料 (Nominal variables) - 資料前處理\n",
        "依據特徵資料的特性，可以選擇手動編碼或自動編碼。\n",
        "\n",
        "### 使用編碼時機?\n",
        "進行深度學習時，神經網路只能處理數值資料。因此我們需要將所有非數字型態的特徵進行轉換。\n",
        "\n",
        "### 註：\n",
        "略。(IOT原始資料已經一次前處理)"
      ]
    },
    {
      "cell_type": "markdown",
      "metadata": {
        "id": "txpEEPgAan36"
      },
      "source": [
        "## 3) 檢查缺失值\n",
        "使用 numpy 所提供的函式來檢查是否有 NA 缺失值，假設有缺失值使用dropna()來移除。使用的時機在於當只有少量的缺失值適用，若遇到有大量缺失值的情況，或是本身的資料量就很少的情況下建議可以透過機器學習的方法補值來預測缺失值。\n",
        "### 註：\n",
        "略。(IOT原始資料已經一次前處理)"
      ]
    },
    {
      "cell_type": "markdown",
      "metadata": {
        "id": "gNBeqTcUan4A"
      },
      "source": [
        "## 4) 將輸出特徵做one-hot encoding\n",
        "如何對欄位class做one-hot encoding？"
      ]
    },
    {
      "cell_type": "code",
      "metadata": {
        "id": "iQFh4fj0an4C",
        "colab": {
          "base_uri": "https://localhost:8080/"
        },
        "outputId": "e863e2d7-f0ed-4734-fbbe-d1429d052114"
      },
      "source": [
        "from tensorflow.keras.utils import to_categorical\n",
        "y = to_categorical(df_train[r'故障序碼'])\n",
        "y"
      ],
      "execution_count": null,
      "outputs": [
        {
          "output_type": "execute_result",
          "data": {
            "text/plain": [
              "array([[0., 0., 0., ..., 0., 0., 0.],\n",
              "       [0., 0., 0., ..., 0., 0., 0.],\n",
              "       [0., 0., 0., ..., 0., 0., 0.],\n",
              "       ...,\n",
              "       [1., 0., 0., ..., 0., 0., 0.],\n",
              "       [1., 0., 0., ..., 0., 0., 0.],\n",
              "       [1., 0., 0., ..., 0., 0., 0.]], dtype=float32)"
            ]
          },
          "metadata": {
            "tags": []
          },
          "execution_count": 78
        }
      ]
    },
    {
      "cell_type": "markdown",
      "metadata": {
        "id": "_OclZM7Wan4I"
      },
      "source": [
        "## 5) 切割訓練集與測試集"
      ]
    },
    {
      "cell_type": "markdown",
      "metadata": {
        "id": "JSw4NVQLwdvU"
      },
      "source": [
        ""
      ]
    },
    {
      "cell_type": "code",
      "metadata": {
        "id": "hjDEttMPan4J",
        "colab": {
          "base_uri": "https://localhost:8080/"
        },
        "outputId": "788a9808-210f-4b3d-ef2f-c46aae18d1f1"
      },
      "source": [
        "pd.set_option('max_row',500)\n",
        "# X=df_train.drop(labels=['Class'],axis=1)\n",
        "X=df_train.drop(columns=[r'故障序碼','故障代號'])\n",
        "# X.isna().sum().sum()\n",
        "# X\n",
        "mask = X.describe().transpose()['std']==0\n",
        "X.describe().transpose()[mask].index.tolist()\n",
        "# X.describe().transpose().columns.tolist()\n"
      ],
      "execution_count": null,
      "outputs": [
        {
          "output_type": "execute_result",
          "data": {
            "text/plain": [
              "['初始化完成',\n",
              " 'No Alarm',\n",
              " '膠鼓設定溫度(SP)',\n",
              " '膠桶設定溫度(SP)',\n",
              " '出膠板設定溫度(SP)',\n",
              " '刮膠板設定溫度(SP)',\n",
              " '盛膠盤設定溫度(SP)',\n",
              " '送膠管設定溫度(SP)',\n",
              " '斷絲棒設定溫度(SP)',\n",
              " '現用瓶子高度',\n",
              " '現用瓶子直徑',\n",
              " '現用標籤寬度',\n",
              " '現用標籤厚度',\n",
              " '現用送標啟動補償值',\n",
              " '現用智能切標功能',\n",
              " '現用瓶型選擇',\n",
              " '現用轉瓶速度分子',\n",
              " '現用沾膠位置補償',\n",
              " '轉瓶貼標位置',\n",
              " 'Ax.002警報碼',\n",
              " 'Ax.003警報碼',\n",
              " 'Ax.005警報碼',\n",
              " 'Ax.006警報碼',\n",
              " 'Ax.008警報碼',\n",
              " 'Ax.010異常碼',\n",
              " 'Ax.011異常碼',\n",
              " 'Ax.011警報碼',\n",
              " 'Ax.012異常碼',\n",
              " 'Ax.012警報碼',\n",
              " 'Ax.013運轉速度0.01mm/Min',\n",
              " 'Ax.013異常碼',\n",
              " 'Ax.013警報碼',\n",
              " 'Ax.014異常碼',\n",
              " 'Ax.014扭力值(MD.104)',\n",
              " 'Ax.016警報碼',\n",
              " 'Ax.017警報碼',\n",
              " 'Ax.018警報碼',\n",
              " 'Ax.019警報碼',\n",
              " 'Ax.020警報碼',\n",
              " 'Ax.021警報碼',\n",
              " 'Ax.022警報碼',\n",
              " 'Ax.023警報碼',\n",
              " 'Ax.024警報碼',\n",
              " 'Ax.025警報碼',\n",
              " 'Ax.026警報碼',\n",
              " 'Ax.027警報碼',\n",
              " 'Ax.028警報碼',\n",
              " 'Ax.029警報碼',\n",
              " 'Ax.030警報碼',\n",
              " 'Ax.031警報碼',\n",
              " 'Ax.032警報碼']"
            ]
          },
          "metadata": {
            "tags": []
          },
          "execution_count": 79
        }
      ]
    },
    {
      "cell_type": "code",
      "metadata": {
        "id": "rKl7fICTan4Q"
      },
      "source": [
        "from sklearn.model_selection import train_test_split\n",
        "X_train , X_test , y_train , y_test = train_test_split(X,y , test_size=.3 , random_state=40)"
      ],
      "execution_count": null,
      "outputs": []
    },
    {
      "cell_type": "code",
      "metadata": {
        "id": "8Ovl96zhan4T",
        "colab": {
          "base_uri": "https://localhost:8080/"
        },
        "outputId": "2acc26b7-616c-4e08-a528-a2e4491a2e61"
      },
      "source": [
        "print('訓練資料: ',X_train.shape)\n",
        "print('測試資料: ',X_test.shape)\n",
        "# X_train"
      ],
      "execution_count": null,
      "outputs": [
        {
          "output_type": "stream",
          "text": [
            "訓練資料:  (1047, 231)\n",
            "測試資料:  (449, 231)\n"
          ],
          "name": "stdout"
        }
      ]
    },
    {
      "cell_type": "markdown",
      "metadata": {
        "id": "qB6zvYgJan4Z"
      },
      "source": [
        "## 6) 建立網路模型"
      ]
    },
    {
      "cell_type": "code",
      "metadata": {
        "id": "aJvDPRx5an4Z",
        "colab": {
          "base_uri": "https://localhost:8080/"
        },
        "outputId": "1d8d6103-d245-4790-cc84-df0a046c674d"
      },
      "source": [
        "import tensorflow as tf\n",
        "from tensorflow.keras.layers import Dense, Activation\n",
        "from tensorflow.keras import Sequential\n",
        "from tensorflow.keras.optimizers import Adam\n",
        "\n",
        "print(tf.__version__)"
      ],
      "execution_count": null,
      "outputs": [
        {
          "output_type": "stream",
          "text": [
            "2.3.0\n"
          ],
          "name": "stdout"
        }
      ]
    },
    {
      "cell_type": "code",
      "metadata": {
        "id": "Q30p2WHxan4d"
      },
      "source": [
        "# 此範例使用 Tensorflow2.0 Sequential API 搭建神經網路。\n",
        "model = Sequential()\n",
        "model.add(Dense(8, Activation('relu'), input_dim=X.shape[-1]))\n",
        "model.add(Dense(16, Activation('relu')))\n",
        "model.add(Dense(17, Activation('softmax')))"
      ],
      "execution_count": null,
      "outputs": []
    },
    {
      "cell_type": "code",
      "metadata": {
        "id": "gCfdh7Lgan4h",
        "colab": {
          "base_uri": "https://localhost:8080/"
        },
        "outputId": "b6e5bb58-41d2-4353-9d07-32eafe3aff43"
      },
      "source": [
        "model.summary()   # Weights = (4+1)*8+(8+1)*16+(16+1)*3"
      ],
      "execution_count": null,
      "outputs": [
        {
          "output_type": "stream",
          "text": [
            "Model: \"sequential_2\"\n",
            "_________________________________________________________________\n",
            "Layer (type)                 Output Shape              Param #   \n",
            "=================================================================\n",
            "dense_6 (Dense)              (None, 8)                 1856      \n",
            "_________________________________________________________________\n",
            "dense_7 (Dense)              (None, 16)                144       \n",
            "_________________________________________________________________\n",
            "dense_8 (Dense)              (None, 17)                289       \n",
            "=================================================================\n",
            "Total params: 2,289\n",
            "Trainable params: 2,289\n",
            "Non-trainable params: 0\n",
            "_________________________________________________________________\n"
          ],
          "name": "stdout"
        }
      ]
    },
    {
      "cell_type": "code",
      "metadata": {
        "id": "86S7ALLTan4l",
        "colab": {
          "base_uri": "https://localhost:8080/"
        },
        "outputId": "3a3f4026-8343-4e77-acca-f9756f40a19d"
      },
      "source": [
        "# 編譯模型\n",
        "optim = Adam(lr=0.001)\n",
        "model.compile(loss='categorical_crossentropy',\n",
        "              optimizer=optim,\n",
        "              metrics=['acc'])\n",
        "\n",
        "batch_size=50\n",
        "epochs = 100\n",
        "\n",
        "history = model.fit(X_train, y_train,\n",
        "                    batch_size=batch_size,\n",
        "                    epochs=epochs,\n",
        "                    verbose=1,\n",
        "                    shuffle=True,\n",
        "                    validation_split=0.1)\n"
      ],
      "execution_count": null,
      "outputs": [
        {
          "output_type": "stream",
          "text": [
            "Epoch 1/100\n",
            "19/19 [==============================] - 0s 21ms/step - loss: 3953816.7500 - acc: 0.0722 - val_loss: 2278594.5000 - val_acc: 0.1333\n",
            "Epoch 2/100\n",
            "19/19 [==============================] - 0s 3ms/step - loss: 1634804.8750 - acc: 0.1699 - val_loss: 1154957.3750 - val_acc: 0.2762\n",
            "Epoch 3/100\n",
            "19/19 [==============================] - 0s 3ms/step - loss: 843989.7500 - acc: 0.2633 - val_loss: 631636.7500 - val_acc: 0.3048\n",
            "Epoch 4/100\n",
            "19/19 [==============================] - 0s 2ms/step - loss: 493510.4688 - acc: 0.2707 - val_loss: 357834.6562 - val_acc: 0.3238\n",
            "Epoch 5/100\n",
            "19/19 [==============================] - 0s 2ms/step - loss: 313438.9688 - acc: 0.3057 - val_loss: 233256.7500 - val_acc: 0.2571\n",
            "Epoch 6/100\n",
            "19/19 [==============================] - 0s 3ms/step - loss: 216591.9375 - acc: 0.3312 - val_loss: 158766.4219 - val_acc: 0.3810\n",
            "Epoch 7/100\n",
            "19/19 [==============================] - 0s 3ms/step - loss: 153205.5000 - acc: 0.3652 - val_loss: 118966.0391 - val_acc: 0.3810\n",
            "Epoch 8/100\n",
            "19/19 [==============================] - 0s 2ms/step - loss: 111669.4922 - acc: 0.3811 - val_loss: 94299.2500 - val_acc: 0.2667\n",
            "Epoch 9/100\n",
            "19/19 [==============================] - 0s 3ms/step - loss: 83272.1328 - acc: 0.3949 - val_loss: 74692.3750 - val_acc: 0.4381\n",
            "Epoch 10/100\n",
            "19/19 [==============================] - 0s 2ms/step - loss: 63933.3047 - acc: 0.4108 - val_loss: 62352.6484 - val_acc: 0.4476\n",
            "Epoch 11/100\n",
            "19/19 [==============================] - 0s 2ms/step - loss: 48924.2031 - acc: 0.4034 - val_loss: 52179.9062 - val_acc: 0.4476\n",
            "Epoch 12/100\n",
            "19/19 [==============================] - 0s 2ms/step - loss: 37330.7539 - acc: 0.4310 - val_loss: 44840.4805 - val_acc: 0.4571\n",
            "Epoch 13/100\n",
            "19/19 [==============================] - 0s 3ms/step - loss: 30319.6855 - acc: 0.4214 - val_loss: 39339.0781 - val_acc: 0.4571\n",
            "Epoch 14/100\n",
            "19/19 [==============================] - 0s 2ms/step - loss: 25284.0000 - acc: 0.4363 - val_loss: 35917.1094 - val_acc: 0.4476\n",
            "Epoch 15/100\n",
            "19/19 [==============================] - 0s 2ms/step - loss: 21847.1562 - acc: 0.4342 - val_loss: 32410.8379 - val_acc: 0.4190\n",
            "Epoch 16/100\n",
            "19/19 [==============================] - 0s 2ms/step - loss: 18985.3105 - acc: 0.4406 - val_loss: 29465.1953 - val_acc: 0.4381\n",
            "Epoch 17/100\n",
            "19/19 [==============================] - 0s 2ms/step - loss: 16908.4980 - acc: 0.4321 - val_loss: 27129.6094 - val_acc: 0.4381\n",
            "Epoch 18/100\n",
            "19/19 [==============================] - 0s 3ms/step - loss: 15039.9854 - acc: 0.4416 - val_loss: 24413.1445 - val_acc: 0.4476\n",
            "Epoch 19/100\n",
            "19/19 [==============================] - 0s 3ms/step - loss: 13137.9170 - acc: 0.4607 - val_loss: 22550.4707 - val_acc: 0.3619\n",
            "Epoch 20/100\n",
            "19/19 [==============================] - 0s 3ms/step - loss: 12019.4600 - acc: 0.4469 - val_loss: 20799.8340 - val_acc: 0.4571\n",
            "Epoch 21/100\n",
            "19/19 [==============================] - 0s 3ms/step - loss: 10659.4756 - acc: 0.4597 - val_loss: 19004.4688 - val_acc: 0.4571\n",
            "Epoch 22/100\n",
            "19/19 [==============================] - 0s 2ms/step - loss: 9628.3389 - acc: 0.4533 - val_loss: 18328.8555 - val_acc: 0.4476\n",
            "Epoch 23/100\n",
            "19/19 [==============================] - 0s 2ms/step - loss: 8748.9678 - acc: 0.4522 - val_loss: 17588.9355 - val_acc: 0.3714\n",
            "Epoch 24/100\n",
            "19/19 [==============================] - 0s 2ms/step - loss: 8160.1680 - acc: 0.4650 - val_loss: 17234.7148 - val_acc: 0.4571\n",
            "Epoch 25/100\n",
            "19/19 [==============================] - 0s 2ms/step - loss: 7838.2241 - acc: 0.4586 - val_loss: 16530.5527 - val_acc: 0.4476\n",
            "Epoch 26/100\n",
            "19/19 [==============================] - 0s 2ms/step - loss: 6962.5425 - acc: 0.4766 - val_loss: 15465.2715 - val_acc: 0.3714\n",
            "Epoch 27/100\n",
            "19/19 [==============================] - 0s 2ms/step - loss: 6302.0664 - acc: 0.4554 - val_loss: 14620.1455 - val_acc: 0.4571\n",
            "Epoch 28/100\n",
            "19/19 [==============================] - 0s 2ms/step - loss: 6128.8604 - acc: 0.4809 - val_loss: 13686.8662 - val_acc: 0.4476\n",
            "Epoch 29/100\n",
            "19/19 [==============================] - 0s 3ms/step - loss: 5860.1367 - acc: 0.4565 - val_loss: 12965.0850 - val_acc: 0.4571\n",
            "Epoch 30/100\n",
            "19/19 [==============================] - 0s 2ms/step - loss: 5181.9243 - acc: 0.4735 - val_loss: 12771.1904 - val_acc: 0.4571\n",
            "Epoch 31/100\n",
            "19/19 [==============================] - 0s 2ms/step - loss: 4747.2710 - acc: 0.4682 - val_loss: 12313.1133 - val_acc: 0.4571\n",
            "Epoch 32/100\n",
            "19/19 [==============================] - 0s 2ms/step - loss: 4425.2681 - acc: 0.4745 - val_loss: 11087.2139 - val_acc: 0.4476\n",
            "Epoch 33/100\n",
            "19/19 [==============================] - 0s 2ms/step - loss: 3870.5815 - acc: 0.4639 - val_loss: 10040.5361 - val_acc: 0.3905\n",
            "Epoch 34/100\n",
            "19/19 [==============================] - 0s 3ms/step - loss: 3526.1982 - acc: 0.4745 - val_loss: 9365.9629 - val_acc: 0.4571\n",
            "Epoch 35/100\n",
            "19/19 [==============================] - 0s 3ms/step - loss: 3169.3733 - acc: 0.4745 - val_loss: 8616.8027 - val_acc: 0.4000\n",
            "Epoch 36/100\n",
            "19/19 [==============================] - 0s 2ms/step - loss: 2987.9995 - acc: 0.4788 - val_loss: 8190.8633 - val_acc: 0.3905\n",
            "Epoch 37/100\n",
            "19/19 [==============================] - 0s 2ms/step - loss: 2796.7305 - acc: 0.4692 - val_loss: 7221.3213 - val_acc: 0.4571\n",
            "Epoch 38/100\n",
            "19/19 [==============================] - 0s 2ms/step - loss: 2486.5437 - acc: 0.4724 - val_loss: 6783.8462 - val_acc: 0.4000\n",
            "Epoch 39/100\n",
            "19/19 [==============================] - 0s 2ms/step - loss: 2296.1067 - acc: 0.4766 - val_loss: 6467.0859 - val_acc: 0.4571\n",
            "Epoch 40/100\n",
            "19/19 [==============================] - 0s 3ms/step - loss: 2160.1619 - acc: 0.4713 - val_loss: 6227.8940 - val_acc: 0.4571\n",
            "Epoch 41/100\n",
            "19/19 [==============================] - 0s 2ms/step - loss: 2059.4714 - acc: 0.4820 - val_loss: 6053.5703 - val_acc: 0.4571\n",
            "Epoch 42/100\n",
            "19/19 [==============================] - 0s 2ms/step - loss: 1816.7780 - acc: 0.4692 - val_loss: 5914.9673 - val_acc: 0.4571\n",
            "Epoch 43/100\n",
            "19/19 [==============================] - 0s 2ms/step - loss: 1602.3782 - acc: 0.4724 - val_loss: 5721.5669 - val_acc: 0.4571\n",
            "Epoch 44/100\n",
            "19/19 [==============================] - 0s 2ms/step - loss: 1542.2203 - acc: 0.4735 - val_loss: 5364.6655 - val_acc: 0.4476\n",
            "Epoch 45/100\n",
            "19/19 [==============================] - 0s 3ms/step - loss: 1421.3802 - acc: 0.4798 - val_loss: 4921.2139 - val_acc: 0.4571\n",
            "Epoch 46/100\n",
            "19/19 [==============================] - 0s 3ms/step - loss: 1242.1742 - acc: 0.4851 - val_loss: 4829.7163 - val_acc: 0.4571\n",
            "Epoch 47/100\n",
            "19/19 [==============================] - 0s 2ms/step - loss: 1310.5854 - acc: 0.4862 - val_loss: 4597.5947 - val_acc: 0.4095\n",
            "Epoch 48/100\n",
            "19/19 [==============================] - 0s 2ms/step - loss: 1139.0061 - acc: 0.4777 - val_loss: 4552.8428 - val_acc: 0.4476\n",
            "Epoch 49/100\n",
            "19/19 [==============================] - 0s 3ms/step - loss: 1106.2860 - acc: 0.4841 - val_loss: 4142.0317 - val_acc: 0.4571\n",
            "Epoch 50/100\n",
            "19/19 [==============================] - 0s 2ms/step - loss: 993.2217 - acc: 0.4841 - val_loss: 3832.6538 - val_acc: 0.4571\n",
            "Epoch 51/100\n",
            "19/19 [==============================] - 0s 3ms/step - loss: 906.9551 - acc: 0.4851 - val_loss: 3729.4336 - val_acc: 0.4571\n",
            "Epoch 52/100\n",
            "19/19 [==============================] - 0s 3ms/step - loss: 952.5366 - acc: 0.4788 - val_loss: 3505.3542 - val_acc: 0.4571\n",
            "Epoch 53/100\n",
            "19/19 [==============================] - 0s 3ms/step - loss: 948.9493 - acc: 0.4745 - val_loss: 3578.3125 - val_acc: 0.4571\n",
            "Epoch 54/100\n",
            "19/19 [==============================] - 0s 3ms/step - loss: 969.4760 - acc: 0.4809 - val_loss: 3488.5461 - val_acc: 0.4095\n",
            "Epoch 55/100\n",
            "19/19 [==============================] - 0s 2ms/step - loss: 840.9228 - acc: 0.4671 - val_loss: 3041.9197 - val_acc: 0.4571\n",
            "Epoch 56/100\n",
            "19/19 [==============================] - 0s 3ms/step - loss: 890.6940 - acc: 0.4735 - val_loss: 2697.8035 - val_acc: 0.4571\n",
            "Epoch 57/100\n",
            "19/19 [==============================] - 0s 2ms/step - loss: 824.1439 - acc: 0.4926 - val_loss: 2642.9360 - val_acc: 0.4190\n",
            "Epoch 58/100\n",
            "19/19 [==============================] - 0s 3ms/step - loss: 680.9058 - acc: 0.4788 - val_loss: 2534.6470 - val_acc: 0.4190\n",
            "Epoch 59/100\n",
            "19/19 [==============================] - 0s 2ms/step - loss: 686.3463 - acc: 0.4798 - val_loss: 2463.1111 - val_acc: 0.4571\n",
            "Epoch 60/100\n",
            "19/19 [==============================] - 0s 3ms/step - loss: 691.4271 - acc: 0.4841 - val_loss: 2350.2258 - val_acc: 0.4571\n",
            "Epoch 61/100\n",
            "19/19 [==============================] - 0s 2ms/step - loss: 491.1765 - acc: 0.4809 - val_loss: 2239.3162 - val_acc: 0.4571\n",
            "Epoch 62/100\n",
            "19/19 [==============================] - 0s 2ms/step - loss: 494.0959 - acc: 0.4809 - val_loss: 2069.9551 - val_acc: 0.4571\n",
            "Epoch 63/100\n",
            "19/19 [==============================] - 0s 2ms/step - loss: 513.2198 - acc: 0.4841 - val_loss: 2044.6860 - val_acc: 0.4190\n",
            "Epoch 64/100\n",
            "19/19 [==============================] - 0s 3ms/step - loss: 416.7352 - acc: 0.4873 - val_loss: 1855.3989 - val_acc: 0.4571\n",
            "Epoch 65/100\n",
            "19/19 [==============================] - 0s 3ms/step - loss: 277.1193 - acc: 0.4841 - val_loss: 1782.8580 - val_acc: 0.4571\n",
            "Epoch 66/100\n",
            "19/19 [==============================] - 0s 2ms/step - loss: 305.1372 - acc: 0.4936 - val_loss: 1524.5372 - val_acc: 0.4571\n",
            "Epoch 67/100\n",
            "19/19 [==============================] - 0s 3ms/step - loss: 337.1078 - acc: 0.4915 - val_loss: 1412.2628 - val_acc: 0.4571\n",
            "Epoch 68/100\n",
            "19/19 [==============================] - 0s 2ms/step - loss: 263.3941 - acc: 0.4883 - val_loss: 1298.5536 - val_acc: 0.4571\n",
            "Epoch 69/100\n",
            "19/19 [==============================] - 0s 3ms/step - loss: 368.3051 - acc: 0.4979 - val_loss: 1244.2251 - val_acc: 0.4571\n",
            "Epoch 70/100\n",
            "19/19 [==============================] - 0s 2ms/step - loss: 306.1655 - acc: 0.4915 - val_loss: 1039.9994 - val_acc: 0.4190\n",
            "Epoch 71/100\n",
            "19/19 [==============================] - 0s 2ms/step - loss: 419.4627 - acc: 0.4936 - val_loss: 928.7310 - val_acc: 0.4571\n",
            "Epoch 72/100\n",
            "19/19 [==============================] - 0s 2ms/step - loss: 306.4722 - acc: 0.4851 - val_loss: 939.0424 - val_acc: 0.4190\n",
            "Epoch 73/100\n",
            "19/19 [==============================] - 0s 2ms/step - loss: 323.8755 - acc: 0.4809 - val_loss: 711.1946 - val_acc: 0.4571\n",
            "Epoch 74/100\n",
            "19/19 [==============================] - 0s 3ms/step - loss: 249.7056 - acc: 0.4915 - val_loss: 678.0815 - val_acc: 0.4190\n",
            "Epoch 75/100\n",
            "19/19 [==============================] - 0s 2ms/step - loss: 245.4958 - acc: 0.4851 - val_loss: 577.5701 - val_acc: 0.4381\n",
            "Epoch 76/100\n",
            "19/19 [==============================] - 0s 3ms/step - loss: 301.2468 - acc: 0.4904 - val_loss: 589.3436 - val_acc: 0.4286\n",
            "Epoch 77/100\n",
            "19/19 [==============================] - 0s 3ms/step - loss: 312.4878 - acc: 0.4777 - val_loss: 521.5610 - val_acc: 0.4762\n",
            "Epoch 78/100\n",
            "19/19 [==============================] - 0s 3ms/step - loss: 408.7599 - acc: 0.4883 - val_loss: 481.1583 - val_acc: 0.4762\n",
            "Epoch 79/100\n",
            "19/19 [==============================] - 0s 3ms/step - loss: 337.0322 - acc: 0.4947 - val_loss: 521.7566 - val_acc: 0.4762\n",
            "Epoch 80/100\n",
            "19/19 [==============================] - 0s 2ms/step - loss: 326.6559 - acc: 0.4958 - val_loss: 479.2052 - val_acc: 0.4762\n",
            "Epoch 81/100\n",
            "19/19 [==============================] - 0s 3ms/step - loss: 300.5201 - acc: 0.4862 - val_loss: 508.4221 - val_acc: 0.4190\n",
            "Epoch 82/100\n",
            "19/19 [==============================] - 0s 3ms/step - loss: 266.3967 - acc: 0.4851 - val_loss: 541.2522 - val_acc: 0.4286\n",
            "Epoch 83/100\n",
            "19/19 [==============================] - 0s 3ms/step - loss: 240.8002 - acc: 0.4958 - val_loss: 490.5495 - val_acc: 0.4762\n",
            "Epoch 84/100\n",
            "19/19 [==============================] - 0s 4ms/step - loss: 182.7885 - acc: 0.4968 - val_loss: 506.8307 - val_acc: 0.4762\n",
            "Epoch 85/100\n",
            "19/19 [==============================] - 0s 3ms/step - loss: 308.2359 - acc: 0.4830 - val_loss: 441.9018 - val_acc: 0.4762\n",
            "Epoch 86/100\n",
            "19/19 [==============================] - 0s 3ms/step - loss: 336.1793 - acc: 0.4958 - val_loss: 490.0559 - val_acc: 0.4762\n",
            "Epoch 87/100\n",
            "19/19 [==============================] - 0s 3ms/step - loss: 205.2444 - acc: 0.4904 - val_loss: 527.6885 - val_acc: 0.4190\n",
            "Epoch 88/100\n",
            "19/19 [==============================] - 0s 3ms/step - loss: 271.4741 - acc: 0.4798 - val_loss: 401.2894 - val_acc: 0.4667\n",
            "Epoch 89/100\n",
            "19/19 [==============================] - 0s 3ms/step - loss: 256.7642 - acc: 0.4873 - val_loss: 424.2867 - val_acc: 0.4762\n",
            "Epoch 90/100\n",
            "19/19 [==============================] - 0s 3ms/step - loss: 285.2119 - acc: 0.4915 - val_loss: 453.4670 - val_acc: 0.4762\n",
            "Epoch 91/100\n",
            "19/19 [==============================] - 0s 2ms/step - loss: 216.8430 - acc: 0.4851 - val_loss: 304.3558 - val_acc: 0.4762\n",
            "Epoch 92/100\n",
            "19/19 [==============================] - 0s 2ms/step - loss: 294.4317 - acc: 0.4883 - val_loss: 240.1143 - val_acc: 0.4762\n",
            "Epoch 93/100\n",
            "19/19 [==============================] - 0s 3ms/step - loss: 242.7982 - acc: 0.4958 - val_loss: 341.9560 - val_acc: 0.4762\n",
            "Epoch 94/100\n",
            "19/19 [==============================] - 0s 2ms/step - loss: 171.2885 - acc: 0.4830 - val_loss: 383.8074 - val_acc: 0.4762\n",
            "Epoch 95/100\n",
            "19/19 [==============================] - 0s 2ms/step - loss: 192.5397 - acc: 0.4904 - val_loss: 327.8269 - val_acc: 0.4762\n",
            "Epoch 96/100\n",
            "19/19 [==============================] - 0s 3ms/step - loss: 207.0913 - acc: 0.4894 - val_loss: 346.9742 - val_acc: 0.4381\n",
            "Epoch 97/100\n",
            "19/19 [==============================] - 0s 2ms/step - loss: 167.6010 - acc: 0.4851 - val_loss: 311.6885 - val_acc: 0.4762\n",
            "Epoch 98/100\n",
            "19/19 [==============================] - 0s 3ms/step - loss: 222.0444 - acc: 0.5021 - val_loss: 336.1172 - val_acc: 0.4762\n",
            "Epoch 99/100\n",
            "19/19 [==============================] - 0s 3ms/step - loss: 158.8210 - acc: 0.4894 - val_loss: 323.9691 - val_acc: 0.4762\n",
            "Epoch 100/100\n",
            "19/19 [==============================] - 0s 3ms/step - loss: 186.5888 - acc: 0.4968 - val_loss: 314.0068 - val_acc: 0.4762\n"
          ],
          "name": "stdout"
        }
      ]
    },
    {
      "cell_type": "markdown",
      "metadata": {
        "id": "pG1O5ymTan4s"
      },
      "source": [
        "## 7) 觀察訓練結果"
      ]
    },
    {
      "cell_type": "code",
      "metadata": {
        "id": "OFUTBafCan4u"
      },
      "source": [
        "import matplotlib.pyplot as plt\n",
        "\n",
        "history_dict = history.history\n",
        "history_dict.keys()\n",
        "acc = history_dict['acc']\n",
        "val_acc = history_dict['val_acc']\n",
        "loss = history_dict['loss']\n",
        "val_loss = history_dict['val_loss']\n",
        "epochs_ = range(1,len(acc)+1)"
      ],
      "execution_count": null,
      "outputs": []
    },
    {
      "cell_type": "code",
      "metadata": {
        "id": "C5PL5GAwan4x",
        "colab": {
          "base_uri": "https://localhost:8080/",
          "height": 295
        },
        "outputId": "d8fa6c6b-8e8a-4a10-fb20-cb2753139fb8"
      },
      "source": [
        "plt.plot(epochs_ , loss , label = 'training loss')\n",
        "plt.plot(epochs_ , val_loss , label = 'val los')\n",
        "plt.title('training and val loss')\n",
        "plt.xlabel('epochs')\n",
        "plt.ylabel('loss')\n",
        "plt.legend()\n",
        "plt.show()"
      ],
      "execution_count": null,
      "outputs": [
        {
          "output_type": "display_data",
          "data": {
            "image/png": "[encoded data removed]",
            "text/plain": [
              "<Figure size 432x288 with 1 Axes>"
            ]
          },
          "metadata": {
            "tags": [],
            "needs_background": "light"
          }
        }
      ]
    },
    {
      "cell_type": "code",
      "metadata": {
        "id": "Ketuv_Bvan43",
        "colab": {
          "base_uri": "https://localhost:8080/",
          "height": 295
        },
        "outputId": "6db29ce8-791d-49f3-825a-866820dbc7fc"
      },
      "source": [
        "plt.clf()\n",
        "plt.plot(epochs_ , acc , label='train accuracy')\n",
        "plt.plot(epochs_ , val_acc , label = 'val accuracy')\n",
        "plt.title('train and val acc')\n",
        "plt.xlabel('epochs')\n",
        "plt.ylabel('acc')\n",
        "plt.legend()\n",
        "plt.show()"
      ],
      "execution_count": null,
      "outputs": [
        {
          "output_type": "display_data",
          "data": {
            "image/png": "[encoded data removed]",
            "text/plain": [
              "<Figure size 432x288 with 1 Axes>"
            ]
          },
          "metadata": {
            "tags": [],
            "needs_background": "light"
          }
        }
      ]
    },
    {
      "cell_type": "markdown",
      "metadata": {
        "id": "PR5QIun7an47"
      },
      "source": [
        "## 8) 測試"
      ]
    },
    {
      "cell_type": "code",
      "metadata": {
        "id": "rdG9q4M9an47",
        "colab": {
          "base_uri": "https://localhost:8080/"
        },
        "outputId": "f670eb65-ad24-427a-9476-17a9906ed903"
      },
      "source": [
        "from sklearn.metrics import accuracy_score\n",
        "label=np.argmax(y,axis=1)\n",
        "pred =  np.argmax(model.predict(X), axis=1)\n",
        "# print(pred.shape)\n",
        "print(accuracy_score(label, pred))\n",
        "# print(y)"
      ],
      "execution_count": null,
      "outputs": [
        {
          "output_type": "stream",
          "text": [
            "0.49732620320855614\n"
          ],
          "name": "stdout"
        }
      ]
    },
    {
      "cell_type": "code",
      "metadata": {
        "id": "JNWE7Fe8uBzn",
        "colab": {
          "base_uri": "https://localhost:8080/"
        },
        "outputId": "3574a08d-e875-4d77-ad65-f6705f998e05"
      },
      "source": [
        "!pip install eli5"
      ],
      "execution_count": null,
      "outputs": [
        {
          "output_type": "stream",
          "text": [
            "Requirement already satisfied: eli5 in /usr/local/lib/python3.6/dist-packages (0.10.1)\n",
            "Requirement already satisfied: jinja2 in /usr/local/lib/python3.6/dist-packages (from eli5) (2.11.2)\n",
            "Requirement already satisfied: attrs>16.0.0 in /usr/local/lib/python3.6/dist-packages (from eli5) (20.2.0)\n",
            "Requirement already satisfied: numpy>=1.9.0 in /usr/local/lib/python3.6/dist-packages (from eli5) (1.18.5)\n",
            "Requirement already satisfied: scikit-learn>=0.18 in /usr/local/lib/python3.6/dist-packages (from eli5) (0.22.2.post1)\n",
            "Requirement already satisfied: graphviz in /usr/local/lib/python3.6/dist-packages (from eli5) (0.10.1)\n",
            "Requirement already satisfied: tabulate>=0.7.7 in /usr/local/lib/python3.6/dist-packages (from eli5) (0.8.7)\n",
            "Requirement already satisfied: six in /usr/local/lib/python3.6/dist-packages (from eli5) (1.15.0)\n",
            "Requirement already satisfied: scipy in /usr/local/lib/python3.6/dist-packages (from eli5) (1.4.1)\n",
            "Requirement already satisfied: MarkupSafe>=0.23 in /usr/local/lib/python3.6/dist-packages (from jinja2->eli5) (1.1.1)\n",
            "Requirement already satisfied: joblib>=0.11 in /usr/local/lib/python3.6/dist-packages (from scikit-learn>=0.18->eli5) (0.17.0)\n"
          ],
          "name": "stdout"
        }
      ]
    },
    {
      "cell_type": "markdown",
      "metadata": {
        "id": "wNxXer-qOlwj"
      },
      "source": [
        "## 9) 檢查特徵重要性\n",
        "> https://eli5.readthedocs.io/en/latest/blackbox/permutation_importance.html\n",
        "> https://www.mdeditor.tw/pl/pgi5/zh-tw\n",
        "\n",
        "> 針對BlackBox模型或非sklearn模型，使用排列重要性方法\n",
        "\n",
        "\n",
        "> 捨棄重要性低、增加損失的features特徵，重新建模訓練。\n",
        "\n",
        "\n",
        "> \n",
        "\n",
        "\n",
        "\n",
        "\n",
        "\n",
        "\n",
        "\n",
        "\n",
        "\n",
        "\n",
        "\n",
        "\n"
      ]
    },
    {
      "cell_type": "code",
      "metadata": {
        "id": "p-t6pvZman4_"
      },
      "source": [
        "# import numpy as np\n",
        "from eli5.permutation_importance import get_score_importances\n",
        "\n",
        "# ... load data, define score function\n",
        "def score(X, y):\n",
        "    y_pred = np.argmax(model.predict(X), axis=1)\n",
        "    return accuracy_score(y, y_pred)\n",
        "\n",
        "lab=np.argmax(y_train,axis=1)\n",
        "base_score, score_decreases = get_score_importances(score, X_train.values, lab)\n",
        "feature_importances = np.mean(score_decreases, axis=0)\n",
        "\n"
      ],
      "execution_count": null,
      "outputs": []
    },
    {
      "cell_type": "code",
      "metadata": {
        "id": "uz2cPz1KQtQy",
        "colab": {
          "base_uri": "https://localhost:8080/"
        },
        "outputId": "f246cb31-01c9-4432-c95d-c2f5596a7c00"
      },
      "source": [
        "# print(feature_importances)\n",
        "feature_importance_dict = {}\n",
        "for i, feature_name in enumerate(X.columns.values.tolist()) :\n",
        "\tfeature_importance_dict[feature_name]=feature_importances[i]\n",
        "\n",
        "# print(dict(sorted(feature_importance_dict.items(), key=lambda x:x[1],reverse=True)[:5]))\n",
        "sorted_fi = dict(sorted(feature_importance_dict.items(), key=lambda x:x[1],reverse=True))\n",
        "for name,i in sorted_fi.items():\n",
        "  print(name, i)"
      ],
      "execution_count": null,
      "outputs": [
        {
          "output_type": "stream",
          "text": [
            "Ax.005馬達轉速0.01r/min 0.007831900668576853\n",
            "Ax.007馬達轉速0.01r/min 0.00764087870105058\n",
            "Ax.031馬達轉速0.01r/min 0.006876790830945523\n",
            "Ax.014馬達轉速0.01r/min 0.006303724928366727\n",
            "Ax.022馬達轉速0.01r/min 0.006112702960840455\n",
            "Ax.012馬達轉速0.01r/min 0.005348615090735387\n",
            "Ax.011馬達轉速0.01r/min 0.0051575931232091254\n",
            "Ax.032馬達轉速0.01r/min 0.004966571155682875\n",
            "Ax.027馬達轉速0.01r/min 0.004966571155682864\n",
            "Ax.028馬達轉速0.01r/min 0.004966571155682864\n",
            "Ax.029馬達轉速0.01r/min 0.004584527220630319\n",
            "Ax.024馬達轉速0.01r/min 0.004202483285577796\n",
            "Ax.016馬達轉速0.01r/min 0.003820439350525273\n",
            "Ax.010馬達轉速0.01r/min 0.003629417382999023\n",
            "Ax.009馬達轉速0.01r/min 0.0034383954154727503\n",
            "Ax.017馬達轉速0.01r/min 0.0030563514804202163\n",
            "Ax.003馬達轉速0.01r/min 0.0028653295128939216\n",
            "Ax.025馬達轉速0.01r/min 0.0026743075453676823\n",
            "Ax.026馬達轉速0.01r/min 0.0026743075453676823\n",
            "Ax.019馬達轉速0.01r/min 0.0024832855778414097\n",
            "Ax.023馬達轉速0.01r/min 0.0022922636103151484\n",
            "Ax.002馬達轉速0.01r/min 0.001719197707736353\n",
            "Ax.030馬達轉速0.01r/min 0.0015281757402100915\n",
            "Ax.021馬達轉速0.01r/min 0.0013371537726838301\n",
            "Ax.015馬達轉速0.01r/min 0.001337153772683819\n",
            "Ax.006馬達轉速0.01r/min 0.0011461318051575464\n",
            "Ax.013馬達轉速0.01r/min 0.000955109837631285\n",
            "Ax.018馬達轉速0.01r/min 0.000573065902578751\n",
            "手動模式 0.0\n",
            "保留 0.0\n",
            "初始化中 0.0\n",
            "初始化完成 0.0\n",
            "保留模式 0.0\n",
            "暫停模式 0.0\n",
            "標籤捲A使用中 0.0\n",
            "標籤捲B使用中 0.0\n",
            "No Alarm 0.0\n",
            "機台狀態 0.0\n",
            "ALife(PLC) 0.0\n",
            "機台運轉小時 0.0\n",
            "轉刀使用次數 0.0\n",
            "實際生產速度 0.0\n",
            "機台貼標數量 0.0\n",
            "A捲標籤數量 0.0\n",
            "B捲標籤數量 0.0\n",
            "膠鼓實際溫度(PV) 0.0\n",
            "膠鼓設定溫度(SP) 0.0\n",
            "膠鼓加熱器電流值 0.0\n",
            "膠桶實際溫度(PV) 0.0\n",
            "膠桶設定溫度(SP) 0.0\n",
            "膠桶加熱器電流值監控 0.0\n",
            "出膠板實際溫度(PV) 0.0\n",
            "出膠板設定溫度(SP) 0.0\n",
            "出膠板加熱器電流值監控 0.0\n",
            "刮膠板實際溫度(PV) 0.0\n",
            "刮膠板設定溫度(SP) 0.0\n",
            "刮膠板加熱器電流值監控 0.0\n",
            "盛膠盤實際溫度(PV) 0.0\n",
            "盛膠盤設定溫度(SP) 0.0\n",
            "盛膠盤加熱電流值監控 0.0\n",
            "送膠管實際溫度(PV) 0.0\n",
            "送膠管設定溫度(SP) 0.0\n",
            "送膠管加熱器電流值監控 0.0\n",
            "斷絲棒實際溫度(PV) 0.0\n",
            "斷絲棒設定溫度(SP) 0.0\n",
            "斷絲棒加熱器電流值監控 0.0\n",
            "現用RecipeNo. 0.0\n",
            "現用瓶子高度 0.0\n",
            "現用瓶子直徑 0.0\n",
            "現用標籤長度 0.0\n",
            "現用標籤寬度 0.0\n",
            "現用標籤厚度 0.0\n",
            "現用標籤Mark位置 0.0\n",
            "現用真空鼓分度數 0.0\n",
            "現用真空鼓-R對位位置 0.0\n",
            "現用刀鼓-R對位位置 0.0\n",
            "現用轉刀-R對位位置 0.0\n",
            "現用Rollfed-Z貼標位置 0.0\n",
            "現用貼標主機-Z貼標位置 0.0\n",
            "現用貼標主機-Y貼標位置 0.0\n",
            "現用送標啟動補償值 0.0\n",
            "現用智能切標功能 0.0\n",
            "現用自動接標功能 0.0\n",
            "現用切標位置偏移 0.0\n",
            "現用標籤捲厚度A設定值 0.0\n",
            "現用標籤捲厚度B設定值 0.0\n",
            "現用接標裁切位置 0.0\n",
            "現用接標裁切位置.1 0.0\n",
            "現用瓶型選擇 0.0\n",
            "現用轉瓶速度分子 0.0\n",
            "現用沾膠啟動位置 0.0\n",
            "現用沾膠結束位置 0.0\n",
            "現用螺桿待命位置 0.0\n",
            "現用沾膠位置補償 0.0\n",
            "轉瓶進出瓶位置 0.0\n",
            "轉瓶貼標位置 0.0\n",
            "轉瓶凸輪軸1週期長度 0.0\n",
            "轉瓶凸輪行程量 0.0\n",
            "轉瓶凸輪No. 0.0\n",
            "Ax.001運轉速度0.001degree/min 0.0\n",
            "Ax.001異常碼 0.0\n",
            "Ax.001警報碼 0.0\n",
            "Ax.001扭力值(MD.104) 0.0\n",
            "Ax.002運轉速度0.001degree/min 0.0\n",
            "Ax.002異常碼 0.0\n",
            "Ax.002警報碼 0.0\n",
            "Ax.002扭力值(MD.104) 0.0\n",
            "Ax.003運轉速度0.001degree/min 0.0\n",
            "Ax.003異常碼 0.0\n",
            "Ax.003警報碼 0.0\n",
            "Ax.003扭力值(MD.104) 0.0\n",
            "Ax.004運轉速度0.001degree/min 0.0\n",
            "Ax.004異常碼 0.0\n",
            "Ax.004警報碼 0.0\n",
            "Ax.004扭力值(MD.104) 0.0\n",
            "Ax.005運轉速度0.001degree/min 0.0\n",
            "Ax.005異常碼 0.0\n",
            "Ax.005警報碼 0.0\n",
            "Ax.005扭力值(MD.104) 0.0\n",
            "Ax.006運轉速度0.001degree/min 0.0\n",
            "Ax.006異常碼 0.0\n",
            "Ax.006警報碼 0.0\n",
            "Ax.006扭力值(MD.104) 0.0\n",
            "Ax.007運轉速度0.001degree/min 0.0\n",
            "Ax.007異常碼 0.0\n",
            "Ax.007警報碼 0.0\n",
            "Ax.007扭力值(MD.104) 0.0\n",
            "Ax.008運轉速度0.001degree/min 0.0\n",
            "Ax.008異常碼 0.0\n",
            "Ax.008警報碼 0.0\n",
            "Ax.008扭力值(MD.104) 0.0\n",
            "Ax.009運轉速度0.001degree/min 0.0\n",
            "Ax.009異常碼 0.0\n",
            "Ax.009警報碼 0.0\n",
            "Ax.009扭力值(MD.104) 0.0\n",
            "Ax.010運轉速度0.001degree/min 0.0\n",
            "Ax.010異常碼 0.0\n",
            "Ax.010警報碼 0.0\n",
            "Ax.010扭力值(MD.104) 0.0\n",
            "Ax.011運轉速度0.01mm/Min 0.0\n",
            "Ax.011異常碼 0.0\n",
            "Ax.011警報碼 0.0\n",
            "Ax.011扭力值(MD.104) 0.0\n",
            "Ax.012運轉速度0.01mm/Min 0.0\n",
            "Ax.012異常碼 0.0\n",
            "Ax.012警報碼 0.0\n",
            "Ax.012扭力值(MD.104) 0.0\n",
            "Ax.013運轉速度0.01mm/Min 0.0\n",
            "Ax.013異常碼 0.0\n",
            "Ax.013警報碼 0.0\n",
            "Ax.013扭力值(MD.104) 0.0\n",
            "Ax.014運轉速度0.001degree/min 0.0\n",
            "Ax.014異常碼 0.0\n",
            "Ax.014警報碼 0.0\n",
            "Ax.014扭力值(MD.104) 0.0\n",
            "Ax.015運轉速度0.001degree/min 0.0\n",
            "Ax.015異常碼 0.0\n",
            "Ax.015警報碼 0.0\n",
            "Ax.015扭力值(MD.104) 0.0\n",
            "Ax.016運轉速度0.001degree/min 0.0\n",
            "Ax.016異常碼 0.0\n",
            "Ax.016警報碼 0.0\n",
            "Ax.016扭力值(MD.104) 0.0\n",
            "Ax.017運轉速度0.001degree/min 0.0\n",
            "Ax.017異常碼 0.0\n",
            "Ax.017警報碼 0.0\n",
            "Ax.017扭力值(MD.104) 0.0\n",
            "Ax.018運轉速度0.001degree/min 0.0\n",
            "Ax.018異常碼 0.0\n",
            "Ax.018警報碼 0.0\n",
            "Ax.018扭力值(MD.104) 0.0\n",
            "Ax.019運轉速度0.001degree/min 0.0\n",
            "Ax.019異常碼 0.0\n",
            "Ax.019警報碼 0.0\n",
            "Ax.019扭力值(MD.104) 0.0\n",
            "Ax.020運轉速度0.001degree/min 0.0\n",
            "Ax.020異常碼 0.0\n",
            "Ax.020警報碼 0.0\n",
            "Ax.020扭力值(MD.104) 0.0\n",
            "Ax.021運轉速度0.001degree/min 0.0\n",
            "Ax.021異常碼 0.0\n",
            "Ax.021警報碼 0.0\n",
            "Ax.021扭力值(MD.104) 0.0\n",
            "Ax.022運轉速度0.001degree/min 0.0\n",
            "Ax.022異常碼 0.0\n",
            "Ax.022警報碼 0.0\n",
            "Ax.022扭力值(MD.104) 0.0\n",
            "Ax.023運轉速度0.001degree/min 0.0\n",
            "Ax.023異常碼 0.0\n",
            "Ax.023警報碼 0.0\n",
            "Ax.023扭力值(MD.104) 0.0\n",
            "Ax.024運轉速度0.001degree/min 0.0\n",
            "Ax.024異常碼 0.0\n",
            "Ax.024警報碼 0.0\n",
            "Ax.024扭力值(MD.104) 0.0\n",
            "Ax.025運轉速度0.001degree/min 0.0\n",
            "Ax.025異常碼 0.0\n",
            "Ax.025警報碼 0.0\n",
            "Ax.025扭力值(MD.104) 0.0\n",
            "Ax.026運轉速度0.001degree/min 0.0\n",
            "Ax.026異常碼 0.0\n",
            "Ax.026警報碼 0.0\n",
            "Ax.026扭力值(MD.104) 0.0\n",
            "Ax.027運轉速度0.001degree/min 0.0\n",
            "Ax.027異常碼 0.0\n",
            "Ax.027警報碼 0.0\n",
            "Ax.027扭力值(MD.104) 0.0\n",
            "Ax.028運轉速度0.001degree/min 0.0\n",
            "Ax.028異常碼 0.0\n",
            "Ax.028警報碼 0.0\n",
            "Ax.028扭力值(MD.104) 0.0\n",
            "Ax.029運轉速度0.001degree/min 0.0\n",
            "Ax.029異常碼 0.0\n",
            "Ax.029警報碼 0.0\n",
            "Ax.029扭力值(MD.104) 0.0\n",
            "Ax.030運轉速度0.001degree/min 0.0\n",
            "Ax.030異常碼 0.0\n",
            "Ax.030警報碼 0.0\n",
            "Ax.030扭力值(MD.104) 0.0\n",
            "Ax.031運轉速度0.001degree/min 0.0\n",
            "Ax.031異常碼 0.0\n",
            "Ax.031警報碼 0.0\n",
            "Ax.031扭力值(MD.104) 0.0\n",
            "Ax.032運轉速度0.001degree/min 0.0\n",
            "Ax.032異常碼 0.0\n",
            "Ax.032警報碼 0.0\n",
            "Ax.032扭力值(MD.104) 0.0\n",
            "Ax.004馬達轉速0.01r/min -4.4408920985006264e-17\n",
            "Ax.020馬達轉速0.01r/min -4.4408920985006264e-17\n",
            "Ax.008馬達轉速0.01r/min -0.00019102196752629474\n",
            "Ax.001馬達轉速0.01r/min -0.00019102196752631694\n"
          ],
          "name": "stdout"
        }
      ]
    }
  ]
}